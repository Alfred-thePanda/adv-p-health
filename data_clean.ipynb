{
 "cells": [
  {
   "cell_type": "code",
   "execution_count": 1,
   "id": "51575989",
   "metadata": {},
   "outputs": [],
   "source": [
    "import pandas as pd\n",
    "import numpy as np\n",
    "import matplotlib.pyplot as plt\n",
    "import seaborn as sns\n",
    "import math\n",
    "\n",
    "%matplotlib inline\n",
    "\n",
    "import warnings\n",
    "\n",
    "warnings.simplefilter(action='ignore', category=pd.errors.PerformanceWarning)"
   ]
  },
  {
   "cell_type": "code",
   "execution_count": 2,
   "id": "1d0680f0",
   "metadata": {},
   "outputs": [],
   "source": [
    "df = pd.read_sas('./data/LLCP2021.XPT')"
   ]
  },
  {
   "cell_type": "code",
   "execution_count": 3,
   "id": "65468cbb",
   "metadata": {},
   "outputs": [],
   "source": [
    "df_describe = False"
   ]
  },
  {
   "cell_type": "code",
   "execution_count": 4,
   "id": "6a3e2bf2",
   "metadata": {},
   "outputs": [],
   "source": [
    "# drop s0q1, interview state\n",
    "# drop s0q8, file month\n",
    "# drop s0q9, interview date\n",
    "# drop s0q10, interview month\n",
    "# drop s0q11, interview day\n",
    "# drop s0q12, interview year\n",
    "# drop s0q14, final disposition, can use for dropping partial interviews\n",
    "# drop s0q15, annual sequence number\n",
    "# drop s0q16, primary sampling unit"
   ]
  },
  {
   "cell_type": "code",
   "execution_count": 5,
   "id": "807ec417",
   "metadata": {},
   "outputs": [],
   "source": [
    "df = df[df.CTELENM1 != 2] # s0q1, dropping incorrect phone numbers"
   ]
  },
  {
   "cell_type": "code",
   "execution_count": 6,
   "id": "d1ddd984",
   "metadata": {},
   "outputs": [],
   "source": [
    "# drop s0q1, correct telephone number\n",
    "# drop s0q2, private residence\n",
    "# drop s0q3, college housing\n",
    "# drop s0q4, resident of state\n",
    "# drop s0q5, cellular telephone\n",
    "# drop s0q6, 18 or older\n",
    "# drop s0q7, college male or female\n",
    "# drop s0q8, number af adults in household\n",
    "# drop s0q9, landline sex\n",
    "# drop s0q10, number of adult men in household\n",
    "# drop s0q11, number of adult women in household\n",
    "# drop s0q12, respondent selection\n",
    "# drop s0q1, safe time to talk\n",
    "# drop s0q2, correct phone number\n",
    "# drop s0q3, is this a cell phone\n",
    "# drop s0q4, 18 years or older cell phone\n",
    "# drop s0q5, cell phone male or female\n",
    "# drop s0q6, private residence cell phone\n",
    "# drop s0q7, cell phone college housing\n",
    "# drop s0q8, cell phone state confirmation\n",
    "# drop s0q10, do you have a landline as well\n",
    "# drop s0q11, number of adults in household"
   ]
  },
  {
   "cell_type": "code",
   "execution_count": 7,
   "id": "19a8eb7d",
   "metadata": {},
   "outputs": [],
   "source": [
    "df = df.drop(['_STATE', 'FMONTH', 'IDATE', 'IMONTH', 'IDAY', 'IYEAR', 'SEQNO', 'DISPCODE', '_PSU', 'CTELENM1', \n",
    "                'PVTRESD1', 'COLGHOUS', 'STATERE1', 'CELPHON1', 'LADULT1','COLGSEX', 'NUMADULT', 'LANDSEX', 'NUMMEN', \n",
    "              'NUMWOMEN', 'RESPSLCT', 'SAFETIME', 'CTELNUM1', 'CELLFON5',\n",
    "               'CADULT1','CELLSEX', 'PVTRESD3', 'CCLGHOUS', 'CSTATE1', 'LANDLINE', 'HHADULT'], axis=1)"
   ]
  },
  {
   "cell_type": "code",
   "execution_count": 8,
   "id": "5cecb3c9",
   "metadata": {},
   "outputs": [
    {
     "data": {
      "text/plain": [
       "False    438691\n",
       "Name: SEXVAR, dtype: int64"
      ]
     },
     "execution_count": 8,
     "metadata": {},
     "output_type": "execute_result"
    }
   ],
   "source": [
    "pd.isna(df[\"SEXVAR\"]).value_counts() # no nans"
   ]
  },
  {
   "cell_type": "code",
   "execution_count": 9,
   "id": "9f595ee1",
   "metadata": {},
   "outputs": [],
   "source": [
    "df = df[df['GENHLTH'] != 7]\n",
    "df = df[df['GENHLTH'] != 9]"
   ]
  },
  {
   "cell_type": "code",
   "execution_count": 10,
   "id": "96117123",
   "metadata": {},
   "outputs": [],
   "source": [
    "df['GENHLTH'] = df['GENHLTH'].replace(1,0)\n",
    "df['GENHLTH'] = df['GENHLTH'].replace(2,1)\n",
    "df['GENHLTH'] = df['GENHLTH'].replace(3,2)\n",
    "df['GENHLTH'] = df['GENHLTH'].replace(4,3)\n",
    "df['GENHLTH'] = df['GENHLTH'].replace(5,4)"
   ]
  },
  {
   "cell_type": "code",
   "execution_count": 11,
   "id": "649f0495",
   "metadata": {},
   "outputs": [],
   "source": [
    "df = df.dropna(subset=['GENHLTH'])"
   ]
  },
  {
   "cell_type": "code",
   "execution_count": 12,
   "id": "4905863e",
   "metadata": {},
   "outputs": [
    {
     "data": {
      "text/plain": [
       "1.0    149110\n",
       "2.0    137938\n",
       "0.0     77741\n",
       "3.0     54736\n",
       "4.0     18005\n",
       "Name: GENHLTH, dtype: int64"
      ]
     },
     "execution_count": 12,
     "metadata": {},
     "output_type": "execute_result"
    }
   ],
   "source": [
    "df[\"GENHLTH\"].value_counts()"
   ]
  },
  {
   "cell_type": "code",
   "execution_count": 13,
   "id": "dcb0a1a5",
   "metadata": {},
   "outputs": [
    {
     "data": {
      "text/plain": [
       "''"
      ]
     },
     "execution_count": 13,
     "metadata": {},
     "output_type": "execute_result"
    }
   ],
   "source": [
    "df['unk_PHYSHLTH'] = df['PHYSHLTH']\n",
    "df['unk_PHYSHLTH'] = df['unk_PHYSHLTH'].replace(range(1,31), 0)\n",
    "df['unk_PHYSHLTH'] = df['unk_PHYSHLTH'].replace(88, 0)\n",
    "df['unk_PHYSHLTH'] = df['unk_PHYSHLTH'].replace(99, 1)\n",
    "df['unk_PHYSHLTH'] = df['unk_PHYSHLTH'].replace(77, 1)\n",
    "df['unk_PHYSHLTH'] = df['unk_PHYSHLTH'].fillna(1)\n",
    "df['unk_PHYSHLTH'].describe() if df_describe else ''"
   ]
  },
  {
   "cell_type": "code",
   "execution_count": 14,
   "id": "de5820d8",
   "metadata": {},
   "outputs": [
    {
     "data": {
      "text/plain": [
       "count    437530.000000\n",
       "mean          3.706816\n",
       "std           8.272157\n",
       "min           0.000000\n",
       "25%           0.000000\n",
       "50%           0.000000\n",
       "75%           2.000000\n",
       "max          30.000000\n",
       "Name: PHYSHLTH, dtype: float64"
      ]
     },
     "execution_count": 14,
     "metadata": {},
     "output_type": "execute_result"
    }
   ],
   "source": [
    "df['PHYSHLTH'] = df['PHYSHLTH'].replace(88,0)\n",
    "df['PHYSHLTH'] = df['PHYSHLTH'].replace(77,0)\n",
    "df['PHYSHLTH'] = df['PHYSHLTH'].replace(99,0)\n",
    "df['PHYSHLTH'] = df['PHYSHLTH'].fillna(0)\n",
    "df['PHYSHLTH'].describe()"
   ]
  },
  {
   "cell_type": "code",
   "execution_count": 15,
   "id": "da3c835c",
   "metadata": {},
   "outputs": [
    {
     "data": {
      "text/plain": [
       "''"
      ]
     },
     "execution_count": 15,
     "metadata": {},
     "output_type": "execute_result"
    }
   ],
   "source": [
    "df['unk_MENTHLTH'] = df['MENTHLTH']\n",
    "df['unk_MENTHLTH'] = df['unk_MENTHLTH'].replace(range(1,31), 0)\n",
    "df['unk_MENTHLTH'] = df['unk_MENTHLTH'].replace(88, 0)\n",
    "df['unk_MENTHLTH'] = df['unk_MENTHLTH'].replace(99, 1)\n",
    "df['unk_MENTHLTH'] = df['unk_MENTHLTH'].replace(77, 1)\n",
    "df['unk_MENTHLTH'] = df['unk_MENTHLTH'].fillna(1)\n",
    "df['unk_MENTHLTH'].describe() if df_describe else ''"
   ]
  },
  {
   "cell_type": "code",
   "execution_count": 16,
   "id": "a2d2f6d7",
   "metadata": {},
   "outputs": [
    {
     "data": {
      "text/plain": [
       "''"
      ]
     },
     "execution_count": 16,
     "metadata": {},
     "output_type": "execute_result"
    }
   ],
   "source": [
    "df['MENTHLTH'] = df['MENTHLTH'].replace(88,0)\n",
    "df['MENTHLTH'] = df['MENTHLTH'].replace(77,0)\n",
    "df['MENTHLTH'] = df['MENTHLTH'].replace(99,0)\n",
    "df['MENTHLTH'] = df['MENTHLTH'].fillna(0)\n",
    "df['MENTHLTH'].describe() if df_describe else ''"
   ]
  },
  {
   "cell_type": "code",
   "execution_count": 17,
   "id": "ab7c9ceb",
   "metadata": {},
   "outputs": [
    {
     "data": {
      "text/plain": [
       "''"
      ]
     },
     "execution_count": 17,
     "metadata": {},
     "output_type": "execute_result"
    }
   ],
   "source": [
    "df['unk_POORHLTH'] = df['POORHLTH']\n",
    "df['unk_POORHLTH'] = df['unk_POORHLTH'].replace(range(1,31), 0)\n",
    "df['unk_POORHLTH'] = df['unk_POORHLTH'].replace(88, 0)\n",
    "df['unk_POORHLTH'] = df['unk_POORHLTH'].replace(99, 1)\n",
    "df['unk_POORHLTH'] = df['unk_POORHLTH'].replace(77, 1)\n",
    "df['unk_POORHLTH'] = df['unk_POORHLTH'].fillna(0)\n",
    "df['unk_POORHLTH'].describe() if df_describe else ''"
   ]
  },
  {
   "cell_type": "code",
   "execution_count": 18,
   "id": "ae579a2f",
   "metadata": {},
   "outputs": [
    {
     "data": {
      "text/plain": [
       "''"
      ]
     },
     "execution_count": 18,
     "metadata": {},
     "output_type": "execute_result"
    }
   ],
   "source": [
    "df['POORHLTH'] = df['POORHLTH'].replace(88,0)\n",
    "df['POORHLTH'] = df['POORHLTH'].replace(77,0)\n",
    "df['POORHLTH'] = df['POORHLTH'].replace(99,0)\n",
    "df['POORHLTH'] = df['POORHLTH'].fillna(0)\n",
    "df['POORHLTH'].describe() if df_describe else ''"
   ]
  },
  {
   "cell_type": "code",
   "execution_count": 19,
   "id": "857df1d7",
   "metadata": {},
   "outputs": [],
   "source": [
    "# drop s3q1:PRIMINSR, health care access, _EDUCAG is a better metric\n",
    "df = df.drop(['PRIMINSR'], axis=1)"
   ]
  },
  {
   "cell_type": "code",
   "execution_count": 20,
   "id": "c0cbed34",
   "metadata": {},
   "outputs": [
    {
     "data": {
      "text/plain": [
       "''"
      ]
     },
     "execution_count": 20,
     "metadata": {},
     "output_type": "execute_result"
    }
   ],
   "source": [
    "df['unk_has_doc'] = df['PERSDOC3']\n",
    "df['unk_has_doc'] = df['unk_has_doc'].replace([1,2,3],0)\n",
    "df['unk_has_doc'] = df['unk_has_doc'].replace([7,9],1)\n",
    "df['unk_has_doc'] = df['unk_has_doc'].fillna(1)\n",
    "df['unk_has_doc'].describe() if df_describe else ''"
   ]
  },
  {
   "cell_type": "code",
   "execution_count": 21,
   "id": "71392e39",
   "metadata": {},
   "outputs": [
    {
     "data": {
      "text/plain": [
       "''"
      ]
     },
     "execution_count": 21,
     "metadata": {},
     "output_type": "execute_result"
    }
   ],
   "source": [
    "# has a personal doctor\n",
    "df['has_doc'] = df['PERSDOC3']\n",
    "df.drop(columns=['PERSDOC3'])\n",
    "df['has_doc'] = df['has_doc'].replace(2,1)\n",
    "df['has_doc'] = df['has_doc'].replace(3,0)\n",
    "df['has_doc'] = df['has_doc'].replace(7,0)\n",
    "df['has_doc'] = df['has_doc'].replace(9,0)\n",
    "df = df.dropna(subset=['has_doc'])\n",
    "df['has_doc'].describe() if df_describe else ''"
   ]
  },
  {
   "cell_type": "code",
   "execution_count": 22,
   "id": "30b02c13",
   "metadata": {},
   "outputs": [
    {
     "data": {
      "text/plain": [
       "''"
      ]
     },
     "execution_count": 22,
     "metadata": {},
     "output_type": "execute_result"
    }
   ],
   "source": [
    "df['unk_MEDCOST1'] = df['MEDCOST1']\n",
    "df['unk_MEDCOST1'] = df['unk_MEDCOST1'].replace([1,2],0)\n",
    "df['unk_MEDCOST1'] = df['unk_MEDCOST1'].replace([7,9],1)\n",
    "df['unk_MEDCOST1'] = df['unk_MEDCOST1'].fillna(1)\n",
    "df['unk_MEDCOST1'].describe() if df_describe else ''"
   ]
  },
  {
   "cell_type": "code",
   "execution_count": 23,
   "id": "c3113ed2",
   "metadata": {},
   "outputs": [
    {
     "data": {
      "text/plain": [
       "''"
      ]
     },
     "execution_count": 23,
     "metadata": {},
     "output_type": "execute_result"
    }
   ],
   "source": [
    "df['MEDCOST1'] = df['MEDCOST1'].replace(2,0)\n",
    "df['MEDCOST1'] = df['MEDCOST1'].replace(7,0)\n",
    "df['MEDCOST1'] = df['MEDCOST1'].replace(9,0)\n",
    "df = df.dropna(subset=['MEDCOST1'])\n",
    "df['MEDCOST1'].describe() if df_describe else ''"
   ]
  },
  {
   "cell_type": "code",
   "execution_count": 24,
   "id": "a9eab658",
   "metadata": {},
   "outputs": [
    {
     "data": {
      "text/plain": [
       "''"
      ]
     },
     "execution_count": 24,
     "metadata": {},
     "output_type": "execute_result"
    }
   ],
   "source": [
    "df['unk_past_year'] = df['CHECKUP1']\n",
    "df['unk_past_year'] = df['unk_past_year'].replace([1,2,3,4,8],0)\n",
    "df['unk_past_year'] = df['unk_past_year'].replace([7,9],1)\n",
    "df['unk_past_year'] = df['unk_past_year'].fillna(1)\n",
    "df['unk_past_year'].describe() if df_describe else ''"
   ]
  },
  {
   "cell_type": "code",
   "execution_count": 25,
   "id": "ba47ba83",
   "metadata": {},
   "outputs": [
    {
     "data": {
      "text/plain": [
       "''"
      ]
     },
     "execution_count": 25,
     "metadata": {},
     "output_type": "execute_result"
    }
   ],
   "source": [
    "# within past year\n",
    "df['past_year'] = df['CHECKUP1']\n",
    "df.drop(columns=['CHECKUP1'])\n",
    "df['past_year'] = df['past_year'].replace(2,0)\n",
    "df['past_year'] = df['past_year'].replace(3,0)\n",
    "df['past_year'] = df['past_year'].replace(4,0)\n",
    "df['past_year'] = df['past_year'].replace(7,0)\n",
    "df['past_year'] = df['past_year'].replace(8,0)\n",
    "df['past_year'] = df['past_year'].replace(9,1)\n",
    "df = df.dropna(subset=['past_year'])\n",
    "df['past_year'].describe() if df_describe else ''"
   ]
  },
  {
   "cell_type": "code",
   "execution_count": 26,
   "id": "ff57a935",
   "metadata": {},
   "outputs": [
    {
     "data": {
      "text/plain": [
       "''"
      ]
     },
     "execution_count": 26,
     "metadata": {},
     "output_type": "execute_result"
    }
   ],
   "source": [
    "df['unk_EXERANY2'] = df['EXERANY2']\n",
    "df['unk_EXERANY2'] = df['unk_EXERANY2'].replace([1,2],0)\n",
    "df['unk_EXERANY2'] = df['unk_EXERANY2'].replace([7,9],1)\n",
    "df['unk_EXERANY2'] = df['unk_EXERANY2'].fillna(1)\n",
    "df['unk_EXERANY2'].describe() if df_describe else ''"
   ]
  },
  {
   "cell_type": "code",
   "execution_count": 27,
   "id": "8e384378",
   "metadata": {},
   "outputs": [
    {
     "data": {
      "text/plain": [
       "''"
      ]
     },
     "execution_count": 27,
     "metadata": {},
     "output_type": "execute_result"
    }
   ],
   "source": [
    "# physical activity other than job\n",
    "df = df.dropna(subset=['EXERANY2'])\n",
    "df['EXERANY2'] = df['EXERANY2'].replace(2,0)\n",
    "df = df[df['EXERANY2'] != 7]\n",
    "df = df[df['EXERANY2'] != 9]\n",
    "df['EXERANY2'].describe() if df_describe else ''"
   ]
  },
  {
   "cell_type": "code",
   "execution_count": 28,
   "id": "31ab3137",
   "metadata": {},
   "outputs": [
    {
     "data": {
      "text/plain": [
       "''"
      ]
     },
     "execution_count": 28,
     "metadata": {},
     "output_type": "execute_result"
    }
   ],
   "source": [
    "df['unk_high_blood_pressure'] = df['BPHIGH6']\n",
    "df['unk_high_blood_pressure'] = df['unk_high_blood_pressure'].replace([1,2,3,4],0)\n",
    "df['unk_high_blood_pressure'] = df['unk_high_blood_pressure'].replace([7,9],1)\n",
    "df['unk_high_blood_pressure'] = df['unk_high_blood_pressure'].fillna(1)\n",
    "df['unk_high_blood_pressure'].describe() if df_describe else ''"
   ]
  },
  {
   "cell_type": "code",
   "execution_count": 29,
   "id": "62fb07e8",
   "metadata": {},
   "outputs": [
    {
     "data": {
      "text/plain": [
       "''"
      ]
     },
     "execution_count": 29,
     "metadata": {},
     "output_type": "execute_result"
    }
   ],
   "source": [
    "# high blood pressure\n",
    "df['high_blood_pressure'] = df['BPHIGH6']\n",
    "df['high_blood_pressure'] = df['high_blood_pressure'].replace(2,1)\n",
    "df['high_blood_pressure'] = df['high_blood_pressure'].replace(3,0)\n",
    "df['high_blood_pressure'] = df['high_blood_pressure'].replace(4,1)\n",
    "df['high_blood_pressure'] = df['high_blood_pressure'].replace(7,0)\n",
    "df['high_blood_pressure'] = df['high_blood_pressure'].replace(9,0)\n",
    "df = df.dropna(subset=['high_blood_pressure'])\n",
    "df['high_blood_pressure'].describe() if df_describe else ''"
   ]
  },
  {
   "cell_type": "code",
   "execution_count": 30,
   "id": "c7bf8374",
   "metadata": {},
   "outputs": [
    {
     "data": {
      "text/plain": [
       "''"
      ]
     },
     "execution_count": 30,
     "metadata": {},
     "output_type": "execute_result"
    }
   ],
   "source": [
    "# pregnant high blood pressure\n",
    "df['pregnant_high_blood_pressure'] = df['BPHIGH6']\n",
    "df.drop(columns=['BPHIGH6'])\n",
    "df['pregnant_high_blood_pressure'] = df['pregnant_high_blood_pressure'].replace(1,0)\n",
    "df['pregnant_high_blood_pressure'] = df['pregnant_high_blood_pressure'].replace(2,1)\n",
    "df['pregnant_high_blood_pressure'] = df['pregnant_high_blood_pressure'].replace(3,0)\n",
    "df['pregnant_high_blood_pressure'] = df['pregnant_high_blood_pressure'].replace(4,0)\n",
    "df['pregnant_high_blood_pressure'] = df['pregnant_high_blood_pressure'].replace(7,0)\n",
    "df['pregnant_high_blood_pressure'] = df['pregnant_high_blood_pressure'].replace(9,0)\n",
    "df = df.dropna(subset=['pregnant_high_blood_pressure'])\n",
    "df['pregnant_high_blood_pressure'].describe() if df_describe else ''"
   ]
  },
  {
   "cell_type": "code",
   "execution_count": 31,
   "id": "c7b4bd3a",
   "metadata": {},
   "outputs": [
    {
     "data": {
      "text/plain": [
       "''"
      ]
     },
     "execution_count": 31,
     "metadata": {},
     "output_type": "execute_result"
    }
   ],
   "source": [
    "df['unk_BPMEDS'] = df['BPMEDS']\n",
    "df['unk_BPMEDS'] = df['unk_BPMEDS'].replace([1,2],0)\n",
    "df['unk_BPMEDS'] = df['unk_BPMEDS'].replace([7,9],1)\n",
    "df['unk_BPMEDS'] = df['unk_BPMEDS'].fillna(0)\n",
    "df['unk_BPMEDS'].describe() if df_describe else ''"
   ]
  },
  {
   "cell_type": "code",
   "execution_count": 32,
   "id": "1e463368",
   "metadata": {},
   "outputs": [
    {
     "data": {
      "text/plain": [
       "''"
      ]
     },
     "execution_count": 32,
     "metadata": {},
     "output_type": "execute_result"
    }
   ],
   "source": [
    "# high blood pressure medication\n",
    "df['BPMEDS'] = df['BPMEDS'].replace(2,0)\n",
    "df['BPMEDS'] = df['BPMEDS'].replace(7,0)\n",
    "df['BPMEDS'] = df['BPMEDS'].replace(9,0)\n",
    "df['BPMEDS'] = df['BPMEDS'].fillna(0)\n",
    "df['BPMEDS'].describe() if df_describe else ''"
   ]
  },
  {
   "cell_type": "code",
   "execution_count": 33,
   "id": "0c8158e5",
   "metadata": {},
   "outputs": [
    {
     "data": {
      "text/plain": [
       "''"
      ]
     },
     "execution_count": 33,
     "metadata": {},
     "output_type": "execute_result"
    }
   ],
   "source": [
    "df['unk_CHOLCHK3'] = df['CHOLCHK3']\n",
    "df['unk_CHOLCHK3'] = df['unk_CHOLCHK3'].replace([1,2,3,4,5,6,8],0)\n",
    "df['unk_CHOLCHK3'] = df['unk_CHOLCHK3'].replace([7,9],1)\n",
    "df['unk_CHOLCHK3'] = df['unk_CHOLCHK3'].fillna(1)\n",
    "df['unk_CHOLCHK3'].describe() if df_describe else ''"
   ]
  },
  {
   "cell_type": "code",
   "execution_count": 34,
   "id": "ffbfb4af",
   "metadata": {},
   "outputs": [
    {
     "data": {
      "text/plain": [
       "''"
      ]
     },
     "execution_count": 34,
     "metadata": {},
     "output_type": "execute_result"
    }
   ],
   "source": [
    "# cholesterol checked within last year\n",
    "df['CHOLCHK3'] = df['CHOLCHK3'].replace(1,0)\n",
    "df['CHOLCHK3'] = df['CHOLCHK3'].replace(2,1)\n",
    "df['CHOLCHK3'] = df['CHOLCHK3'].replace(3,0)\n",
    "df['CHOLCHK3'] = df['CHOLCHK3'].replace(4,0)\n",
    "df['CHOLCHK3'] = df['CHOLCHK3'].replace(5,0)\n",
    "df['CHOLCHK3'] = df['CHOLCHK3'].replace(6,0)\n",
    "df['CHOLCHK3'] = df['CHOLCHK3'].replace(7,1)\n",
    "df['CHOLCHK3'] = df['CHOLCHK3'].replace(8,0)\n",
    "df['CHOLCHK3'] = df['CHOLCHK3'].replace(9,1)\n",
    "df = df.dropna(subset=['CHOLCHK3'])\n",
    "df['CHOLCHK3'].describe() if df_describe else ''"
   ]
  },
  {
   "cell_type": "code",
   "execution_count": 35,
   "id": "04eb7bff",
   "metadata": {},
   "outputs": [
    {
     "data": {
      "text/plain": [
       "''"
      ]
     },
     "execution_count": 35,
     "metadata": {},
     "output_type": "execute_result"
    }
   ],
   "source": [
    "df['unk_TOLDHI3'] = df['TOLDHI3']\n",
    "df['unk_TOLDHI3'] = df['unk_TOLDHI3'].replace([1,2],0)\n",
    "df['unk_TOLDHI3'] = df['unk_TOLDHI3'].replace([7,9],1)\n",
    "df['unk_TOLDHI3'] = df['unk_TOLDHI3'].fillna(0)\n",
    "df['unk_TOLDHI3'].describe() if df_describe else ''"
   ]
  },
  {
   "cell_type": "code",
   "execution_count": 36,
   "id": "5ad912b6",
   "metadata": {},
   "outputs": [
    {
     "data": {
      "text/plain": [
       "''"
      ]
     },
     "execution_count": 36,
     "metadata": {},
     "output_type": "execute_result"
    }
   ],
   "source": [
    "df['not_known_TOLDHI3'] = df['TOLDHI3']\n",
    "df['not_known_TOLDHI3'] = df['not_known_TOLDHI3'].replace([1,2,7,9],0)\n",
    "df['not_known_TOLDHI3'] = df['not_known_TOLDHI3'].fillna(1)\n",
    "df['not_known_TOLDHI3'].describe() if df_describe else ''"
   ]
  },
  {
   "cell_type": "code",
   "execution_count": 37,
   "id": "7b16e983",
   "metadata": {},
   "outputs": [
    {
     "data": {
      "text/plain": [
       "''"
      ]
     },
     "execution_count": 37,
     "metadata": {},
     "output_type": "execute_result"
    }
   ],
   "source": [
    "# been told cholesterol is high\n",
    "df['TOLDHI3'] = df['TOLDHI3'].replace([2,7,9],0)\n",
    "df['TOLDHI3'] = df['TOLDHI3'].fillna(0)\n",
    "df['TOLDHI3'].describe() if df_describe else ''"
   ]
  },
  {
   "cell_type": "code",
   "execution_count": 38,
   "id": "7d97121e",
   "metadata": {},
   "outputs": [
    {
     "data": {
      "text/plain": [
       "''"
      ]
     },
     "execution_count": 38,
     "metadata": {},
     "output_type": "execute_result"
    }
   ],
   "source": [
    "df['unk_CHOLMED3'] = df['CHOLMED3']\n",
    "df['unk_CHOLMED3'] = df['unk_CHOLMED3'].replace([1,2],0)\n",
    "df['unk_CHOLMED3'] = df['unk_CHOLMED3'].replace([7,9],1)\n",
    "df['unk_CHOLMED3'] = df['unk_CHOLMED3'].fillna(0)\n",
    "df['unk_CHOLMED3'].describe() if df_describe else ''"
   ]
  },
  {
   "cell_type": "code",
   "execution_count": 39,
   "id": "c330d6a7",
   "metadata": {},
   "outputs": [
    {
     "data": {
      "text/plain": [
       "''"
      ]
     },
     "execution_count": 39,
     "metadata": {},
     "output_type": "execute_result"
    }
   ],
   "source": [
    "# taking medicine prescribed by doctor\n",
    "df['CHOLMED3'] = df['CHOLMED3'].replace([2,7],0)\n",
    "df['CHOLMED3'] = df['CHOLMED3'].replace(9,1)\n",
    "df['CHOLMED3'] = df['CHOLMED3'].fillna(0)\n",
    "df['CHOLMED3'].describe() if df_describe else ''"
   ]
  },
  {
   "cell_type": "code",
   "execution_count": 40,
   "id": "ed1fe300",
   "metadata": {},
   "outputs": [
    {
     "data": {
      "text/plain": [
       "''"
      ]
     },
     "execution_count": 40,
     "metadata": {},
     "output_type": "execute_result"
    }
   ],
   "source": [
    "df['unk_CVDINFR4'] = df['CVDINFR4']\n",
    "df['unk_CVDINFR4'] = df['unk_CVDINFR4'].replace([1,2],0)\n",
    "df['unk_CVDINFR4'] = df['unk_CVDINFR4'].replace([7,9],1)\n",
    "df['unk_CVDINFR4'] = df['unk_CVDINFR4'].fillna(1)\n",
    "df['unk_CVDINFR4'].describe() if df_describe else ''"
   ]
  },
  {
   "cell_type": "code",
   "execution_count": 41,
   "id": "b29d3e24",
   "metadata": {},
   "outputs": [
    {
     "data": {
      "text/plain": [
       "''"
      ]
     },
     "execution_count": 41,
     "metadata": {},
     "output_type": "execute_result"
    }
   ],
   "source": [
    "# *had heart attack*\n",
    "df['CVDINFR4'] = df['CVDINFR4'].replace([2,7,9],0)\n",
    "df['CVDINFR4'] = df['CVDINFR4'].fillna(0)\n",
    "df['CVDINFR4'].describe() if df_describe else ''"
   ]
  },
  {
   "cell_type": "code",
   "execution_count": 42,
   "id": "f430a221",
   "metadata": {},
   "outputs": [
    {
     "data": {
      "text/plain": [
       "''"
      ]
     },
     "execution_count": 42,
     "metadata": {},
     "output_type": "execute_result"
    }
   ],
   "source": [
    "df['unk_CVDCRHD4'] = df['CVDCRHD4']\n",
    "df['unk_CVDCRHD4'] = df['unk_CVDCRHD4'].replace([1,2],0)\n",
    "df['unk_CVDCRHD4'] = df['unk_CVDCRHD4'].replace([7,9],1)\n",
    "df['unk_CVDCRHD4'] = df['unk_CVDCRHD4'].fillna(1)\n",
    "df['unk_CVDCRHD4'].describe() if df_describe else ''"
   ]
  },
  {
   "cell_type": "code",
   "execution_count": 43,
   "id": "b9a4e5fd",
   "metadata": {},
   "outputs": [
    {
     "data": {
      "text/plain": [
       "''"
      ]
     },
     "execution_count": 43,
     "metadata": {},
     "output_type": "execute_result"
    }
   ],
   "source": [
    "# *told had angina or coronary heart disease*\n",
    "df['CVDINFR4'] = df['CVDINFR4'].replace([2,7,9],0)\n",
    "df['CVDINFR4'] = df['CVDINFR4'].fillna(0)\n",
    "df['CVDINFR4'].describe() if df_describe else ''"
   ]
  },
  {
   "cell_type": "code",
   "execution_count": 44,
   "id": "ea90348c",
   "metadata": {},
   "outputs": [
    {
     "data": {
      "text/plain": [
       "''"
      ]
     },
     "execution_count": 44,
     "metadata": {},
     "output_type": "execute_result"
    }
   ],
   "source": [
    "df['unk_CVDSTRK3'] = df['CVDSTRK3']\n",
    "df['unk_CVDSTRK3'] = df['unk_CVDSTRK3'].replace([1,2],0)\n",
    "df['unk_CVDSTRK3'] = df['unk_CVDSTRK3'].replace([7,9],1)\n",
    "df['unk_CVDSTRK3'] = df['unk_CVDSTRK3'].fillna(1)\n",
    "df['unk_CVDSTRK3'].describe() if df_describe else ''"
   ]
  },
  {
   "cell_type": "code",
   "execution_count": 45,
   "id": "ec598835",
   "metadata": {},
   "outputs": [
    {
     "data": {
      "text/plain": [
       "''"
      ]
     },
     "execution_count": 45,
     "metadata": {},
     "output_type": "execute_result"
    }
   ],
   "source": [
    "# *had stroke*\n",
    "df['CVDSTRK3'] = df['CVDSTRK3'].replace([2,7,9],0)\n",
    "df['CVDSTRK3'] = df['CVDSTRK3'].fillna(0)\n",
    "df['CVDSTRK3'].describe() if df_describe else ''"
   ]
  },
  {
   "cell_type": "code",
   "execution_count": 46,
   "id": "341ff298",
   "metadata": {},
   "outputs": [
    {
     "data": {
      "text/plain": [
       "''"
      ]
     },
     "execution_count": 46,
     "metadata": {},
     "output_type": "execute_result"
    }
   ],
   "source": [
    "df['unk_ASTHMA3'] = df['ASTHMA3']\n",
    "df['unk_ASTHMA3'] = df['unk_ASTHMA3'].replace([1,2],0)\n",
    "df['unk_ASTHMA3'] = df['unk_ASTHMA3'].replace([7,9],1)\n",
    "df['unk_ASTHMA3'] = df['unk_ASTHMA3'].fillna(1)\n",
    "df['unk_ASTHMA3'].describe() if df_describe else ''"
   ]
  },
  {
   "cell_type": "code",
   "execution_count": 47,
   "id": "f518f2ba",
   "metadata": {},
   "outputs": [
    {
     "data": {
      "text/plain": [
       "''"
      ]
     },
     "execution_count": 47,
     "metadata": {},
     "output_type": "execute_result"
    }
   ],
   "source": [
    "# *had asthma*\n",
    "df['ASTHMA3'] = df['ASTHMA3'].replace([2,7,9],0)\n",
    "df['ASTHMA3'] = df['ASTHMA3'].fillna(0)\n",
    "df['ASTHMA3'].describe() if df_describe else ''"
   ]
  },
  {
   "cell_type": "code",
   "execution_count": 48,
   "id": "69d67ace",
   "metadata": {},
   "outputs": [
    {
     "data": {
      "text/plain": [
       "''"
      ]
     },
     "execution_count": 48,
     "metadata": {},
     "output_type": "execute_result"
    }
   ],
   "source": [
    "df['unk_ASTHNOW'] = df['ASTHNOW']\n",
    "df['unk_ASTHNOW'] = df['unk_ASTHNOW'].replace([1,2],0)\n",
    "df['unk_ASTHNOW'] = df['unk_ASTHNOW'].replace([7,9],1)\n",
    "df['unk_ASTHNOW'] = df['unk_ASTHNOW'].fillna(0)\n",
    "df['unk_ASTHNOW'].describe() if df_describe else ''"
   ]
  },
  {
   "cell_type": "code",
   "execution_count": 49,
   "id": "52382059",
   "metadata": {},
   "outputs": [
    {
     "data": {
      "text/plain": [
       "''"
      ]
     },
     "execution_count": 49,
     "metadata": {},
     "output_type": "execute_result"
    }
   ],
   "source": [
    "# *has asthma now*\n",
    "df['ASTHNOW'] = df['ASTHNOW'].replace([2,7,9],0)\n",
    "df['ASTHNOW'] = df['ASTHNOW'].fillna(0)\n",
    "df['ASTHNOW'].describe() if df_describe else ''"
   ]
  },
  {
   "cell_type": "code",
   "execution_count": 50,
   "id": "f58b26ce",
   "metadata": {},
   "outputs": [
    {
     "data": {
      "text/plain": [
       "''"
      ]
     },
     "execution_count": 50,
     "metadata": {},
     "output_type": "execute_result"
    }
   ],
   "source": [
    "df['unk_CHCSCNCR'] = df['CHCSCNCR']\n",
    "df['unk_CHCSCNCR'] = df['unk_CHCSCNCR'].replace([1,2],0)\n",
    "df['unk_CHCSCNCR'] = df['unk_CHCSCNCR'].replace([7,9],1)\n",
    "df['unk_CHCSCNCR'] = df['unk_CHCSCNCR'].fillna(1)\n",
    "df['unk_CHCSCNCR'].describe() if df_describe else ''"
   ]
  },
  {
   "cell_type": "code",
   "execution_count": 51,
   "id": "3e71b57f",
   "metadata": {},
   "outputs": [
    {
     "data": {
      "text/plain": [
       "''"
      ]
     },
     "execution_count": 51,
     "metadata": {},
     "output_type": "execute_result"
    }
   ],
   "source": [
    "# *had skin cancer*\n",
    "df['CHCSCNCR'] = df['CHCSCNCR'].replace([2,7,9],0)\n",
    "df['CHCSCNCR'] = df['CHCSCNCR'].fillna(0)\n",
    "df['CHCSCNCR'].describe() if df_describe else ''"
   ]
  },
  {
   "cell_type": "code",
   "execution_count": 52,
   "id": "afbd45c8",
   "metadata": {},
   "outputs": [
    {
     "data": {
      "text/plain": [
       "''"
      ]
     },
     "execution_count": 52,
     "metadata": {},
     "output_type": "execute_result"
    }
   ],
   "source": [
    "df['unk_CHCOCNCR'] = df['CHCOCNCR']\n",
    "df['unk_CHCOCNCR'] = df['unk_CHCOCNCR'].replace([1,2],0)\n",
    "df['unk_CHCOCNCR'] = df['unk_CHCOCNCR'].replace([7,9],1)\n",
    "df['unk_CHCOCNCR'] = df['unk_CHCOCNCR'].fillna(1)\n",
    "df['unk_CHCOCNCR'].describe() if df_describe else ''"
   ]
  },
  {
   "cell_type": "code",
   "execution_count": 53,
   "id": "c7164171",
   "metadata": {},
   "outputs": [
    {
     "data": {
      "text/plain": [
       "''"
      ]
     },
     "execution_count": 53,
     "metadata": {},
     "output_type": "execute_result"
    }
   ],
   "source": [
    "# *had other cancer*\n",
    "df['CHCOCNCR'] = df['CHCOCNCR'].replace([2,7,9],0)\n",
    "df['CHCOCNCR'] = df['CHCOCNCR'].fillna(0)\n",
    "df['CHCOCNCR'].describe() if df_describe else ''"
   ]
  },
  {
   "cell_type": "code",
   "execution_count": 54,
   "id": "ebbce251",
   "metadata": {},
   "outputs": [
    {
     "data": {
      "text/plain": [
       "''"
      ]
     },
     "execution_count": 54,
     "metadata": {},
     "output_type": "execute_result"
    }
   ],
   "source": [
    "df['unk_CHCCOPD3'] = df['CHCCOPD3']\n",
    "df['unk_CHCCOPD3'] = df['unk_CHCCOPD3'].replace([1,2],0)\n",
    "df['unk_CHCCOPD3'] = df['unk_CHCCOPD3'].replace([7,9],1)\n",
    "df['unk_CHCCOPD3'] = df['unk_CHCCOPD3'].fillna(1)\n",
    "df['unk_CHCCOPD3'].describe() if df_describe else ''"
   ]
  },
  {
   "cell_type": "code",
   "execution_count": 55,
   "id": "02ec1948",
   "metadata": {},
   "outputs": [
    {
     "data": {
      "text/plain": [
       "''"
      ]
     },
     "execution_count": 55,
     "metadata": {},
     "output_type": "execute_result"
    }
   ],
   "source": [
    "# *had other cancer*\n",
    "df['CHCCOPD3'] = df['CHCCOPD3'].replace([2,7,9],0)\n",
    "df['CHCCOPD3'] = df['CHCCOPD3'].fillna(0)\n",
    "df['CHCCOPD3'].describe() if df_describe else ''"
   ]
  },
  {
   "cell_type": "code",
   "execution_count": 56,
   "id": "21bbe239",
   "metadata": {},
   "outputs": [
    {
     "data": {
      "text/plain": [
       "''"
      ]
     },
     "execution_count": 56,
     "metadata": {},
     "output_type": "execute_result"
    }
   ],
   "source": [
    "df['unk_ADDEPEV3'] = df['ADDEPEV3']\n",
    "df['unk_ADDEPEV3'] = df['unk_ADDEPEV3'].replace([1,2],0)\n",
    "df['unk_ADDEPEV3'] = df['unk_ADDEPEV3'].replace([7,9],1)\n",
    "df['unk_ADDEPEV3'] = df['unk_ADDEPEV3'].fillna(1)\n",
    "df['unk_ADDEPEV3'].describe() if df_describe else ''"
   ]
  },
  {
   "cell_type": "code",
   "execution_count": 57,
   "id": "42717b8c",
   "metadata": {},
   "outputs": [
    {
     "data": {
      "text/plain": [
       "''"
      ]
     },
     "execution_count": 57,
     "metadata": {},
     "output_type": "execute_result"
    }
   ],
   "source": [
    "# *had depressive disorder*\n",
    "df['ADDEPEV3'] = df['ADDEPEV3'].replace([2,7,9],0)\n",
    "df['ADDEPEV3'] = df['ADDEPEV3'].fillna(0)\n",
    "df['ADDEPEV3'].describe() if df_describe else ''"
   ]
  },
  {
   "cell_type": "code",
   "execution_count": 58,
   "id": "3e4db2c7",
   "metadata": {},
   "outputs": [
    {
     "data": {
      "text/plain": [
       "''"
      ]
     },
     "execution_count": 58,
     "metadata": {},
     "output_type": "execute_result"
    }
   ],
   "source": [
    "df['unk_CHCKDNY2'] = df['CHCKDNY2']\n",
    "df['unk_CHCKDNY2'] = df['unk_CHCKDNY2'].replace([1,2],0)\n",
    "df['unk_CHCKDNY2'] = df['unk_CHCKDNY2'].replace([7,9],1)\n",
    "df['unk_CHCKDNY2'] = df['unk_CHCKDNY2'].fillna(1)\n",
    "df['unk_CHCKDNY2'].describe() if df_describe else ''"
   ]
  },
  {
   "cell_type": "code",
   "execution_count": 59,
   "id": "445ed9d8",
   "metadata": {},
   "outputs": [
    {
     "data": {
      "text/plain": [
       "''"
      ]
     },
     "execution_count": 59,
     "metadata": {},
     "output_type": "execute_result"
    }
   ],
   "source": [
    "# *had kidney disease*\n",
    "df['ADDEPEV3'] = df['ADDEPEV3'].replace([2,7,9],0)\n",
    "df['ADDEPEV3'] = df['ADDEPEV3'].fillna(0)\n",
    "df['ADDEPEV3'].describe() if df_describe else ''"
   ]
  },
  {
   "cell_type": "code",
   "execution_count": 60,
   "id": "3960294d",
   "metadata": {},
   "outputs": [
    {
     "data": {
      "text/plain": [
       "''"
      ]
     },
     "execution_count": 60,
     "metadata": {},
     "output_type": "execute_result"
    }
   ],
   "source": [
    "# target variable, 0: no diabetes reported, prediabetes or only during pregnancy, 1: diabetes\n",
    "df['diabetes'] = df['DIABETE4']\n",
    "df['diabetes'] = df['diabetes'].replace([2,3,4,7,9],0)\n",
    "df['diabetes'] = df['diabetes'].replace([1],1)\n",
    "df['diabetes'] = df['diabetes'].fillna(0)\n",
    "df['diabetes'].describe() if df_describe else ''"
   ]
  },
  {
   "cell_type": "code",
   "execution_count": 61,
   "id": "80899506",
   "metadata": {},
   "outputs": [],
   "source": [
    "# *had diabetes during pregnancy*\n",
    "# df['pregnancy_diabetes'] = df['DIABETE4']\n",
    "# df['pregnancy_diabetes'] = df['pregnancy_diabetes'].replace([1,3,4,7,9],0)\n",
    "# df['pregnancy_diabetes'] = df['pregnancy_diabetes'].replace(2,1)\n",
    "# df['pregnancy_diabetes'] = df['pregnancy_diabetes'].fillna(0)\n",
    "# df['pregnancy_diabetes'].describe() if df_describe else ''"
   ]
  },
  {
   "cell_type": "code",
   "execution_count": 62,
   "id": "ec4ce776",
   "metadata": {},
   "outputs": [],
   "source": [
    "# *had prediabetes*\n",
    "# df['pre_diabetes'] = df['DIABETE4']\n",
    "# df['pre_diabetes'] = df['pre_diabetes'].replace([1,2,3,7,9],0)\n",
    "# df['pre_diabetes'] = df['pre_diabetes'].replace(4,1)\n",
    "# df['pre_diabetes'] = df['pre_diabetes'].fillna(0)\n",
    "# df['pre_diabetes'].describe() if df_describe else ''"
   ]
  },
  {
   "cell_type": "code",
   "execution_count": 63,
   "id": "421ea3b8",
   "metadata": {},
   "outputs": [],
   "source": [
    "# *had diabetes*\n",
    "# df['DIABETE4'] = df['DIABETE4'].replace(2,1)\n",
    "# df['DIABETE4'] = df['DIABETE4'].replace([3,4,7,9],0)\n",
    "# df['DIABETE4'] = df['DIABETE4'].fillna(0)\n",
    "# df['DIABETE4'].describe() if df_describe else ''"
   ]
  },
  {
   "cell_type": "code",
   "execution_count": 64,
   "id": "71737cf7",
   "metadata": {},
   "outputs": [],
   "source": [
    "# drop s7q12, old when told had diabetes, not relevant for diagnosing\n",
    "df = df.drop(['DIABAGE3'], axis=1)"
   ]
  },
  {
   "cell_type": "code",
   "execution_count": 65,
   "id": "feee27d1",
   "metadata": {},
   "outputs": [
    {
     "data": {
      "text/plain": [
       "''"
      ]
     },
     "execution_count": 65,
     "metadata": {},
     "output_type": "execute_result"
    }
   ],
   "source": [
    "df['unk_HAVARTH5'] = df['HAVARTH5']\n",
    "df['unk_HAVARTH5'] = df['unk_HAVARTH5'].replace([1,2],0)\n",
    "df['unk_HAVARTH5'] = df['unk_HAVARTH5'].replace([7,9],1)\n",
    "df['unk_HAVARTH5'] = df['unk_HAVARTH5'].fillna(1)\n",
    "df['unk_HAVARTH5'].describe() if df_describe else ''"
   ]
  },
  {
   "cell_type": "code",
   "execution_count": 66,
   "id": "baaf3e5a",
   "metadata": {},
   "outputs": [
    {
     "data": {
      "text/plain": [
       "''"
      ]
     },
     "execution_count": 66,
     "metadata": {},
     "output_type": "execute_result"
    }
   ],
   "source": [
    "# *have arthritis\n",
    "df['HAVARTH5'] = df['HAVARTH5'].replace([2,7,9],0)\n",
    "df['HAVARTH5'] = df['HAVARTH5'].fillna(0)\n",
    "df['HAVARTH5'].describe() if df_describe else ''"
   ]
  },
  {
   "cell_type": "code",
   "execution_count": 67,
   "id": "c2b2ef49",
   "metadata": {},
   "outputs": [],
   "source": [
    "# drop s8q2, suggested physical activity for arthritis, not relevant for diagnosis\n",
    "# drop s8q3, taken course for arthritis, not relevant for diagnosis\n",
    "# drop s8q4, limited because of joint symptoms, not relevant for diagnosis\n",
    "# drop s8q5, arthritis affects work, not relevant for diagnosis\n",
    "df = df.drop(['ARTHEXER', 'ARTHEDU', 'LMTJOIN3', 'ARTHDIS2'], axis=1)"
   ]
  },
  {
   "cell_type": "code",
   "execution_count": 68,
   "id": "8f0eb78e",
   "metadata": {},
   "outputs": [],
   "source": [
    "#df['unk_LMTJOIN3'] = df['LMTJOIN3']\n",
    "#df['unk_LMTJOIN3'] = df['unk_LMTJOIN3'].replace([1,2],0)\n",
    "#df['unk_LMTJOIN3'] = df['unk_LMTJOIN3'].replace([7,9],1)\n",
    "#df['unk_LMTJOIN3'] = df['unk_LMTJOIN3'].fillna(0)\n",
    "#df['unk_LMTJOIN3'].describe() if df_describe else ''"
   ]
  },
  {
   "cell_type": "code",
   "execution_count": 69,
   "id": "f2f79766",
   "metadata": {},
   "outputs": [],
   "source": [
    "# limited by their arthritis or joints\n",
    "#df['LMTJOIN3'] = df['LMTJOIN3'].replace([2,7,9],0)\n",
    "#df['LMTJOIN3'] = df['LMTJOIN3'].fillna(0)\n",
    "#df['LMTJOIN3'].describe() if df_describe else ''"
   ]
  },
  {
   "cell_type": "code",
   "execution_count": 70,
   "id": "8bcc0f44",
   "metadata": {},
   "outputs": [],
   "source": [
    "#df['unk_ARTHDIS2'] = df['ARTHDIS2']\n",
    "#df['unk_ARTHDIS2'] = df['unk_ARTHDIS2'].replace([1,2],0)\n",
    "#df['unk_ARTHDIS2'] = df['unk_ARTHDIS2'].replace([7,9],1)\n",
    "#df['unk_ARTHDIS2'] = df['unk_ARTHDIS2'].fillna(0)\n",
    "#df['unk_ARTHDIS2'].describe() if df_describe else ''"
   ]
  },
  {
   "cell_type": "code",
   "execution_count": 71,
   "id": "edef6095",
   "metadata": {},
   "outputs": [],
   "source": [
    "# arthritis or joints affects work\n",
    "#df['ARTHDIS2'] = df['ARTHDIS2'].replace([2,7,9],0)\n",
    "#df['ARTHDIS2'] = df['ARTHDIS2'].fillna(0)\n",
    "#df['ARTHDIS2'].describe() if df_describe else ''"
   ]
  },
  {
   "cell_type": "code",
   "execution_count": 72,
   "id": "c6d5a603",
   "metadata": {},
   "outputs": [
    {
     "data": {
      "text/plain": [
       "''"
      ]
     },
     "execution_count": 72,
     "metadata": {},
     "output_type": "execute_result"
    }
   ],
   "source": [
    "df['unk_JOINPAI2'] = df['JOINPAI2']\n",
    "df['unk_JOINPAI2'] = df['unk_JOINPAI2'].replace(range(0,11),0)\n",
    "df['unk_JOINPAI2'] = df['unk_JOINPAI2'].replace([77,99],1)\n",
    "df['unk_JOINPAI2'] = df['unk_JOINPAI2'].fillna(0)\n",
    "df['unk_JOINPAI2'].describe() if df_describe else ''"
   ]
  },
  {
   "cell_type": "code",
   "execution_count": 73,
   "id": "790b63da",
   "metadata": {},
   "outputs": [
    {
     "data": {
      "text/plain": [
       "''"
      ]
     },
     "execution_count": 73,
     "metadata": {},
     "output_type": "execute_result"
    }
   ],
   "source": [
    "# how bad was joint pain\n",
    "df['JOINPAI2'] = df['JOINPAI2'].replace([77,99],1)\n",
    "df['JOINPAI2'] = df['JOINPAI2'].fillna(0)\n",
    "df['JOINPAI2'].describe() if df_describe else ''"
   ]
  },
  {
   "cell_type": "code",
   "execution_count": 74,
   "id": "8308197f",
   "metadata": {},
   "outputs": [
    {
     "data": {
      "text/plain": [
       "''"
      ]
     },
     "execution_count": 74,
     "metadata": {},
     "output_type": "execute_result"
    }
   ],
   "source": [
    "df['unk_MARITAL'] = df['MARITAL']\n",
    "df['unk_MARITAL'] = df['unk_MARITAL'].replace(range(1,7),0)\n",
    "df['unk_MARITAL'] = df['unk_MARITAL'].replace(9,1)\n",
    "df['unk_MARITAL'] = df['unk_MARITAL'].fillna(1)\n",
    "df['unk_MARITAL'].describe() if df_describe else ''"
   ]
  },
  {
   "cell_type": "code",
   "execution_count": 75,
   "id": "de82d301",
   "metadata": {},
   "outputs": [
    {
     "data": {
      "text/plain": [
       "''"
      ]
     },
     "execution_count": 75,
     "metadata": {},
     "output_type": "execute_result"
    }
   ],
   "source": [
    "# married\n",
    "df['married'] = df['MARITAL']\n",
    "df['married'] = df['married'].replace([2,3,4,5,6,9],0)\n",
    "df['married'] = df['married'].fillna(0)\n",
    "df['married'].describe() if df_describe else ''"
   ]
  },
  {
   "cell_type": "code",
   "execution_count": 76,
   "id": "d225e1df",
   "metadata": {},
   "outputs": [
    {
     "data": {
      "text/plain": [
       "''"
      ]
     },
     "execution_count": 76,
     "metadata": {},
     "output_type": "execute_result"
    }
   ],
   "source": [
    "# divorced\n",
    "df['divorced'] = df['MARITAL']\n",
    "df['divorced'] = df['divorced'].replace([1,3,4,5,6,9],0)\n",
    "df['divorced'] = df['divorced'].replace(2,1)\n",
    "df['divorced'] = df['divorced'].fillna(0)\n",
    "df['divorced'].describe() if df_describe else ''"
   ]
  },
  {
   "cell_type": "code",
   "execution_count": 77,
   "id": "5b2c6618",
   "metadata": {},
   "outputs": [
    {
     "data": {
      "text/plain": [
       "''"
      ]
     },
     "execution_count": 77,
     "metadata": {},
     "output_type": "execute_result"
    }
   ],
   "source": [
    "# widowed\n",
    "df['widowed'] = df['MARITAL']\n",
    "df['widowed'] = df['widowed'].replace([1,2,4,5,6,9],0)\n",
    "df['widowed'] = df['widowed'].replace(3,1)\n",
    "df['widowed'] = df['widowed'].fillna(0)\n",
    "df['widowed'].describe() if df_describe else ''"
   ]
  },
  {
   "cell_type": "code",
   "execution_count": 78,
   "id": "d573d8c5",
   "metadata": {},
   "outputs": [
    {
     "data": {
      "text/plain": [
       "''"
      ]
     },
     "execution_count": 78,
     "metadata": {},
     "output_type": "execute_result"
    }
   ],
   "source": [
    "# Separated\n",
    "df['separated'] = df['MARITAL']\n",
    "df['separated'] = df['separated'].replace([1,2,3,5,6,9],0)\n",
    "df['separated'] = df['separated'].replace(4,1)\n",
    "df['separated'] = df['separated'].fillna(0)\n",
    "df['separated'].describe() if df_describe else ''"
   ]
  },
  {
   "cell_type": "code",
   "execution_count": 79,
   "id": "0f763ce8",
   "metadata": {},
   "outputs": [
    {
     "data": {
      "text/plain": [
       "''"
      ]
     },
     "execution_count": 79,
     "metadata": {},
     "output_type": "execute_result"
    }
   ],
   "source": [
    "# never married\n",
    "df['never_married'] = df['MARITAL']\n",
    "df['never_married'] = df['never_married'].replace([1,2,3,4,6,9],0)\n",
    "df['never_married'] = df['never_married'].replace(5,1)\n",
    "df['never_married'] = df['never_married'].fillna(0)\n",
    "df['never_married'].describe() if df_describe else ''"
   ]
  },
  {
   "cell_type": "code",
   "execution_count": 80,
   "id": "e45812bf",
   "metadata": {},
   "outputs": [
    {
     "data": {
      "text/plain": [
       "''"
      ]
     },
     "execution_count": 80,
     "metadata": {},
     "output_type": "execute_result"
    }
   ],
   "source": [
    "# unmarried_couple\n",
    "df['unmarried_couple'] = df['MARITAL']\n",
    "df['unmarried_couple'] = df['unmarried_couple'].replace([1,2,3,4,5,9],0)\n",
    "df['unmarried_couple'] = df['unmarried_couple'].replace(6,1)\n",
    "df['unmarried_couple'] = df['unmarried_couple'].fillna(0)\n",
    "df['unmarried_couple'].describe() if df_describe else ''"
   ]
  },
  {
   "cell_type": "code",
   "execution_count": 81,
   "id": "87e0c4f6",
   "metadata": {},
   "outputs": [],
   "source": [
    "# drop s9q6, education level, _EDUCAG is better\n",
    "df = df.drop(['EDUCA'], axis=1)"
   ]
  },
  {
   "cell_type": "code",
   "execution_count": 82,
   "id": "8342c8cc",
   "metadata": {},
   "outputs": [
    {
     "data": {
      "text/plain": [
       "''"
      ]
     },
     "execution_count": 82,
     "metadata": {},
     "output_type": "execute_result"
    }
   ],
   "source": [
    "df['unk_RENTHOM1'] = df['RENTHOM1']\n",
    "df['unk_RENTHOM1'] = df['unk_RENTHOM1'].replace([1,2,3],0)\n",
    "df['unk_RENTHOM1'] = df['unk_RENTHOM1'].replace([7,9],1)\n",
    "df['unk_RENTHOM1'] = df['unk_RENTHOM1'].fillna(1)\n",
    "df['unk_RENTHOM1'].describe() if df_describe else ''"
   ]
  },
  {
   "cell_type": "code",
   "execution_count": 83,
   "id": "c1dc8c60",
   "metadata": {},
   "outputs": [
    {
     "data": {
      "text/plain": [
       "''"
      ]
     },
     "execution_count": 83,
     "metadata": {},
     "output_type": "execute_result"
    }
   ],
   "source": [
    "# own\n",
    "df['own_house'] = df['RENTHOM1']\n",
    "df['own_house'] = df['own_house'].replace([2,3,7,9],0)\n",
    "df['own_house'] = df['own_house'].fillna(0)\n",
    "df['own_house'].describe() if df_describe else ''"
   ]
  },
  {
   "cell_type": "code",
   "execution_count": 84,
   "id": "120a4efd",
   "metadata": {},
   "outputs": [
    {
     "data": {
      "text/plain": [
       "''"
      ]
     },
     "execution_count": 84,
     "metadata": {},
     "output_type": "execute_result"
    }
   ],
   "source": [
    "# rent\n",
    "df['RENTHOM1'] = df['RENTHOM1'].replace([1,3,7,9],0)\n",
    "df['RENTHOM1'] = df['RENTHOM1'].replace(2,1)\n",
    "df['RENTHOM1'] = df['RENTHOM1'].fillna(0)\n",
    "df['RENTHOM1'].describe() if df_describe else ''"
   ]
  },
  {
   "cell_type": "code",
   "execution_count": 85,
   "id": "7476ac82",
   "metadata": {},
   "outputs": [],
   "source": [
    "# drop s9q10, household telephones, not relevant\n",
    "# drop s9q11, residential phones\n",
    "# drop s9q12, cell phone for personal use\n",
    "df = df.drop(['NUMHHOL3', 'NUMPHON3', 'CPDEMO1B'], axis=1)"
   ]
  },
  {
   "cell_type": "code",
   "execution_count": 86,
   "id": "b4eaf175",
   "metadata": {},
   "outputs": [
    {
     "data": {
      "text/plain": [
       "''"
      ]
     },
     "execution_count": 86,
     "metadata": {},
     "output_type": "execute_result"
    }
   ],
   "source": [
    "df['unk_VETERAN3'] = df['VETERAN3']\n",
    "df['unk_VETERAN3'] = df['unk_VETERAN3'].replace([1,2],0)\n",
    "df['unk_VETERAN3'] = df['unk_VETERAN3'].replace([7,9],1)\n",
    "df['unk_VETERAN3'] = df['unk_VETERAN3'].fillna(1)\n",
    "df['unk_VETERAN3'].describe() if df_describe else ''"
   ]
  },
  {
   "cell_type": "code",
   "execution_count": 87,
   "id": "3fb4ce07",
   "metadata": {},
   "outputs": [
    {
     "data": {
      "text/plain": [
       "''"
      ]
     },
     "execution_count": 87,
     "metadata": {},
     "output_type": "execute_result"
    }
   ],
   "source": [
    "# rent\n",
    "df['VETERAN3'] = df['VETERAN3'].replace([2,7,9],0)\n",
    "df['VETERAN3'] = df['VETERAN3'].fillna(0)\n",
    "df['VETERAN3'].describe() if df_describe else ''"
   ]
  },
  {
   "cell_type": "code",
   "execution_count": 88,
   "id": "3379299f",
   "metadata": {},
   "outputs": [
    {
     "data": {
      "text/plain": [
       "''"
      ]
     },
     "execution_count": 88,
     "metadata": {},
     "output_type": "execute_result"
    }
   ],
   "source": [
    "df['unk_EMPLOY1'] = df['EMPLOY1']\n",
    "df['unk_EMPLOY1'] = df['unk_EMPLOY1'].replace(range(1,9),0)\n",
    "df['unk_EMPLOY1'] = df['unk_EMPLOY1'].replace(9,1)\n",
    "df['unk_EMPLOY1'] = df['unk_EMPLOY1'].fillna(1)\n",
    "df['unk_EMPLOY1'].describe() if df_describe else ''"
   ]
  },
  {
   "cell_type": "code",
   "execution_count": 89,
   "id": "471abf49",
   "metadata": {},
   "outputs": [
    {
     "data": {
      "text/plain": [
       "''"
      ]
     },
     "execution_count": 89,
     "metadata": {},
     "output_type": "execute_result"
    }
   ],
   "source": [
    "# employed for wages\n",
    "df['employed_for_wages'] = df['EMPLOY1']\n",
    "df['employed_for_wages'] = df['employed_for_wages'].replace(range(2,10),0)\n",
    "df['employed_for_wages'] = df['employed_for_wages'].fillna(0)\n",
    "df['employed_for_wages'].describe() if df_describe else ''"
   ]
  },
  {
   "cell_type": "code",
   "execution_count": 90,
   "id": "ba4058dc",
   "metadata": {},
   "outputs": [
    {
     "data": {
      "text/plain": [
       "''"
      ]
     },
     "execution_count": 90,
     "metadata": {},
     "output_type": "execute_result"
    }
   ],
   "source": [
    "# self employed\n",
    "df['self_employed'] = df['EMPLOY1']\n",
    "df['self_employed'] = df['self_employed'].replace([1,3,4,5,6,7,8,9],0)\n",
    "df['self_employed'] = df['self_employed'].replace(2,1)\n",
    "df['self_employed'] = df['self_employed'].fillna(0)\n",
    "df['self_employed'].describe() if df_describe else ''"
   ]
  },
  {
   "cell_type": "code",
   "execution_count": 91,
   "id": "b0a7eb1d",
   "metadata": {},
   "outputs": [
    {
     "data": {
      "text/plain": [
       "''"
      ]
     },
     "execution_count": 91,
     "metadata": {},
     "output_type": "execute_result"
    }
   ],
   "source": [
    "# Out of work for 1 year or more\n",
    "df['out_of_work_year_plus'] = df['EMPLOY1']\n",
    "df['out_of_work_year_plus'] = df['out_of_work_year_plus'].replace([1,2,4,5,6,7,8,9],0)\n",
    "df['out_of_work_year_plus'] = df['out_of_work_year_plus'].replace(3,1)\n",
    "df['out_of_work_year_plus'] = df['out_of_work_year_plus'].fillna(0)\n",
    "df['out_of_work_year_plus'].describe() if df_describe else ''"
   ]
  },
  {
   "cell_type": "code",
   "execution_count": 92,
   "id": "7b869c51",
   "metadata": {},
   "outputs": [
    {
     "data": {
      "text/plain": [
       "''"
      ]
     },
     "execution_count": 92,
     "metadata": {},
     "output_type": "execute_result"
    }
   ],
   "source": [
    "# Out of work for less than 1 year\n",
    "df['out_of_work_year_less'] = df['EMPLOY1']\n",
    "df['out_of_work_year_less'] = df['out_of_work_year_less'].replace([1,2,3,5,6,7,8,9],0)\n",
    "df['out_of_work_year_less'] = df['out_of_work_year_less'].replace(4,1)\n",
    "df['out_of_work_year_less'] = df['out_of_work_year_less'].fillna(0)\n",
    "df['out_of_work_year_less'].describe() if df_describe else ''"
   ]
  },
  {
   "cell_type": "code",
   "execution_count": 93,
   "id": "9b956e71",
   "metadata": {},
   "outputs": [
    {
     "data": {
      "text/plain": [
       "''"
      ]
     },
     "execution_count": 93,
     "metadata": {},
     "output_type": "execute_result"
    }
   ],
   "source": [
    "# homemaker\n",
    "df['homemaker'] = df['EMPLOY1']\n",
    "df['homemaker'] = df['homemaker'].replace([1,2,3,4,6,7,8,9],0)\n",
    "df['homemaker'] = df['homemaker'].replace(5,1)\n",
    "df['homemaker'] = df['homemaker'].fillna(0)\n",
    "df['homemaker'].describe() if df_describe else ''"
   ]
  },
  {
   "cell_type": "code",
   "execution_count": 94,
   "id": "3bfe2c0f",
   "metadata": {},
   "outputs": [
    {
     "data": {
      "text/plain": [
       "''"
      ]
     },
     "execution_count": 94,
     "metadata": {},
     "output_type": "execute_result"
    }
   ],
   "source": [
    "# a student\n",
    "df['student'] = df['EMPLOY1']\n",
    "df['student'] = df['student'].replace([1,2,3,4,5,7,8,9],0)\n",
    "df['student'] = df['student'].replace(6,1)\n",
    "df['student'] = df['student'].fillna(0)\n",
    "df['student'].describe() if df_describe else ''"
   ]
  },
  {
   "cell_type": "code",
   "execution_count": 95,
   "id": "cd49fe03",
   "metadata": {},
   "outputs": [
    {
     "data": {
      "text/plain": [
       "''"
      ]
     },
     "execution_count": 95,
     "metadata": {},
     "output_type": "execute_result"
    }
   ],
   "source": [
    "# retired\n",
    "df['retired'] = df['EMPLOY1']\n",
    "df['retired'] = df['retired'].replace([1,2,3,4,5,6,8,9],0)\n",
    "df['retired'] = df['retired'].replace(7,1)\n",
    "df['retired'] = df['retired'].fillna(0)\n",
    "df['retired'].describe() if df_describe else ''"
   ]
  },
  {
   "cell_type": "code",
   "execution_count": 96,
   "id": "ba559b8e",
   "metadata": {},
   "outputs": [
    {
     "data": {
      "text/plain": [
       "''"
      ]
     },
     "execution_count": 96,
     "metadata": {},
     "output_type": "execute_result"
    }
   ],
   "source": [
    "# unable to work\n",
    "df['unable_to_work'] = df['EMPLOY1']\n",
    "df['unable_to_work'] = df['unable_to_work'].replace([1,2,3,4,5,6,7,9],0)\n",
    "df['unable_to_work'] = df['unable_to_work'].replace(8,1)\n",
    "df['unable_to_work'] = df['unable_to_work'].fillna(0)\n",
    "df['unable_to_work'].describe() if df_describe else ''"
   ]
  },
  {
   "cell_type": "code",
   "execution_count": 97,
   "id": "f0617fc4",
   "metadata": {},
   "outputs": [],
   "source": [
    "df = df.drop(['EMPLOY1'], axis=1)"
   ]
  },
  {
   "cell_type": "code",
   "execution_count": 98,
   "id": "08def79f",
   "metadata": {},
   "outputs": [],
   "source": [
    "# drop s9q15, number of children in household, not relevant\n",
    "# drop s9q16, income level, _INCOMG1 is a better metric\n",
    "df = df.drop(['CHILDREN', 'INCOME3'], axis=1)"
   ]
  },
  {
   "cell_type": "code",
   "execution_count": 99,
   "id": "7d128c43",
   "metadata": {},
   "outputs": [
    {
     "data": {
      "text/plain": [
       "''"
      ]
     },
     "execution_count": 99,
     "metadata": {},
     "output_type": "execute_result"
    }
   ],
   "source": [
    "df['unk_PREGNANT'] = df['PREGNANT']\n",
    "df['unk_PREGNANT'] = df['unk_PREGNANT'].replace([1,2],0)\n",
    "df['unk_PREGNANT'] = df['unk_PREGNANT'].replace([7,9],1)\n",
    "df['unk_PREGNANT'] = df['unk_PREGNANT'].fillna(0)\n",
    "df['unk_PREGNANT'].describe() if df_describe else ''"
   ]
  },
  {
   "cell_type": "code",
   "execution_count": 100,
   "id": "d838f338",
   "metadata": {},
   "outputs": [
    {
     "data": {
      "text/plain": [
       "''"
      ]
     },
     "execution_count": 100,
     "metadata": {},
     "output_type": "execute_result"
    }
   ],
   "source": [
    "# pregnant\n",
    "df['PREGNANT'] = df['PREGNANT'].replace([2,7,9],0)\n",
    "df['PREGNANT'] = df['PREGNANT'].fillna(0)\n",
    "df['PREGNANT'].describe() if df_describe else ''"
   ]
  },
  {
   "cell_type": "code",
   "execution_count": 101,
   "id": "b009ad05",
   "metadata": {},
   "outputs": [],
   "source": [
    "# drop s9q18, reported weight pounds, WTKG3 is a better metric\n",
    "# drop s9q19, reported height in feet and inches, HTM4 is a better metric\n",
    "df = df.drop(['WEIGHT2', 'HEIGHT3'], axis=1)"
   ]
  },
  {
   "cell_type": "code",
   "execution_count": 102,
   "id": "49896e87",
   "metadata": {},
   "outputs": [
    {
     "data": {
      "text/plain": [
       "''"
      ]
     },
     "execution_count": 102,
     "metadata": {},
     "output_type": "execute_result"
    }
   ],
   "source": [
    "df['unk_DEAF'] = df['DEAF']\n",
    "df['unk_DEAF'] = df['unk_DEAF'].replace([1,2],0)\n",
    "df['unk_DEAF'] = df['unk_DEAF'].replace([7,9],1)\n",
    "df['unk_DEAF'] = df['unk_DEAF'].fillna(1)\n",
    "df['unk_DEAF'].describe() if df_describe else ''"
   ]
  },
  {
   "cell_type": "code",
   "execution_count": 103,
   "id": "ec52d7b6",
   "metadata": {},
   "outputs": [
    {
     "data": {
      "text/plain": [
       "''"
      ]
     },
     "execution_count": 103,
     "metadata": {},
     "output_type": "execute_result"
    }
   ],
   "source": [
    "# *is deaf*\n",
    "df['DEAF'] = df['DEAF'].replace([2,7,9],0)\n",
    "df['DEAF'] = df['DEAF'].fillna(0)\n",
    "df['DEAF'].describe() if df_describe else ''"
   ]
  },
  {
   "cell_type": "code",
   "execution_count": 104,
   "id": "30854ade",
   "metadata": {},
   "outputs": [
    {
     "data": {
      "text/plain": [
       "''"
      ]
     },
     "execution_count": 104,
     "metadata": {},
     "output_type": "execute_result"
    }
   ],
   "source": [
    "df['unk_BLIND'] = df['BLIND']\n",
    "df['unk_BLIND'] = df['unk_BLIND'].replace([1,2],0)\n",
    "df['unk_BLIND'] = df['unk_BLIND'].replace([7,9],1)\n",
    "df['unk_BLIND'] = df['unk_BLIND'].fillna(1)\n",
    "df['unk_BLIND'].describe() if df_describe else ''"
   ]
  },
  {
   "cell_type": "code",
   "execution_count": 105,
   "id": "46a5f662",
   "metadata": {},
   "outputs": [
    {
     "data": {
      "text/plain": [
       "''"
      ]
     },
     "execution_count": 105,
     "metadata": {},
     "output_type": "execute_result"
    }
   ],
   "source": [
    "# *is blind*\n",
    "df['BLIND'] = df['BLIND'].replace([2,7,9],0)\n",
    "df['BLIND'] = df['BLIND'].fillna(0)\n",
    "df['BLIND'].describe() if df_describe else ''"
   ]
  },
  {
   "cell_type": "code",
   "execution_count": 106,
   "id": "1bb3e5f8",
   "metadata": {},
   "outputs": [
    {
     "data": {
      "text/plain": [
       "''"
      ]
     },
     "execution_count": 106,
     "metadata": {},
     "output_type": "execute_result"
    }
   ],
   "source": [
    "df['unk_DECIDE'] = df['DECIDE']\n",
    "df['unk_DECIDE'] = df['unk_DECIDE'].replace([1,2],0)\n",
    "df['unk_DECIDE'] = df['unk_DECIDE'].replace([7,9],1)\n",
    "df['unk_DECIDE'] = df['unk_DECIDE'].fillna(1)\n",
    "df['unk_DECIDE'].describe() if df_describe else ''"
   ]
  },
  {
   "cell_type": "code",
   "execution_count": 107,
   "id": "16d24061",
   "metadata": {},
   "outputs": [
    {
     "data": {
      "text/plain": [
       "''"
      ]
     },
     "execution_count": 107,
     "metadata": {},
     "output_type": "execute_result"
    }
   ],
   "source": [
    "# difficulty concentrating or remembering\n",
    "df['DECIDE'] = df['DECIDE'].replace([2,7,9],0)\n",
    "df['DECIDE'] = df['DECIDE'].fillna(0)\n",
    "df['DECIDE'].describe() if df_describe else ''"
   ]
  },
  {
   "cell_type": "code",
   "execution_count": 108,
   "id": "a41471f1",
   "metadata": {},
   "outputs": [
    {
     "data": {
      "text/plain": [
       "''"
      ]
     },
     "execution_count": 108,
     "metadata": {},
     "output_type": "execute_result"
    }
   ],
   "source": [
    "df['unk_DIFFWALK'] = df['DIFFWALK']\n",
    "df['unk_DIFFWALK'] = df['unk_DIFFWALK'].replace([1,2],0)\n",
    "df['unk_DIFFWALK'] = df['unk_DIFFWALK'].replace([7,9],1)\n",
    "df['unk_DIFFWALK'] = df['unk_DIFFWALK'].fillna(1)\n",
    "df['unk_DIFFWALK'].describe() if df_describe else ''"
   ]
  },
  {
   "cell_type": "code",
   "execution_count": 109,
   "id": "45dc17c7",
   "metadata": {},
   "outputs": [
    {
     "data": {
      "text/plain": [
       "''"
      ]
     },
     "execution_count": 109,
     "metadata": {},
     "output_type": "execute_result"
    }
   ],
   "source": [
    "# Difficulty Walking or Climbing Stairs\n",
    "df['DIFFWALK'] = df['DIFFWALK'].replace([2,7,9],0)\n",
    "df['DIFFWALK'] = df['DIFFWALK'].fillna(0)\n",
    "df['DIFFWALK'].describe() if df_describe else ''"
   ]
  },
  {
   "cell_type": "code",
   "execution_count": 110,
   "id": "4b5d1775",
   "metadata": {},
   "outputs": [
    {
     "data": {
      "text/plain": [
       "''"
      ]
     },
     "execution_count": 110,
     "metadata": {},
     "output_type": "execute_result"
    }
   ],
   "source": [
    "df['unk_DIFFDRES'] = df['DIFFDRES']\n",
    "df['unk_DIFFDRES'] = df['unk_DIFFDRES'].replace([1,2],0)\n",
    "df['unk_DIFFDRES'] = df['unk_DIFFDRES'].replace([7,9],1)\n",
    "df['unk_DIFFDRES'] = df['unk_DIFFDRES'].fillna(1)\n",
    "df['unk_DIFFDRES'].describe() if df_describe else ''"
   ]
  },
  {
   "cell_type": "code",
   "execution_count": 111,
   "id": "5a5e6f78",
   "metadata": {},
   "outputs": [
    {
     "data": {
      "text/plain": [
       "''"
      ]
     },
     "execution_count": 111,
     "metadata": {},
     "output_type": "execute_result"
    }
   ],
   "source": [
    "# Difficulty Dressing or Bathing\n",
    "df['DIFFDRES'] = df['DIFFDRES'].replace([2,7,9],0)\n",
    "df['DIFFDRES'] = df['DIFFDRES'].fillna(0)\n",
    "df['DIFFDRES'].describe() if df_describe else ''"
   ]
  },
  {
   "cell_type": "code",
   "execution_count": 112,
   "id": "a78e6426",
   "metadata": {},
   "outputs": [
    {
     "data": {
      "text/plain": [
       "''"
      ]
     },
     "execution_count": 112,
     "metadata": {},
     "output_type": "execute_result"
    }
   ],
   "source": [
    "df['unk_DIFFALON'] = df['DIFFALON']\n",
    "df['unk_DIFFALON'] = df['unk_DIFFALON'].replace([1,2],0)\n",
    "df['unk_DIFFALON'] = df['unk_DIFFALON'].replace([7,9],1)\n",
    "df['unk_DIFFALON'] = df['unk_DIFFALON'].fillna(1)\n",
    "df['unk_DIFFALON'].describe() if df_describe else ''"
   ]
  },
  {
   "cell_type": "code",
   "execution_count": 113,
   "id": "42a85d48",
   "metadata": {},
   "outputs": [
    {
     "data": {
      "text/plain": [
       "''"
      ]
     },
     "execution_count": 113,
     "metadata": {},
     "output_type": "execute_result"
    }
   ],
   "source": [
    "# Difficulty Doing Errands Alone\n",
    "df['DIFFALON'] = df['DIFFALON'].replace([2,7,9],0)\n",
    "df['DIFFALON'] = df['DIFFALON'].fillna(0)\n",
    "df['DIFFALON'].describe() if df_describe else ''"
   ]
  },
  {
   "cell_type": "code",
   "execution_count": 114,
   "id": "3ae21ee4",
   "metadata": {},
   "outputs": [
    {
     "data": {
      "text/plain": [
       "''"
      ]
     },
     "execution_count": 114,
     "metadata": {},
     "output_type": "execute_result"
    }
   ],
   "source": [
    "df['unk_SMOKE100'] = df['SMOKE100']\n",
    "df['unk_SMOKE100'] = df['unk_SMOKE100'].replace([1,2],0)\n",
    "df['unk_SMOKE100'] = df['unk_SMOKE100'].replace([7,9],1)\n",
    "df['unk_SMOKE100'] = df['unk_SMOKE100'].fillna(1)\n",
    "df['unk_SMOKE100'].describe() if df_describe else ''"
   ]
  },
  {
   "cell_type": "code",
   "execution_count": 115,
   "id": "076b148f",
   "metadata": {},
   "outputs": [
    {
     "data": {
      "text/plain": [
       "''"
      ]
     },
     "execution_count": 115,
     "metadata": {},
     "output_type": "execute_result"
    }
   ],
   "source": [
    "# Smoked at Least 100 Cigarettes\n",
    "df['SMOKE100'] = df['SMOKE100'].replace([2,7,9],0)\n",
    "df['SMOKE100'] = df['SMOKE100'].fillna(0)\n",
    "df['SMOKE100'].describe() if df_describe else ''"
   ]
  },
  {
   "cell_type": "code",
   "execution_count": 116,
   "id": "f34acb67",
   "metadata": {},
   "outputs": [
    {
     "data": {
      "text/plain": [
       "''"
      ]
     },
     "execution_count": 116,
     "metadata": {},
     "output_type": "execute_result"
    }
   ],
   "source": [
    "df['unk_SMOKDAY2'] = df['SMOKDAY2']\n",
    "df['unk_SMOKDAY2'] = df['unk_SMOKDAY2'].replace([1,2,3],0)\n",
    "df['unk_SMOKDAY2'] = df['unk_SMOKDAY2'].replace([7,9],1)\n",
    "df['unk_SMOKDAY2'] = df['unk_SMOKDAY2'].fillna(0)\n",
    "df['unk_SMOKDAY2'].describe() if df_describe else ''"
   ]
  },
  {
   "cell_type": "code",
   "execution_count": 117,
   "id": "ff53454e",
   "metadata": {},
   "outputs": [
    {
     "data": {
      "text/plain": [
       "''"
      ]
     },
     "execution_count": 117,
     "metadata": {},
     "output_type": "execute_result"
    }
   ],
   "source": [
    "# smoke every day\n",
    "df['smoke_every_day'] = df['SMOKDAY2']\n",
    "df['smoke_every_day'] = df['smoke_every_day'].replace([2,3,7,9],0)\n",
    "df['smoke_every_day'] = df['smoke_every_day'].fillna(0)\n",
    "df['smoke_every_day'].describe() if df_describe else ''"
   ]
  },
  {
   "cell_type": "code",
   "execution_count": 118,
   "id": "e09c3c03",
   "metadata": {},
   "outputs": [
    {
     "data": {
      "text/plain": [
       "''"
      ]
     },
     "execution_count": 118,
     "metadata": {},
     "output_type": "execute_result"
    }
   ],
   "source": [
    "# smoke some days\n",
    "df['smoke_some_days'] = df['SMOKDAY2']\n",
    "df['smoke_some_days'] = df['smoke_some_days'].replace([1,3,7,9],0)\n",
    "df['smoke_some_days'] = df['smoke_some_days'].replace(2,1)\n",
    "df['smoke_some_days'] = df['smoke_some_days'].fillna(0)\n",
    "df['smoke_some_days'].describe() if df_describe else ''"
   ]
  },
  {
   "cell_type": "code",
   "execution_count": 119,
   "id": "090ffeea",
   "metadata": {},
   "outputs": [
    {
     "data": {
      "text/plain": [
       "''"
      ]
     },
     "execution_count": 119,
     "metadata": {},
     "output_type": "execute_result"
    }
   ],
   "source": [
    "# smokes not at all\n",
    "df['smoke_not_at_all'] = df['SMOKDAY2']\n",
    "df['smoke_not_at_all'] = df['smoke_not_at_all'].replace([1,2,7,9],0)\n",
    "df['smoke_not_at_all'] = df['smoke_not_at_all'].replace(3,1)\n",
    "df['smoke_not_at_all'] = df['smoke_not_at_all'].fillna(0)\n",
    "df['smoke_not_at_all'].describe() if df_describe else ''"
   ]
  },
  {
   "cell_type": "code",
   "execution_count": 120,
   "id": "1841b7f3",
   "metadata": {},
   "outputs": [],
   "source": [
    "df = df.drop(['SMOKDAY2'], axis=1)"
   ]
  },
  {
   "cell_type": "code",
   "execution_count": 121,
   "id": "346cf392",
   "metadata": {},
   "outputs": [
    {
     "data": {
      "text/plain": [
       "''"
      ]
     },
     "execution_count": 121,
     "metadata": {},
     "output_type": "execute_result"
    }
   ],
   "source": [
    "df['unk_USENOW3'] = df['USENOW3']\n",
    "df['unk_USENOW3'] = df['unk_USENOW3'].replace([1,2,3],0)\n",
    "df['unk_USENOW3'] = df['unk_USENOW3'].replace([7,9],1)\n",
    "df['unk_USENOW3'] = df['unk_USENOW3'].fillna(1)\n",
    "df['unk_USENOW3'].describe() if df_describe else ''"
   ]
  },
  {
   "cell_type": "code",
   "execution_count": 122,
   "id": "c432b5d1",
   "metadata": {},
   "outputs": [
    {
     "data": {
      "text/plain": [
       "''"
      ]
     },
     "execution_count": 122,
     "metadata": {},
     "output_type": "execute_result"
    }
   ],
   "source": [
    "# smokeless every day\n",
    "df['smokeless_every_day'] = df['USENOW3']\n",
    "df['smokeless_every_day'] = df['smokeless_every_day'].replace([2,3,7,9],0)\n",
    "df['smokeless_every_day'] = df['smokeless_every_day'].fillna(0)\n",
    "df['smokeless_every_day'].describe() if df_describe else ''"
   ]
  },
  {
   "cell_type": "code",
   "execution_count": 123,
   "id": "e2740f41",
   "metadata": {},
   "outputs": [
    {
     "data": {
      "text/plain": [
       "''"
      ]
     },
     "execution_count": 123,
     "metadata": {},
     "output_type": "execute_result"
    }
   ],
   "source": [
    "# smokeless some days\n",
    "df['smokeless_some_days'] = df['USENOW3']\n",
    "df['smokeless_some_days'] = df['smokeless_some_days'].replace([1,3,7,9],0)\n",
    "df['smokeless_some_days'] = df['smokeless_some_days'].replace(2,1)\n",
    "df['smokeless_some_days'] = df['smokeless_some_days'].fillna(0)\n",
    "df['smokeless_some_days'].describe() if df_describe else ''"
   ]
  },
  {
   "cell_type": "code",
   "execution_count": 124,
   "id": "08bd072e",
   "metadata": {},
   "outputs": [
    {
     "data": {
      "text/plain": [
       "''"
      ]
     },
     "execution_count": 124,
     "metadata": {},
     "output_type": "execute_result"
    }
   ],
   "source": [
    "# smokeless not at all\n",
    "df['smokeless_not_at_all'] = df['USENOW3']\n",
    "df['smokeless_not_at_all'] = df['smokeless_not_at_all'].replace([1,2,7,9],0)\n",
    "df['smokeless_not_at_all'] = df['smokeless_not_at_all'].replace(3,1)\n",
    "df['smokeless_not_at_all'] = df['smokeless_not_at_all'].fillna(0)\n",
    "df['smokeless_not_at_all'].describe() if df_describe else ''"
   ]
  },
  {
   "cell_type": "code",
   "execution_count": 125,
   "id": "7deb2b97",
   "metadata": {},
   "outputs": [],
   "source": [
    "df = df.drop(['USENOW3'], axis=1)"
   ]
  },
  {
   "cell_type": "code",
   "execution_count": 126,
   "id": "15dd6728",
   "metadata": {},
   "outputs": [
    {
     "data": {
      "text/plain": [
       "''"
      ]
     },
     "execution_count": 126,
     "metadata": {},
     "output_type": "execute_result"
    }
   ],
   "source": [
    "df['unk_ECIGNOW1'] = df['ECIGNOW1']\n",
    "df['unk_ECIGNOW1'] = df['unk_ECIGNOW1'].replace([1,2,3,4],0)\n",
    "df['unk_ECIGNOW1'] = df['unk_ECIGNOW1'].replace([7,9],1)\n",
    "df['unk_ECIGNOW1'] = df['unk_ECIGNOW1'].fillna(1)\n",
    "df['unk_ECIGNOW1'].describe() if df_describe else ''"
   ]
  },
  {
   "cell_type": "code",
   "execution_count": 127,
   "id": "45859c26",
   "metadata": {},
   "outputs": [
    {
     "data": {
      "text/plain": [
       "''"
      ]
     },
     "execution_count": 127,
     "metadata": {},
     "output_type": "execute_result"
    }
   ],
   "source": [
    "# ecig every day\n",
    "df['ecig_every_day'] = df['ECIGNOW1']\n",
    "df['ecig_every_day'] = df['ecig_every_day'].replace([2,3,4,7,9],0)\n",
    "df['ecig_every_day'] = df['ecig_every_day'].fillna(0)\n",
    "df['ecig_every_day'].describe() if df_describe else ''"
   ]
  },
  {
   "cell_type": "code",
   "execution_count": 128,
   "id": "78f813f6",
   "metadata": {},
   "outputs": [
    {
     "data": {
      "text/plain": [
       "''"
      ]
     },
     "execution_count": 128,
     "metadata": {},
     "output_type": "execute_result"
    }
   ],
   "source": [
    "# ecig some days\n",
    "df['ecig_some_days'] = df['ECIGNOW1']\n",
    "df['ecig_some_days'] = df['ecig_some_days'].replace([1,3,4,7,9],0)\n",
    "df['ecig_some_days'] = df['ecig_some_days'].replace(2,1)\n",
    "df['ecig_some_days'] = df['ecig_some_days'].fillna(0)\n",
    "df['ecig_some_days'].describe() if df_describe else ''"
   ]
  },
  {
   "cell_type": "code",
   "execution_count": 129,
   "id": "d79e9d45",
   "metadata": {},
   "outputs": [
    {
     "data": {
      "text/plain": [
       "''"
      ]
     },
     "execution_count": 129,
     "metadata": {},
     "output_type": "execute_result"
    }
   ],
   "source": [
    "# ecig not at all\n",
    "df['ecig_not_at_all'] = df['ECIGNOW1']\n",
    "df['ecig_not_at_all'] = df['ecig_not_at_all'].replace([1,2,4,7,9],0)\n",
    "df['ecig_not_at_all'] = df['ecig_not_at_all'].replace(3,1)\n",
    "df['ecig_not_at_all'] = df['ecig_not_at_all'].fillna(0)\n",
    "df['ecig_not_at_all'].describe() if df_describe else ''"
   ]
  },
  {
   "cell_type": "code",
   "execution_count": 130,
   "id": "420bc995",
   "metadata": {},
   "outputs": [
    {
     "data": {
      "text/plain": [
       "''"
      ]
     },
     "execution_count": 130,
     "metadata": {},
     "output_type": "execute_result"
    }
   ],
   "source": [
    "# ecig never used\n",
    "df['ecig_never_used'] = df['ECIGNOW1']\n",
    "df['ecig_never_used'] = df['ecig_never_used'].replace([1,2,3,7,9],0)\n",
    "df['ecig_never_used'] = df['ecig_never_used'].replace(4,1)\n",
    "df['ecig_never_used'] = df['ecig_never_used'].fillna(0)\n",
    "df['ecig_never_used'].describe() if df_describe else ''"
   ]
  },
  {
   "cell_type": "code",
   "execution_count": 131,
   "id": "44385cd6",
   "metadata": {},
   "outputs": [],
   "source": [
    "df = df.drop(['ECIGNOW1'], axis=1)"
   ]
  },
  {
   "cell_type": "code",
   "execution_count": 132,
   "id": "54675f5d",
   "metadata": {},
   "outputs": [
    {
     "data": {
      "text/plain": [
       "''"
      ]
     },
     "execution_count": 132,
     "metadata": {},
     "output_type": "execute_result"
    }
   ],
   "source": [
    "df['unk_ALCDAY5'] = df['ALCDAY5']\n",
    "df['unk_ALCDAY5'] = df['unk_ALCDAY5'].replace(range(101,231),0)\n",
    "df['unk_ALCDAY5'] = df['unk_ALCDAY5'].replace(888,0)\n",
    "df['unk_ALCDAY5'] = df['unk_ALCDAY5'].replace([777,999],1)\n",
    "df['unk_ALCDAY5'] = df['unk_ALCDAY5'].fillna(1)\n",
    "df['unk_ALCDAY5'].describe() if df_describe else ''"
   ]
  },
  {
   "cell_type": "code",
   "execution_count": 133,
   "id": "9c8c65da",
   "metadata": {},
   "outputs": [
    {
     "data": {
      "text/plain": [
       "count    412366.000000\n",
       "mean          4.737163\n",
       "std           8.036508\n",
       "min           0.000000\n",
       "25%           0.000000\n",
       "50%           1.000000\n",
       "75%           5.000000\n",
       "max          30.000000\n",
       "Name: ALCDAY5, dtype: float64"
      ]
     },
     "execution_count": 133,
     "metadata": {},
     "output_type": "execute_result"
    }
   ],
   "source": [
    "# Days in past 30 had alcoholic beverage\n",
    "df.loc[df['ALCDAY5'] < 110, 'ALCDAY5'] = (df.loc[df['ALCDAY5'] < 110, 'ALCDAY5']-100)*4\n",
    "df.loc[(df['ALCDAY5'] < 231)&(df['ALCDAY5'] > 199), 'ALCDAY5'] -= 200\n",
    "df['ALCDAY5'] = df['ALCDAY5'].replace([777,888,999],0)\n",
    "df['unk_ALCDAY5'] = df['unk_ALCDAY5'].fillna(0)\n",
    "df['ALCDAY5'].describe()"
   ]
  },
  {
   "cell_type": "code",
   "execution_count": 134,
   "id": "c86364af",
   "metadata": {},
   "outputs": [
    {
     "data": {
      "text/plain": [
       "count    209842.000000\n",
       "mean          4.190972\n",
       "std          12.725171\n",
       "min           1.000000\n",
       "25%           1.000000\n",
       "50%           2.000000\n",
       "75%           3.000000\n",
       "max          99.000000\n",
       "Name: AVEDRNK3, dtype: float64"
      ]
     },
     "execution_count": 134,
     "metadata": {},
     "output_type": "execute_result"
    }
   ],
   "source": [
    "df['AVEDRNK3'].describe()"
   ]
  },
  {
   "cell_type": "code",
   "execution_count": 135,
   "id": "4ee2dab7",
   "metadata": {},
   "outputs": [
    {
     "data": {
      "text/plain": [
       "count    436654.000000\n",
       "mean          0.008123\n",
       "std           0.089762\n",
       "min           0.000000\n",
       "25%           0.000000\n",
       "50%           0.000000\n",
       "75%           0.000000\n",
       "max           1.000000\n",
       "Name: unk_AVEDRNK3, dtype: float64"
      ]
     },
     "execution_count": 135,
     "metadata": {},
     "output_type": "execute_result"
    }
   ],
   "source": [
    "df['unk_AVEDRNK3'] = df['AVEDRNK3']\n",
    "df['unk_AVEDRNK3'].replace(range(1,77),0, inplace=True)\n",
    "df['unk_AVEDRNK3'].replace(88,0, inplace = True)\n",
    "df['unk_AVEDRNK3'].replace([77,99],1, inplace = True)\n",
    "df['unk_AVEDRNK3'].fillna(0, inplace = True)\n",
    "df['unk_AVEDRNK3'].describe()"
   ]
  },
  {
   "cell_type": "code",
   "execution_count": 136,
   "id": "84f74929",
   "metadata": {},
   "outputs": [
    {
     "data": {
      "text/plain": [
       "count    436654.000000\n",
       "mean          1.054173\n",
       "std           2.010715\n",
       "min           0.000000\n",
       "25%           0.000000\n",
       "50%           0.000000\n",
       "75%           2.000000\n",
       "max          76.000000\n",
       "Name: AVEDRNK3, dtype: float64"
      ]
     },
     "execution_count": 136,
     "metadata": {},
     "output_type": "execute_result"
    }
   ],
   "source": [
    "# binge drinking\n",
    "df['AVEDRNK3'].replace([88,77,99], 0, inplace=True)\n",
    "df['AVEDRNK3'].fillna(0, inplace=True)\n",
    "df['AVEDRNK3'].describe()"
   ]
  },
  {
   "cell_type": "code",
   "execution_count": 137,
   "id": "1e7d0478",
   "metadata": {},
   "outputs": [
    {
     "data": {
      "text/plain": [
       "count    436654.00000\n",
       "mean          0.01692\n",
       "std           0.12897\n",
       "min           0.00000\n",
       "25%           0.00000\n",
       "50%           0.00000\n",
       "75%           0.00000\n",
       "max           1.00000\n",
       "Name: unk_MAXDRNKS, dtype: float64"
      ]
     },
     "execution_count": 137,
     "metadata": {},
     "output_type": "execute_result"
    }
   ],
   "source": [
    "df['unk_MAXDRNKS'] = df['MAXDRNKS']\n",
    "df['unk_MAXDRNKS'].replace(range(1,77),0, inplace=True)\n",
    "df['unk_MAXDRNKS'].replace([77,99],1, inplace = True)\n",
    "df['unk_MAXDRNKS'].fillna(0, inplace = True)\n",
    "df['unk_MAXDRNKS'].describe()"
   ]
  },
  {
   "cell_type": "code",
   "execution_count": 138,
   "id": "a20fa724",
   "metadata": {},
   "outputs": [
    {
     "data": {
      "text/plain": [
       "count    436654.000000\n",
       "mean          1.515580\n",
       "std           2.820448\n",
       "min           0.000000\n",
       "25%           0.000000\n",
       "50%           0.000000\n",
       "75%           2.000000\n",
       "max          76.000000\n",
       "Name: MAXDRNKS, dtype: float64"
      ]
     },
     "execution_count": 138,
     "metadata": {},
     "output_type": "execute_result"
    }
   ],
   "source": [
    "# max drinks on a single occassion\n",
    "df['MAXDRNKS'].replace([77,99], 0, inplace=True)\n",
    "df['MAXDRNKS'].fillna(0, inplace=True)\n",
    "df['MAXDRNKS'].describe()"
   ]
  },
  {
   "cell_type": "code",
   "execution_count": 139,
   "id": "5dd7818e",
   "metadata": {},
   "outputs": [
    {
     "data": {
      "text/plain": [
       "count    436654.000000\n",
       "mean          0.071068\n",
       "std           0.256938\n",
       "min           0.000000\n",
       "25%           0.000000\n",
       "50%           0.000000\n",
       "75%           0.000000\n",
       "max           1.000000\n",
       "Name: unk_FLUSHOT7, dtype: float64"
      ]
     },
     "execution_count": 139,
     "metadata": {},
     "output_type": "execute_result"
    }
   ],
   "source": [
    "df['unk_FLUSHOT7'] = df['FLUSHOT7']\n",
    "df['unk_FLUSHOT7'].replace([1,2],0, inplace=True)\n",
    "df['unk_FLUSHOT7'].replace([7,9],1, inplace = True)\n",
    "df['unk_FLUSHOT7'].fillna(1, inplace = True)\n",
    "df['unk_FLUSHOT7'].describe()"
   ]
  },
  {
   "cell_type": "code",
   "execution_count": 140,
   "id": "467318c2",
   "metadata": {},
   "outputs": [
    {
     "data": {
      "text/plain": [
       "count    436654.000000\n",
       "mean          0.484104\n",
       "std           0.499748\n",
       "min           0.000000\n",
       "25%           0.000000\n",
       "50%           0.000000\n",
       "75%           1.000000\n",
       "max           1.000000\n",
       "Name: FLUSHOT7, dtype: float64"
      ]
     },
     "execution_count": 140,
     "metadata": {},
     "output_type": "execute_result"
    }
   ],
   "source": [
    "# adult flu shot/spray past 12 months\n",
    "df['FLUSHOT7'].replace([2,7,9], 0, inplace=True)\n",
    "df['FLUSHOT7'].fillna(0, inplace=True)\n",
    "df['FLUSHOT7'].describe()"
   ]
  },
  {
   "cell_type": "code",
   "execution_count": 141,
   "id": "002e1bfd",
   "metadata": {},
   "outputs": [
    {
     "data": {
      "text/plain": [
       "count    436654.0\n",
       "mean          0.0\n",
       "std           0.0\n",
       "min           0.0\n",
       "25%           0.0\n",
       "50%           0.0\n",
       "75%           0.0\n",
       "max           0.0\n",
       "Name: unk_FLSHTMY3, dtype: float64"
      ]
     },
     "execution_count": 141,
     "metadata": {},
     "output_type": "execute_result"
    }
   ],
   "source": [
    "df['unk_FLSHTMY3'] = df['FLSHTMY3']\n",
    "# this line crashes the PC\n",
    "#df['unk_FLSHTMY3'].replace(range(12020,122022),0, inplace=True)\n",
    "df.loc[df.unk_FLSHTMY3 >= 2020, 'unk_FLSHTMY3'] = 0\n",
    "df['unk_FLSHTMY3'].replace([777777,999999],1, inplace = True)\n",
    "df['unk_FLSHTMY3'].fillna(0, inplace = True)\n",
    "df['unk_FLSHTMY3'].describe()"
   ]
  },
  {
   "cell_type": "code",
   "execution_count": 142,
   "id": "c5245211",
   "metadata": {},
   "outputs": [
    {
     "data": {
      "text/plain": [
       "102020.0    58562\n",
       "92020.0     24979\n",
       "102021.0    24048\n",
       "112020.0    23883\n",
       "777777.0    16455\n",
       "92021.0     11964\n",
       "112021.0    10050\n",
       "122020.0     7553\n",
       "12021.0      6349\n",
       "22021.0      5324\n",
       "32021.0      4746\n",
       "82020.0      3328\n",
       "42021.0      2835\n",
       "122021.0     2652\n",
       "82021.0      2000\n",
       "52021.0      1584\n",
       "62021.0      1032\n",
       "72021.0       735\n",
       "999999.0      585\n",
       "72020.0       417\n",
       "62020.0       398\n",
       "32020.0       356\n",
       "42020.0       239\n",
       "52020.0       236\n",
       "22020.0       216\n",
       "12022.0       203\n",
       "12020.0        87\n",
       "772020.0       24\n",
       "772021.0        8\n",
       "2020.0          5\n",
       "22022.0         4\n",
       "112019.0        1\n",
       "122019.0        1\n",
       "Name: FLSHTMY3, dtype: int64"
      ]
     },
     "execution_count": 142,
     "metadata": {},
     "output_type": "execute_result"
    }
   ],
   "source": [
    "df['FLSHTMY3'].value_counts()"
   ]
  },
  {
   "cell_type": "code",
   "execution_count": 143,
   "id": "2d4160db",
   "metadata": {},
   "outputs": [
    {
     "data": {
      "text/plain": [
       "0.0      242835\n",
       "22.0      58562\n",
       "21.0      24979\n",
       "34.0      24048\n",
       "23.0      23883\n",
       "33.0      11964\n",
       "35.0      10050\n",
       "24.0       7553\n",
       "25.0       6349\n",
       "26.0       5324\n",
       "27.0       4746\n",
       "20.0       3328\n",
       "28.0       2835\n",
       "36.0       2652\n",
       "32.0       2000\n",
       "29.0       1584\n",
       "30.0       1032\n",
       "31.0        735\n",
       "19.0        417\n",
       "18.0        398\n",
       "15.0        356\n",
       "16.0        239\n",
       "17.0        236\n",
       "14.0        216\n",
       "37.0        203\n",
       "13.0         87\n",
       "89.0         24\n",
       "101.0         8\n",
       "12.0          6\n",
       "38.0          4\n",
       "11.0          1\n",
       "Name: FLSHTMY3, dtype: int64"
      ]
     },
     "execution_count": 143,
     "metadata": {},
     "output_type": "execute_result"
    }
   ],
   "source": [
    "# during what month did you recieve your most recent flu vaccine\n",
    "df['FLSHTMY3'].replace([777777,999999], 0, inplace=True)\n",
    "df['FLSHTMY3'].fillna(0, inplace=True)\n",
    "\n",
    "df['FLSHTMY3'].value_counts()\n",
    "for ind in df.index:\n",
    "    v = (df['FLSHTMY3'][ind] % 10000)\n",
    "    if v >= 2019:\n",
    "        v=v-2019\n",
    "    v = v*12\n",
    "    v = v + math.floor(df['FLSHTMY3'][ind]/10000)\n",
    "    df['FLSHTMY3'][ind] = v\n",
    "\n",
    "df['FLSHTMY3'].value_counts()"
   ]
  },
  {
   "cell_type": "code",
   "execution_count": 144,
   "id": "e7add841",
   "metadata": {},
   "outputs": [
    {
     "data": {
      "text/plain": [
       "count    436654.000000\n",
       "mean         11.407636\n",
       "std          13.261740\n",
       "min           0.000000\n",
       "25%           0.000000\n",
       "50%           0.000000\n",
       "75%          22.000000\n",
       "max         101.000000\n",
       "Name: FLSHTMY3, dtype: float64"
      ]
     },
     "execution_count": 144,
     "metadata": {},
     "output_type": "execute_result"
    }
   ],
   "source": [
    "df['FLSHTMY3'].describe()"
   ]
  },
  {
   "cell_type": "code",
   "execution_count": 145,
   "id": "cdabe03f",
   "metadata": {},
   "outputs": [],
   "source": [
    "# drop s13q3, not relevant for diagnosis\n",
    "df = df.drop(['IMFVPLA2'], axis=1)"
   ]
  },
  {
   "cell_type": "code",
   "execution_count": 146,
   "id": "1bb84b4f",
   "metadata": {},
   "outputs": [
    {
     "data": {
      "text/plain": [
       "count    436654.000000\n",
       "mean          0.142667\n",
       "std           0.349733\n",
       "min           0.000000\n",
       "25%           0.000000\n",
       "50%           0.000000\n",
       "75%           0.000000\n",
       "max           1.000000\n",
       "Name: unk_PNEUVAC4, dtype: float64"
      ]
     },
     "execution_count": 146,
     "metadata": {},
     "output_type": "execute_result"
    }
   ],
   "source": [
    "df['unk_PNEUVAC4'] = df['PNEUVAC4']\n",
    "df['unk_PNEUVAC4'].replace([1,2],0, inplace=True)\n",
    "df['unk_PNEUVAC4'].replace([7,9],1, inplace = True)\n",
    "df['unk_PNEUVAC4'].fillna(1, inplace = True)\n",
    "df['unk_PNEUVAC4'].describe()"
   ]
  },
  {
   "cell_type": "code",
   "execution_count": 147,
   "id": "a192e515",
   "metadata": {},
   "outputs": [
    {
     "data": {
      "text/plain": [
       "count    436654.000000\n",
       "mean          0.345468\n",
       "std           0.475521\n",
       "min           0.000000\n",
       "25%           0.000000\n",
       "50%           0.000000\n",
       "75%           1.000000\n",
       "max           1.000000\n",
       "Name: PNEUVAC4, dtype: float64"
      ]
     },
     "execution_count": 147,
     "metadata": {},
     "output_type": "execute_result"
    }
   ],
   "source": [
    "# adult flu shot/spray past 12 months\n",
    "df['PNEUVAC4'].replace([2,7,9], 0, inplace=True)\n",
    "df['PNEUVAC4'].fillna(0, inplace=True)\n",
    "df['PNEUVAC4'].describe()"
   ]
  },
  {
   "cell_type": "code",
   "execution_count": 148,
   "id": "4b297508",
   "metadata": {},
   "outputs": [
    {
     "data": {
      "text/plain": [
       "count    436654.000000\n",
       "mean          0.117626\n",
       "std           0.322165\n",
       "min           0.000000\n",
       "25%           0.000000\n",
       "50%           0.000000\n",
       "75%           0.000000\n",
       "max           1.000000\n",
       "Name: unk_HIVTST7, dtype: float64"
      ]
     },
     "execution_count": 148,
     "metadata": {},
     "output_type": "execute_result"
    }
   ],
   "source": [
    "df['unk_HIVTST7'] = df['HIVTST7']\n",
    "df['unk_HIVTST7'].replace([1,2],0, inplace=True)\n",
    "df['unk_HIVTST7'].replace([7,9],1, inplace = True)\n",
    "df['unk_HIVTST7'].fillna(1, inplace = True)\n",
    "df['unk_HIVTST7'].describe()"
   ]
  },
  {
   "cell_type": "code",
   "execution_count": 149,
   "id": "bb27e58a",
   "metadata": {},
   "outputs": [
    {
     "data": {
      "text/plain": [
       "count    436654.000000\n",
       "mean          0.294336\n",
       "std           0.455744\n",
       "min           0.000000\n",
       "25%           0.000000\n",
       "50%           0.000000\n",
       "75%           1.000000\n",
       "max           1.000000\n",
       "Name: HIVTST7, dtype: float64"
      ]
     },
     "execution_count": 149,
     "metadata": {},
     "output_type": "execute_result"
    }
   ],
   "source": [
    "# Ever tested for HIV\n",
    "df['HIVTST7'].replace([2,7,9], 0, inplace=True)\n",
    "df['HIVTST7'].fillna(0, inplace=True)\n",
    "df['HIVTST7'].describe()"
   ]
  },
  {
   "cell_type": "code",
   "execution_count": 150,
   "id": "8106c4a6",
   "metadata": {},
   "outputs": [],
   "source": [
    "# drop HIVTSTD3 s14q2, makes the model vulnerable to differences in time taking test\n",
    "df = df.drop(['HIVTSTD3'], axis=1)"
   ]
  },
  {
   "cell_type": "code",
   "execution_count": 151,
   "id": "dde9897c",
   "metadata": {},
   "outputs": [
    {
     "data": {
      "text/plain": [
       "count    3.932420e+05\n",
       "mean     1.341240e+02\n",
       "std      5.003509e+02\n",
       "min      5.397605e-79\n",
       "25%      4.300000e+01\n",
       "50%      1.000000e+02\n",
       "75%      1.000000e+02\n",
       "max      9.900000e+03\n",
       "Name: FRUTDA2_, dtype: float64"
      ]
     },
     "execution_count": 151,
     "metadata": {},
     "output_type": "execute_result"
    }
   ],
   "source": [
    "df['FRUTDA2_'].describe()"
   ]
  },
  {
   "cell_type": "code",
   "execution_count": 152,
   "id": "fd075702",
   "metadata": {},
   "outputs": [
    {
     "data": {
      "text/plain": [
       "(array([155605., 144543.,   1862.,  59603.,  21193.,    345.,   3989.,\n",
       "          2217.]),\n",
       " array([  0. ,  62.5, 125. , 187.5, 250. , 312.5, 375. , 437.5, 500. ]),\n",
       " <BarContainer object of 8 artists>)"
      ]
     },
     "execution_count": 152,
     "metadata": {},
     "output_type": "execute_result"
    },
    {
     "data": {
      "image/png": "[encoded data removed]",
      "text/plain": [
       "<Figure size 432x288 with 1 Axes>"
      ]
     },
     "metadata": {
      "needs_background": "light"
     },
     "output_type": "display_data"
    }
   ],
   "source": [
    "plt.hist(df['FRUTDA2_'], range=[0,500], bins=8)"
   ]
  },
  {
   "cell_type": "code",
   "execution_count": 153,
   "id": "0aaf1476",
   "metadata": {},
   "outputs": [
    {
     "data": {
      "text/plain": [
       "(array([26556., 23145.,  9512., 27752.,  5502., 37056.,  5063., 21027.,\n",
       "        21069.,   155.]),\n",
       " array([ 0.,  8., 16., 24., 32., 40., 48., 56., 64., 72., 80.]),\n",
       " <BarContainer object of 10 artists>)"
      ]
     },
     "execution_count": 153,
     "metadata": {},
     "output_type": "execute_result"
    },
    {
     "data": {
      "image/png": "[encoded data removed]",
      "text/plain": [
       "<Figure size 432x288 with 1 Axes>"
      ]
     },
     "metadata": {
      "needs_background": "light"
     },
     "output_type": "display_data"
    }
   ],
   "source": [
    "plt.hist(df['FRUTDA2_'], range=[0,80], bins=10)"
   ]
  },
  {
   "cell_type": "code",
   "execution_count": 154,
   "id": "a8f32eff",
   "metadata": {},
   "outputs": [
    {
     "data": {
      "text/plain": [
       "count    436654.000000\n",
       "mean          0.099420\n",
       "std           0.299225\n",
       "min           0.000000\n",
       "25%           0.000000\n",
       "50%           0.000000\n",
       "75%           0.000000\n",
       "max           1.000000\n",
       "Name: unk_FRUIT2, dtype: float64"
      ]
     },
     "execution_count": 154,
     "metadata": {},
     "output_type": "execute_result"
    }
   ],
   "source": [
    "df['unk_FRUIT2'] = df['FRUIT2']\n",
    "df['unk_FRUIT2'] = df['unk_FRUIT2'].replace(range(101,400),0)\n",
    "df['unk_FRUIT2'] = df['unk_FRUIT2'].replace(555,0)\n",
    "df['unk_FRUIT2'] = df['unk_FRUIT2'].replace([777,999],1)\n",
    "df['unk_FRUIT2'] = df['unk_FRUIT2'].fillna(1)\n",
    "df['unk_FRUIT2'].describe()"
   ]
  },
  {
   "cell_type": "code",
   "execution_count": 155,
   "id": "f85b4de5",
   "metadata": {},
   "outputs": [
    {
     "data": {
      "text/plain": [
       "count    412366.000000\n",
       "mean       -381.051348\n",
       "std          32.146032\n",
       "min        -400.000000\n",
       "25%        -400.000000\n",
       "50%        -396.000000\n",
       "75%        -380.000000\n",
       "max        -280.000000\n",
       "Name: ALCDAY5, dtype: float64"
      ]
     },
     "execution_count": 155,
     "metadata": {},
     "output_type": "execute_result"
    }
   ],
   "source": [
    "# Days in past 30 had alcoholic beverage\n",
    "df.loc[df['ALCDAY5'] < 110, 'ALCDAY5'] = (df.loc[df['ALCDAY5'] < 110, 'ALCDAY5']-100)*4\n",
    "df.loc[(df['ALCDAY5'] < 231)&(df['ALCDAY5'] > 199), 'ALCDAY5'] -= 200\n",
    "df['ALCDAY5'] = df['ALCDAY5'].replace([777,888,999],0)\n",
    "df['unk_ALCDAY5'] = df['unk_ALCDAY5'].fillna(0)\n",
    "df['ALCDAY5'].describe()"
   ]
  },
  {
   "cell_type": "code",
   "execution_count": 156,
   "id": "b0923370",
   "metadata": {},
   "outputs": [
    {
     "data": {
      "text/plain": [
       "count    412366.000000\n",
       "mean      -1924.205390\n",
       "std         128.584128\n",
       "min       -2000.000000\n",
       "25%       -2000.000000\n",
       "50%       -1984.000000\n",
       "75%       -1920.000000\n",
       "max       -1520.000000\n",
       "Name: ALCDAY5, dtype: float64"
      ]
     },
     "execution_count": 156,
     "metadata": {},
     "output_type": "execute_result"
    }
   ],
   "source": [
    "# Not including juices, how often did you eat fruit?\n",
    "df.loc[df['ALCDAY5'] < 110, 'ALCDAY5'] = (df.loc[df['ALCDAY5'] < 110, 'ALCDAY5']-100)*4\n",
    "df.loc[(df['ALCDAY5'] < 231)&(df['ALCDAY5'] > 199), 'ALCDAY5'] -= 200\n",
    "df['ALCDAY5'] = df['ALCDAY5'].replace([777,888,999],0)\n",
    "df['unk_ALCDAY5'] = df['unk_ALCDAY5'].fillna(0)\n",
    "df['ALCDAY5'].describe()"
   ]
  },
  {
   "cell_type": "code",
   "execution_count": 157,
   "id": "4fde319e",
   "metadata": {},
   "outputs": [
    {
     "data": {
      "text/html": [
       "<div>\n",
       "<style scoped>\n",
       "    .dataframe tbody tr th:only-of-type {\n",
       "        vertical-align: middle;\n",
       "    }\n",
       "\n",
       "    .dataframe tbody tr th {\n",
       "        vertical-align: top;\n",
       "    }\n",
       "\n",
       "    .dataframe thead th {\n",
       "        text-align: right;\n",
       "    }\n",
       "</style>\n",
       "<table border=\"1\" class=\"dataframe\">\n",
       "  <thead>\n",
       "    <tr style=\"text-align: right;\">\n",
       "      <th></th>\n",
       "      <th>FRUIT2</th>\n",
       "      <th>FRUTDA2_</th>\n",
       "      <th>_FRUTSU1</th>\n",
       "    </tr>\n",
       "  </thead>\n",
       "  <tbody>\n",
       "    <tr>\n",
       "      <th>0</th>\n",
       "      <td>101.0</td>\n",
       "      <td>100.0</td>\n",
       "      <td>100.0</td>\n",
       "    </tr>\n",
       "    <tr>\n",
       "      <th>1</th>\n",
       "      <td>101.0</td>\n",
       "      <td>100.0</td>\n",
       "      <td>100.0</td>\n",
       "    </tr>\n",
       "    <tr>\n",
       "      <th>2</th>\n",
       "      <td>101.0</td>\n",
       "      <td>100.0</td>\n",
       "      <td>100.0</td>\n",
       "    </tr>\n",
       "    <tr>\n",
       "      <th>3</th>\n",
       "      <td>203.0</td>\n",
       "      <td>43.0</td>\n",
       "      <td>114.0</td>\n",
       "    </tr>\n",
       "    <tr>\n",
       "      <th>4</th>\n",
       "      <td>101.0</td>\n",
       "      <td>100.0</td>\n",
       "      <td>100.0</td>\n",
       "    </tr>\n",
       "    <tr>\n",
       "      <th>5</th>\n",
       "      <td>202.0</td>\n",
       "      <td>29.0</td>\n",
       "      <td>29.0</td>\n",
       "    </tr>\n",
       "    <tr>\n",
       "      <th>6</th>\n",
       "      <td>312.0</td>\n",
       "      <td>40.0</td>\n",
       "      <td>43.0</td>\n",
       "    </tr>\n",
       "    <tr>\n",
       "      <th>7</th>\n",
       "      <td>204.0</td>\n",
       "      <td>57.0</td>\n",
       "      <td>57.0</td>\n",
       "    </tr>\n",
       "    <tr>\n",
       "      <th>8</th>\n",
       "      <td>202.0</td>\n",
       "      <td>29.0</td>\n",
       "      <td>129.0</td>\n",
       "    </tr>\n",
       "    <tr>\n",
       "      <th>9</th>\n",
       "      <td>101.0</td>\n",
       "      <td>100.0</td>\n",
       "      <td>100.0</td>\n",
       "    </tr>\n",
       "  </tbody>\n",
       "</table>\n",
       "</div>"
      ],
      "text/plain": [
       "   FRUIT2  FRUTDA2_  _FRUTSU1\n",
       "0   101.0     100.0     100.0\n",
       "1   101.0     100.0     100.0\n",
       "2   101.0     100.0     100.0\n",
       "3   203.0      43.0     114.0\n",
       "4   101.0     100.0     100.0\n",
       "5   202.0      29.0      29.0\n",
       "6   312.0      40.0      43.0\n",
       "7   204.0      57.0      57.0\n",
       "8   202.0      29.0     129.0\n",
       "9   101.0     100.0     100.0"
      ]
     },
     "execution_count": 157,
     "metadata": {},
     "output_type": "execute_result"
    }
   ],
   "source": [
    "df[['FRUIT2','FRUTDA2_','_FRUTSU1']].head(10)"
   ]
  },
  {
   "cell_type": "code",
   "execution_count": 158,
   "id": "d86e6c89",
   "metadata": {},
   "outputs": [
    {
     "data": {
      "text/html": [
       "<div>\n",
       "<style scoped>\n",
       "    .dataframe tbody tr th:only-of-type {\n",
       "        vertical-align: middle;\n",
       "    }\n",
       "\n",
       "    .dataframe tbody tr th {\n",
       "        vertical-align: top;\n",
       "    }\n",
       "\n",
       "    .dataframe thead th {\n",
       "        text-align: right;\n",
       "    }\n",
       "</style>\n",
       "<table border=\"1\" class=\"dataframe\">\n",
       "  <thead>\n",
       "    <tr style=\"text-align: right;\">\n",
       "      <th></th>\n",
       "      <th>FRUIT2</th>\n",
       "      <th>FRUTDA2_</th>\n",
       "    </tr>\n",
       "  </thead>\n",
       "  <tbody>\n",
       "    <tr>\n",
       "      <th>3</th>\n",
       "      <td>203.0</td>\n",
       "      <td>43.0</td>\n",
       "    </tr>\n",
       "    <tr>\n",
       "      <th>5</th>\n",
       "      <td>202.0</td>\n",
       "      <td>29.0</td>\n",
       "    </tr>\n",
       "    <tr>\n",
       "      <th>7</th>\n",
       "      <td>204.0</td>\n",
       "      <td>57.0</td>\n",
       "    </tr>\n",
       "    <tr>\n",
       "      <th>8</th>\n",
       "      <td>202.0</td>\n",
       "      <td>29.0</td>\n",
       "    </tr>\n",
       "    <tr>\n",
       "      <th>10</th>\n",
       "      <td>203.0</td>\n",
       "      <td>43.0</td>\n",
       "    </tr>\n",
       "    <tr>\n",
       "      <th>11</th>\n",
       "      <td>205.0</td>\n",
       "      <td>71.0</td>\n",
       "    </tr>\n",
       "    <tr>\n",
       "      <th>13</th>\n",
       "      <td>203.0</td>\n",
       "      <td>43.0</td>\n",
       "    </tr>\n",
       "    <tr>\n",
       "      <th>19</th>\n",
       "      <td>202.0</td>\n",
       "      <td>29.0</td>\n",
       "    </tr>\n",
       "    <tr>\n",
       "      <th>20</th>\n",
       "      <td>204.0</td>\n",
       "      <td>57.0</td>\n",
       "    </tr>\n",
       "    <tr>\n",
       "      <th>25</th>\n",
       "      <td>202.0</td>\n",
       "      <td>29.0</td>\n",
       "    </tr>\n",
       "  </tbody>\n",
       "</table>\n",
       "</div>"
      ],
      "text/plain": [
       "    FRUIT2  FRUTDA2_\n",
       "3    203.0      43.0\n",
       "5    202.0      29.0\n",
       "7    204.0      57.0\n",
       "8    202.0      29.0\n",
       "10   203.0      43.0\n",
       "11   205.0      71.0\n",
       "13   203.0      43.0\n",
       "19   202.0      29.0\n",
       "20   204.0      57.0\n",
       "25   202.0      29.0"
      ]
     },
     "execution_count": 158,
     "metadata": {},
     "output_type": "execute_result"
    }
   ],
   "source": [
    "df.loc[(df['FRUIT2'] < 300)&(df['FRUIT2'] > 199)][['FRUIT2','FRUTDA2_']].head(10)"
   ]
  },
  {
   "cell_type": "markdown",
   "id": "39aa0ace",
   "metadata": {},
   "source": [
    "|1|2|3|4|5|6|7|\n",
    "|-|-|-|-|-|-|-|\n",
    "|0.14|0.29|0.43|0.57|0.71|0.86|1|\n",
    "Its (number of times a week)/7 to calculate fruit intake per day"
   ]
  },
  {
   "cell_type": "code",
   "execution_count": 159,
   "id": "13789bab",
   "metadata": {},
   "outputs": [
    {
     "data": {
      "text/html": [
       "<div>\n",
       "<style scoped>\n",
       "    .dataframe tbody tr th:only-of-type {\n",
       "        vertical-align: middle;\n",
       "    }\n",
       "\n",
       "    .dataframe tbody tr th {\n",
       "        vertical-align: top;\n",
       "    }\n",
       "\n",
       "    .dataframe thead th {\n",
       "        text-align: right;\n",
       "    }\n",
       "</style>\n",
       "<table border=\"1\" class=\"dataframe\">\n",
       "  <thead>\n",
       "    <tr style=\"text-align: right;\">\n",
       "      <th></th>\n",
       "      <th>FRUIT2</th>\n",
       "      <th>FRUTDA2_</th>\n",
       "    </tr>\n",
       "  </thead>\n",
       "  <tbody>\n",
       "    <tr>\n",
       "      <th>50</th>\n",
       "      <td>300.0</td>\n",
       "      <td>2.0</td>\n",
       "    </tr>\n",
       "    <tr>\n",
       "      <th>81</th>\n",
       "      <td>300.0</td>\n",
       "      <td>2.0</td>\n",
       "    </tr>\n",
       "    <tr>\n",
       "      <th>381</th>\n",
       "      <td>300.0</td>\n",
       "      <td>2.0</td>\n",
       "    </tr>\n",
       "    <tr>\n",
       "      <th>423</th>\n",
       "      <td>300.0</td>\n",
       "      <td>2.0</td>\n",
       "    </tr>\n",
       "    <tr>\n",
       "      <th>432</th>\n",
       "      <td>300.0</td>\n",
       "      <td>2.0</td>\n",
       "    </tr>\n",
       "    <tr>\n",
       "      <th>444</th>\n",
       "      <td>300.0</td>\n",
       "      <td>2.0</td>\n",
       "    </tr>\n",
       "    <tr>\n",
       "      <th>670</th>\n",
       "      <td>300.0</td>\n",
       "      <td>2.0</td>\n",
       "    </tr>\n",
       "    <tr>\n",
       "      <th>713</th>\n",
       "      <td>300.0</td>\n",
       "      <td>2.0</td>\n",
       "    </tr>\n",
       "    <tr>\n",
       "      <th>728</th>\n",
       "      <td>300.0</td>\n",
       "      <td>2.0</td>\n",
       "    </tr>\n",
       "    <tr>\n",
       "      <th>790</th>\n",
       "      <td>300.0</td>\n",
       "      <td>2.0</td>\n",
       "    </tr>\n",
       "  </tbody>\n",
       "</table>\n",
       "</div>"
      ],
      "text/plain": [
       "     FRUIT2  FRUTDA2_\n",
       "50    300.0       2.0\n",
       "81    300.0       2.0\n",
       "381   300.0       2.0\n",
       "423   300.0       2.0\n",
       "432   300.0       2.0\n",
       "444   300.0       2.0\n",
       "670   300.0       2.0\n",
       "713   300.0       2.0\n",
       "728   300.0       2.0\n",
       "790   300.0       2.0"
      ]
     },
     "execution_count": 159,
     "metadata": {},
     "output_type": "execute_result"
    }
   ],
   "source": [
    "df.loc[df['FRUIT2'] == 300][['FRUIT2','FRUTDA2_']].head(10)"
   ]
  },
  {
   "cell_type": "code",
   "execution_count": 160,
   "id": "2f1ccd5c",
   "metadata": {},
   "outputs": [],
   "source": [
    "# drop FRUIT2 s15q1, in favor of FRUTDA2_ instead\n",
    "# drop FRUITJU2 s15q2, in favor of FTJUDA2_ instead\n",
    "# drop FVGREEN1 s15q3, in favor of GRENDA1_ instead\n",
    "# drop FRENCHF1 s15q4, in favor of FRNCHDA_ instead\n",
    "# drop POTATOE1 s15q5, in favor of POTADA1_ instead\n",
    "# drop VEGETAB2 s15q6, in favor of VEGEDA2_ instead\n",
    "df = df.drop(['FRUIT2', 'FRUITJU2', 'FVGREEN1', 'FRENCHF1', 'POTATOE1', 'VEGETAB2'], axis=1)"
   ]
  },
  {
   "cell_type": "code",
   "execution_count": 161,
   "id": "5be5c143",
   "metadata": {},
   "outputs": [
    {
     "data": {
      "text/plain": [
       "count    436654.000000\n",
       "mean          0.012589\n",
       "std           0.111492\n",
       "min           0.000000\n",
       "25%           0.000000\n",
       "50%           0.000000\n",
       "75%           0.000000\n",
       "max           1.000000\n",
       "Name: unk_PDIABTST, dtype: float64"
      ]
     },
     "execution_count": 161,
     "metadata": {},
     "output_type": "execute_result"
    }
   ],
   "source": [
    "df['unk_PDIABTST'] = df['PDIABTST']\n",
    "df['unk_PDIABTST'].replace([1,2],0, inplace=True)\n",
    "df['unk_PDIABTST'].replace([7,9],1, inplace = True)\n",
    "df['unk_PDIABTST'].fillna(0, inplace = True)\n",
    "df['unk_PDIABTST'].describe()"
   ]
  },
  {
   "cell_type": "code",
   "execution_count": 162,
   "id": "6664f6dd",
   "metadata": {},
   "outputs": [
    {
     "data": {
      "text/plain": [
       "count    436654.000000\n",
       "mean          0.142255\n",
       "std           0.349311\n",
       "min           0.000000\n",
       "25%           0.000000\n",
       "50%           0.000000\n",
       "75%           0.000000\n",
       "max           1.000000\n",
       "Name: PDIABTST, dtype: float64"
      ]
     },
     "execution_count": 162,
     "metadata": {},
     "output_type": "execute_result"
    }
   ],
   "source": [
    "# Had a test for high blood sugar or diabetes in the past three years?\n",
    "df['PDIABTST'].replace([2,7,9], 0, inplace=True)\n",
    "df['PDIABTST'].fillna(0, inplace=True)\n",
    "df['PDIABTST'].describe()"
   ]
  },
  {
   "cell_type": "code",
   "execution_count": 163,
   "id": "f2801265",
   "metadata": {},
   "outputs": [],
   "source": [
    "# drop PREDIAB1 m1q2, not relevant for diagnosis\n",
    "df = df.drop(['PREDIAB1'], axis=1)"
   ]
  },
  {
   "cell_type": "code",
   "execution_count": 164,
   "id": "5b2b6e78",
   "metadata": {},
   "outputs": [
    {
     "data": {
      "text/plain": [
       "count    436654.000000\n",
       "mean          0.000149\n",
       "std           0.012200\n",
       "min           0.000000\n",
       "25%           0.000000\n",
       "50%           0.000000\n",
       "75%           0.000000\n",
       "max           1.000000\n",
       "Name: unk_INSULIN1, dtype: float64"
      ]
     },
     "execution_count": 164,
     "metadata": {},
     "output_type": "execute_result"
    }
   ],
   "source": [
    "df['unk_INSULIN1'] = df['INSULIN1']\n",
    "df['unk_INSULIN1'].replace([1,2],0, inplace=True)\n",
    "df['unk_INSULIN1'].replace([7,9],1, inplace = True)\n",
    "df['unk_INSULIN1'].fillna(0, inplace = True)\n",
    "df['unk_INSULIN1'].describe()"
   ]
  },
  {
   "cell_type": "code",
   "execution_count": 165,
   "id": "5c1c016e",
   "metadata": {},
   "outputs": [
    {
     "data": {
      "text/plain": [
       "count    436654.000000\n",
       "mean          0.016709\n",
       "std           0.128179\n",
       "min           0.000000\n",
       "25%           0.000000\n",
       "50%           0.000000\n",
       "75%           0.000000\n",
       "max           1.000000\n",
       "Name: INSULIN1, dtype: float64"
      ]
     },
     "execution_count": 165,
     "metadata": {},
     "output_type": "execute_result"
    }
   ],
   "source": [
    "# Are you now taking insulin?\n",
    "df['INSULIN1'].replace([2,7,9], 0, inplace=True)\n",
    "df['INSULIN1'].fillna(0, inplace=True)\n",
    "df['INSULIN1'].describe()"
   ]
  },
  {
   "cell_type": "code",
   "execution_count": 166,
   "id": "74409c1a",
   "metadata": {},
   "outputs": [],
   "source": [
    "# save df as csv here for model training, remove later\n",
    "\n",
    "# df.to_csv(r'.\\data\\clean_data.csv')"
   ]
  },
  {
   "cell_type": "code",
   "execution_count": 167,
   "id": "28368064",
   "metadata": {},
   "outputs": [],
   "source": [
    "# drop BLDSUGAR m2q2, introduces bias\n",
    "# drop FEETCHK3 m2q3, introduces bias\n",
    "# drop DOCTDIAB m2q4, already confirmed diabetes\n",
    "# drop CHKHEMO3 m2q5, already confirmed diabetes\n",
    "# drop FEETCHK m2q6, already confirmed diabetes\n",
    "# drop EYEEXAM1 m2q7, already confirmed diabetes\n",
    "# drop DIABEYE m2q8, already confirmed diabetes\n",
    "# drop DIABEDU m2q9, already confirmed diabetes\n",
    "# drop TOLDCFS m3q1, no one has it\n",
    "# drop HAVECFS m3q2, no one has it\n",
    "# drop WORKCFS m3q2, no one has it\n",
    "# drop TOLDHEPC m4q1, barely anyone was asked\n",
    "# drop TRETHEPC m4q2, barely anyone was asked\n",
    "# drop PRIRHEPC m4q3, barely anyone was asked\n",
    "# drop HAVEHEPC m4q4, barely anyone was asked\n",
    "# drop HAVEHEPB m4q5, barely anyone was asked\n",
    "# drop MEDSHEPB m4q6, barely anyone was asked\n",
    "# drop HPVADVC4 m5q1, barely anyone was asked\n",
    "# drop HPVADSHT m5q2, barely anyone was asked\n",
    "# drop TETANUS1 m6q1, barely anyone was asked\n",
    "# drop SHINGLE2 m7q1, barely anyone was asked\n",
    "# drop LCSFIRST m9q1, barely anyone was asked\n",
    "# drop LCSLAST m9q2, barely anyone was asked\n",
    "# drop LCSNUMCG m9q3, barely anyone was asked\n",
    "# drop LCSCTSCN m9q4, barely anyone was asked\n",
    "# drop HADMAM m10q1, barely anyone was asked\n",
    "# drop HOWLONG m10q2, barely anyone was asked\n",
    "# drop CERVSCRN m10q3, barely anyone was asked\n",
    "# drop CRVCLCNC m10q4, barely anyone was asked\n",
    "# drop CRVCLPAP m10q5, barely anyone was asked\n",
    "# drop CRVCLHPV m10q6, barely anyone was asked\n",
    "# drop HADHYST2 m10q7, barely anyone was asked\n",
    "# drop PSATEST1 m11q1, barely anyone was asked\n",
    "# drop PSATIME1 m11q2, barely anyone was asked\n",
    "# drop PCPSARS2 m11q3, barely anyone was asked\n",
    "# drop PCSTALK m11q4, barely anyone was asked\n",
    "# drop HADSIGM4 m12q1, barely anyone was asked\n",
    "# drop COLNSIGM m12q2, barely anyone was asked\n",
    "# drop COLNTES1 m12q3, barely anyone was asked\n",
    "# drop SIGMTES1 m12q4, barely anyone was asked\n",
    "# drop LASTSIG4 m12q5, barely anyone was asked\n",
    "# drop COLNCNCR m12q6, barely anyone was asked\n",
    "# drop VIRCOLO1 m12q7, barely anyone was asked\n",
    "# drop VCLNTES1 m12q8, barely anyone was asked\n",
    "# drop SMALSTOL m12q9, barely anyone was asked\n",
    "# drop STOLTEST m12q10, barely anyone was asked\n",
    "# drop STOOLDN1 m12q11, barely anyone was asked\n",
    "# drop BLDSTFIT m12q12, barely anyone was asked\n",
    "# drop SDNATES1 m12q13, barely anyone was asked\n",
    "# drop CNCRDIFF m13q1, barely anyone was asked\n",
    "# drop CNCRAGE m13q2, barely anyone was asked\n",
    "# drop CNCRTYP1 m13q3, barely anyone was asked\n",
    "# drop CSRVTRT3 m14q1, barely anyone was asked\n",
    "# drop CSRVDOC1 m14q2, barely anyone was asked\n",
    "# drop CSRVSUM m14q3, barely anyone was asked\n",
    "# drop CSRVRTRN m14q4, barely anyone was asked\n",
    "# drop CSRVINST m14q5, barely anyone was asked\n",
    "# drop CSRVINSR m14q6, barely anyone was asked\n",
    "# drop CSRVDEIN m14q7, barely anyone was asked\n",
    "# drop CSRVCLIN m14q8, barely anyone was asked\n",
    "# drop CSRVPAIN m15q1, barely anyone was asked\n",
    "# drop CSRVCTL2 m15q2, barely anyone was asked\n",
    "# drop HOMBPCHK m16q1, barely anyone was asked\n",
    "# drop HOMRGCHK m16q2, barely anyone was asked\n",
    "# drop WHEREBP m16q3, barely anyone was asked\n",
    "# drop SHAREBP m16q4, barely anyone was asked\n",
    "# drop WTCHSALT m17q1, barely anyone was asked\n",
    "# drop DRADVISE m17q2, barely anyone was asked\n",
    "# drop CIMEMLOS m18q1, barely anyone was asked\n",
    "# drop CDHOUSE m18q2, barely anyone was asked\n",
    "# drop CDASSIST m18q3, barely anyone was asked\n",
    "# drop CDHELP m18q4, barely anyone was asked\n",
    "# drop CDSOCIAL m18q5, barely anyone was asked\n",
    "# drop CDDISCUS m18q6, barely anyone was asked\n",
    "# drop CAREGIV1 m19q1, barely anyone was asked\n",
    "# drop CRGVREL4 m19q2, barely anyone was asked\n",
    "# drop CRGVLNG1 m19q3, barely anyone was asked\n",
    "# drop CRGVHRS1 m19q4, barely anyone was asked\n",
    "# ...\n",
    "# drop SOFEMALE m28q1b, barely anyone was asked\n",
    "# drop TRNSGNDR m28q2, almost no yeses and outlier\n",
    "# drop QSTVER m1q1, not relevant\n",
    "# drop QSTLANG m1q1, not relevant\n",
    "#QSTVER\n",
    "\n",
    "df = df.drop(['BLDSUGAR', 'FEETCHK3', 'DOCTDIAB', 'CHKHEMO3', 'FEETCHK', 'EYEEXAM1', 'DIABEYE', 'DIABEDU'], axis=1)\n",
    "df = df.drop(['TOLDCFS', 'HAVECFS', 'WORKCFS', 'TOLDHEPC', 'TRETHEPC', 'PRIRHEPC', 'HAVEHEPC'], axis=1)\n",
    "df = df.drop(['HAVEHEPB', 'MEDSHEPB', 'HPVADVC4', 'HPVADSHT', 'TETANUS1', 'SHINGLE2', 'LCSFIRST'], axis=1)\n",
    "df = df.drop(['LCSLAST', 'LCSNUMCG', 'LCSCTSCN', 'HADMAM', 'HOWLONG', 'CERVSCRN', 'CRVCLCNC'], axis=1)\n",
    "df = df.drop(['CRVCLPAP', 'CRVCLHPV', 'HADHYST2', 'PSATEST1', 'PSATIME1', 'PCPSARS2', 'PCSTALK'], axis=1)\n",
    "df = df.drop(['HADSIGM4', 'COLNSIGM', 'COLNTES1', 'SIGMTES1', 'LASTSIG4', 'COLNCNCR', 'VIRCOLO1'], axis=1)\n",
    "df = df.drop(['VCLNTES1', 'SMALSTOL', 'STOLTEST', 'STOOLDN1', 'BLDSTFIT', 'SDNATES1', 'CNCRDIFF'], axis=1)\n",
    "df = df.drop(['CNCRAGE', 'CNCRTYP1', 'CSRVTRT3', 'CSRVDOC1', 'CSRVSUM', 'CSRVRTRN', 'CSRVINST'], axis=1)\n",
    "df = df.drop(['CSRVINSR', 'CSRVDEIN', 'CSRVCLIN', 'CSRVPAIN', 'CSRVCTL2', 'HOMBPCHK', 'HOMRGCHK'], axis=1)\n",
    "df = df.drop(['WHEREBP', 'SHAREBP', 'WTCHSALT', 'DRADVISE', 'CIMEMLOS', 'CDHOUSE', 'CDASSIST', 'CDHELP'], axis=1)\n",
    "df = df.drop(['CDSOCIAL', 'CDDISCUS', 'CAREGIV1', 'CRGVREL4', 'CRGVLNG1', 'CRGVHRS1', 'CRGVPRB3'], axis=1)\n",
    "df = df.drop(['CRGVALZD', 'CRGVPER1', 'CRGVHOU1', 'CRGVEXPT', 'ACEDEPRS', 'ACEDRINK', 'ACEDRUGS'], axis=1)\n",
    "df = df.drop(['ACEPRISN', 'ACEDIVRC', 'ACEPUNCH', 'ACEHURT1', 'ACESWEAR', 'ACETOUCH', 'ACETTHEM'], axis=1)\n",
    "df = df.drop(['ACEHVSEX', 'ACEADSAF', 'ACEADNED', 'MARIJAN1', 'RSNMRJN2', 'LASTSMK2', 'STOPSMK2'], axis=1)\n",
    "df = df.drop(['FIREARM5', 'GUNLOAD', 'LOADULK2', 'RCSGENDR', 'RCSRLTN2', 'CASTHDX2', 'CASTHNO2'], axis=1)\n",
    "df = df.drop(['BIRTHSEX', 'SOMALE', 'SOFEMALE', 'TRNSGNDR', 'QSTVER', 'QSTLANG'], axis=1)"
   ]
  },
  {
   "cell_type": "code",
   "execution_count": 168,
   "id": "0534ebac",
   "metadata": {},
   "outputs": [
    {
     "data": {
      "text/plain": [
       "count    436654.000000\n",
       "mean          0.701020\n",
       "std           0.457812\n",
       "min           0.000000\n",
       "25%           0.000000\n",
       "50%           1.000000\n",
       "75%           1.000000\n",
       "max           1.000000\n",
       "Name: _METSTAT, dtype: float64"
      ]
     },
     "execution_count": 168,
     "metadata": {},
     "output_type": "execute_result"
    }
   ],
   "source": [
    "# do you live in a metropolitan area\n",
    "df['_METSTAT'].replace(2, 0, inplace=True)\n",
    "df['_METSTAT'].fillna(1, inplace=True)\n",
    "df['_METSTAT'].describe()"
   ]
  },
  {
   "cell_type": "code",
   "execution_count": 169,
   "id": "591b8b75",
   "metadata": {},
   "outputs": [
    {
     "data": {
      "text/plain": [
       "count    436654.000000\n",
       "mean          0.858400\n",
       "std           0.348639\n",
       "min           0.000000\n",
       "25%           1.000000\n",
       "50%           1.000000\n",
       "75%           1.000000\n",
       "max           1.000000\n",
       "Name: _URBSTAT, dtype: float64"
      ]
     },
     "execution_count": 169,
     "metadata": {},
     "output_type": "execute_result"
    }
   ],
   "source": [
    "# do you live in a urban area\n",
    "df['_URBSTAT'].replace(2, 0, inplace=True)\n",
    "df['_URBSTAT'].fillna(1, inplace=True)\n",
    "df['_URBSTAT'].describe()"
   ]
  },
  {
   "cell_type": "code",
   "execution_count": 170,
   "id": "977115f6",
   "metadata": {},
   "outputs": [],
   "source": [
    "# drop MSCODE m1q2, not relevant\n",
    "# drop _STSTR m1q3, not relevant\n",
    "# drop _STRWT m1q4, not relevant\n",
    "# drop _RAWRAKE m1q7, not relevant\n",
    "# drop _WT2RAKE m1q8, not relevant\n",
    "\n",
    "df = df.drop(['MSCODE', '_STSTR', '_STRWT', '_RAWRAKE'], axis=1)"
   ]
  },
  {
   "cell_type": "code",
   "execution_count": 171,
   "id": "fdfe0353",
   "metadata": {},
   "outputs": [
    {
     "data": {
      "text/plain": [
       "count    436654.000000\n",
       "mean          0.757369\n",
       "std           0.428675\n",
       "min           0.000000\n",
       "25%           1.000000\n",
       "50%           1.000000\n",
       "75%           1.000000\n",
       "max           1.000000\n",
       "Name: white, dtype: float64"
      ]
     },
     "execution_count": 171,
     "metadata": {},
     "output_type": "execute_result"
    }
   ],
   "source": [
    "# white, non-hispanic\n",
    "df['white'] = df['_IMPRACE']\n",
    "df['white'].replace(range(2,7), 0, inplace=True)\n",
    "df['white'].describe()"
   ]
  },
  {
   "cell_type": "code",
   "execution_count": 172,
   "id": "81739f34",
   "metadata": {},
   "outputs": [
    {
     "data": {
      "text/plain": [
       "count    436654.000000\n",
       "mean          0.075453\n",
       "std           0.264122\n",
       "min           0.000000\n",
       "25%           0.000000\n",
       "50%           0.000000\n",
       "75%           0.000000\n",
       "max           1.000000\n",
       "Name: black, dtype: float64"
      ]
     },
     "execution_count": 172,
     "metadata": {},
     "output_type": "execute_result"
    }
   ],
   "source": [
    "# black, non-hispanic\n",
    "df['black'] = df['_IMPRACE']\n",
    "df['black'].replace([1,3,4,5,6], 0, inplace=True)\n",
    "df['black'].replace(2, 1, inplace=True)\n",
    "df['black'].describe()"
   ]
  },
  {
   "cell_type": "code",
   "execution_count": 173,
   "id": "058f7540",
   "metadata": {},
   "outputs": [
    {
     "data": {
      "text/plain": [
       "count    436654.000000\n",
       "mean          0.026401\n",
       "std           0.160324\n",
       "min           0.000000\n",
       "25%           0.000000\n",
       "50%           0.000000\n",
       "75%           0.000000\n",
       "max           1.000000\n",
       "Name: asian, dtype: float64"
      ]
     },
     "execution_count": 173,
     "metadata": {},
     "output_type": "execute_result"
    }
   ],
   "source": [
    "# Asian, non-hispanic\n",
    "df['asian'] = df['_IMPRACE']\n",
    "df['asian'].replace([1,2,4,5,6], 0, inplace=True)\n",
    "df['asian'].replace(3, 1, inplace=True)\n",
    "df['asian'].describe()"
   ]
  },
  {
   "cell_type": "code",
   "execution_count": 174,
   "id": "ca69e11e",
   "metadata": {},
   "outputs": [
    {
     "data": {
      "text/plain": [
       "count    436654.000000\n",
       "mean          0.016844\n",
       "std           0.128687\n",
       "min           0.000000\n",
       "25%           0.000000\n",
       "50%           0.000000\n",
       "75%           0.000000\n",
       "max           1.000000\n",
       "Name: native, dtype: float64"
      ]
     },
     "execution_count": 174,
     "metadata": {},
     "output_type": "execute_result"
    }
   ],
   "source": [
    "# Native, non-hispanic\n",
    "df['native'] = df['_IMPRACE']\n",
    "df['native'].replace([1,2,3,5,6], 0, inplace=True)\n",
    "df['native'].replace(4, 1, inplace=True)\n",
    "df['native'].describe()"
   ]
  },
  {
   "cell_type": "code",
   "execution_count": 175,
   "id": "9b36e02e",
   "metadata": {},
   "outputs": [
    {
     "data": {
      "text/plain": [
       "count    436654.000000\n",
       "mean          0.088262\n",
       "std           0.283676\n",
       "min           0.000000\n",
       "25%           0.000000\n",
       "50%           0.000000\n",
       "75%           0.000000\n",
       "max           1.000000\n",
       "Name: hispanic, dtype: float64"
      ]
     },
     "execution_count": 175,
     "metadata": {},
     "output_type": "execute_result"
    }
   ],
   "source": [
    "# Hispanic\n",
    "df['hispanic'] = df['_IMPRACE']\n",
    "df['hispanic'].replace([1,2,3,4,6], 0, inplace=True)\n",
    "df['hispanic'].replace(5, 1, inplace=True)\n",
    "df['hispanic'].describe()"
   ]
  },
  {
   "cell_type": "code",
   "execution_count": 176,
   "id": "4addfa2d",
   "metadata": {},
   "outputs": [],
   "source": [
    "df = df.drop(['_IMPRACE'], axis=1)"
   ]
  },
  {
   "cell_type": "code",
   "execution_count": 177,
   "id": "0a09df96",
   "metadata": {},
   "outputs": [],
   "source": [
    "# drop _CHISPNC m1q01, not relevant\n",
    "# drop _CRACE1 m1q04, not enough data\n",
    "# drop _CPRACE1 m1q05, not enough data\n",
    "# drop CAGEG m1q04, not relevant\n",
    "# drop _CLLCPWT m1q5, not relevant\n",
    "# drop _DUALUSE m1q2, not relevant\n",
    "# drop _DUALCOR m1q3, not relevant\n",
    "# drop _LLCPWT2 m1q4, not relevant\n",
    "# drop _LLCPWT m1q21, not relevant\n",
    "# drop _RFHLTH m1q5, already in data\n",
    "# drop _PHYS14D m2q1, already in data\n",
    "# drop _MENT14D m2q2, not relevant\n",
    "df = df.drop(['_CHISPNC', '_CRACE1', '_CPRACE1', 'CAGEG', '_CLLCPWT', '_DUALUSE', '_DUALCOR', '_LLCPWT2'], axis=1)\n",
    "df = df.drop(['_LLCPWT', '_RFHLTH', '_MENT14D'], axis=1)"
   ]
  },
  {
   "cell_type": "code",
   "execution_count": 178,
   "id": "101f2fdf",
   "metadata": {},
   "outputs": [
    {
     "data": {
      "text/plain": [
       "count    436654.000000\n",
       "mean          0.908129\n",
       "std           0.288845\n",
       "min           0.000000\n",
       "25%           1.000000\n",
       "50%           1.000000\n",
       "75%           1.000000\n",
       "max           1.000000\n",
       "Name: _HLTHPLN, dtype: float64"
      ]
     },
     "execution_count": 178,
     "metadata": {},
     "output_type": "execute_result"
    }
   ],
   "source": [
    "# health insurance\n",
    "df['_HLTHPLN'].replace([2,9], 0, inplace=True)\n",
    "df['_HLTHPLN'].fillna(0)\n",
    "df['_HLTHPLN'].describe()"
   ]
  },
  {
   "cell_type": "code",
   "execution_count": 179,
   "id": "588b9966",
   "metadata": {},
   "outputs": [],
   "source": [
    "# drop _HCVU652 m3s2, already contains this data\n",
    "# drop _TOTINDA m4q1, already contains this data\n",
    "# drop _RFHYPE6 m5q1, already contains this data\n",
    "# drop _CHOLCH3 m6q1, already contains this data\n",
    "# ...\n",
    "df = df.drop(['_HCVU652', '_TOTINDA', '_RFHYPE6', '_CHOLCH3','_RFCHOL3', '_MICHD', '_LTASTH1', '_CASTHM1'], axis=1)\n",
    "df = df.drop(['_ASTHMS1', '_DRDXAR3', '_LMTACT3', '_LMTWRK3', '_PRACE1', '_MRACE1', '_HISPANC', '_RACE'], axis=1)\n",
    "df = df.drop(['_RACEG21', '_RACEGR3', '_RACEPRV', '_SEX'], axis=1)"
   ]
  },
  {
   "cell_type": "code",
   "execution_count": 180,
   "id": "fb1f14f5",
   "metadata": {},
   "outputs": [],
   "source": [
    "#df['AGE'].describe() \n",
    "# age not in df"
   ]
  },
  {
   "cell_type": "code",
   "execution_count": 181,
   "id": "5613224d",
   "metadata": {},
   "outputs": [],
   "source": [
    "# drop _AGEG5YR m9q12, _AGE80 is better\n",
    "# drop _AGE65YR m9q13, already contains this data\n",
    "# ...\n",
    "df = df.drop(['_AGEG5YR', '_AGE65YR'], axis=1)"
   ]
  },
  {
   "cell_type": "code",
   "execution_count": 182,
   "id": "23c6557a",
   "metadata": {},
   "outputs": [
    {
     "data": {
      "text/plain": [
       "count    436654.000000\n",
       "mean         36.679034\n",
       "std          17.574595\n",
       "min           0.000000\n",
       "25%          23.000000\n",
       "50%          39.000000\n",
       "75%          51.000000\n",
       "max          62.000000\n",
       "Name: _AGE80, dtype: float64"
      ]
     },
     "execution_count": 182,
     "metadata": {},
     "output_type": "execute_result"
    }
   ],
   "source": [
    "# age\n",
    "df['_AGE80'] -= 18\n",
    "df['_AGE80'].describe()"
   ]
  },
  {
   "cell_type": "code",
   "execution_count": 183,
   "id": "e7146d17",
   "metadata": {},
   "outputs": [],
   "source": [
    "# drop _AGE_G m9q15, _AGE80 is better\n",
    "df = df.drop(['_AGE_G'], axis=1)"
   ]
  },
  {
   "cell_type": "code",
   "execution_count": 184,
   "id": "5afb6542",
   "metadata": {},
   "outputs": [
    {
     "data": {
      "text/plain": [
       "count    436654.000000\n",
       "mean          0.061362\n",
       "std           0.239994\n",
       "min           0.000000\n",
       "25%           0.000000\n",
       "50%           0.000000\n",
       "75%           0.000000\n",
       "max           1.000000\n",
       "Name: unk_HTIN4, dtype: float64"
      ]
     },
     "execution_count": 184,
     "metadata": {},
     "output_type": "execute_result"
    }
   ],
   "source": [
    "df['unk_HTIN4'] = df['HTIN4']\n",
    "df['unk_HTIN4'].replace(range(36,96),0, inplace=True)\n",
    "df['unk_HTIN4'].fillna(1, inplace = True)\n",
    "df['unk_HTIN4'].describe()"
   ]
  },
  {
   "cell_type": "code",
   "execution_count": 185,
   "id": "62b6405e",
   "metadata": {},
   "outputs": [
    {
     "data": {
      "text/plain": [
       "count    436654.000000\n",
       "mean         29.142025\n",
       "std           8.484315\n",
       "min           0.000000\n",
       "25%          27.000000\n",
       "50%          30.000000\n",
       "75%          34.000000\n",
       "max          59.000000\n",
       "Name: HTIN4, dtype: float64"
      ]
     },
     "execution_count": 185,
     "metadata": {},
     "output_type": "execute_result"
    }
   ],
   "source": [
    "# height\n",
    "df['HTIN4'] -= 36\n",
    "df['HTIN4'].fillna(0, inplace = True)\n",
    "df['HTIN4'].describe()"
   ]
  },
  {
   "cell_type": "code",
   "execution_count": 186,
   "id": "0abfd5e0",
   "metadata": {},
   "outputs": [],
   "source": [
    "# drop HTM4 m9q17, HTIN4 is better\n",
    "df = df.drop(['HTM4'], axis=1)"
   ]
  },
  {
   "cell_type": "code",
   "execution_count": 187,
   "id": "73d4db30",
   "metadata": {},
   "outputs": [
    {
     "data": {
      "text/plain": [
       "count    436654.000000\n",
       "mean          0.091945\n",
       "std           0.288948\n",
       "min           0.000000\n",
       "25%           0.000000\n",
       "50%           0.000000\n",
       "75%           0.000000\n",
       "max           1.000000\n",
       "Name: unk_WTKG3, dtype: float64"
      ]
     },
     "execution_count": 187,
     "metadata": {},
     "output_type": "execute_result"
    }
   ],
   "source": [
    "df['unk_WTKG3'] = df['WTKG3']\n",
    "# crashes pc\n",
    "#df['unk_WTKG3'].replace(range(2300,29500),0, inplace=True)\n",
    "df.loc[df['unk_WTKG3'] >= 2268, 'unk_WTKG3'] = 0\n",
    "df['unk_WTKG3'].fillna(1, inplace = True)\n",
    "df['unk_WTKG3'].describe()"
   ]
  },
  {
   "cell_type": "code",
   "execution_count": 188,
   "id": "eaf37cd7",
   "metadata": {},
   "outputs": [
    {
     "data": {
      "text/plain": [
       "count    436654.000000\n",
       "mean       5997.176073\n",
       "std        2046.071594\n",
       "min           0.000000\n",
       "25%        4581.000000\n",
       "50%        5500.000000\n",
       "75%        6940.000000\n",
       "max       27034.000000\n",
       "Name: WTKG3, dtype: float64"
      ]
     },
     "execution_count": 188,
     "metadata": {},
     "output_type": "execute_result"
    }
   ],
   "source": [
    "# weight\n",
    "df['WTKG3'] -= 2268\n",
    "df['WTKG3'].fillna(5500, inplace = True)\n",
    "df['WTKG3'].describe()"
   ]
  },
  {
   "cell_type": "code",
   "execution_count": 189,
   "id": "bb2c6139",
   "metadata": {},
   "outputs": [],
   "source": [
    "# drop _BMI5 m9q19, data already contained\n",
    "# drop _BMI5CAT m9q20, data already contained\n",
    "# drop _RFBMI5 m9q21, data already contained\n",
    "# drop _CHLDCNT m9q22, not relevant\n",
    "df = df.drop(['_BMI5', '_BMI5CAT', '_RFBMI5', '_CHLDCNT'], axis=1)"
   ]
  },
  {
   "cell_type": "code",
   "execution_count": 190,
   "id": "878a3e30",
   "metadata": {},
   "outputs": [
    {
     "data": {
      "text/plain": [
       "count    436654.000000\n",
       "mean          0.005318\n",
       "std           0.072729\n",
       "min           0.000000\n",
       "25%           0.000000\n",
       "50%           0.000000\n",
       "75%           0.000000\n",
       "max           1.000000\n",
       "Name: unk__EDUCAG, dtype: float64"
      ]
     },
     "execution_count": 190,
     "metadata": {},
     "output_type": "execute_result"
    }
   ],
   "source": [
    "df['unk__EDUCAG'] = df['_EDUCAG']\n",
    "df['unk__EDUCAG'].replace([1,2,3,4],0, inplace=True)\n",
    "df['unk__EDUCAG'].replace(9,1, inplace=True)\n",
    "df['unk__EDUCAG'].fillna(1, inplace = True)\n",
    "df['unk__EDUCAG'].describe()"
   ]
  },
  {
   "cell_type": "code",
   "execution_count": 191,
   "id": "db565468",
   "metadata": {},
   "outputs": [
    {
     "data": {
      "text/plain": [
       "count    436654.000000\n",
       "mean          2.030619\n",
       "std           0.949715\n",
       "min           0.000000\n",
       "25%           1.000000\n",
       "50%           2.000000\n",
       "75%           3.000000\n",
       "max           3.000000\n",
       "Name: _EDUCAG, dtype: float64"
      ]
     },
     "execution_count": 191,
     "metadata": {},
     "output_type": "execute_result"
    }
   ],
   "source": [
    "# education level 0,1,2,3\n",
    "df['_EDUCAG'].replace(9,2, inplace=True)\n",
    "df['_EDUCAG'] -= 1\n",
    "df['_EDUCAG'].fillna(1, inplace = True)\n",
    "df['_EDUCAG'].describe()"
   ]
  },
  {
   "cell_type": "code",
   "execution_count": 192,
   "id": "d116a646",
   "metadata": {},
   "outputs": [
    {
     "data": {
      "text/plain": [
       "count    436654.000000\n",
       "mean          0.214023\n",
       "std           0.410143\n",
       "min           0.000000\n",
       "25%           0.000000\n",
       "50%           0.000000\n",
       "75%           0.000000\n",
       "max           1.000000\n",
       "Name: unk__INCOMG1, dtype: float64"
      ]
     },
     "execution_count": 192,
     "metadata": {},
     "output_type": "execute_result"
    }
   ],
   "source": [
    "df['unk__INCOMG1'] = df['_INCOMG1']\n",
    "df['unk__INCOMG1'].replace(range(1,8),0, inplace=True)\n",
    "df['unk__INCOMG1'].replace(9,1, inplace=True)\n",
    "df['unk__INCOMG1'].fillna(1, inplace = True)\n",
    "df['unk__INCOMG1'].describe()"
   ]
  },
  {
   "cell_type": "code",
   "execution_count": 193,
   "id": "12e96cdb",
   "metadata": {},
   "outputs": [
    {
     "data": {
      "text/plain": [
       "count    436654.000000\n",
       "mean          3.480515\n",
       "std           1.456671\n",
       "min           0.000000\n",
       "25%           3.000000\n",
       "50%           4.000000\n",
       "75%           4.000000\n",
       "max           6.000000\n",
       "Name: _INCOMG1, dtype: float64"
      ]
     },
     "execution_count": 193,
     "metadata": {},
     "output_type": "execute_result"
    }
   ],
   "source": [
    "# income level\n",
    "df['_INCOMG1'].replace(9,5, inplace=True)\n",
    "df['_INCOMG1'] -= 1\n",
    "df['_INCOMG1'].fillna(1, inplace = True)\n",
    "df['_INCOMG1'].describe()"
   ]
  },
  {
   "cell_type": "code",
   "execution_count": 194,
   "id": "0651d7f3",
   "metadata": {},
   "outputs": [],
   "source": [
    "# drop _SMOKER3 m11q1, data already contained\n",
    "# drop _RFSMOK3 m11q2, data already contained\n",
    "# drop _CURECI1 m12q1, data already contained\n",
    "# drop DRNKANY5 m11q2, data already contained\n",
    "# drop DROCDY3_ m12q2, data already contained\n",
    "# drop _RFBING5 m12q3, data already contained\n",
    "# ...\n",
    "df = df.drop(['_SMOKER3', '_RFSMOK3', '_CURECI1', 'DRNKANY5', 'DROCDY3_', '_RFBING5', '_DRNKWK1'], axis=1)\n",
    "df = df.drop(['_RFDRHV7', '_FLSHOT7', '_PNEUMO3', '_AIDTST4'], axis=1)"
   ]
  },
  {
   "cell_type": "code",
   "execution_count": 195,
   "id": "4abc388f",
   "metadata": {},
   "outputs": [
    {
     "data": {
      "text/plain": [
       "count    436654.000000\n",
       "mean          0.100368\n",
       "std           0.300490\n",
       "min           0.000000\n",
       "25%           0.000000\n",
       "50%           0.000000\n",
       "75%           0.000000\n",
       "max           1.000000\n",
       "Name: unk_FTJUDA2_, dtype: float64"
      ]
     },
     "execution_count": 195,
     "metadata": {},
     "output_type": "execute_result"
    }
   ],
   "source": [
    "df['unk_FTJUDA2_'] = df['FTJUDA2_']\n",
    "df.loc[df['unk_FTJUDA2_'] >= 0, 'unk_FTJUDA2_'] = 0\n",
    "df['unk_FTJUDA2_'].fillna(1, inplace = True)\n",
    "df['unk_FTJUDA2_'].describe()"
   ]
  },
  {
   "cell_type": "code",
   "execution_count": 196,
   "id": "0bf1adaa",
   "metadata": {},
   "outputs": [
    {
     "data": {
      "text/plain": [
       "count    4.366540e+05\n",
       "mean     2.047448e+01\n",
       "std      6.006423e+01\n",
       "min      5.397605e-81\n",
       "25%      5.397605e-81\n",
       "50%      7.000000e-02\n",
       "75%      7.100000e-01\n",
       "max      2.000000e+02\n",
       "Name: FTJUDA2_, dtype: float64"
      ]
     },
     "execution_count": 196,
     "metadata": {},
     "output_type": "execute_result"
    }
   ],
   "source": [
    "#fruit juice intake in times per day\n",
    "df['FTJUDA2_'] /= 100\n",
    "df['FTJUDA2_'].fillna(200, inplace = True)\n",
    "df['FTJUDA2_'].round(2)\n",
    "df['FTJUDA2_'].describe()"
   ]
  },
  {
   "cell_type": "code",
   "execution_count": 197,
   "id": "dc12a55d",
   "metadata": {},
   "outputs": [
    {
     "name": "stdout",
     "output_type": "stream",
     "text": [
      "No. of columns containing null values\n",
      "13\n",
      "No. of columns not containing null values\n",
      "154\n",
      "Total no. of columns in the dataframe\n",
      "167\n"
     ]
    }
   ],
   "source": [
    "# remove colums containing string values\n",
    "\n",
    "print(\"No. of columns containing null values\")\n",
    "print(len(df.columns[df.isna().any()]))\n",
    "\n",
    "print(\"No. of columns not containing null values\")\n",
    "print(len(df.columns[df.notna().all()]))\n",
    "\n",
    "print(\"Total no. of columns in the dataframe\")\n",
    "print(len(df.columns))\n",
    "\n",
    "#df = df.dropna(axis=1)\n",
    "#df.shape"
   ]
  },
  {
   "cell_type": "code",
   "execution_count": 198,
   "id": "ae27a514",
   "metadata": {},
   "outputs": [],
   "source": [
    "#df.shape"
   ]
  }
 ],
 "metadata": {
  "kernelspec": {
   "display_name": "Python 3 (ipykernel)",
   "language": "python",
   "name": "python3"
  },
  "language_info": {
   "codemirror_mode": {
    "name": "ipython",
    "version": 3
   },
   "file_extension": ".py",
   "mimetype": "text/x-python",
   "name": "python",
   "nbconvert_exporter": "python",
   "pygments_lexer": "ipython3",
   "version": "3.10.9"
  }
 },
 "nbformat": 4,
 "nbformat_minor": 5
}
