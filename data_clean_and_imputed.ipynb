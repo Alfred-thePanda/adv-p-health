{
 "cells": [
  {
   "cell_type": "code",
   "execution_count": 1,
   "id": "d327cad4",
   "metadata": {},
   "outputs": [],
   "source": [
    "import pandas as pd\n",
    "import numpy as np\n",
    "import matplotlib.pyplot as plt\n",
    "import seaborn as sns\n",
    "import math\n",
    "\n",
    "%matplotlib inline\n",
    "\n",
    "import warnings\n",
    "\n",
    "warnings.simplefilter(action='ignore', category=pd.errors.PerformanceWarning)"
   ]
  },
  {
   "cell_type": "code",
   "execution_count": 2,
   "id": "adb4028b",
   "metadata": {},
   "outputs": [],
   "source": [
    "df = pd.read_csv('./data/brfss_reduced.csv')"
   ]
  },
  {
   "cell_type": "code",
   "execution_count": 3,
   "id": "8a6028c6",
   "metadata": {},
   "outputs": [
    {
     "data": {
      "text/plain": [
       "count    377280.000000\n",
       "mean          0.140771\n",
       "std           0.347785\n",
       "min           0.000000\n",
       "25%           0.000000\n",
       "50%           0.000000\n",
       "75%           0.000000\n",
       "max           1.000000\n",
       "Name: DIABETE4, dtype: float64"
      ]
     },
     "execution_count": 3,
     "metadata": {},
     "output_type": "execute_result"
    }
   ],
   "source": [
    "df['DIABETE4'].describe()"
   ]
  },
  {
   "cell_type": "code",
   "execution_count": 4,
   "id": "405ba816",
   "metadata": {},
   "outputs": [
    {
     "data": {
      "text/plain": [
       "0"
      ]
     },
     "execution_count": 4,
     "metadata": {},
     "output_type": "execute_result"
    }
   ],
   "source": [
    "df['HAVARTH5'].isna().sum()"
   ]
  },
  {
   "cell_type": "code",
   "execution_count": 5,
   "id": "0fb5407d",
   "metadata": {},
   "outputs": [
    {
     "data": {
      "text/plain": [
       "count    375795.000000\n",
       "mean          0.332093\n",
       "std           0.470965\n",
       "min           0.000000\n",
       "25%           0.000000\n",
       "50%           0.000000\n",
       "75%           1.000000\n",
       "max           1.000000\n",
       "Name: HAVARTH5, dtype: float64"
      ]
     },
     "execution_count": 5,
     "metadata": {},
     "output_type": "execute_result"
    }
   ],
   "source": [
    "# *have arthritis*\n",
    "df['HAVARTH5'].replace(2,0, inplace=True)\n",
    "df['HAVARTH5'].replace([7,9],np.nan, inplace=True)\n",
    "df['HAVARTH5'].describe()"
   ]
  },
  {
   "cell_type": "code",
   "execution_count": 6,
   "id": "e6f5d583",
   "metadata": {},
   "outputs": [],
   "source": [
    "# drop JOINPAI2, relies on knowing they have arthritis\n",
    "df = df.drop(['JOINPAI2'], axis=1)"
   ]
  },
  {
   "cell_type": "code",
   "execution_count": 7,
   "id": "2bfce132",
   "metadata": {},
   "outputs": [
    {
     "data": {
      "text/plain": [
       "1"
      ]
     },
     "execution_count": 7,
     "metadata": {},
     "output_type": "execute_result"
    }
   ],
   "source": [
    "df['MARITAL'].isna().sum()"
   ]
  },
  {
   "cell_type": "code",
   "execution_count": 8,
   "id": "9a68d1b4",
   "metadata": {},
   "outputs": [],
   "source": [
    "df['MARITAL'].replace(9,np.nan, inplace=True)"
   ]
  },
  {
   "cell_type": "code",
   "execution_count": 9,
   "id": "dee4ef6b",
   "metadata": {},
   "outputs": [
    {
     "data": {
      "text/plain": [
       "count    374680.000000\n",
       "mean          0.530866\n",
       "std           0.499047\n",
       "min           0.000000\n",
       "25%           0.000000\n",
       "50%           1.000000\n",
       "75%           1.000000\n",
       "max           1.000000\n",
       "Name: married, dtype: float64"
      ]
     },
     "execution_count": 9,
     "metadata": {},
     "output_type": "execute_result"
    }
   ],
   "source": [
    "# married\n",
    "df['married'] = df['MARITAL']\n",
    "df['married'].replace([2,3,4,5,6],0, inplace=True)\n",
    "df['married'].describe()"
   ]
  },
  {
   "cell_type": "code",
   "execution_count": 10,
   "id": "30dfc420",
   "metadata": {},
   "outputs": [
    {
     "data": {
      "text/plain": [
       "count    374680.000000\n",
       "mean          0.127890\n",
       "std           0.333968\n",
       "min           0.000000\n",
       "25%           0.000000\n",
       "50%           0.000000\n",
       "75%           0.000000\n",
       "max           1.000000\n",
       "Name: divorced, dtype: float64"
      ]
     },
     "execution_count": 10,
     "metadata": {},
     "output_type": "execute_result"
    }
   ],
   "source": [
    "# divorced\n",
    "df['divorced'] = df['MARITAL']\n",
    "df['divorced'].replace([1,3,4,5,6,9],0, inplace=True)\n",
    "df['divorced'].replace(2,1, inplace=True)\n",
    "df['divorced'].describe()"
   ]
  },
  {
   "cell_type": "code",
   "execution_count": 11,
   "id": "ccf4b0f8",
   "metadata": {},
   "outputs": [
    {
     "data": {
      "text/plain": [
       "count    374680.000000\n",
       "mean          0.106235\n",
       "std           0.308138\n",
       "min           0.000000\n",
       "25%           0.000000\n",
       "50%           0.000000\n",
       "75%           0.000000\n",
       "max           1.000000\n",
       "Name: widowed, dtype: float64"
      ]
     },
     "execution_count": 11,
     "metadata": {},
     "output_type": "execute_result"
    }
   ],
   "source": [
    "# widowed\n",
    "df['widowed'] = df['MARITAL']\n",
    "df['widowed'].replace([1,2,4,5,6,9],0, inplace=True)\n",
    "df['widowed'].replace(3,1, inplace=True)\n",
    "df['widowed'].describe()"
   ]
  },
  {
   "cell_type": "code",
   "execution_count": 12,
   "id": "bd72aedf",
   "metadata": {},
   "outputs": [
    {
     "data": {
      "text/plain": [
       "count    374680.000000\n",
       "mean          0.018843\n",
       "std           0.135970\n",
       "min           0.000000\n",
       "25%           0.000000\n",
       "50%           0.000000\n",
       "75%           0.000000\n",
       "max           1.000000\n",
       "Name: separated, dtype: float64"
      ]
     },
     "execution_count": 12,
     "metadata": {},
     "output_type": "execute_result"
    }
   ],
   "source": [
    "# Separated\n",
    "df['separated'] = df['MARITAL']\n",
    "df['separated'].replace([1,2,3,5,6,9],0, inplace=True)\n",
    "df['separated'].replace(4,1, inplace=True)\n",
    "df['separated'].describe()"
   ]
  },
  {
   "cell_type": "code",
   "execution_count": 13,
   "id": "026a6b33",
   "metadata": {},
   "outputs": [
    {
     "data": {
      "text/plain": [
       "count    374680.000000\n",
       "mean          0.175075\n",
       "std           0.380032\n",
       "min           0.000000\n",
       "25%           0.000000\n",
       "50%           0.000000\n",
       "75%           0.000000\n",
       "max           1.000000\n",
       "Name: never_married, dtype: float64"
      ]
     },
     "execution_count": 13,
     "metadata": {},
     "output_type": "execute_result"
    }
   ],
   "source": [
    "# never_married\n",
    "df['never_married'] = df['MARITAL']\n",
    "df['never_married'].replace([1,2,3,4,6,9],0, inplace=True)\n",
    "df['never_married'].replace(5,1, inplace=True)\n",
    "df['never_married'].describe()"
   ]
  },
  {
   "cell_type": "code",
   "execution_count": 14,
   "id": "8a3df1cf",
   "metadata": {},
   "outputs": [
    {
     "data": {
      "text/plain": [
       "count    374680.000000\n",
       "mean          0.041091\n",
       "std           0.198501\n",
       "min           0.000000\n",
       "25%           0.000000\n",
       "50%           0.000000\n",
       "75%           0.000000\n",
       "max           1.000000\n",
       "Name: unmarried_couple, dtype: float64"
      ]
     },
     "execution_count": 14,
     "metadata": {},
     "output_type": "execute_result"
    }
   ],
   "source": [
    "# unmarried_couple\n",
    "df['unmarried_couple'] = df['MARITAL']\n",
    "df['unmarried_couple'].replace([1,2,3,4,5,9],0, inplace=True)\n",
    "df['unmarried_couple'].replace(6,1, inplace=True)\n",
    "df['unmarried_couple'].describe()"
   ]
  },
  {
   "cell_type": "code",
   "execution_count": 15,
   "id": "a87c739d",
   "metadata": {},
   "outputs": [],
   "source": [
    "# drop MARITAL, marital status, data extracted above\n",
    "df = df.drop(['MARITAL'], axis=1)"
   ]
  },
  {
   "cell_type": "code",
   "execution_count": 16,
   "id": "931d8cbe",
   "metadata": {},
   "outputs": [
    {
     "data": {
      "text/plain": [
       "0"
      ]
     },
     "execution_count": 16,
     "metadata": {},
     "output_type": "execute_result"
    }
   ],
   "source": [
    "df['RENTHOM1'].isna().sum()"
   ]
  },
  {
   "cell_type": "code",
   "execution_count": 17,
   "id": "6bf41841",
   "metadata": {},
   "outputs": [
    {
     "data": {
      "text/plain": [
       "count    374993.000000\n",
       "mean          0.719595\n",
       "std           0.449198\n",
       "min           0.000000\n",
       "25%           0.000000\n",
       "50%           1.000000\n",
       "75%           1.000000\n",
       "max           1.000000\n",
       "Name: own_house, dtype: float64"
      ]
     },
     "execution_count": 17,
     "metadata": {},
     "output_type": "execute_result"
    }
   ],
   "source": [
    "# own\n",
    "df['own_house'] = df['RENTHOM1']\n",
    "df['own_house'].replace([2,3],0, inplace=True)\n",
    "df['own_house'].replace([7,9],np.nan, inplace=True)\n",
    "df['own_house'].describe()"
   ]
  },
  {
   "cell_type": "code",
   "execution_count": 18,
   "id": "c0657c9e",
   "metadata": {},
   "outputs": [
    {
     "data": {
      "text/plain": [
       "count    374993.000000\n",
       "mean          0.232999\n",
       "std           0.422742\n",
       "min           0.000000\n",
       "25%           0.000000\n",
       "50%           0.000000\n",
       "75%           0.000000\n",
       "max           1.000000\n",
       "Name: renting, dtype: float64"
      ]
     },
     "execution_count": 18,
     "metadata": {},
     "output_type": "execute_result"
    }
   ],
   "source": [
    "# rent\n",
    "df['renting'] = df['RENTHOM1']\n",
    "df['renting'].replace([1,3],0, inplace=True)\n",
    "df['renting'].replace(2,1, inplace=True)\n",
    "df['renting'].replace([7,9],np.nan, inplace=True)\n",
    "df['renting'].describe()"
   ]
  },
  {
   "cell_type": "code",
   "execution_count": 19,
   "id": "782505cf",
   "metadata": {},
   "outputs": [
    {
     "data": {
      "text/plain": [
       "count    374993.000000\n",
       "mean          0.047406\n",
       "std           0.212506\n",
       "min           0.000000\n",
       "25%           0.000000\n",
       "50%           0.000000\n",
       "75%           0.000000\n",
       "max           1.000000\n",
       "Name: other_arrangement_housing, dtype: float64"
      ]
     },
     "execution_count": 19,
     "metadata": {},
     "output_type": "execute_result"
    }
   ],
   "source": [
    "# other arrangement\n",
    "df['other_arrangement_housing'] = df['RENTHOM1']\n",
    "df['other_arrangement_housing'].replace([1,2],0, inplace=True)\n",
    "df['other_arrangement_housing'].replace(3,1, inplace=True)\n",
    "df['other_arrangement_housing'].replace([7,9],np.nan, inplace=True)\n",
    "df['other_arrangement_housing'].describe()"
   ]
  },
  {
   "cell_type": "code",
   "execution_count": 20,
   "id": "cf3ceb98",
   "metadata": {},
   "outputs": [],
   "source": [
    "# drop RENTHOM1, living status, data extracted above\n",
    "df = df.drop(['RENTHOM1'], axis=1)"
   ]
  },
  {
   "cell_type": "code",
   "execution_count": 21,
   "id": "74b121b0",
   "metadata": {},
   "outputs": [
    {
     "data": {
      "text/plain": [
       "1"
      ]
     },
     "execution_count": 21,
     "metadata": {},
     "output_type": "execute_result"
    }
   ],
   "source": [
    "df['VETERAN3'].isna().sum()"
   ]
  },
  {
   "cell_type": "code",
   "execution_count": 22,
   "id": "a4eb25fc",
   "metadata": {},
   "outputs": [
    {
     "data": {
      "text/plain": [
       "count    377064.000000\n",
       "mean          0.120441\n",
       "std           0.325477\n",
       "min           0.000000\n",
       "25%           0.000000\n",
       "50%           0.000000\n",
       "75%           0.000000\n",
       "max           1.000000\n",
       "Name: VETERAN3, dtype: float64"
      ]
     },
     "execution_count": 22,
     "metadata": {},
     "output_type": "execute_result"
    }
   ],
   "source": [
    "#veteran\n",
    "df['VETERAN3'].replace(2,0, inplace=True)\n",
    "df['VETERAN3'].replace([7,9],np.nan, inplace=True)\n",
    "df['VETERAN3'].describe()"
   ]
  },
  {
   "cell_type": "code",
   "execution_count": 23,
   "id": "cfe665ba",
   "metadata": {},
   "outputs": [
    {
     "data": {
      "text/plain": [
       "1"
      ]
     },
     "execution_count": 23,
     "metadata": {},
     "output_type": "execute_result"
    }
   ],
   "source": [
    "df['EMPLOY1'].isna().sum()"
   ]
  },
  {
   "cell_type": "code",
   "execution_count": 24,
   "id": "89ba452c",
   "metadata": {},
   "outputs": [
    {
     "data": {
      "text/plain": [
       "count    375087.000000\n",
       "mean          0.435312\n",
       "std           0.495799\n",
       "min           0.000000\n",
       "25%           0.000000\n",
       "50%           0.000000\n",
       "75%           1.000000\n",
       "max           1.000000\n",
       "Name: employed_for_wages, dtype: float64"
      ]
     },
     "execution_count": 24,
     "metadata": {},
     "output_type": "execute_result"
    }
   ],
   "source": [
    "# employed for wages\n",
    "df['employed_for_wages'] = df['EMPLOY1']\n",
    "df['employed_for_wages'].replace([2,3,4,5,6,7,8],0, inplace=True)\n",
    "df['employed_for_wages'].replace(9,np.nan, inplace=True)\n",
    "df['employed_for_wages'].describe()"
   ]
  },
  {
   "cell_type": "code",
   "execution_count": 25,
   "id": "79d0ded2",
   "metadata": {},
   "outputs": [
    {
     "data": {
      "text/plain": [
       "count    375087.000000\n",
       "mean          0.087572\n",
       "std           0.282671\n",
       "min           0.000000\n",
       "25%           0.000000\n",
       "50%           0.000000\n",
       "75%           0.000000\n",
       "max           1.000000\n",
       "Name: self_employed, dtype: float64"
      ]
     },
     "execution_count": 25,
     "metadata": {},
     "output_type": "execute_result"
    }
   ],
   "source": [
    "# self employed\n",
    "df['self_employed'] = df['EMPLOY1']\n",
    "df['self_employed'].replace([1,3,4,5,6,7,8],0, inplace=True)\n",
    "df['self_employed'].replace(2,1, inplace=True)\n",
    "df['self_employed'].replace(9,np.nan, inplace=True)\n",
    "df['self_employed'].describe()"
   ]
  },
  {
   "cell_type": "code",
   "execution_count": 26,
   "id": "545df82a",
   "metadata": {},
   "outputs": [
    {
     "data": {
      "text/plain": [
       "count    375087.000000\n",
       "mean          0.025890\n",
       "std           0.158807\n",
       "min           0.000000\n",
       "25%           0.000000\n",
       "50%           0.000000\n",
       "75%           0.000000\n",
       "max           1.000000\n",
       "Name: out_of_work_year_plus, dtype: float64"
      ]
     },
     "execution_count": 26,
     "metadata": {},
     "output_type": "execute_result"
    }
   ],
   "source": [
    "# Out of work for 1 year or more\n",
    "df['out_of_work_year_plus'] = df['EMPLOY1']\n",
    "df['out_of_work_year_plus'].replace([1,2,4,5,6,7,8],0, inplace=True)\n",
    "df['out_of_work_year_plus'].replace(3,1, inplace=True)\n",
    "df['out_of_work_year_plus'].replace(9,np.nan, inplace=True)\n",
    "df['out_of_work_year_plus'].describe()"
   ]
  },
  {
   "cell_type": "code",
   "execution_count": 27,
   "id": "dcb89899",
   "metadata": {},
   "outputs": [
    {
     "data": {
      "text/plain": [
       "count    375087.000000\n",
       "mean          0.022293\n",
       "std           0.147637\n",
       "min           0.000000\n",
       "25%           0.000000\n",
       "50%           0.000000\n",
       "75%           0.000000\n",
       "max           1.000000\n",
       "Name: out_of_work_year_less, dtype: float64"
      ]
     },
     "execution_count": 27,
     "metadata": {},
     "output_type": "execute_result"
    }
   ],
   "source": [
    "# Out of work for less than 1 year\n",
    "df['out_of_work_year_less'] = df['EMPLOY1']\n",
    "df['out_of_work_year_less'].replace([1,2,3,5,6,7,8],0, inplace=True)\n",
    "df['out_of_work_year_less'].replace(4,1, inplace=True)\n",
    "df['out_of_work_year_less'].replace(9,np.nan, inplace=True)\n",
    "df['out_of_work_year_less'].describe()"
   ]
  },
  {
   "cell_type": "code",
   "execution_count": 28,
   "id": "037ca6db",
   "metadata": {},
   "outputs": [
    {
     "data": {
      "text/plain": [
       "count    375087.000000\n",
       "mean          0.040785\n",
       "std           0.197793\n",
       "min           0.000000\n",
       "25%           0.000000\n",
       "50%           0.000000\n",
       "75%           0.000000\n",
       "max           1.000000\n",
       "Name: homemaker, dtype: float64"
      ]
     },
     "execution_count": 28,
     "metadata": {},
     "output_type": "execute_result"
    }
   ],
   "source": [
    "# homemaker\n",
    "df['homemaker'] = df['EMPLOY1']\n",
    "df['homemaker'].replace([1,2,3,4,6,7,8],0, inplace=True)\n",
    "df['homemaker'].replace(5,1, inplace=True)\n",
    "df['homemaker'].replace(9,np.nan, inplace=True)\n",
    "df['homemaker'].describe()"
   ]
  },
  {
   "cell_type": "code",
   "execution_count": 29,
   "id": "4de9e3cb",
   "metadata": {},
   "outputs": [
    {
     "data": {
      "text/plain": [
       "count    375087.000000\n",
       "mean          0.025018\n",
       "std           0.156181\n",
       "min           0.000000\n",
       "25%           0.000000\n",
       "50%           0.000000\n",
       "75%           0.000000\n",
       "max           1.000000\n",
       "Name: student, dtype: float64"
      ]
     },
     "execution_count": 29,
     "metadata": {},
     "output_type": "execute_result"
    }
   ],
   "source": [
    "# student\n",
    "df['student'] = df['EMPLOY1']\n",
    "df['student'].replace([1,2,3,4,5,7,8],0, inplace=True)\n",
    "df['student'].replace(6,1, inplace=True)\n",
    "df['student'].replace(9,np.nan, inplace=True)\n",
    "df['student'].describe()"
   ]
  },
  {
   "cell_type": "code",
   "execution_count": 30,
   "id": "99d2bc21",
   "metadata": {},
   "outputs": [
    {
     "data": {
      "text/plain": [
       "count    375087.000000\n",
       "mean          0.305468\n",
       "std           0.460606\n",
       "min           0.000000\n",
       "25%           0.000000\n",
       "50%           0.000000\n",
       "75%           1.000000\n",
       "max           1.000000\n",
       "Name: retired, dtype: float64"
      ]
     },
     "execution_count": 30,
     "metadata": {},
     "output_type": "execute_result"
    }
   ],
   "source": [
    "# retired\n",
    "df['retired'] = df['EMPLOY1']\n",
    "df['retired'].replace([1,2,3,4,5,6,8],0, inplace=True)\n",
    "df['retired'].replace(7,1, inplace=True)\n",
    "df['retired'].replace(9,np.nan, inplace=True)\n",
    "df['retired'].describe()"
   ]
  },
  {
   "cell_type": "code",
   "execution_count": 31,
   "id": "7689b915",
   "metadata": {},
   "outputs": [
    {
     "data": {
      "text/plain": [
       "count    375087.000000\n",
       "mean          0.057661\n",
       "std           0.233102\n",
       "min           0.000000\n",
       "25%           0.000000\n",
       "50%           0.000000\n",
       "75%           0.000000\n",
       "max           1.000000\n",
       "Name: unable_to_work, dtype: float64"
      ]
     },
     "execution_count": 31,
     "metadata": {},
     "output_type": "execute_result"
    }
   ],
   "source": [
    "# unable_to_work\n",
    "df['unable_to_work'] = df['EMPLOY1']\n",
    "df['unable_to_work'].replace([1,2,3,4,5,6,7],0, inplace=True)\n",
    "df['unable_to_work'].replace(8,1, inplace=True)\n",
    "df['unable_to_work'].replace(9,np.nan, inplace=True)\n",
    "df['unable_to_work'].describe()"
   ]
  },
  {
   "cell_type": "code",
   "execution_count": 32,
   "id": "423fa557",
   "metadata": {},
   "outputs": [],
   "source": [
    "df = df.drop(['EMPLOY1'], axis=1) #data extracted above"
   ]
  },
  {
   "cell_type": "code",
   "execution_count": 33,
   "id": "26e61fd0",
   "metadata": {},
   "outputs": [
    {
     "data": {
      "text/plain": [
       "306381"
      ]
     },
     "execution_count": 33,
     "metadata": {},
     "output_type": "execute_result"
    }
   ],
   "source": [
    "df['PREGNANT'].isna().sum()"
   ]
  },
  {
   "cell_type": "code",
   "execution_count": 34,
   "id": "1a3224ec",
   "metadata": {},
   "outputs": [
    {
     "data": {
      "text/plain": [
       "count    377501.000000\n",
       "mean          0.005597\n",
       "std           0.074606\n",
       "min           0.000000\n",
       "25%           0.000000\n",
       "50%           0.000000\n",
       "75%           0.000000\n",
       "max           1.000000\n",
       "Name: PREGNANT, dtype: float64"
      ]
     },
     "execution_count": 34,
     "metadata": {},
     "output_type": "execute_result"
    }
   ],
   "source": [
    "# PREGNANT\n",
    "df['PREGNANT'].fillna(0, inplace=True)\n",
    "df['PREGNANT'].replace(2,0, inplace=True)\n",
    "df['PREGNANT'].replace([7,9],np.nan, inplace=True)\n",
    "df['PREGNANT'].describe()"
   ]
  },
  {
   "cell_type": "code",
   "execution_count": 35,
   "id": "db06804e",
   "metadata": {},
   "outputs": [
    {
     "data": {
      "text/plain": [
       "0"
      ]
     },
     "execution_count": 35,
     "metadata": {},
     "output_type": "execute_result"
    }
   ],
   "source": [
    "df['DEAF'].isna().sum()"
   ]
  },
  {
   "cell_type": "code",
   "execution_count": 36,
   "id": "3aa85e5f",
   "metadata": {},
   "outputs": [
    {
     "data": {
      "text/plain": [
       "count    376790.000000\n",
       "mean          0.086772\n",
       "std           0.281502\n",
       "min           0.000000\n",
       "25%           0.000000\n",
       "50%           0.000000\n",
       "75%           0.000000\n",
       "max           1.000000\n",
       "Name: DEAF, dtype: float64"
      ]
     },
     "execution_count": 36,
     "metadata": {},
     "output_type": "execute_result"
    }
   ],
   "source": [
    "# deaf\n",
    "df['DEAF'].replace(2,0, inplace=True)\n",
    "df['DEAF'].replace([7,9],np.nan, inplace=True)\n",
    "df['DEAF'].describe()"
   ]
  },
  {
   "cell_type": "code",
   "execution_count": 37,
   "id": "9c30944d",
   "metadata": {},
   "outputs": [
    {
     "data": {
      "text/plain": [
       "0"
      ]
     },
     "execution_count": 37,
     "metadata": {},
     "output_type": "execute_result"
    }
   ],
   "source": [
    "df['BLIND'].isna().sum()"
   ]
  },
  {
   "cell_type": "code",
   "execution_count": 38,
   "id": "a2f0f684",
   "metadata": {},
   "outputs": [
    {
     "data": {
      "text/plain": [
       "count    376966.000000\n",
       "mean          0.049920\n",
       "std           0.217779\n",
       "min           0.000000\n",
       "25%           0.000000\n",
       "50%           0.000000\n",
       "75%           0.000000\n",
       "max           1.000000\n",
       "Name: BLIND, dtype: float64"
      ]
     },
     "execution_count": 38,
     "metadata": {},
     "output_type": "execute_result"
    }
   ],
   "source": [
    "# BLIND\n",
    "df['BLIND'].replace(2,0, inplace=True)\n",
    "df['BLIND'].replace([7,9],np.nan, inplace=True)\n",
    "df['BLIND'].describe()"
   ]
  },
  {
   "cell_type": "code",
   "execution_count": 39,
   "id": "40931063",
   "metadata": {},
   "outputs": [
    {
     "data": {
      "text/plain": [
       "0"
      ]
     },
     "execution_count": 39,
     "metadata": {},
     "output_type": "execute_result"
    }
   ],
   "source": [
    "df['DECIDE'].isna().sum()"
   ]
  },
  {
   "cell_type": "code",
   "execution_count": 40,
   "id": "a736ed56",
   "metadata": {},
   "outputs": [
    {
     "data": {
      "text/plain": [
       "count    375740.000000\n",
       "mean          0.108588\n",
       "std           0.311122\n",
       "min           0.000000\n",
       "25%           0.000000\n",
       "50%           0.000000\n",
       "75%           0.000000\n",
       "max           1.000000\n",
       "Name: DECIDE, dtype: float64"
      ]
     },
     "execution_count": 40,
     "metadata": {},
     "output_type": "execute_result"
    }
   ],
   "source": [
    "# difficulty concentrating or remembering\n",
    "df['DECIDE'].replace(2,0, inplace=True)\n",
    "df['DECIDE'].replace([7,9],np.nan, inplace=True)\n",
    "df['DECIDE'].describe()"
   ]
  },
  {
   "cell_type": "code",
   "execution_count": 41,
   "id": "8c479fb6",
   "metadata": {},
   "outputs": [
    {
     "data": {
      "text/plain": [
       "0"
      ]
     },
     "execution_count": 41,
     "metadata": {},
     "output_type": "execute_result"
    }
   ],
   "source": [
    "df['DIFFWALK'].isna().sum()"
   ]
  },
  {
   "cell_type": "code",
   "execution_count": 42,
   "id": "18db450e",
   "metadata": {},
   "outputs": [
    {
     "data": {
      "text/plain": [
       "count    376783.000000\n",
       "mean          0.157900\n",
       "std           0.364648\n",
       "min           0.000000\n",
       "25%           0.000000\n",
       "50%           0.000000\n",
       "75%           0.000000\n",
       "max           1.000000\n",
       "Name: DIFFWALK, dtype: float64"
      ]
     },
     "execution_count": 42,
     "metadata": {},
     "output_type": "execute_result"
    }
   ],
   "source": [
    "#Difficulty Walking or Climbing Stairs\n",
    "df['DIFFWALK'].replace(2,0, inplace=True)\n",
    "df['DIFFWALK'].replace([7,9],np.nan, inplace=True)\n",
    "df['DIFFWALK'].describe()"
   ]
  },
  {
   "cell_type": "code",
   "execution_count": 43,
   "id": "ba040bf8",
   "metadata": {},
   "outputs": [
    {
     "data": {
      "text/plain": [
       "0"
      ]
     },
     "execution_count": 43,
     "metadata": {},
     "output_type": "execute_result"
    }
   ],
   "source": [
    "df['DIFFDRES'].isna().sum()"
   ]
  },
  {
   "cell_type": "code",
   "execution_count": 44,
   "id": "864bfc1d",
   "metadata": {},
   "outputs": [
    {
     "data": {
      "text/plain": [
       "count    377429.000000\n",
       "mean          0.039274\n",
       "std           0.194245\n",
       "min           0.000000\n",
       "25%           0.000000\n",
       "50%           0.000000\n",
       "75%           0.000000\n",
       "max           1.000000\n",
       "Name: DIFFDRES, dtype: float64"
      ]
     },
     "execution_count": 44,
     "metadata": {},
     "output_type": "execute_result"
    }
   ],
   "source": [
    "#Difficulty Walking or Climbing Stairs\n",
    "df['DIFFDRES'].replace(2,0, inplace=True)\n",
    "df['DIFFDRES'].replace([7,9],np.nan, inplace=True)\n",
    "df['DIFFDRES'].describe()"
   ]
  },
  {
   "cell_type": "code",
   "execution_count": 45,
   "id": "3319ee06",
   "metadata": {},
   "outputs": [
    {
     "data": {
      "text/plain": [
       "0"
      ]
     },
     "execution_count": 45,
     "metadata": {},
     "output_type": "execute_result"
    }
   ],
   "source": [
    "df['DIFFALON'].isna().sum()"
   ]
  },
  {
   "cell_type": "code",
   "execution_count": 46,
   "id": "2a4d712f",
   "metadata": {},
   "outputs": [
    {
     "data": {
      "text/plain": [
       "count    377429.000000\n",
       "mean          0.039274\n",
       "std           0.194245\n",
       "min           0.000000\n",
       "25%           0.000000\n",
       "50%           0.000000\n",
       "75%           0.000000\n",
       "max           1.000000\n",
       "Name: DIFFDRES, dtype: float64"
      ]
     },
     "execution_count": 46,
     "metadata": {},
     "output_type": "execute_result"
    }
   ],
   "source": [
    "# Difficulty Doing Errands Alone\n",
    "df['DIFFALON'].replace(2,0, inplace=True)\n",
    "df['DIFFALON'].replace([7,9],np.nan, inplace=True)\n",
    "df['DIFFALON'].describe()"
   ]
  },
  {
   "cell_type": "code",
   "execution_count": 47,
   "id": "b1851ce1",
   "metadata": {},
   "outputs": [
    {
     "data": {
      "text/plain": [
       "0"
      ]
     },
     "execution_count": 47,
     "metadata": {},
     "output_type": "execute_result"
    }
   ],
   "source": [
    "df['SMOKE100'].isna().sum()"
   ]
  },
  {
   "cell_type": "code",
   "execution_count": 48,
   "id": "90da1080",
   "metadata": {},
   "outputs": [
    {
     "data": {
      "text/plain": [
       "count    375688.000000\n",
       "mean          0.403066\n",
       "std           0.490514\n",
       "min           0.000000\n",
       "25%           0.000000\n",
       "50%           0.000000\n",
       "75%           1.000000\n",
       "max           1.000000\n",
       "Name: SMOKE100, dtype: float64"
      ]
     },
     "execution_count": 48,
     "metadata": {},
     "output_type": "execute_result"
    }
   ],
   "source": [
    "# Smoked at Least 100 Cigarettes\n",
    "df['SMOKE100'].replace(2,0, inplace=True)\n",
    "df['SMOKE100'].replace([7,9],np.nan, inplace=True)\n",
    "df['SMOKE100'].describe()"
   ]
  },
  {
   "cell_type": "code",
   "execution_count": 49,
   "id": "c2ad72b8",
   "metadata": {},
   "outputs": [
    {
     "data": {
      "text/plain": [
       "226453"
      ]
     },
     "execution_count": 49,
     "metadata": {},
     "output_type": "execute_result"
    }
   ],
   "source": [
    "df['SMOKDAY2'].isna().sum()"
   ]
  },
  {
   "cell_type": "code",
   "execution_count": 50,
   "id": "4ab7b6a1",
   "metadata": {},
   "outputs": [],
   "source": [
    "df['SMOKDAY2'].fillna(0, inplace=True)\n",
    "df['SMOKDAY2'].replace([7,9],np.nan, inplace=True)"
   ]
  },
  {
   "cell_type": "code",
   "execution_count": 51,
   "id": "f8c3e8d7",
   "metadata": {},
   "outputs": [
    {
     "data": {
      "text/plain": [
       "count    377617.000000\n",
       "mean          0.092160\n",
       "std           0.289251\n",
       "min           0.000000\n",
       "25%           0.000000\n",
       "50%           0.000000\n",
       "75%           0.000000\n",
       "max           1.000000\n",
       "Name: smoke_every_day, dtype: float64"
      ]
     },
     "execution_count": 51,
     "metadata": {},
     "output_type": "execute_result"
    }
   ],
   "source": [
    "# smoke every day\n",
    "df['smoke_every_day'] = df['SMOKDAY2']\n",
    "df['smoke_every_day'] = df['smoke_every_day'].replace([2,3],0)\n",
    "df['smoke_every_day'].describe()"
   ]
  },
  {
   "cell_type": "code",
   "execution_count": 52,
   "id": "005eac00",
   "metadata": {},
   "outputs": [
    {
     "data": {
      "text/plain": [
       "count    377617.000000\n",
       "mean          0.035208\n",
       "std           0.184304\n",
       "min           0.000000\n",
       "25%           0.000000\n",
       "50%           0.000000\n",
       "75%           0.000000\n",
       "max           1.000000\n",
       "Name: smoke_some_days, dtype: float64"
      ]
     },
     "execution_count": 52,
     "metadata": {},
     "output_type": "execute_result"
    }
   ],
   "source": [
    "# smoke some days\n",
    "df['smoke_some_days'] = df['SMOKDAY2']\n",
    "df['smoke_some_days'] = df['smoke_some_days'].replace([1,3],0)\n",
    "df['smoke_some_days'] = df['smoke_some_days'].replace(2,1)\n",
    "df['smoke_some_days'].describe()"
   ]
  },
  {
   "cell_type": "code",
   "execution_count": 53,
   "id": "f1f2ae4c",
   "metadata": {},
   "outputs": [
    {
     "data": {
      "text/plain": [
       "count    377617.000000\n",
       "mean          0.272943\n",
       "std           0.445472\n",
       "min           0.000000\n",
       "25%           0.000000\n",
       "50%           0.000000\n",
       "75%           1.000000\n",
       "max           1.000000\n",
       "Name: smoke_not_at_all, dtype: float64"
      ]
     },
     "execution_count": 53,
     "metadata": {},
     "output_type": "execute_result"
    }
   ],
   "source": [
    "# smokes not at all\n",
    "df['smoke_not_at_all'] = df['SMOKDAY2']\n",
    "df['smoke_not_at_all'] = df['smoke_not_at_all'].replace([1,2],0)\n",
    "df['smoke_not_at_all'] = df['smoke_not_at_all'].replace(3,1)\n",
    "df['smoke_not_at_all'].describe()"
   ]
  },
  {
   "cell_type": "code",
   "execution_count": 54,
   "id": "33fdeb15",
   "metadata": {},
   "outputs": [],
   "source": [
    "df = df.drop(['SMOKDAY2'], axis=1)"
   ]
  },
  {
   "cell_type": "code",
   "execution_count": 55,
   "id": "c459aeeb",
   "metadata": {},
   "outputs": [
    {
     "data": {
      "text/plain": [
       "1"
      ]
     },
     "execution_count": 55,
     "metadata": {},
     "output_type": "execute_result"
    }
   ],
   "source": [
    "df['USENOW3'].isna().sum()"
   ]
  },
  {
   "cell_type": "code",
   "execution_count": 56,
   "id": "cf514598",
   "metadata": {},
   "outputs": [],
   "source": [
    "df['USENOW3'].replace([7,9],np.nan, inplace=True)"
   ]
  },
  {
   "cell_type": "code",
   "execution_count": 57,
   "id": "2df503da",
   "metadata": {},
   "outputs": [
    {
     "data": {
      "text/plain": [
       "count    377469.000000\n",
       "mean          0.018356\n",
       "std           0.134237\n",
       "min           0.000000\n",
       "25%           0.000000\n",
       "50%           0.000000\n",
       "75%           0.000000\n",
       "max           1.000000\n",
       "Name: smokeless_every_day, dtype: float64"
      ]
     },
     "execution_count": 57,
     "metadata": {},
     "output_type": "execute_result"
    }
   ],
   "source": [
    "# smokeless every day\n",
    "df['smokeless_every_day'] = df['USENOW3']\n",
    "df['smokeless_every_day'] = df['smokeless_every_day'].replace([2,3],0)\n",
    "df['smokeless_every_day'].describe()"
   ]
  },
  {
   "cell_type": "code",
   "execution_count": 58,
   "id": "626e6d02",
   "metadata": {},
   "outputs": [
    {
     "data": {
      "text/plain": [
       "count    377469.000000\n",
       "mean          0.012812\n",
       "std           0.112461\n",
       "min           0.000000\n",
       "25%           0.000000\n",
       "50%           0.000000\n",
       "75%           0.000000\n",
       "max           1.000000\n",
       "Name: smokeless_some_days, dtype: float64"
      ]
     },
     "execution_count": 58,
     "metadata": {},
     "output_type": "execute_result"
    }
   ],
   "source": [
    "# smokeless some days\n",
    "df['smokeless_some_days'] = df['USENOW3']\n",
    "df['smokeless_some_days'] = df['smokeless_some_days'].replace([1,3],0)\n",
    "df['smokeless_some_days'] = df['smokeless_some_days'].replace(2,1)\n",
    "df['smokeless_some_days'].describe()"
   ]
  },
  {
   "cell_type": "code",
   "execution_count": 59,
   "id": "3cbdeb2c",
   "metadata": {},
   "outputs": [
    {
     "data": {
      "text/plain": [
       "count    377469.000000\n",
       "mean          0.968832\n",
       "std           0.173772\n",
       "min           0.000000\n",
       "25%           1.000000\n",
       "50%           1.000000\n",
       "75%           1.000000\n",
       "max           1.000000\n",
       "Name: smokeless_not_at_all, dtype: float64"
      ]
     },
     "execution_count": 59,
     "metadata": {},
     "output_type": "execute_result"
    }
   ],
   "source": [
    "# smokeless not at all\n",
    "df['smokeless_not_at_all'] = df['USENOW3']\n",
    "df['smokeless_not_at_all'] = df['smokeless_not_at_all'].replace([1,2],0)\n",
    "df['smokeless_not_at_all'] = df['smokeless_not_at_all'].replace(3,1)\n",
    "df['smokeless_not_at_all'].describe()"
   ]
  },
  {
   "cell_type": "code",
   "execution_count": 60,
   "id": "a363344c",
   "metadata": {},
   "outputs": [],
   "source": [
    "df = df.drop(['USENOW3'], axis=1)"
   ]
  },
  {
   "cell_type": "code",
   "execution_count": 61,
   "id": "29166fdf",
   "metadata": {},
   "outputs": [
    {
     "data": {
      "text/plain": [
       "82"
      ]
     },
     "execution_count": 61,
     "metadata": {},
     "output_type": "execute_result"
    }
   ],
   "source": [
    "df['ECIGNOW1'].isna().sum()"
   ]
  },
  {
   "cell_type": "code",
   "execution_count": 62,
   "id": "59fbf0f8",
   "metadata": {},
   "outputs": [],
   "source": [
    "df['ECIGNOW1'].replace([7,9],np.nan, inplace=True)"
   ]
  },
  {
   "cell_type": "code",
   "execution_count": 63,
   "id": "477af215",
   "metadata": {},
   "outputs": [
    {
     "data": {
      "text/plain": [
       "count    377373.000000\n",
       "mean          0.021668\n",
       "std           0.145598\n",
       "min           0.000000\n",
       "25%           0.000000\n",
       "50%           0.000000\n",
       "75%           0.000000\n",
       "max           1.000000\n",
       "Name: ecig_every_day, dtype: float64"
      ]
     },
     "execution_count": 63,
     "metadata": {},
     "output_type": "execute_result"
    }
   ],
   "source": [
    "# ecig every day\n",
    "df['ecig_every_day'] = df['ECIGNOW1']\n",
    "df['ecig_every_day'] = df['ecig_every_day'].replace([2,3,4],0)\n",
    "df['ecig_every_day'].describe()"
   ]
  },
  {
   "cell_type": "code",
   "execution_count": 64,
   "id": "52683592",
   "metadata": {},
   "outputs": [
    {
     "data": {
      "text/plain": [
       "count    377373.000000\n",
       "mean          0.024467\n",
       "std           0.154493\n",
       "min           0.000000\n",
       "25%           0.000000\n",
       "50%           0.000000\n",
       "75%           0.000000\n",
       "max           1.000000\n",
       "Name: ecig_some_days, dtype: float64"
      ]
     },
     "execution_count": 64,
     "metadata": {},
     "output_type": "execute_result"
    }
   ],
   "source": [
    "# ecig some days\n",
    "df['ecig_some_days'] = df['ECIGNOW1']\n",
    "df['ecig_some_days'] = df['ecig_some_days'].replace([1,3,4],0)\n",
    "df['ecig_some_days'] = df['ecig_some_days'].replace(2,1)\n",
    "df['ecig_some_days'].describe()"
   ]
  },
  {
   "cell_type": "code",
   "execution_count": 65,
   "id": "9ba28efb",
   "metadata": {},
   "outputs": [
    {
     "data": {
      "text/plain": [
       "count    377373.000000\n",
       "mean          0.750597\n",
       "std           0.432668\n",
       "min           0.000000\n",
       "25%           1.000000\n",
       "50%           1.000000\n",
       "75%           1.000000\n",
       "max           1.000000\n",
       "Name: ecig_not_at_all, dtype: float64"
      ]
     },
     "execution_count": 65,
     "metadata": {},
     "output_type": "execute_result"
    }
   ],
   "source": [
    "# ecig not at all\n",
    "df['ecig_not_at_all'] = df['ECIGNOW1']\n",
    "df['ecig_not_at_all'] = df['ecig_not_at_all'].replace([1,2,4],0)\n",
    "df['ecig_not_at_all'] = df['ecig_not_at_all'].replace(3,1)\n",
    "df['ecig_not_at_all'].describe()"
   ]
  },
  {
   "cell_type": "code",
   "execution_count": 66,
   "id": "244e70ed",
   "metadata": {},
   "outputs": [
    {
     "data": {
      "text/plain": [
       "count    377373.000000\n",
       "mean          0.203268\n",
       "std           0.402431\n",
       "min           0.000000\n",
       "25%           0.000000\n",
       "50%           0.000000\n",
       "75%           0.000000\n",
       "max           1.000000\n",
       "Name: ecig_never_used, dtype: float64"
      ]
     },
     "execution_count": 66,
     "metadata": {},
     "output_type": "execute_result"
    }
   ],
   "source": [
    "# ecig never used\n",
    "df['ecig_never_used'] = df['ECIGNOW1']\n",
    "df['ecig_never_used'] = df['ecig_never_used'].replace([1,2,3],0)\n",
    "df['ecig_never_used'] = df['ecig_never_used'].replace(4,1)\n",
    "df['ecig_never_used'].describe()"
   ]
  },
  {
   "cell_type": "code",
   "execution_count": 67,
   "id": "b432a03e",
   "metadata": {},
   "outputs": [],
   "source": [
    "df = df.drop(['ECIGNOW1'], axis=1)"
   ]
  },
  {
   "cell_type": "code",
   "execution_count": 68,
   "id": "865e98c9",
   "metadata": {},
   "outputs": [
    {
     "data": {
      "text/plain": [
       "0"
      ]
     },
     "execution_count": 68,
     "metadata": {},
     "output_type": "execute_result"
    }
   ],
   "source": [
    "df['ALCDAY5'].isna().sum()"
   ]
  },
  {
   "cell_type": "code",
   "execution_count": 69,
   "id": "ac730d42",
   "metadata": {},
   "outputs": [
    {
     "data": {
      "text/plain": [
       "count    373876.000000\n",
       "mean          4.843534\n",
       "std           8.080738\n",
       "min           0.000000\n",
       "25%           0.000000\n",
       "50%           1.000000\n",
       "75%           5.000000\n",
       "max          30.000000\n",
       "Name: ALCDAY5, dtype: float64"
      ]
     },
     "execution_count": 69,
     "metadata": {},
     "output_type": "execute_result"
    }
   ],
   "source": [
    "# Days in past 30 had alcoholic beverage\n",
    "df.loc[df['ALCDAY5'] < 110, 'ALCDAY5'] = (df.loc[df['ALCDAY5'] < 110, 'ALCDAY5']-100)*4\n",
    "df.loc[(df['ALCDAY5'] < 231)&(df['ALCDAY5'] > 199), 'ALCDAY5'] -= 200\n",
    "df['ALCDAY5'] = df['ALCDAY5'].replace(888,0)\n",
    "df['ALCDAY5'] = df['ALCDAY5'].replace([777,999],np.nan)\n",
    "df['ALCDAY5'].describe()"
   ]
  },
  {
   "cell_type": "code",
   "execution_count": 70,
   "id": "f3ecad0f",
   "metadata": {},
   "outputs": [
    {
     "data": {
      "text/plain": [
       "182421"
      ]
     },
     "execution_count": 70,
     "metadata": {},
     "output_type": "execute_result"
    }
   ],
   "source": [
    "df['AVEDRNK3'].isna().sum()"
   ]
  },
  {
   "cell_type": "code",
   "execution_count": 71,
   "id": "67911d46",
   "metadata": {},
   "outputs": [],
   "source": [
    "df.loc[df['ALCDAY5'] == 0, 'AVEDRNK3'] = 0 # if alcday5 was 0 then avedrink is 0"
   ]
  },
  {
   "cell_type": "code",
   "execution_count": 72,
   "id": "245c21f6",
   "metadata": {},
   "outputs": [
    {
     "data": {
      "text/plain": [
       "4007"
      ]
     },
     "execution_count": 72,
     "metadata": {},
     "output_type": "execute_result"
    }
   ],
   "source": [
    "df['AVEDRNK3'].isna().sum()"
   ]
  },
  {
   "cell_type": "code",
   "execution_count": 73,
   "id": "c5385394",
   "metadata": {},
   "outputs": [
    {
     "data": {
      "text/plain": [
       "count    371209.000000\n",
       "mean          1.150955\n",
       "std           2.044765\n",
       "min           0.000000\n",
       "25%           0.000000\n",
       "50%           1.000000\n",
       "75%           2.000000\n",
       "max          76.000000\n",
       "Name: AVEDRNK3, dtype: float64"
      ]
     },
     "execution_count": 73,
     "metadata": {},
     "output_type": "execute_result"
    }
   ],
   "source": [
    "# Avg alcoholic drinks per day in past 30\n",
    "df['AVEDRNK3'].replace(88, 0, inplace=True)\n",
    "df['AVEDRNK3'].replace([77,99], np.nan, inplace=True)\n",
    "df['AVEDRNK3'].describe()"
   ]
  },
  {
   "cell_type": "code",
   "execution_count": 74,
   "id": "59a8bfe8",
   "metadata": {},
   "outputs": [
    {
     "data": {
      "text/plain": [
       "182423"
      ]
     },
     "execution_count": 74,
     "metadata": {},
     "output_type": "execute_result"
    }
   ],
   "source": [
    "df['DRNK3GE5'].isna().sum()"
   ]
  },
  {
   "cell_type": "code",
   "execution_count": 75,
   "id": "d07a6b13",
   "metadata": {},
   "outputs": [],
   "source": [
    "df.loc[df['ALCDAY5'] == 0, 'DRNK3GE5'] = 0 # if alcday5 was 0 then DRNK3GE5 is 0"
   ]
  },
  {
   "cell_type": "code",
   "execution_count": 76,
   "id": "6d74848a",
   "metadata": {},
   "outputs": [
    {
     "data": {
      "text/plain": [
       "4009"
      ]
     },
     "execution_count": 76,
     "metadata": {},
     "output_type": "execute_result"
    }
   ],
   "source": [
    "df['DRNK3GE5'].isna().sum()"
   ]
  },
  {
   "cell_type": "code",
   "execution_count": 77,
   "id": "3b37366b",
   "metadata": {},
   "outputs": [
    {
     "data": {
      "text/plain": [
       "count    371422.000000\n",
       "mean          0.629893\n",
       "std           2.914485\n",
       "min           0.000000\n",
       "25%           0.000000\n",
       "50%           0.000000\n",
       "75%           0.000000\n",
       "max          76.000000\n",
       "Name: DRNK3GE5, dtype: float64"
      ]
     },
     "execution_count": 77,
     "metadata": {},
     "output_type": "execute_result"
    }
   ],
   "source": [
    "# binge drinking\n",
    "df['DRNK3GE5'].replace(88, 0, inplace=True)\n",
    "df['DRNK3GE5'].replace([77,99], np.nan, inplace=True)\n",
    "df['DRNK3GE5'].describe()"
   ]
  },
  {
   "cell_type": "code",
   "execution_count": 78,
   "id": "00ba4cd0",
   "metadata": {},
   "outputs": [
    {
     "data": {
      "text/plain": [
       "182423"
      ]
     },
     "execution_count": 78,
     "metadata": {},
     "output_type": "execute_result"
    }
   ],
   "source": [
    "df['MAXDRNKS'].isna().sum()"
   ]
  },
  {
   "cell_type": "code",
   "execution_count": 79,
   "id": "b99af912",
   "metadata": {},
   "outputs": [
    {
     "data": {
      "text/plain": [
       "4009"
      ]
     },
     "execution_count": 79,
     "metadata": {},
     "output_type": "execute_result"
    }
   ],
   "source": [
    "df.loc[df['ALCDAY5'] == 0, 'MAXDRNKS'] = 0 # if alcday5 was 0 then MAXDRNKS is 0\n",
    "df['MAXDRNKS'].isna().sum()"
   ]
  },
  {
   "cell_type": "code",
   "execution_count": 80,
   "id": "ae5121cb",
   "metadata": {},
   "outputs": [
    {
     "data": {
      "text/plain": [
       "count    367972.000000\n",
       "mean          1.688732\n",
       "std           2.895279\n",
       "min           0.000000\n",
       "25%           0.000000\n",
       "50%           1.000000\n",
       "75%           2.000000\n",
       "max          76.000000\n",
       "Name: MAXDRNKS, dtype: float64"
      ]
     },
     "execution_count": 80,
     "metadata": {},
     "output_type": "execute_result"
    }
   ],
   "source": [
    "# max drinks on a single occassion\n",
    "df['MAXDRNKS'].replace([77,99], np.nan, inplace=True)\n",
    "df['MAXDRNKS'].describe()"
   ]
  },
  {
   "cell_type": "code",
   "execution_count": 81,
   "id": "4317abf4",
   "metadata": {},
   "outputs": [
    {
     "data": {
      "text/plain": [
       "0"
      ]
     },
     "execution_count": 81,
     "metadata": {},
     "output_type": "execute_result"
    }
   ],
   "source": [
    "df['FLUSHOT7'].isna().sum()"
   ]
  },
  {
   "cell_type": "code",
   "execution_count": 82,
   "id": "09483499",
   "metadata": {},
   "outputs": [
    {
     "data": {
      "text/plain": [
       "count    375138.000000\n",
       "mean          0.523775\n",
       "std           0.499435\n",
       "min           0.000000\n",
       "25%           0.000000\n",
       "50%           1.000000\n",
       "75%           1.000000\n",
       "max           1.000000\n",
       "Name: FLUSHOT7, dtype: float64"
      ]
     },
     "execution_count": 82,
     "metadata": {},
     "output_type": "execute_result"
    }
   ],
   "source": [
    "# adult flu shot/spray past 12 months\n",
    "df['FLUSHOT7'].replace(2, 0, inplace=True)\n",
    "df['FLUSHOT7'].replace([7,9],np.nan, inplace=True)\n",
    "df['FLUSHOT7'].describe()"
   ]
  },
  {
   "cell_type": "code",
   "execution_count": 83,
   "id": "5463eb46",
   "metadata": {},
   "outputs": [],
   "source": [
    "# drop FLSHTMY3, when received flu shot, too much based on specific years and will change as time passes a lot\n",
    "df = df.drop(['FLSHTMY3'], axis=1)"
   ]
  },
  {
   "cell_type": "code",
   "execution_count": 84,
   "id": "2e6c3cb7",
   "metadata": {},
   "outputs": [
    {
     "data": {
      "text/plain": [
       "1"
      ]
     },
     "execution_count": 84,
     "metadata": {},
     "output_type": "execute_result"
    }
   ],
   "source": [
    "df['PNEUVAC4'].isna().sum()"
   ]
  },
  {
   "cell_type": "code",
   "execution_count": 85,
   "id": "ed0a7c4f",
   "metadata": {},
   "outputs": [
    {
     "data": {
      "text/plain": [
       "count    347640.000000\n",
       "mean          0.403282\n",
       "std           0.490557\n",
       "min           0.000000\n",
       "25%           0.000000\n",
       "50%           0.000000\n",
       "75%           1.000000\n",
       "max           1.000000\n",
       "Name: PNEUVAC4, dtype: float64"
      ]
     },
     "execution_count": 85,
     "metadata": {},
     "output_type": "execute_result"
    }
   ],
   "source": [
    "# adult flu shot/spray past 12 months\n",
    "df['PNEUVAC4'].replace(2, 0, inplace=True)\n",
    "df['PNEUVAC4'].replace([7,9],np.nan, inplace=True)\n",
    "df['PNEUVAC4'].describe()"
   ]
  },
  {
   "cell_type": "code",
   "execution_count": 86,
   "id": "a7188d86",
   "metadata": {},
   "outputs": [
    {
     "data": {
      "text/plain": [
       "0"
      ]
     },
     "execution_count": 86,
     "metadata": {},
     "output_type": "execute_result"
    }
   ],
   "source": [
    "df['HIVTST7'].isna().sum()"
   ]
  },
  {
   "cell_type": "code",
   "execution_count": 87,
   "id": "07f105c9",
   "metadata": {},
   "outputs": [
    {
     "data": {
      "text/plain": [
       "count    358728.000000\n",
       "mean          0.335176\n",
       "std           0.472053\n",
       "min           0.000000\n",
       "25%           0.000000\n",
       "50%           0.000000\n",
       "75%           1.000000\n",
       "max           1.000000\n",
       "Name: HIVTST7, dtype: float64"
      ]
     },
     "execution_count": 87,
     "metadata": {},
     "output_type": "execute_result"
    }
   ],
   "source": [
    "# Ever tested for HIV\n",
    "df['HIVTST7'].replace(2, 0, inplace=True)\n",
    "df['HIVTST7'].replace([7,9],np.nan, inplace=True)\n",
    "df['HIVTST7'].describe()"
   ]
  },
  {
   "cell_type": "code",
   "execution_count": 88,
   "id": "d04226c8",
   "metadata": {},
   "outputs": [
    {
     "data": {
      "text/plain": [
       "277516"
      ]
     },
     "execution_count": 88,
     "metadata": {},
     "output_type": "execute_result"
    }
   ],
   "source": [
    "df['PDIABTST'].isna().sum()"
   ]
  },
  {
   "cell_type": "code",
   "execution_count": 89,
   "id": "b312d0f5",
   "metadata": {},
   "outputs": [],
   "source": [
    "# drop PDIABTST, had test for blood sugar, conditional question not asked if told had diabetes\n",
    "df = df.drop(['PDIABTST'], axis=1)"
   ]
  },
  {
   "cell_type": "code",
   "execution_count": 90,
   "id": "2e1acb80",
   "metadata": {},
   "outputs": [],
   "source": [
    "# drop INSULIN1, taking insulin, conditional question not asked if told had diabetes\n",
    "df = df.drop(['INSULIN1'], axis=1)"
   ]
  },
  {
   "cell_type": "code",
   "execution_count": 91,
   "id": "40617816",
   "metadata": {},
   "outputs": [
    {
     "data": {
      "text/plain": [
       "count    371494.000000\n",
       "mean          0.693263\n",
       "std           0.461140\n",
       "min           0.000000\n",
       "25%           0.000000\n",
       "50%           1.000000\n",
       "75%           1.000000\n",
       "max           1.000000\n",
       "Name: _METSTAT, dtype: float64"
      ]
     },
     "execution_count": 91,
     "metadata": {},
     "output_type": "execute_result"
    }
   ],
   "source": [
    "# do you live in a metropolitan area\n",
    "df['_METSTAT'].replace(2, 0, inplace=True)\n",
    "df['_METSTAT'].describe()"
   ]
  },
  {
   "cell_type": "code",
   "execution_count": 92,
   "id": "564482ec",
   "metadata": {},
   "outputs": [
    {
     "data": {
      "text/plain": [
       "count    371494.000000\n",
       "mean          0.854633\n",
       "std           0.352471\n",
       "min           0.000000\n",
       "25%           1.000000\n",
       "50%           1.000000\n",
       "75%           1.000000\n",
       "max           1.000000\n",
       "Name: _URBSTAT, dtype: float64"
      ]
     },
     "execution_count": 92,
     "metadata": {},
     "output_type": "execute_result"
    }
   ],
   "source": [
    "# do you live in a urban area\n",
    "df['_URBSTAT'].replace(2, 0, inplace=True)\n",
    "df['_URBSTAT'].describe()"
   ]
  },
  {
   "cell_type": "code",
   "execution_count": 93,
   "id": "ffe6fe4a",
   "metadata": {},
   "outputs": [
    {
     "data": {
      "text/plain": [
       "count    377880.000000\n",
       "mean          0.766458\n",
       "std           0.423085\n",
       "min           0.000000\n",
       "25%           1.000000\n",
       "50%           1.000000\n",
       "75%           1.000000\n",
       "max           1.000000\n",
       "Name: white, dtype: float64"
      ]
     },
     "execution_count": 93,
     "metadata": {},
     "output_type": "execute_result"
    }
   ],
   "source": [
    "# white, non-hispanic\n",
    "df['white'] = df['_IMPRACE']\n",
    "df['white'].replace(range(2,7), 0, inplace=True)\n",
    "df['white'].describe()"
   ]
  },
  {
   "cell_type": "code",
   "execution_count": 94,
   "id": "8caf10cf",
   "metadata": {},
   "outputs": [
    {
     "data": {
      "text/plain": [
       "count    377880.000000\n",
       "mean          0.070504\n",
       "std           0.255995\n",
       "min           0.000000\n",
       "25%           0.000000\n",
       "50%           0.000000\n",
       "75%           0.000000\n",
       "max           1.000000\n",
       "Name: black, dtype: float64"
      ]
     },
     "execution_count": 94,
     "metadata": {},
     "output_type": "execute_result"
    }
   ],
   "source": [
    "# black, non-hispanic\n",
    "df['black'] = df['_IMPRACE']\n",
    "df['black'].replace([1,3,4,5,6], 0, inplace=True)\n",
    "df['black'].replace(2, 1, inplace=True)\n",
    "df['black'].describe()"
   ]
  },
  {
   "cell_type": "code",
   "execution_count": 95,
   "id": "ef6628d2",
   "metadata": {},
   "outputs": [
    {
     "data": {
      "text/plain": [
       "count    377880.000000\n",
       "mean          0.025664\n",
       "std           0.158132\n",
       "min           0.000000\n",
       "25%           0.000000\n",
       "50%           0.000000\n",
       "75%           0.000000\n",
       "max           1.000000\n",
       "Name: asian, dtype: float64"
      ]
     },
     "execution_count": 95,
     "metadata": {},
     "output_type": "execute_result"
    }
   ],
   "source": [
    "# Asian, non-hispanic\n",
    "df['asian'] = df['_IMPRACE']\n",
    "df['asian'].replace([1,2,4,5,6], 0, inplace=True)\n",
    "df['asian'].replace(3, 1, inplace=True)\n",
    "df['asian'].describe()"
   ]
  },
  {
   "cell_type": "code",
   "execution_count": 96,
   "id": "8ccff7e7",
   "metadata": {},
   "outputs": [
    {
     "data": {
      "text/plain": [
       "count    377880.000000\n",
       "mean          0.016309\n",
       "std           0.126663\n",
       "min           0.000000\n",
       "25%           0.000000\n",
       "50%           0.000000\n",
       "75%           0.000000\n",
       "max           1.000000\n",
       "Name: native, dtype: float64"
      ]
     },
     "execution_count": 96,
     "metadata": {},
     "output_type": "execute_result"
    }
   ],
   "source": [
    "# Native, non-hispanic\n",
    "df['native'] = df['_IMPRACE']\n",
    "df['native'].replace([1,2,3,5,6], 0, inplace=True)\n",
    "df['native'].replace(4, 1, inplace=True)\n",
    "df['native'].describe()"
   ]
  },
  {
   "cell_type": "code",
   "execution_count": 97,
   "id": "2f4d12f2",
   "metadata": {},
   "outputs": [
    {
     "data": {
      "text/plain": [
       "count    377880.000000\n",
       "mean          0.086075\n",
       "std           0.280475\n",
       "min           0.000000\n",
       "25%           0.000000\n",
       "50%           0.000000\n",
       "75%           0.000000\n",
       "max           1.000000\n",
       "Name: hispanic, dtype: float64"
      ]
     },
     "execution_count": 97,
     "metadata": {},
     "output_type": "execute_result"
    }
   ],
   "source": [
    "# Hispanic\n",
    "df['hispanic'] = df['_IMPRACE']\n",
    "df['hispanic'].replace([1,2,3,4,6], 0, inplace=True)\n",
    "df['hispanic'].replace(5, 1, inplace=True)\n",
    "df['hispanic'].describe()"
   ]
  },
  {
   "cell_type": "code",
   "execution_count": 98,
   "id": "c63605c5",
   "metadata": {},
   "outputs": [],
   "source": [
    "df = df.drop(['_IMPRACE'], axis=1) # data extracted above"
   ]
  },
  {
   "cell_type": "code",
   "execution_count": 99,
   "id": "9be4a4ab",
   "metadata": {},
   "outputs": [
    {
     "data": {
      "text/plain": [
       "0"
      ]
     },
     "execution_count": 99,
     "metadata": {},
     "output_type": "execute_result"
    }
   ],
   "source": [
    "df['_HLTHPLN'].isna().sum()"
   ]
  },
  {
   "cell_type": "code",
   "execution_count": 100,
   "id": "4c07c3d6",
   "metadata": {},
   "outputs": [
    {
     "data": {
      "text/plain": [
       "count    365333.000000\n",
       "mean          0.947470\n",
       "std           0.223094\n",
       "min           0.000000\n",
       "25%           1.000000\n",
       "50%           1.000000\n",
       "75%           1.000000\n",
       "max           1.000000\n",
       "Name: _HLTHPLN, dtype: float64"
      ]
     },
     "execution_count": 100,
     "metadata": {},
     "output_type": "execute_result"
    }
   ],
   "source": [
    "# health insurance\n",
    "df['_HLTHPLN'].replace(2, 0, inplace=True)\n",
    "df['_HLTHPLN'].replace(9,np.nan, inplace=True)\n",
    "df['_HLTHPLN'].describe()"
   ]
  },
  {
   "cell_type": "code",
   "execution_count": 101,
   "id": "caed7b3a",
   "metadata": {},
   "outputs": [
    {
     "data": {
      "text/plain": [
       "0"
      ]
     },
     "execution_count": 101,
     "metadata": {},
     "output_type": "execute_result"
    }
   ],
   "source": [
    "df['_AGE80'].isna().sum()"
   ]
  },
  {
   "cell_type": "code",
   "execution_count": 102,
   "id": "addfab27",
   "metadata": {},
   "outputs": [
    {
     "data": {
      "text/plain": [
       "count    377880.000000\n",
       "mean         54.709617\n",
       "std          17.488837\n",
       "min          18.000000\n",
       "25%          41.000000\n",
       "50%          57.000000\n",
       "75%          69.000000\n",
       "max          80.000000\n",
       "Name: _AGE80, dtype: float64"
      ]
     },
     "execution_count": 102,
     "metadata": {},
     "output_type": "execute_result"
    }
   ],
   "source": [
    "# age\n",
    "df['_AGE80'].describe()"
   ]
  },
  {
   "cell_type": "code",
   "execution_count": 103,
   "id": "4c3a1b4b",
   "metadata": {},
   "outputs": [
    {
     "data": {
      "text/plain": [
       "9909"
      ]
     },
     "execution_count": 103,
     "metadata": {},
     "output_type": "execute_result"
    }
   ],
   "source": [
    "df['HTIN4'].isna().sum()"
   ]
  },
  {
   "cell_type": "code",
   "execution_count": 104,
   "id": "59f0985b",
   "metadata": {},
   "outputs": [
    {
     "data": {
      "text/plain": [
       "count    367971.000000\n",
       "mean         67.049903\n",
       "std           4.177907\n",
       "min          36.000000\n",
       "25%          64.000000\n",
       "50%          67.000000\n",
       "75%          70.000000\n",
       "max          95.000000\n",
       "Name: HTIN4, dtype: float64"
      ]
     },
     "execution_count": 104,
     "metadata": {},
     "output_type": "execute_result"
    }
   ],
   "source": [
    "# height in inches\n",
    "df['HTIN4'].describe()"
   ]
  },
  {
   "cell_type": "code",
   "execution_count": 105,
   "id": "ba4948af",
   "metadata": {},
   "outputs": [
    {
     "data": {
      "text/plain": [
       "21273"
      ]
     },
     "execution_count": 105,
     "metadata": {},
     "output_type": "execute_result"
    }
   ],
   "source": [
    "df['WTKG3'].isna().sum()"
   ]
  },
  {
   "cell_type": "code",
   "execution_count": 106,
   "id": "e58dadcb",
   "metadata": {},
   "outputs": [
    {
     "data": {
      "text/plain": [
       "count    356607.000000\n",
       "mean       8327.375545\n",
       "std        2141.156477\n",
       "min        2268.000000\n",
       "25%        6804.000000\n",
       "50%        8119.000000\n",
       "75%        9525.000000\n",
       "max       29302.000000\n",
       "Name: WTKG3, dtype: float64"
      ]
     },
     "execution_count": 106,
     "metadata": {},
     "output_type": "execute_result"
    }
   ],
   "source": [
    "# weight in kilograms\n",
    "df['WTKG3'] /= 100\n",
    "df['WTKG3'].describe()"
   ]
  },
  {
   "cell_type": "code",
   "execution_count": 107,
   "id": "3057e26a",
   "metadata": {},
   "outputs": [
    {
     "data": {
      "text/plain": [
       "0"
      ]
     },
     "execution_count": 107,
     "metadata": {},
     "output_type": "execute_result"
    }
   ],
   "source": [
    "df['_EDUCAG'].isna().sum()"
   ]
  },
  {
   "cell_type": "code",
   "execution_count": 108,
   "id": "595beff3",
   "metadata": {},
   "outputs": [
    {
     "data": {
      "text/plain": [
       "1346"
      ]
     },
     "execution_count": 108,
     "metadata": {},
     "output_type": "execute_result"
    }
   ],
   "source": [
    "df['_EDUCAG'].replace(9,np.nan,inplace=True)\n",
    "df['_EDUCAG'].isna().sum()"
   ]
  },
  {
   "cell_type": "code",
   "execution_count": 109,
   "id": "19c22f0c",
   "metadata": {},
   "outputs": [
    {
     "data": {
      "text/plain": [
       "count    376534.000000\n",
       "mean          0.054301\n",
       "std           0.226610\n",
       "min           0.000000\n",
       "25%           0.000000\n",
       "50%           0.000000\n",
       "75%           0.000000\n",
       "max           1.000000\n",
       "Name: not_graduate_high_school, dtype: float64"
      ]
     },
     "execution_count": 109,
     "metadata": {},
     "output_type": "execute_result"
    }
   ],
   "source": [
    "# Did not graduate High School\n",
    "df['not_graduate_high_school'] = df['_EDUCAG']\n",
    "df['not_graduate_high_school'].replace([2,3,4], 0, inplace=True)\n",
    "df['not_graduate_high_school'].describe()"
   ]
  },
  {
   "cell_type": "code",
   "execution_count": 110,
   "id": "79630d96",
   "metadata": {},
   "outputs": [
    {
     "data": {
      "text/plain": [
       "count    376534.000000\n",
       "mean          0.246910\n",
       "std           0.431214\n",
       "min           0.000000\n",
       "25%           0.000000\n",
       "50%           0.000000\n",
       "75%           0.000000\n",
       "max           1.000000\n",
       "Name: graduated_high_school, dtype: float64"
      ]
     },
     "execution_count": 110,
     "metadata": {},
     "output_type": "execute_result"
    }
   ],
   "source": [
    "# Graduated High School\n",
    "df['graduated_high_school'] = df['_EDUCAG']\n",
    "df['graduated_high_school'].replace([1,3,4], 0, inplace=True)\n",
    "df['graduated_high_school'].replace(2, 1, inplace=True)\n",
    "df['graduated_high_school'].describe()"
   ]
  },
  {
   "cell_type": "code",
   "execution_count": 111,
   "id": "da3da687",
   "metadata": {},
   "outputs": [
    {
     "data": {
      "text/plain": [
       "count    376534.000000\n",
       "mean          0.277404\n",
       "std           0.447718\n",
       "min           0.000000\n",
       "25%           0.000000\n",
       "50%           0.000000\n",
       "75%           1.000000\n",
       "max           1.000000\n",
       "Name: attended_college, dtype: float64"
      ]
     },
     "execution_count": 111,
     "metadata": {},
     "output_type": "execute_result"
    }
   ],
   "source": [
    "# Attended College or Technical School\n",
    "df['attended_college'] = df['_EDUCAG']\n",
    "df['attended_college'].replace([1,2,4], 0, inplace=True)\n",
    "df['attended_college'].replace(3, 1, inplace=True)\n",
    "df['attended_college'].describe()"
   ]
  },
  {
   "cell_type": "code",
   "execution_count": 112,
   "id": "7dc05c6c",
   "metadata": {},
   "outputs": [
    {
     "data": {
      "text/plain": [
       "count    376534.000000\n",
       "mean          0.421386\n",
       "std           0.493782\n",
       "min           0.000000\n",
       "25%           0.000000\n",
       "50%           0.000000\n",
       "75%           1.000000\n",
       "max           1.000000\n",
       "Name: graduated_college, dtype: float64"
      ]
     },
     "execution_count": 112,
     "metadata": {},
     "output_type": "execute_result"
    }
   ],
   "source": [
    "# Graduated from College\n",
    "df['graduated_college'] = df['_EDUCAG']\n",
    "df['graduated_college'].replace([1,2,3], 0, inplace=True)\n",
    "df['graduated_college'].replace(4, 1, inplace=True)\n",
    "df['graduated_college'].describe()"
   ]
  },
  {
   "cell_type": "code",
   "execution_count": 113,
   "id": "53cfeb71",
   "metadata": {},
   "outputs": [],
   "source": [
    "df = df.drop(['_EDUCAG'], axis=1) # data extracted above"
   ]
  },
  {
   "cell_type": "code",
   "execution_count": 114,
   "id": "5f3f482b",
   "metadata": {},
   "outputs": [
    {
     "data": {
      "text/plain": [
       "0"
      ]
     },
     "execution_count": 114,
     "metadata": {},
     "output_type": "execute_result"
    }
   ],
   "source": [
    "df['_INCOMG1'].isna().sum()"
   ]
  },
  {
   "cell_type": "code",
   "execution_count": 115,
   "id": "54753716",
   "metadata": {},
   "outputs": [
    {
     "data": {
      "text/plain": [
       "count    310561.000000\n",
       "mean          4.371444\n",
       "std           1.604624\n",
       "min           1.000000\n",
       "25%           3.000000\n",
       "50%           5.000000\n",
       "75%           6.000000\n",
       "max           7.000000\n",
       "Name: _INCOMG1, dtype: float64"
      ]
     },
     "execution_count": 115,
     "metadata": {},
     "output_type": "execute_result"
    }
   ],
   "source": [
    "df['_INCOMG1'].replace(9,np.nan, inplace=True)\n",
    "df['_INCOMG1'].describe()"
   ]
  },
  {
   "cell_type": "code",
   "execution_count": 116,
   "id": "26d82e7b",
   "metadata": {},
   "outputs": [
    {
     "data": {
      "text/plain": [
       "4349"
      ]
     },
     "execution_count": 116,
     "metadata": {},
     "output_type": "execute_result"
    }
   ],
   "source": [
    "df['FTJUDA2_'].isna().sum()"
   ]
  },
  {
   "cell_type": "code",
   "execution_count": 117,
   "id": "e9cce371",
   "metadata": {},
   "outputs": [
    {
     "data": {
      "text/plain": [
       "count    3.735310e+05\n",
       "mean     4.362214e-01\n",
       "std      3.576845e+00\n",
       "min      5.397605e-81\n",
       "25%      5.397605e-81\n",
       "50%      3.000000e-02\n",
       "75%      2.900000e-01\n",
       "max      9.900000e+01\n",
       "Name: FTJUDA2_, dtype: float64"
      ]
     },
     "execution_count": 117,
     "metadata": {},
     "output_type": "execute_result"
    }
   ],
   "source": [
    "#fruit juice intake in times per day\n",
    "df['FTJUDA2_'] /= 100\n",
    "df['FTJUDA2_'].round(2)\n",
    "df['FTJUDA2_'].describe()"
   ]
  },
  {
   "cell_type": "code",
   "execution_count": 118,
   "id": "a168858d",
   "metadata": {},
   "outputs": [
    {
     "data": {
      "text/plain": [
       "4676"
      ]
     },
     "execution_count": 118,
     "metadata": {},
     "output_type": "execute_result"
    }
   ],
   "source": [
    "df['FRUTDA2_'].isna().sum()"
   ]
  },
  {
   "cell_type": "code",
   "execution_count": 119,
   "id": "7ab8cfb2",
   "metadata": {},
   "outputs": [
    {
     "data": {
      "text/plain": [
       "count    3.732040e+05\n",
       "mean     1.334253e+00\n",
       "std      4.913100e+00\n",
       "min      5.397605e-81\n",
       "25%      4.300000e-01\n",
       "50%      1.000000e+00\n",
       "75%      1.000000e+00\n",
       "max      9.900000e+01\n",
       "Name: FRUTDA2_, dtype: float64"
      ]
     },
     "execution_count": 119,
     "metadata": {},
     "output_type": "execute_result"
    }
   ],
   "source": [
    "# Fruit intake in times per day\n",
    "df['FRUTDA2_'] /= 100\n",
    "df['FRUTDA2_'].round(2)\n",
    "df['FRUTDA2_'].describe()"
   ]
  },
  {
   "cell_type": "code",
   "execution_count": 120,
   "id": "c05156b9",
   "metadata": {},
   "outputs": [
    {
     "data": {
      "text/plain": [
       "0"
      ]
     },
     "execution_count": 120,
     "metadata": {},
     "output_type": "execute_result"
    }
   ],
   "source": [
    "df['GRENDA1_'].isna().sum()"
   ]
  },
  {
   "cell_type": "code",
   "execution_count": 121,
   "id": "2285732d",
   "metadata": {},
   "outputs": [
    {
     "data": {
      "text/plain": [
       "count    3.778800e+05\n",
       "mean     7.894822e-01\n",
       "std      4.633036e+00\n",
       "min      5.397605e-81\n",
       "25%      1.400000e-01\n",
       "50%      4.300000e-01\n",
       "75%      7.100000e-01\n",
       "max      9.900000e+01\n",
       "Name: GRENDA1_, dtype: float64"
      ]
     },
     "execution_count": 121,
     "metadata": {},
     "output_type": "execute_result"
    }
   ],
   "source": [
    "# Dark Green Vegetable intake in times per day\n",
    "df['GRENDA1_'] /= 100\n",
    "df['GRENDA1_'].round(2)\n",
    "df['GRENDA1_'].describe()"
   ]
  },
  {
   "cell_type": "code",
   "execution_count": 122,
   "id": "73e85567",
   "metadata": {},
   "outputs": [
    {
     "data": {
      "text/plain": [
       "0"
      ]
     },
     "execution_count": 122,
     "metadata": {},
     "output_type": "execute_result"
    }
   ],
   "source": [
    "df['FRNCHDA_'].isna().sum()"
   ]
  },
  {
   "cell_type": "code",
   "execution_count": 123,
   "id": "e689e872",
   "metadata": {},
   "outputs": [
    {
     "data": {
      "text/plain": [
       "count    3.778800e+05\n",
       "mean     2.527462e-01\n",
       "std      1.656265e+00\n",
       "min      5.397605e-81\n",
       "25%      3.000000e-02\n",
       "50%      1.400000e-01\n",
       "75%      2.900000e-01\n",
       "max      9.900000e+01\n",
       "Name: FRNCHDA_, dtype: float64"
      ]
     },
     "execution_count": 123,
     "metadata": {},
     "output_type": "execute_result"
    }
   ],
   "source": [
    "# French Fry intake in times per day\n",
    "df['FRNCHDA_'] /= 100\n",
    "df['FRNCHDA_'].round(2)\n",
    "df['FRNCHDA_'].describe()"
   ]
  },
  {
   "cell_type": "code",
   "execution_count": 124,
   "id": "3ff3565f",
   "metadata": {},
   "outputs": [
    {
     "data": {
      "text/plain": [
       "0"
      ]
     },
     "execution_count": 124,
     "metadata": {},
     "output_type": "execute_result"
    }
   ],
   "source": [
    "df['POTADA1_'].isna().sum()"
   ]
  },
  {
   "cell_type": "code",
   "execution_count": 125,
   "id": "8c7ed9f5",
   "metadata": {},
   "outputs": [
    {
     "data": {
      "text/plain": [
       "count    3.778800e+05\n",
       "mean     2.838135e-01\n",
       "std      1.777598e+00\n",
       "min      5.397605e-81\n",
       "25%      7.000000e-02\n",
       "50%      1.400000e-01\n",
       "75%      2.900000e-01\n",
       "max      9.900000e+01\n",
       "Name: POTADA1_, dtype: float64"
      ]
     },
     "execution_count": 125,
     "metadata": {},
     "output_type": "execute_result"
    }
   ],
   "source": [
    "# Potato Servings per day\n",
    "df['POTADA1_'] /= 100\n",
    "df['POTADA1_'].round(2)\n",
    "df['POTADA1_'].describe()"
   ]
  },
  {
   "cell_type": "code",
   "execution_count": 126,
   "id": "59d00982",
   "metadata": {},
   "outputs": [
    {
     "data": {
      "text/plain": [
       "0"
      ]
     },
     "execution_count": 126,
     "metadata": {},
     "output_type": "execute_result"
    }
   ],
   "source": [
    "df['VEGEDA2_'].isna().sum()"
   ]
  },
  {
   "cell_type": "code",
   "execution_count": 127,
   "id": "38e41030",
   "metadata": {},
   "outputs": [
    {
     "data": {
      "text/plain": [
       "count    3.778800e+05\n",
       "mean     1.388093e+00\n",
       "std      6.451475e+00\n",
       "min      5.397605e-81\n",
       "25%      4.300000e-01\n",
       "50%      9.300000e-01\n",
       "75%      1.000000e+00\n",
       "max      9.900000e+01\n",
       "Name: VEGEDA2_, dtype: float64"
      ]
     },
     "execution_count": 127,
     "metadata": {},
     "output_type": "execute_result"
    }
   ],
   "source": [
    "# Other Vegetable intake in times per day\n",
    "df['VEGEDA2_'] /= 100\n",
    "df['VEGEDA2_'].round(2)\n",
    "df['VEGEDA2_'].describe()"
   ]
  },
  {
   "cell_type": "code",
   "execution_count": 128,
   "id": "72b393ce",
   "metadata": {},
   "outputs": [
    {
     "name": "stdout",
     "output_type": "stream",
     "text": [
      "No. of columns containing null values\n",
      "80\n",
      "No. of columns not containing null values\n",
      "18\n",
      "Total no. of columns in the dataframe\n",
      "98\n"
     ]
    }
   ],
   "source": [
    "# remove colums containing string values\n",
    "\n",
    "print(\"No. of columns containing null values\")\n",
    "print(len(df.columns[df.isna().any()]))\n",
    "\n",
    "print(\"No. of columns not containing null values\")\n",
    "print(len(df.columns[df.notna().all()]))\n",
    "\n",
    "print(\"Total no. of columns in the dataframe\")\n",
    "print(len(df.columns))\n",
    "\n",
    "#df = df.dropna(axis=1)\n",
    "#df.shape"
   ]
  },
  {
   "cell_type": "code",
   "execution_count": 129,
   "id": "370c0dde",
   "metadata": {},
   "outputs": [
    {
     "data": {
      "text/plain": [
       "Index(['Unnamed: 0.1', 'Unnamed: 0', 'SEXVAR', 'GENHLTH', 'PHYSHLTH',\n",
       "       'MENTHLTH', 'POORHLTH', 'PERSDOC3', 'MEDCOST1', 'CHECKUP1', 'EXERANY2',\n",
       "       'BPMEDS', 'TOLDHI3', 'CHOLMED3', 'CVDINFR4', 'CVDCRHD4', 'CVDSTRK3',\n",
       "       'ASTHMA3', 'ASTHNOW', 'CHCSCNCR', 'CHCOCNCR', 'CHCCOPD3', 'ADDEPEV3',\n",
       "       'CHCKDNY2', 'DIABETE4', 'HAVARTH5', 'VETERAN3', 'PREGNANT', 'DEAF',\n",
       "       'BLIND', 'DECIDE', 'DIFFWALK', 'DIFFDRES', 'DIFFALON', 'SMOKE100',\n",
       "       'ALCDAY5', 'AVEDRNK3', 'DRNK3GE5', 'MAXDRNKS', 'FLUSHOT7', 'PNEUVAC4',\n",
       "       'HIVTST7', '_METSTAT', '_URBSTAT', '_WT2RAKE', '_PHYS14D', '_HLTHPLN',\n",
       "       '_AGE80', 'HTIN4', 'WTKG3', '_INCOMG1', 'FTJUDA2_', 'FRUTDA2_',\n",
       "       'GRENDA1_', 'FRNCHDA_', 'POTADA1_', 'VEGEDA2_', '_MISFRT1',\n",
       "       'high_blood_pressure', 'pregnant_high_blood_pressure',\n",
       "       'borderline_high_blood_pressure', 'cholesterol_checked_within_year',\n",
       "       'married', 'divorced', 'widowed', 'separated', 'never_married',\n",
       "       'unmarried_couple', 'own_house', 'renting', 'other_arrangement_housing',\n",
       "       'employed_for_wages', 'self_employed', 'out_of_work_year_plus',\n",
       "       'out_of_work_year_less', 'homemaker', 'student', 'retired',\n",
       "       'unable_to_work', 'smoke_every_day', 'smoke_some_days',\n",
       "       'smoke_not_at_all', 'smokeless_every_day', 'smokeless_some_days',\n",
       "       'smokeless_not_at_all', 'ecig_every_day', 'ecig_some_days',\n",
       "       'ecig_not_at_all', 'ecig_never_used', 'white', 'black', 'asian',\n",
       "       'native', 'hispanic', 'not_graduate_high_school',\n",
       "       'graduated_high_school', 'attended_college', 'graduated_college'],\n",
       "      dtype='object')"
      ]
     },
     "execution_count": 129,
     "metadata": {},
     "output_type": "execute_result"
    }
   ],
   "source": [
    "df.columns"
   ]
  },
  {
   "cell_type": "code",
   "execution_count": 130,
   "id": "77676956",
   "metadata": {},
   "outputs": [],
   "source": [
    "df = df.drop(df.columns[0:2],axis = 1)"
   ]
  },
  {
   "cell_type": "code",
   "execution_count": 131,
   "id": "3fa5942c",
   "metadata": {},
   "outputs": [
    {
     "data": {
      "text/plain": [
       "Index(['SEXVAR', 'GENHLTH', 'PHYSHLTH', 'MENTHLTH', 'POORHLTH', 'PERSDOC3',\n",
       "       'MEDCOST1', 'CHECKUP1', 'EXERANY2', 'BPMEDS', 'TOLDHI3', 'CHOLMED3',\n",
       "       'CVDINFR4', 'CVDCRHD4', 'CVDSTRK3', 'ASTHMA3', 'ASTHNOW', 'CHCSCNCR',\n",
       "       'CHCOCNCR', 'CHCCOPD3', 'ADDEPEV3', 'CHCKDNY2', 'DIABETE4', 'HAVARTH5',\n",
       "       'VETERAN3', 'PREGNANT', 'DEAF', 'BLIND', 'DECIDE', 'DIFFWALK',\n",
       "       'DIFFDRES', 'DIFFALON', 'SMOKE100', 'ALCDAY5', 'AVEDRNK3', 'DRNK3GE5',\n",
       "       'MAXDRNKS', 'FLUSHOT7', 'PNEUVAC4', 'HIVTST7', '_METSTAT', '_URBSTAT',\n",
       "       '_WT2RAKE', '_PHYS14D', '_HLTHPLN', '_AGE80', 'HTIN4', 'WTKG3',\n",
       "       '_INCOMG1', 'FTJUDA2_', 'FRUTDA2_', 'GRENDA1_', 'FRNCHDA_', 'POTADA1_',\n",
       "       'VEGEDA2_', '_MISFRT1', 'high_blood_pressure',\n",
       "       'pregnant_high_blood_pressure', 'borderline_high_blood_pressure',\n",
       "       'cholesterol_checked_within_year', 'married', 'divorced', 'widowed',\n",
       "       'separated', 'never_married', 'unmarried_couple', 'own_house',\n",
       "       'renting', 'other_arrangement_housing', 'employed_for_wages',\n",
       "       'self_employed', 'out_of_work_year_plus', 'out_of_work_year_less',\n",
       "       'homemaker', 'student', 'retired', 'unable_to_work', 'smoke_every_day',\n",
       "       'smoke_some_days', 'smoke_not_at_all', 'smokeless_every_day',\n",
       "       'smokeless_some_days', 'smokeless_not_at_all', 'ecig_every_day',\n",
       "       'ecig_some_days', 'ecig_not_at_all', 'ecig_never_used', 'white',\n",
       "       'black', 'asian', 'native', 'hispanic', 'not_graduate_high_school',\n",
       "       'graduated_high_school', 'attended_college', 'graduated_college'],\n",
       "      dtype='object')"
      ]
     },
     "execution_count": 131,
     "metadata": {},
     "output_type": "execute_result"
    }
   ],
   "source": [
    "df.columns"
   ]
  },
  {
   "cell_type": "code",
   "execution_count": 132,
   "id": "7a25a65c",
   "metadata": {},
   "outputs": [
    {
     "data": {
      "text/html": [
       "<div>\n",
       "<style scoped>\n",
       "    .dataframe tbody tr th:only-of-type {\n",
       "        vertical-align: middle;\n",
       "    }\n",
       "\n",
       "    .dataframe tbody tr th {\n",
       "        vertical-align: top;\n",
       "    }\n",
       "\n",
       "    .dataframe thead th {\n",
       "        text-align: right;\n",
       "    }\n",
       "</style>\n",
       "<table border=\"1\" class=\"dataframe\">\n",
       "  <thead>\n",
       "    <tr style=\"text-align: right;\">\n",
       "      <th></th>\n",
       "      <th>SEXVAR</th>\n",
       "      <th>GENHLTH</th>\n",
       "      <th>PHYSHLTH</th>\n",
       "      <th>MENTHLTH</th>\n",
       "      <th>POORHLTH</th>\n",
       "      <th>PERSDOC3</th>\n",
       "      <th>MEDCOST1</th>\n",
       "      <th>CHECKUP1</th>\n",
       "      <th>EXERANY2</th>\n",
       "      <th>BPMEDS</th>\n",
       "      <th>...</th>\n",
       "      <th>ecig_never_used</th>\n",
       "      <th>white</th>\n",
       "      <th>black</th>\n",
       "      <th>asian</th>\n",
       "      <th>native</th>\n",
       "      <th>hispanic</th>\n",
       "      <th>not_graduate_high_school</th>\n",
       "      <th>graduated_high_school</th>\n",
       "      <th>attended_college</th>\n",
       "      <th>graduated_college</th>\n",
       "    </tr>\n",
       "  </thead>\n",
       "  <tbody>\n",
       "    <tr>\n",
       "      <th>count</th>\n",
       "      <td>377880.000000</td>\n",
       "      <td>377880.000000</td>\n",
       "      <td>371439.000000</td>\n",
       "      <td>372553.000000</td>\n",
       "      <td>374393.000000</td>\n",
       "      <td>375303.000000</td>\n",
       "      <td>377020.000000</td>\n",
       "      <td>373877.000000</td>\n",
       "      <td>377345.000000</td>\n",
       "      <td>377549.000000</td>\n",
       "      <td>...</td>\n",
       "      <td>377373.000000</td>\n",
       "      <td>377880.000000</td>\n",
       "      <td>377880.000000</td>\n",
       "      <td>377880.000000</td>\n",
       "      <td>377880.000000</td>\n",
       "      <td>377880.000000</td>\n",
       "      <td>376534.000000</td>\n",
       "      <td>376534.000000</td>\n",
       "      <td>376534.000000</td>\n",
       "      <td>376534.000000</td>\n",
       "    </tr>\n",
       "    <tr>\n",
       "      <th>mean</th>\n",
       "      <td>0.538470</td>\n",
       "      <td>1.502662</td>\n",
       "      <td>3.776157</td>\n",
       "      <td>4.125131</td>\n",
       "      <td>2.742533</td>\n",
       "      <td>0.883156</td>\n",
       "      <td>0.073198</td>\n",
       "      <td>0.778128</td>\n",
       "      <td>0.763654</td>\n",
       "      <td>0.325791</td>\n",
       "      <td>...</td>\n",
       "      <td>0.203268</td>\n",
       "      <td>0.766458</td>\n",
       "      <td>0.070504</td>\n",
       "      <td>0.025664</td>\n",
       "      <td>0.016309</td>\n",
       "      <td>0.086075</td>\n",
       "      <td>0.054301</td>\n",
       "      <td>0.246910</td>\n",
       "      <td>0.277404</td>\n",
       "      <td>0.421386</td>\n",
       "    </tr>\n",
       "    <tr>\n",
       "      <th>std</th>\n",
       "      <td>0.498519</td>\n",
       "      <td>1.043368</td>\n",
       "      <td>8.303671</td>\n",
       "      <td>8.133648</td>\n",
       "      <td>7.011285</td>\n",
       "      <td>0.321235</td>\n",
       "      <td>0.260461</td>\n",
       "      <td>0.415506</td>\n",
       "      <td>0.424838</td>\n",
       "      <td>0.468670</td>\n",
       "      <td>...</td>\n",
       "      <td>0.402431</td>\n",
       "      <td>0.423085</td>\n",
       "      <td>0.255995</td>\n",
       "      <td>0.158132</td>\n",
       "      <td>0.126663</td>\n",
       "      <td>0.280475</td>\n",
       "      <td>0.226610</td>\n",
       "      <td>0.431214</td>\n",
       "      <td>0.447718</td>\n",
       "      <td>0.493782</td>\n",
       "    </tr>\n",
       "    <tr>\n",
       "      <th>min</th>\n",
       "      <td>0.000000</td>\n",
       "      <td>0.000000</td>\n",
       "      <td>0.000000</td>\n",
       "      <td>0.000000</td>\n",
       "      <td>0.000000</td>\n",
       "      <td>0.000000</td>\n",
       "      <td>0.000000</td>\n",
       "      <td>0.000000</td>\n",
       "      <td>0.000000</td>\n",
       "      <td>0.000000</td>\n",
       "      <td>...</td>\n",
       "      <td>0.000000</td>\n",
       "      <td>0.000000</td>\n",
       "      <td>0.000000</td>\n",
       "      <td>0.000000</td>\n",
       "      <td>0.000000</td>\n",
       "      <td>0.000000</td>\n",
       "      <td>0.000000</td>\n",
       "      <td>0.000000</td>\n",
       "      <td>0.000000</td>\n",
       "      <td>0.000000</td>\n",
       "    </tr>\n",
       "    <tr>\n",
       "      <th>25%</th>\n",
       "      <td>0.000000</td>\n",
       "      <td>1.000000</td>\n",
       "      <td>0.000000</td>\n",
       "      <td>0.000000</td>\n",
       "      <td>0.000000</td>\n",
       "      <td>1.000000</td>\n",
       "      <td>0.000000</td>\n",
       "      <td>1.000000</td>\n",
       "      <td>1.000000</td>\n",
       "      <td>0.000000</td>\n",
       "      <td>...</td>\n",
       "      <td>0.000000</td>\n",
       "      <td>1.000000</td>\n",
       "      <td>0.000000</td>\n",
       "      <td>0.000000</td>\n",
       "      <td>0.000000</td>\n",
       "      <td>0.000000</td>\n",
       "      <td>0.000000</td>\n",
       "      <td>0.000000</td>\n",
       "      <td>0.000000</td>\n",
       "      <td>0.000000</td>\n",
       "    </tr>\n",
       "    <tr>\n",
       "      <th>50%</th>\n",
       "      <td>1.000000</td>\n",
       "      <td>1.000000</td>\n",
       "      <td>0.000000</td>\n",
       "      <td>0.000000</td>\n",
       "      <td>0.000000</td>\n",
       "      <td>1.000000</td>\n",
       "      <td>0.000000</td>\n",
       "      <td>1.000000</td>\n",
       "      <td>1.000000</td>\n",
       "      <td>0.000000</td>\n",
       "      <td>...</td>\n",
       "      <td>0.000000</td>\n",
       "      <td>1.000000</td>\n",
       "      <td>0.000000</td>\n",
       "      <td>0.000000</td>\n",
       "      <td>0.000000</td>\n",
       "      <td>0.000000</td>\n",
       "      <td>0.000000</td>\n",
       "      <td>0.000000</td>\n",
       "      <td>0.000000</td>\n",
       "      <td>0.000000</td>\n",
       "    </tr>\n",
       "    <tr>\n",
       "      <th>75%</th>\n",
       "      <td>1.000000</td>\n",
       "      <td>2.000000</td>\n",
       "      <td>2.000000</td>\n",
       "      <td>4.000000</td>\n",
       "      <td>0.000000</td>\n",
       "      <td>1.000000</td>\n",
       "      <td>0.000000</td>\n",
       "      <td>1.000000</td>\n",
       "      <td>1.000000</td>\n",
       "      <td>1.000000</td>\n",
       "      <td>...</td>\n",
       "      <td>0.000000</td>\n",
       "      <td>1.000000</td>\n",
       "      <td>0.000000</td>\n",
       "      <td>0.000000</td>\n",
       "      <td>0.000000</td>\n",
       "      <td>0.000000</td>\n",
       "      <td>0.000000</td>\n",
       "      <td>0.000000</td>\n",
       "      <td>1.000000</td>\n",
       "      <td>1.000000</td>\n",
       "    </tr>\n",
       "    <tr>\n",
       "      <th>max</th>\n",
       "      <td>1.000000</td>\n",
       "      <td>4.000000</td>\n",
       "      <td>30.000000</td>\n",
       "      <td>30.000000</td>\n",
       "      <td>30.000000</td>\n",
       "      <td>1.000000</td>\n",
       "      <td>1.000000</td>\n",
       "      <td>1.000000</td>\n",
       "      <td>1.000000</td>\n",
       "      <td>1.000000</td>\n",
       "      <td>...</td>\n",
       "      <td>1.000000</td>\n",
       "      <td>1.000000</td>\n",
       "      <td>1.000000</td>\n",
       "      <td>1.000000</td>\n",
       "      <td>1.000000</td>\n",
       "      <td>1.000000</td>\n",
       "      <td>1.000000</td>\n",
       "      <td>1.000000</td>\n",
       "      <td>1.000000</td>\n",
       "      <td>1.000000</td>\n",
       "    </tr>\n",
       "  </tbody>\n",
       "</table>\n",
       "<p>8 rows × 96 columns</p>\n",
       "</div>"
      ],
      "text/plain": [
       "              SEXVAR        GENHLTH       PHYSHLTH       MENTHLTH  \\\n",
       "count  377880.000000  377880.000000  371439.000000  372553.000000   \n",
       "mean        0.538470       1.502662       3.776157       4.125131   \n",
       "std         0.498519       1.043368       8.303671       8.133648   \n",
       "min         0.000000       0.000000       0.000000       0.000000   \n",
       "25%         0.000000       1.000000       0.000000       0.000000   \n",
       "50%         1.000000       1.000000       0.000000       0.000000   \n",
       "75%         1.000000       2.000000       2.000000       4.000000   \n",
       "max         1.000000       4.000000      30.000000      30.000000   \n",
       "\n",
       "            POORHLTH       PERSDOC3       MEDCOST1       CHECKUP1  \\\n",
       "count  374393.000000  375303.000000  377020.000000  373877.000000   \n",
       "mean        2.742533       0.883156       0.073198       0.778128   \n",
       "std         7.011285       0.321235       0.260461       0.415506   \n",
       "min         0.000000       0.000000       0.000000       0.000000   \n",
       "25%         0.000000       1.000000       0.000000       1.000000   \n",
       "50%         0.000000       1.000000       0.000000       1.000000   \n",
       "75%         0.000000       1.000000       0.000000       1.000000   \n",
       "max        30.000000       1.000000       1.000000       1.000000   \n",
       "\n",
       "            EXERANY2         BPMEDS  ...  ecig_never_used          white  \\\n",
       "count  377345.000000  377549.000000  ...    377373.000000  377880.000000   \n",
       "mean        0.763654       0.325791  ...         0.203268       0.766458   \n",
       "std         0.424838       0.468670  ...         0.402431       0.423085   \n",
       "min         0.000000       0.000000  ...         0.000000       0.000000   \n",
       "25%         1.000000       0.000000  ...         0.000000       1.000000   \n",
       "50%         1.000000       0.000000  ...         0.000000       1.000000   \n",
       "75%         1.000000       1.000000  ...         0.000000       1.000000   \n",
       "max         1.000000       1.000000  ...         1.000000       1.000000   \n",
       "\n",
       "               black          asian         native       hispanic  \\\n",
       "count  377880.000000  377880.000000  377880.000000  377880.000000   \n",
       "mean        0.070504       0.025664       0.016309       0.086075   \n",
       "std         0.255995       0.158132       0.126663       0.280475   \n",
       "min         0.000000       0.000000       0.000000       0.000000   \n",
       "25%         0.000000       0.000000       0.000000       0.000000   \n",
       "50%         0.000000       0.000000       0.000000       0.000000   \n",
       "75%         0.000000       0.000000       0.000000       0.000000   \n",
       "max         1.000000       1.000000       1.000000       1.000000   \n",
       "\n",
       "       not_graduate_high_school  graduated_high_school  attended_college  \\\n",
       "count             376534.000000          376534.000000     376534.000000   \n",
       "mean                   0.054301               0.246910          0.277404   \n",
       "std                    0.226610               0.431214          0.447718   \n",
       "min                    0.000000               0.000000          0.000000   \n",
       "25%                    0.000000               0.000000          0.000000   \n",
       "50%                    0.000000               0.000000          0.000000   \n",
       "75%                    0.000000               0.000000          1.000000   \n",
       "max                    1.000000               1.000000          1.000000   \n",
       "\n",
       "       graduated_college  \n",
       "count      376534.000000  \n",
       "mean            0.421386  \n",
       "std             0.493782  \n",
       "min             0.000000  \n",
       "25%             0.000000  \n",
       "50%             0.000000  \n",
       "75%             1.000000  \n",
       "max             1.000000  \n",
       "\n",
       "[8 rows x 96 columns]"
      ]
     },
     "execution_count": 132,
     "metadata": {},
     "output_type": "execute_result"
    }
   ],
   "source": [
    "# Get names of columns with missing values\n",
    "cols_with_missing = [col for col in df.columns\n",
    "                     if df[col].isnull().any()]\n",
    "\n",
    "\n",
    "df_mis = df.copy()\n",
    "\n",
    "for col in cols_with_missing:\n",
    "    df_mis[col + '_was_missing'] = df_mis[col].isnull()\n",
    "df_mis.describe()"
   ]
  },
  {
   "cell_type": "code",
   "execution_count": 133,
   "id": "439a791f",
   "metadata": {},
   "outputs": [
    {
     "data": {
      "text/plain": [
       "Index(['SEXVAR', 'GENHLTH', 'PHYSHLTH', 'MENTHLTH', 'POORHLTH', 'PERSDOC3',\n",
       "       'MEDCOST1', 'CHECKUP1', 'EXERANY2', 'BPMEDS',\n",
       "       ...\n",
       "       'smokeless_some_days_was_missing', 'smokeless_not_at_all_was_missing',\n",
       "       'ecig_every_day_was_missing', 'ecig_some_days_was_missing',\n",
       "       'ecig_not_at_all_was_missing', 'ecig_never_used_was_missing',\n",
       "       'not_graduate_high_school_was_missing',\n",
       "       'graduated_high_school_was_missing', 'attended_college_was_missing',\n",
       "       'graduated_college_was_missing'],\n",
       "      dtype='object', length=176)"
      ]
     },
     "execution_count": 133,
     "metadata": {},
     "output_type": "execute_result"
    }
   ],
   "source": [
    "df_mis.columns"
   ]
  },
  {
   "cell_type": "code",
   "execution_count": 137,
   "id": "111113f6",
   "metadata": {},
   "outputs": [
    {
     "data": {
      "text/plain": [
       "False    377373\n",
       "True        507\n",
       "Name: ecig_some_days_was_missing, dtype: int64"
      ]
     },
     "execution_count": 137,
     "metadata": {},
     "output_type": "execute_result"
    }
   ],
   "source": [
    "df_mis['ecig_some_days_was_missing'].value_counts()"
   ]
  },
  {
   "cell_type": "code",
   "execution_count": null,
   "id": "607dec54",
   "metadata": {},
   "outputs": [],
   "source": [
    "# imputation\n",
    "#from sklearn.impute import SimpleImputer\n",
    "\n",
    "#df_imputer = SimpleImputer()\n",
    "#imputed_df = pd.DataFrame(df_imputer.fit_transform(df_mis))\n",
    "\n",
    "#iterative imputer\n",
    "#imputed_df.columns = df_mis.columns\n",
    "#from fancyimpute import IterativeImputer\n",
    "\n",
    "#imputed_df = IterativeImputer().fit_transform(df_mis)\n",
    "\n",
    "#KNN\n",
    "#from fancyimpute import KNN\n",
    "\n",
    "#imputed_df = KNN(k=3).fit_transform(df_mis)\n",
    "\n",
    "from sklearn.impute import KNNImputer\n",
    "\n",
    "imputed_df = KNNImputer(n_neighbors=1).fit_transform(df_mis)\n",
    "\n",
    "imputed_df.describe()"
   ]
  },
  {
   "cell_type": "code",
   "execution_count": 135,
   "id": "3e898475",
   "metadata": {},
   "outputs": [
    {
     "name": "stdout",
     "output_type": "stream",
     "text": [
      "No. of columns containing null values\n"
     ]
    },
    {
     "ename": "NameError",
     "evalue": "name 'imputed_df' is not defined",
     "output_type": "error",
     "traceback": [
      "\u001b[0;31m---------------------------------------------------------------------------\u001b[0m",
      "\u001b[0;31mNameError\u001b[0m                                 Traceback (most recent call last)",
      "Input \u001b[0;32mIn [135]\u001b[0m, in \u001b[0;36m<module>\u001b[0;34m\u001b[0m\n\u001b[1;32m      1\u001b[0m \u001b[38;5;66;03m# remove colums containing string values\u001b[39;00m\n\u001b[1;32m      3\u001b[0m \u001b[38;5;28mprint\u001b[39m(\u001b[38;5;124m\"\u001b[39m\u001b[38;5;124mNo. of columns containing null values\u001b[39m\u001b[38;5;124m\"\u001b[39m)\n\u001b[0;32m----> 4\u001b[0m \u001b[38;5;28mprint\u001b[39m(\u001b[38;5;28mlen\u001b[39m(\u001b[43mimputed_df\u001b[49m\u001b[38;5;241m.\u001b[39mcolumns[imputed_df\u001b[38;5;241m.\u001b[39misna()\u001b[38;5;241m.\u001b[39many()]))\n\u001b[1;32m      6\u001b[0m \u001b[38;5;28mprint\u001b[39m(\u001b[38;5;124m\"\u001b[39m\u001b[38;5;124mNo. of columns not containing null values\u001b[39m\u001b[38;5;124m\"\u001b[39m)\n\u001b[1;32m      7\u001b[0m \u001b[38;5;28mprint\u001b[39m(\u001b[38;5;28mlen\u001b[39m(imputed_df\u001b[38;5;241m.\u001b[39mcolumns[imputed_df\u001b[38;5;241m.\u001b[39mnotna()\u001b[38;5;241m.\u001b[39mall()]))\n",
      "\u001b[0;31mNameError\u001b[0m: name 'imputed_df' is not defined"
     ]
    }
   ],
   "source": [
    "# remove colums containing string values\n",
    "\n",
    "print(\"No. of columns containing null values\")\n",
    "print(len(imputed_df.columns[imputed_df.isna().any()]))\n",
    "\n",
    "print(\"No. of columns not containing null values\")\n",
    "print(len(imputed_df.columns[imputed_df.notna().all()]))\n",
    "\n",
    "print(\"Total no. of columns in the dataframe\")\n",
    "print(len(imputed_df.columns))\n",
    "\n",
    "#df = df.dropna(axis=1)\n",
    "#df.shape"
   ]
  },
  {
   "cell_type": "code",
   "execution_count": null,
   "id": "66f3ba55",
   "metadata": {},
   "outputs": [],
   "source": [
    "#imputed_df.to_csv('./data/brfss_imputed.csv')"
   ]
  },
  {
   "cell_type": "code",
   "execution_count": null,
   "id": "1eea5de9",
   "metadata": {},
   "outputs": [],
   "source": []
  }
 ],
 "metadata": {
  "kernelspec": {
   "display_name": "Python 3 (ipykernel)",
   "language": "python",
   "name": "python3"
  },
  "language_info": {
   "codemirror_mode": {
    "name": "ipython",
    "version": 3
   },
   "file_extension": ".py",
   "mimetype": "text/x-python",
   "name": "python",
   "nbconvert_exporter": "python",
   "pygments_lexer": "ipython3",
   "version": "3.10.9"
  }
 },
 "nbformat": 4,
 "nbformat_minor": 5
}
