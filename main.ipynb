{
 "cells": [
  {
   "cell_type": "code",
   "execution_count": 1,
   "id": "af46eb43",
   "metadata": {},
   "outputs": [],
   "source": [
    "import pandas as pd\n",
    "import numpy as np\n",
    "import matplotlib.pyplot as plt\n",
    "import seaborn as sns\n",
    "\n",
    "%matplotlib inline\n",
    "\n",
    "import warnings\n",
    "\n",
    "warnings.simplefilter(action='ignore', category=pd.errors.PerformanceWarning)"
   ]
  },
  {
   "cell_type": "code",
   "execution_count": 2,
   "id": "8f033ccc",
   "metadata": {},
   "outputs": [],
   "source": [
    "data = pd.read_sas('./data/LLCP2021.XPT')"
   ]
  },
  {
   "cell_type": "code",
   "execution_count": 3,
   "id": "9cae0dd1",
   "metadata": {},
   "outputs": [
    {
     "data": {
      "text/plain": [
       "Index(['_STATE', 'FMONTH', 'IDATE', 'IMONTH', 'IDAY', 'IYEAR', 'DISPCODE',\n",
       "       'SEQNO', '_PSU', 'CTELENM1',\n",
       "       ...\n",
       "       '_FRTRES1', '_VEGRES1', '_FRUTSU1', '_VEGESU1', '_FRTLT1A', '_VEGLT1A',\n",
       "       '_FRT16A', '_VEG23A', '_FRUITE1', '_VEGETE1'],\n",
       "      dtype='object', length=303)"
      ]
     },
     "execution_count": 3,
     "metadata": {},
     "output_type": "execute_result"
    }
   ],
   "source": [
    "data.columns"
   ]
  },
  {
   "cell_type": "code",
   "execution_count": 4,
   "id": "7a3fe148",
   "metadata": {},
   "outputs": [
    {
     "data": {
      "text/html": [
       "<div>\n",
       "<style scoped>\n",
       "    .dataframe tbody tr th:only-of-type {\n",
       "        vertical-align: middle;\n",
       "    }\n",
       "\n",
       "    .dataframe tbody tr th {\n",
       "        vertical-align: top;\n",
       "    }\n",
       "\n",
       "    .dataframe thead th {\n",
       "        text-align: right;\n",
       "    }\n",
       "</style>\n",
       "<table border=\"1\" class=\"dataframe\">\n",
       "  <thead>\n",
       "    <tr style=\"text-align: right;\">\n",
       "      <th></th>\n",
       "      <th>_STATE</th>\n",
       "      <th>FMONTH</th>\n",
       "      <th>DISPCODE</th>\n",
       "      <th>_PSU</th>\n",
       "      <th>CTELENM1</th>\n",
       "      <th>PVTRESD1</th>\n",
       "      <th>COLGHOUS</th>\n",
       "      <th>STATERE1</th>\n",
       "      <th>CELPHON1</th>\n",
       "      <th>LADULT1</th>\n",
       "      <th>...</th>\n",
       "      <th>_FRTRES1</th>\n",
       "      <th>_VEGRES1</th>\n",
       "      <th>_FRUTSU1</th>\n",
       "      <th>_VEGESU1</th>\n",
       "      <th>_FRTLT1A</th>\n",
       "      <th>_VEGLT1A</th>\n",
       "      <th>_FRT16A</th>\n",
       "      <th>_VEG23A</th>\n",
       "      <th>_FRUITE1</th>\n",
       "      <th>_VEGETE1</th>\n",
       "    </tr>\n",
       "  </thead>\n",
       "  <tbody>\n",
       "    <tr>\n",
       "      <th>count</th>\n",
       "      <td>438693.000000</td>\n",
       "      <td>438693.000000</td>\n",
       "      <td>438693.000000</td>\n",
       "      <td>4.386930e+05</td>\n",
       "      <td>117786.000000</td>\n",
       "      <td>117786.000000</td>\n",
       "      <td>30.0</td>\n",
       "      <td>117786.0</td>\n",
       "      <td>117786.0</td>\n",
       "      <td>117786.000000</td>\n",
       "      <td>...</td>\n",
       "      <td>4.386930e+05</td>\n",
       "      <td>4.386930e+05</td>\n",
       "      <td>3.876060e+05</td>\n",
       "      <td>3.785660e+05</td>\n",
       "      <td>438693.000000</td>\n",
       "      <td>438693.000000</td>\n",
       "      <td>4.386930e+05</td>\n",
       "      <td>4.386930e+05</td>\n",
       "      <td>4.386930e+05</td>\n",
       "      <td>4.386930e+05</td>\n",
       "    </tr>\n",
       "    <tr>\n",
       "      <th>mean</th>\n",
       "      <td>30.742155</td>\n",
       "      <td>6.405680</td>\n",
       "      <td>1118.189030</td>\n",
       "      <td>2.021006e+09</td>\n",
       "      <td>1.000017</td>\n",
       "      <td>1.000255</td>\n",
       "      <td>1.0</td>\n",
       "      <td>1.0</td>\n",
       "      <td>2.0</td>\n",
       "      <td>1.006291</td>\n",
       "      <td>...</td>\n",
       "      <td>8.835473e-01</td>\n",
       "      <td>8.629406e-01</td>\n",
       "      <td>1.783430e+02</td>\n",
       "      <td>2.715442e+02</td>\n",
       "      <td>2.270561</td>\n",
       "      <td>2.257184</td>\n",
       "      <td>9.949669e-01</td>\n",
       "      <td>9.926988e-01</td>\n",
       "      <td>1.265190e-01</td>\n",
       "      <td>1.516619e-01</td>\n",
       "    </tr>\n",
       "    <tr>\n",
       "      <th>std</th>\n",
       "      <td>15.334888</td>\n",
       "      <td>3.421731</td>\n",
       "      <td>38.575453</td>\n",
       "      <td>6.383751e+03</td>\n",
       "      <td>0.004121</td>\n",
       "      <td>0.015957</td>\n",
       "      <td>0.0</td>\n",
       "      <td>0.0</td>\n",
       "      <td>0.0</td>\n",
       "      <td>0.079067</td>\n",
       "      <td>...</td>\n",
       "      <td>3.207674e-01</td>\n",
       "      <td>3.439104e-01</td>\n",
       "      <td>6.912931e+02</td>\n",
       "      <td>1.036227e+03</td>\n",
       "      <td>2.485479</td>\n",
       "      <td>2.711460</td>\n",
       "      <td>7.076589e-02</td>\n",
       "      <td>8.513485e-02</td>\n",
       "      <td>3.472441e-01</td>\n",
       "      <td>3.785014e-01</td>\n",
       "    </tr>\n",
       "    <tr>\n",
       "      <th>min</th>\n",
       "      <td>1.000000</td>\n",
       "      <td>1.000000</td>\n",
       "      <td>1100.000000</td>\n",
       "      <td>2.021000e+09</td>\n",
       "      <td>1.000000</td>\n",
       "      <td>1.000000</td>\n",
       "      <td>1.0</td>\n",
       "      <td>1.0</td>\n",
       "      <td>2.0</td>\n",
       "      <td>1.000000</td>\n",
       "      <td>...</td>\n",
       "      <td>5.397605e-79</td>\n",
       "      <td>5.397605e-79</td>\n",
       "      <td>5.397605e-79</td>\n",
       "      <td>5.397605e-79</td>\n",
       "      <td>1.000000</td>\n",
       "      <td>1.000000</td>\n",
       "      <td>5.397605e-79</td>\n",
       "      <td>5.397605e-79</td>\n",
       "      <td>5.397605e-79</td>\n",
       "      <td>5.397605e-79</td>\n",
       "    </tr>\n",
       "    <tr>\n",
       "      <th>25%</th>\n",
       "      <td>20.000000</td>\n",
       "      <td>3.000000</td>\n",
       "      <td>1100.000000</td>\n",
       "      <td>2.021002e+09</td>\n",
       "      <td>1.000000</td>\n",
       "      <td>1.000000</td>\n",
       "      <td>1.0</td>\n",
       "      <td>1.0</td>\n",
       "      <td>2.0</td>\n",
       "      <td>1.000000</td>\n",
       "      <td>...</td>\n",
       "      <td>1.000000e+00</td>\n",
       "      <td>1.000000e+00</td>\n",
       "      <td>5.700000e+01</td>\n",
       "      <td>1.140000e+02</td>\n",
       "      <td>1.000000</td>\n",
       "      <td>1.000000</td>\n",
       "      <td>1.000000e+00</td>\n",
       "      <td>1.000000e+00</td>\n",
       "      <td>5.397605e-79</td>\n",
       "      <td>5.397605e-79</td>\n",
       "    </tr>\n",
       "    <tr>\n",
       "      <th>50%</th>\n",
       "      <td>31.000000</td>\n",
       "      <td>6.000000</td>\n",
       "      <td>1100.000000</td>\n",
       "      <td>2.021004e+09</td>\n",
       "      <td>1.000000</td>\n",
       "      <td>1.000000</td>\n",
       "      <td>1.0</td>\n",
       "      <td>1.0</td>\n",
       "      <td>2.0</td>\n",
       "      <td>1.000000</td>\n",
       "      <td>...</td>\n",
       "      <td>1.000000e+00</td>\n",
       "      <td>1.000000e+00</td>\n",
       "      <td>1.000000e+02</td>\n",
       "      <td>1.670000e+02</td>\n",
       "      <td>1.000000</td>\n",
       "      <td>1.000000</td>\n",
       "      <td>1.000000e+00</td>\n",
       "      <td>1.000000e+00</td>\n",
       "      <td>5.397605e-79</td>\n",
       "      <td>5.397605e-79</td>\n",
       "    </tr>\n",
       "    <tr>\n",
       "      <th>75%</th>\n",
       "      <td>41.000000</td>\n",
       "      <td>9.000000</td>\n",
       "      <td>1100.000000</td>\n",
       "      <td>2.021008e+09</td>\n",
       "      <td>1.000000</td>\n",
       "      <td>1.000000</td>\n",
       "      <td>1.0</td>\n",
       "      <td>1.0</td>\n",
       "      <td>2.0</td>\n",
       "      <td>1.000000</td>\n",
       "      <td>...</td>\n",
       "      <td>1.000000e+00</td>\n",
       "      <td>1.000000e+00</td>\n",
       "      <td>2.000000e+02</td>\n",
       "      <td>2.290000e+02</td>\n",
       "      <td>2.000000</td>\n",
       "      <td>2.000000</td>\n",
       "      <td>1.000000e+00</td>\n",
       "      <td>1.000000e+00</td>\n",
       "      <td>5.397605e-79</td>\n",
       "      <td>5.397605e-79</td>\n",
       "    </tr>\n",
       "    <tr>\n",
       "      <th>max</th>\n",
       "      <td>78.000000</td>\n",
       "      <td>12.000000</td>\n",
       "      <td>1200.000000</td>\n",
       "      <td>2.021039e+09</td>\n",
       "      <td>2.000000</td>\n",
       "      <td>2.000000</td>\n",
       "      <td>1.0</td>\n",
       "      <td>1.0</td>\n",
       "      <td>2.0</td>\n",
       "      <td>2.000000</td>\n",
       "      <td>...</td>\n",
       "      <td>1.000000e+00</td>\n",
       "      <td>1.000000e+00</td>\n",
       "      <td>1.980000e+04</td>\n",
       "      <td>3.960000e+04</td>\n",
       "      <td>9.000000</td>\n",
       "      <td>9.000000</td>\n",
       "      <td>1.000000e+00</td>\n",
       "      <td>1.000000e+00</td>\n",
       "      <td>2.000000e+00</td>\n",
       "      <td>2.000000e+00</td>\n",
       "    </tr>\n",
       "  </tbody>\n",
       "</table>\n",
       "<p>8 rows × 298 columns</p>\n",
       "</div>"
      ],
      "text/plain": [
       "              _STATE         FMONTH       DISPCODE          _PSU  \\\n",
       "count  438693.000000  438693.000000  438693.000000  4.386930e+05   \n",
       "mean       30.742155       6.405680    1118.189030  2.021006e+09   \n",
       "std        15.334888       3.421731      38.575453  6.383751e+03   \n",
       "min         1.000000       1.000000    1100.000000  2.021000e+09   \n",
       "25%        20.000000       3.000000    1100.000000  2.021002e+09   \n",
       "50%        31.000000       6.000000    1100.000000  2.021004e+09   \n",
       "75%        41.000000       9.000000    1100.000000  2.021008e+09   \n",
       "max        78.000000      12.000000    1200.000000  2.021039e+09   \n",
       "\n",
       "            CTELENM1       PVTRESD1  COLGHOUS  STATERE1  CELPHON1  \\\n",
       "count  117786.000000  117786.000000      30.0  117786.0  117786.0   \n",
       "mean        1.000017       1.000255       1.0       1.0       2.0   \n",
       "std         0.004121       0.015957       0.0       0.0       0.0   \n",
       "min         1.000000       1.000000       1.0       1.0       2.0   \n",
       "25%         1.000000       1.000000       1.0       1.0       2.0   \n",
       "50%         1.000000       1.000000       1.0       1.0       2.0   \n",
       "75%         1.000000       1.000000       1.0       1.0       2.0   \n",
       "max         2.000000       2.000000       1.0       1.0       2.0   \n",
       "\n",
       "             LADULT1  ...      _FRTRES1      _VEGRES1      _FRUTSU1  \\\n",
       "count  117786.000000  ...  4.386930e+05  4.386930e+05  3.876060e+05   \n",
       "mean        1.006291  ...  8.835473e-01  8.629406e-01  1.783430e+02   \n",
       "std         0.079067  ...  3.207674e-01  3.439104e-01  6.912931e+02   \n",
       "min         1.000000  ...  5.397605e-79  5.397605e-79  5.397605e-79   \n",
       "25%         1.000000  ...  1.000000e+00  1.000000e+00  5.700000e+01   \n",
       "50%         1.000000  ...  1.000000e+00  1.000000e+00  1.000000e+02   \n",
       "75%         1.000000  ...  1.000000e+00  1.000000e+00  2.000000e+02   \n",
       "max         2.000000  ...  1.000000e+00  1.000000e+00  1.980000e+04   \n",
       "\n",
       "           _VEGESU1       _FRTLT1A       _VEGLT1A       _FRT16A       _VEG23A  \\\n",
       "count  3.785660e+05  438693.000000  438693.000000  4.386930e+05  4.386930e+05   \n",
       "mean   2.715442e+02       2.270561       2.257184  9.949669e-01  9.926988e-01   \n",
       "std    1.036227e+03       2.485479       2.711460  7.076589e-02  8.513485e-02   \n",
       "min    5.397605e-79       1.000000       1.000000  5.397605e-79  5.397605e-79   \n",
       "25%    1.140000e+02       1.000000       1.000000  1.000000e+00  1.000000e+00   \n",
       "50%    1.670000e+02       1.000000       1.000000  1.000000e+00  1.000000e+00   \n",
       "75%    2.290000e+02       2.000000       2.000000  1.000000e+00  1.000000e+00   \n",
       "max    3.960000e+04       9.000000       9.000000  1.000000e+00  1.000000e+00   \n",
       "\n",
       "           _FRUITE1      _VEGETE1  \n",
       "count  4.386930e+05  4.386930e+05  \n",
       "mean   1.265190e-01  1.516619e-01  \n",
       "std    3.472441e-01  3.785014e-01  \n",
       "min    5.397605e-79  5.397605e-79  \n",
       "25%    5.397605e-79  5.397605e-79  \n",
       "50%    5.397605e-79  5.397605e-79  \n",
       "75%    5.397605e-79  5.397605e-79  \n",
       "max    2.000000e+00  2.000000e+00  \n",
       "\n",
       "[8 rows x 298 columns]"
      ]
     },
     "execution_count": 4,
     "metadata": {},
     "output_type": "execute_result"
    }
   ],
   "source": [
    "data.describe()"
   ]
  },
  {
   "cell_type": "code",
   "execution_count": 5,
   "id": "67b6f6eb",
   "metadata": {},
   "outputs": [
    {
     "name": "stdout",
     "output_type": "stream",
     "text": [
      "<class 'pandas.core.frame.DataFrame'>\n",
      "RangeIndex: 438693 entries, 0 to 438692\n",
      "Columns: 303 entries, _STATE to _VEGETE1\n",
      "dtypes: float64(298), object(5)\n",
      "memory usage: 1014.1+ MB\n"
     ]
    }
   ],
   "source": [
    "data.info()"
   ]
  },
  {
   "cell_type": "code",
   "execution_count": 25,
   "id": "b0898d85",
   "metadata": {},
   "outputs": [
    {
     "data": {
      "text/plain": [
       "Index(['_STATE', 'FMONTH', 'IDATE', 'IMONTH', 'IDAY', 'IYEAR', 'DISPCODE',\n",
       "       'SEQNO', '_PSU', 'CTELENM1',\n",
       "       ...\n",
       "       '_FRTRES1', '_VEGRES1', '_FRUTSU1', '_VEGESU1', '_FRTLT1A', '_VEGLT1A',\n",
       "       '_FRT16A', '_VEG23A', '_FRUITE1', '_VEGETE1'],\n",
       "      dtype='object', length=303)"
      ]
     },
     "execution_count": 25,
     "metadata": {},
     "output_type": "execute_result"
    }
   ],
   "source": [
    "data.columns"
   ]
  },
  {
   "cell_type": "code",
   "execution_count": 26,
   "id": "60e52350",
   "metadata": {},
   "outputs": [
    {
     "data": {
      "text/plain": [
       "Index(['IDATE', 'IMONTH', 'IDAY', 'IYEAR', 'SEQNO'], dtype='object')"
      ]
     },
     "execution_count": 26,
     "metadata": {},
     "output_type": "execute_result"
    }
   ],
   "source": [
    "data.select_dtypes(include=['object']).columns"
   ]
  },
  {
   "cell_type": "code",
   "execution_count": 7,
   "id": "047552b5",
   "metadata": {},
   "outputs": [
    {
     "data": {
      "text/plain": [
       "landline single questionnaire            66467\n",
       "cell phone single questionnaire         197277\n",
       "landline multiple questionnaire v1       22612\n",
       "landline multiple questionnaire v2       20622\n",
       "cell phone multiple questionnaire v1     55822\n",
       "cell phone multiple questionnaire v2     52307\n",
       "landline multiple questionnaire v3        8085\n",
       "cell phone multiple questionnaire v3     15501\n",
       "Name: QSTVER, dtype: int64"
      ]
     },
     "execution_count": 7,
     "metadata": {},
     "output_type": "execute_result"
    }
   ],
   "source": [
    "data['QSTVER'].value_counts(sort=False).rename({20: \"cell phone single questionnaire\", 21: \"cell phone multiple questionnaire v1\", 22: \"cell phone multiple questionnaire v2\", 23: \"cell phone multiple questionnaire v3\", 10: \"landline single questionnaire\", 11: \"landline multiple questionnaire v1\", 12: \"landline multiple questionnaire v2\", 13: \"landline multiple questionnaire v3\"})"
   ]
  },
  {
   "cell_type": "code",
   "execution_count": 8,
   "id": "561ba586",
   "metadata": {},
   "outputs": [
    {
     "name": "stdout",
     "output_type": "stream",
     "text": [
      "landline sum   117786\n",
      "cell phone sum 320907\n"
     ]
    }
   ],
   "source": [
    "a = data['QSTVER'].value_counts()\n",
    "print(f\"{'landline sum':14} {a[10]+a[11]+a[12]+a[13]}\\n{'cell phone sum':14} {a[20]+a[21]+a[22]+a[23]}\")"
   ]
  },
  {
   "cell_type": "code",
   "execution_count": 9,
   "id": "8fec0745",
   "metadata": {},
   "outputs": [
    {
     "data": {
      "text/plain": [
       "completed interview            0.81811\n",
       "partial completed interview    0.18189\n",
       "Name: DISPCODE, dtype: float64"
      ]
     },
     "execution_count": 9,
     "metadata": {},
     "output_type": "execute_result"
    }
   ],
   "source": [
    "data.DISPCODE.value_counts(normalize=True).rename({1100: \"completed interview\", 1200: \"partial completed interview\"})"
   ]
  },
  {
   "cell_type": "code",
   "execution_count": 10,
   "id": "b20f4221",
   "metadata": {},
   "outputs": [
    {
     "data": {
      "text/plain": [
       "cellphone           320907\n",
       "correct number      117784\n",
       "incorrect number         2\n",
       "Name: CTELENM1, dtype: int64"
      ]
     },
     "execution_count": 10,
     "metadata": {},
     "output_type": "execute_result"
    }
   ],
   "source": [
    "data.CTELENM1.value_counts(dropna=False).rename(index=str).rename({'nan': 'cellphone', '1.0': 'correct number', '2.0': 'incorrect number'})"
   ]
  },
  {
   "cell_type": "code",
   "execution_count": 11,
   "id": "d928955f",
   "metadata": {},
   "outputs": [
    {
     "data": {
      "text/html": [
       "<div>\n",
       "<style scoped>\n",
       "    .dataframe tbody tr th:only-of-type {\n",
       "        vertical-align: middle;\n",
       "    }\n",
       "\n",
       "    .dataframe tbody tr th {\n",
       "        vertical-align: top;\n",
       "    }\n",
       "\n",
       "    .dataframe thead th {\n",
       "        text-align: right;\n",
       "    }\n",
       "</style>\n",
       "<table border=\"1\" class=\"dataframe\">\n",
       "  <thead>\n",
       "    <tr style=\"text-align: right;\">\n",
       "      <th></th>\n",
       "      <th>_STATE</th>\n",
       "      <th>FMONTH</th>\n",
       "      <th>IDATE</th>\n",
       "      <th>IMONTH</th>\n",
       "      <th>IDAY</th>\n",
       "      <th>IYEAR</th>\n",
       "      <th>DISPCODE</th>\n",
       "      <th>SEQNO</th>\n",
       "      <th>_PSU</th>\n",
       "      <th>CTELENM1</th>\n",
       "      <th>...</th>\n",
       "      <th>_FRTRES1</th>\n",
       "      <th>_VEGRES1</th>\n",
       "      <th>_FRUTSU1</th>\n",
       "      <th>_VEGESU1</th>\n",
       "      <th>_FRTLT1A</th>\n",
       "      <th>_VEGLT1A</th>\n",
       "      <th>_FRT16A</th>\n",
       "      <th>_VEG23A</th>\n",
       "      <th>_FRUITE1</th>\n",
       "      <th>_VEGETE1</th>\n",
       "    </tr>\n",
       "  </thead>\n",
       "  <tbody>\n",
       "    <tr>\n",
       "      <th>132142</th>\n",
       "      <td>23.0</td>\n",
       "      <td>1.0</td>\n",
       "      <td>b'03182021'</td>\n",
       "      <td>b'03'</td>\n",
       "      <td>b'18'</td>\n",
       "      <td>b'2021'</td>\n",
       "      <td>1100.0</td>\n",
       "      <td>b'2021000049'</td>\n",
       "      <td>2.021000e+09</td>\n",
       "      <td>2.0</td>\n",
       "      <td>...</td>\n",
       "      <td>1.0</td>\n",
       "      <td>1.0</td>\n",
       "      <td>58.0</td>\n",
       "      <td>243.0</td>\n",
       "      <td>2.0</td>\n",
       "      <td>1.0</td>\n",
       "      <td>1.0</td>\n",
       "      <td>1.0</td>\n",
       "      <td>5.397605e-79</td>\n",
       "      <td>5.397605e-79</td>\n",
       "    </tr>\n",
       "    <tr>\n",
       "      <th>134418</th>\n",
       "      <td>23.0</td>\n",
       "      <td>10.0</td>\n",
       "      <td>b'10132021'</td>\n",
       "      <td>b'10'</td>\n",
       "      <td>b'13'</td>\n",
       "      <td>b'2021'</td>\n",
       "      <td>1100.0</td>\n",
       "      <td>b'2021002325'</td>\n",
       "      <td>2.021002e+09</td>\n",
       "      <td>2.0</td>\n",
       "      <td>...</td>\n",
       "      <td>1.0</td>\n",
       "      <td>1.0</td>\n",
       "      <td>400.0</td>\n",
       "      <td>379.0</td>\n",
       "      <td>1.0</td>\n",
       "      <td>1.0</td>\n",
       "      <td>1.0</td>\n",
       "      <td>1.0</td>\n",
       "      <td>5.397605e-79</td>\n",
       "      <td>5.397605e-79</td>\n",
       "    </tr>\n",
       "  </tbody>\n",
       "</table>\n",
       "<p>2 rows × 303 columns</p>\n",
       "</div>"
      ],
      "text/plain": [
       "        _STATE  FMONTH        IDATE IMONTH   IDAY    IYEAR  DISPCODE  \\\n",
       "132142    23.0     1.0  b'03182021'  b'03'  b'18'  b'2021'    1100.0   \n",
       "134418    23.0    10.0  b'10132021'  b'10'  b'13'  b'2021'    1100.0   \n",
       "\n",
       "                SEQNO          _PSU  CTELENM1  ...  _FRTRES1  _VEGRES1  \\\n",
       "132142  b'2021000049'  2.021000e+09       2.0  ...       1.0       1.0   \n",
       "134418  b'2021002325'  2.021002e+09       2.0  ...       1.0       1.0   \n",
       "\n",
       "        _FRUTSU1  _VEGESU1  _FRTLT1A  _VEGLT1A  _FRT16A  _VEG23A  \\\n",
       "132142      58.0     243.0       2.0       1.0      1.0      1.0   \n",
       "134418     400.0     379.0       1.0       1.0      1.0      1.0   \n",
       "\n",
       "            _FRUITE1      _VEGETE1  \n",
       "132142  5.397605e-79  5.397605e-79  \n",
       "134418  5.397605e-79  5.397605e-79  \n",
       "\n",
       "[2 rows x 303 columns]"
      ]
     },
     "execution_count": 11,
     "metadata": {},
     "output_type": "execute_result"
    }
   ],
   "source": [
    "data[data.CTELENM1 == 2]"
   ]
  },
  {
   "cell_type": "code",
   "execution_count": 12,
   "id": "47e67a10",
   "metadata": {},
   "outputs": [
    {
     "data": {
      "text/plain": [
       "438693"
      ]
     },
     "execution_count": 12,
     "metadata": {},
     "output_type": "execute_result"
    }
   ],
   "source": [
    "data2 = data[data.CTELENM1 != 2] # dropping incorrect phone numbers\n",
    "len(data.index)"
   ]
  },
  {
   "cell_type": "code",
   "execution_count": 13,
   "id": "df9cdec5",
   "metadata": {},
   "outputs": [
    {
     "data": {
      "text/plain": [
       "cellphone          320907\n",
       "private res        117754\n",
       "college housing        30\n",
       "Name: PVTRESD1, dtype: int64"
      ]
     },
     "execution_count": 13,
     "metadata": {},
     "output_type": "execute_result"
    }
   ],
   "source": [
    "data2.PVTRESD1.value_counts(dropna=False).rename(index=str).rename({'nan': 'cellphone', '1.0': 'private res', '2.0': 'college housing'})"
   ]
  },
  {
   "cell_type": "markdown",
   "id": "2739a664",
   "metadata": {},
   "source": [
    "should drop missing values and such before this step\n",
    "\n",
    "dropping columns related to state, time of interview, whether they are in college housing or not."
   ]
  },
  {
   "cell_type": "code",
   "execution_count": 14,
   "id": "b0df635a",
   "metadata": {},
   "outputs": [
    {
     "data": {
      "text/plain": [
       "277"
      ]
     },
     "execution_count": 14,
     "metadata": {},
     "output_type": "execute_result"
    }
   ],
   "source": [
    "df = data2.drop(['_STATE', 'FMONTH', 'IDATE', 'IMONTH', 'IDAY', 'IYEAR', 'SEQNO', 'DISPCODE', '_PSU', 'CTELENM1', \n",
    "                'PVTRESD1', 'COLGHOUS', 'STATERE1', 'CELPHON1', 'LADULT1', 'SAFETIME', 'CTELNUM1', 'CELLFON5',\n",
    "               'CADULT1', 'PVTRESD3', 'CCLGHOUS', 'CSTATE1', 'LANDLINE', 'HHADULT', 'NUMPHON3','CPDEMO1B'], axis=1)\n",
    "df.columns.size"
   ]
  },
  {
   "cell_type": "code",
   "execution_count": 15,
   "id": "454b109a",
   "metadata": {},
   "outputs": [
    {
     "data": {
      "text/plain": [
       "NUMMEN      0.000064\n",
       "_VEG23A     0.000306\n",
       "FLSHTMY3    0.000532\n",
       "_RFBMI5     0.000541\n",
       "FRUIT2      0.000644\n",
       "              ...   \n",
       "_AGE_G      0.176549\n",
       "CHOLMED3    0.209810\n",
       "GENHLTH     0.213604\n",
       "BPHIGH6     0.240133\n",
       "DIABETE4    1.000000\n",
       "Length: 264, dtype: float64"
      ]
     },
     "execution_count": 15,
     "metadata": {},
     "output_type": "execute_result"
    }
   ],
   "source": [
    "di = df.corrwith(df['DIABETE4']).abs().sort_values().dropna()\n",
    "di"
   ]
  },
  {
   "cell_type": "code",
   "execution_count": 16,
   "id": "02e16cef",
   "metadata": {},
   "outputs": [
    {
     "data": {
      "text/plain": [
       "264"
      ]
     },
     "execution_count": 16,
     "metadata": {},
     "output_type": "execute_result"
    }
   ],
   "source": [
    "di.index.size"
   ]
  },
  {
   "cell_type": "code",
   "execution_count": 19,
   "id": "286f7b63",
   "metadata": {},
   "outputs": [
    {
     "data": {
      "text/plain": [
       "['DIABAGE3',\n",
       " 'INSULIN1',\n",
       " 'BLDSUGAR',\n",
       " 'FEETCHK3',\n",
       " 'DOCTDIAB',\n",
       " 'CHKHEMO3',\n",
       " 'FEETCHK',\n",
       " 'EYEEXAM1',\n",
       " 'DIABEYE',\n",
       " 'DIABEDU',\n",
       " 'TOLDCFS',\n",
       " 'HAVECFS',\n",
       " 'WORKCFS']"
      ]
     },
     "execution_count": 19,
     "metadata": {},
     "output_type": "execute_result"
    }
   ],
   "source": [
    "[i for i in df.columns if not i in di.index]"
   ]
  },
  {
   "cell_type": "markdown",
   "id": "d128d7ce",
   "metadata": {},
   "source": [
    "features that when trying to calculate correlation with Diabetes had value of \"NaN"
   ]
  },
  {
   "cell_type": "markdown",
   "id": "8a8489d5",
   "metadata": {},
   "source": [
    "All features besides the bottom three CFS (Chronic Fatigue Syndrome) are diabetes questions that would have been asked after it was determined that the patient already most likely had diabetes"
   ]
  },
  {
   "cell_type": "code",
   "execution_count": 20,
   "id": "4d04225e",
   "metadata": {},
   "outputs": [
    {
     "data": {
      "text/html": [
       "<div>\n",
       "<style scoped>\n",
       "    .dataframe tbody tr th:only-of-type {\n",
       "        vertical-align: middle;\n",
       "    }\n",
       "\n",
       "    .dataframe tbody tr th {\n",
       "        vertical-align: top;\n",
       "    }\n",
       "\n",
       "    .dataframe thead th {\n",
       "        text-align: right;\n",
       "    }\n",
       "</style>\n",
       "<table border=\"1\" class=\"dataframe\">\n",
       "  <thead>\n",
       "    <tr style=\"text-align: right;\">\n",
       "      <th></th>\n",
       "      <th>TOLDCFS</th>\n",
       "      <th>HAVECFS</th>\n",
       "      <th>WORKCFS</th>\n",
       "    </tr>\n",
       "  </thead>\n",
       "  <tbody>\n",
       "    <tr>\n",
       "      <th>count</th>\n",
       "      <td>0.0</td>\n",
       "      <td>0.0</td>\n",
       "      <td>0.0</td>\n",
       "    </tr>\n",
       "    <tr>\n",
       "      <th>mean</th>\n",
       "      <td>NaN</td>\n",
       "      <td>NaN</td>\n",
       "      <td>NaN</td>\n",
       "    </tr>\n",
       "    <tr>\n",
       "      <th>std</th>\n",
       "      <td>NaN</td>\n",
       "      <td>NaN</td>\n",
       "      <td>NaN</td>\n",
       "    </tr>\n",
       "    <tr>\n",
       "      <th>min</th>\n",
       "      <td>NaN</td>\n",
       "      <td>NaN</td>\n",
       "      <td>NaN</td>\n",
       "    </tr>\n",
       "    <tr>\n",
       "      <th>25%</th>\n",
       "      <td>NaN</td>\n",
       "      <td>NaN</td>\n",
       "      <td>NaN</td>\n",
       "    </tr>\n",
       "    <tr>\n",
       "      <th>50%</th>\n",
       "      <td>NaN</td>\n",
       "      <td>NaN</td>\n",
       "      <td>NaN</td>\n",
       "    </tr>\n",
       "    <tr>\n",
       "      <th>75%</th>\n",
       "      <td>NaN</td>\n",
       "      <td>NaN</td>\n",
       "      <td>NaN</td>\n",
       "    </tr>\n",
       "    <tr>\n",
       "      <th>max</th>\n",
       "      <td>NaN</td>\n",
       "      <td>NaN</td>\n",
       "      <td>NaN</td>\n",
       "    </tr>\n",
       "  </tbody>\n",
       "</table>\n",
       "</div>"
      ],
      "text/plain": [
       "       TOLDCFS  HAVECFS  WORKCFS\n",
       "count      0.0      0.0      0.0\n",
       "mean       NaN      NaN      NaN\n",
       "std        NaN      NaN      NaN\n",
       "min        NaN      NaN      NaN\n",
       "25%        NaN      NaN      NaN\n",
       "50%        NaN      NaN      NaN\n",
       "75%        NaN      NaN      NaN\n",
       "max        NaN      NaN      NaN"
      ]
     },
     "execution_count": 20,
     "metadata": {},
     "output_type": "execute_result"
    }
   ],
   "source": [
    "df[['TOLDCFS', 'HAVECFS', 'WORKCFS']].describe()"
   ]
  },
  {
   "cell_type": "markdown",
   "id": "9ddc8ced",
   "metadata": {},
   "source": [
    "Not one person called had CFS"
   ]
  },
  {
   "cell_type": "code",
   "execution_count": 21,
   "id": "e35c9481",
   "metadata": {},
   "outputs": [
    {
     "data": {
      "text/plain": [
       "438691"
      ]
     },
     "execution_count": 21,
     "metadata": {},
     "output_type": "execute_result"
    }
   ],
   "source": [
    "len(df.index)"
   ]
  },
  {
   "cell_type": "code",
   "execution_count": 22,
   "id": "85330cbb",
   "metadata": {},
   "outputs": [
    {
     "name": "stdout",
     "output_type": "stream",
     "text": [
      "COLGSEX  30\n",
      "TOLDCFS  0\n",
      "HAVECFS  0\n",
      "WORKCFS  0\n",
      "TRETHEPC 162\n",
      "PRIRHEPC 162\n",
      "HAVEHEPC 162\n",
      "MEDSHEPB 95\n",
      "SIGMTES1 63\n",
      "VCLNTES1 203\n",
      "BLDSTFIT 390\n",
      "SDNATES1 390\n"
     ]
    }
   ],
   "source": [
    "for column in df:\n",
    "    if(df[column].notna().sum() < 0.001*len(df.index)):\n",
    "        print(f\"{column:8} {df[column].notna().sum()}\")"
   ]
  },
  {
   "cell_type": "code",
   "execution_count": 23,
   "id": "3e4399bc",
   "metadata": {},
   "outputs": [
    {
     "data": {
      "text/plain": [
       "274"
      ]
     },
     "execution_count": 23,
     "metadata": {},
     "output_type": "execute_result"
    }
   ],
   "source": [
    "df2 = df.drop(['TOLDCFS', 'HAVECFS', 'WORKCFS'], axis = 1)\n",
    "df2.columns.size"
   ]
  },
  {
   "cell_type": "code",
   "execution_count": null,
   "id": "2db9798c",
   "metadata": {},
   "outputs": [],
   "source": []
  }
 ],
 "metadata": {
  "kernelspec": {
   "display_name": "Python 3 (ipykernel)",
   "language": "python",
   "name": "python3"
  },
  "language_info": {
   "codemirror_mode": {
    "name": "ipython",
    "version": 3
   },
   "file_extension": ".py",
   "mimetype": "text/x-python",
   "name": "python",
   "nbconvert_exporter": "python",
   "pygments_lexer": "ipython3",
   "version": "3.10.9"
  }
 },
 "nbformat": 4,
 "nbformat_minor": 5
}
