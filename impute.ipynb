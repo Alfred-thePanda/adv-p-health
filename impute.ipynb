{
 "cells": [
  {
   "cell_type": "code",
   "execution_count": null,
   "id": "b2b7c025",
   "metadata": {},
   "outputs": [],
   "source": [
    "import pandas as pd\n",
    "import numpy as np\n",
    "import matplotlib.pyplot as plt\n",
    "import seaborn as sns\n",
    "import math\n",
    "\n",
    "%matplotlib inline\n",
    "\n",
    "import warnings\n",
    "\n",
    "warnings.simplefilter(action='ignore', category=pd.errors.PerformanceWarning)"
   ]
  },
  {
   "cell_type": "code",
   "execution_count": null,
   "id": "f643dc1b",
   "metadata": {},
   "outputs": [],
   "source": [
    "df = pd.read_csv('./data/brfss_clean.csv')"
   ]
  },
  {
   "cell_type": "code",
   "execution_count": null,
   "id": "635d0a2f",
   "metadata": {},
   "outputs": [],
   "source": [
    "# imputation\n",
    "#from sklearn.impute import SimpleImputer\n",
    "\n",
    "#df_imputer = SimpleImputer()\n",
    "#imputed_df = pd.DataFrame(df_imputer.fit_transform(df_mis))\n",
    "\n",
    "#iterative imputer\n",
    "#imputed_df.columns = df_mis.columns\n",
    "#from fancyimpute import IterativeImputer\n",
    "\n",
    "#imputed_df = IterativeImputer().fit_transform(df_mis)\n",
    "\n",
    "#KNN\n",
    "#from fancyimpute import KNN\n",
    "\n",
    "#imputed_df = KNN(k=3).fit_transform(df_mis)\n",
    "\n",
    "#from sklearn.impute import KNNImputer\n",
    "\n",
    "#imputed_df = KNNImputer(n_neighbors=1).fit_transform(df_mis)\n",
    "\n",
    "#imputed_df.describe()"
   ]
  },
  {
   "cell_type": "code",
   "execution_count": null,
   "id": "6120b80b",
   "metadata": {},
   "outputs": [],
   "source": [
    "print(\"No. of columns containing null values\")\n",
    "print(len(imputed_df.columns[imputed_df.isna().any()]))\n",
    "\n",
    "print(\"No. of columns not containing null values\")\n",
    "print(len(imputed_df.columns[imputed_df.notna().all()]))\n",
    "\n",
    "print(\"Total no. of columns in the dataframe\")\n",
    "print(len(imputed_df.columns))\n",
    "\n",
    "#df = df.dropna(axis=1)\n",
    "#df.shape"
   ]
  },
  {
   "cell_type": "code",
   "execution_count": null,
   "id": "659f3ec3",
   "metadata": {},
   "outputs": [],
   "source": [
    "imputed_df.to_csv('./data/brfss_imputed.csv')"
   ]
  }
 ],
 "metadata": {
  "kernelspec": {
   "display_name": "Python 3 (ipykernel)",
   "language": "python",
   "name": "python3"
  },
  "language_info": {
   "codemirror_mode": {
    "name": "ipython",
    "version": 3
   },
   "file_extension": ".py",
   "mimetype": "text/x-python",
   "name": "python",
   "nbconvert_exporter": "python",
   "pygments_lexer": "ipython3",
   "version": "3.10.9"
  }
 },
 "nbformat": 4,
 "nbformat_minor": 5
}
