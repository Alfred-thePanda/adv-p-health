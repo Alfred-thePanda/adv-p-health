{
 "cells": [
  {
   "cell_type": "code",
   "execution_count": 1,
   "id": "1cc93f4a-b0f3-4f11-923b-f1e524138010",
   "metadata": {},
   "outputs": [],
   "source": [
    "import pandas as pd\n",
    "import numpy as np\n",
    "import matplotlib.pyplot as plt\n",
    "import seaborn as sns\n",
    "import math\n",
    "\n",
    "%matplotlib inline\n",
    "\n",
    "import warnings\n",
    "\n",
    "warnings.simplefilter(action='ignore', category=pd.errors.PerformanceWarning)"
   ]
  },
  {
   "cell_type": "code",
   "execution_count": null,
   "id": "a28c97dd-daa1-4887-83e0-b9c247928dc2",
   "metadata": {},
   "outputs": [],
   "source": [
    "#df = pd.read_sas('./data/LLCP2021.XPT')\n",
    "#df = pd.to_csv('./data/LLCP2021.csv')\n",
    "df = pd.read_csv('./data/LLCP2021.csv')"
   ]
  },
  {
   "cell_type": "code",
   "execution_count": null,
   "id": "23f63a41-fc32-40b4-b440-faed2ad36e3a",
   "metadata": {},
   "outputs": [],
   "source": [
    "# drop s0q1, interview state\n",
    "# drop s0q8, file month\n",
    "# drop s0q9, interview date\n",
    "# drop s0q10, interview month\n",
    "# drop s0q11, interview day\n",
    "# drop s0q12, interview year\n",
    "# drop s0q14, final disposition, can use for dropping partial interviews\n",
    "# drop s0q15, annual sequence number\n",
    "# drop s0q16, primary sampling unit\n",
    "df = df[df.CTELENM1 != 2] # s0q1, dropping incorrect phone numbers"
   ]
  },
  {
   "cell_type": "code",
   "execution_count": null,
   "id": "1d14ae96-b845-4846-8fd6-3a29c1031cc1",
   "metadata": {},
   "outputs": [],
   "source": [
    "# drop s0q1, correct telephone number\n",
    "# drop s0q2, private residence\n",
    "# drop s0q3, college housing\n",
    "# drop s0q4, resident of state\n",
    "# drop s0q5, cellular telephone\n",
    "# drop s0q6, 18 or older\n",
    "# drop s0q7, college male or female\n",
    "# drop s0q8, number af adults in household\n",
    "# drop s0q9, landline sex\n",
    "# drop s0q10, number of adult men in household\n",
    "# drop s0q11, number of adult women in household\n",
    "# drop s0q12, respondent selection\n",
    "# drop s0q1, safe time to talk\n",
    "# drop s0q2, correct phone number\n",
    "# drop s0q3, is this a cell phone\n",
    "# drop s0q4, 18 years or older cell phone\n",
    "# drop s0q5, cell phone male or female\n",
    "# drop s0q6, private residence cell phone\n",
    "# drop s0q7, cell phone college housing\n",
    "# drop s0q8, cell phone state confirmation\n",
    "# drop s0q10, do you have a landline as well\n",
    "# drop s0q11, number of adults in household\n",
    "df = df.drop(['_STATE', 'FMONTH', 'IDATE', 'IMONTH', 'IDAY', 'IYEAR', 'SEQNO', 'DISPCODE', '_PSU', 'CTELENM1', \n",
    "                'PVTRESD1', 'COLGHOUS', 'STATERE1', 'CELPHON1', 'LADULT1','COLGSEX', 'NUMADULT', 'LANDSEX', 'NUMMEN', \n",
    "              'NUMWOMEN', 'RESPSLCT', 'SAFETIME', 'CTELNUM1', 'CELLFON5',\n",
    "               'CADULT1','CELLSEX', 'PVTRESD3', 'CCLGHOUS', 'CSTATE1', 'LANDLINE', 'HHADULT'], axis=1)"
   ]
  },
  {
   "cell_type": "code",
   "execution_count": null,
   "id": "b1df07db-c778-44bf-b9b0-b8879fa522fa",
   "metadata": {},
   "outputs": [],
   "source": [
    "pd.isna(df[\"SEXVAR\"]).value_counts() # no nans"
   ]
  },
  {
   "cell_type": "code",
   "execution_count": null,
   "id": "fecdacc1",
   "metadata": {},
   "outputs": [],
   "source": [
    "df['SEXVAR'] -= 1\n",
    "df['SEXVAR'].describe()"
   ]
  },
  {
   "cell_type": "code",
   "execution_count": null,
   "id": "13c1e0b3-a385-4c1a-bcf9-62b2c10ff409",
   "metadata": {},
   "outputs": [],
   "source": [
    "df = df[df['GENHLTH'] != 7]\n",
    "df = df[df['GENHLTH'] != 9]"
   ]
  },
  {
   "cell_type": "code",
   "execution_count": null,
   "id": "e47c16d7-a65a-4d04-acf1-27e4c875cfac",
   "metadata": {},
   "outputs": [],
   "source": [
    "df['GENHLTH'] = df['GENHLTH'].replace(1,0)\n",
    "df['GENHLTH'] = df['GENHLTH'].replace(2,1)\n",
    "df['GENHLTH'] = df['GENHLTH'].replace(3,2)\n",
    "df['GENHLTH'] = df['GENHLTH'].replace(4,3)\n",
    "df['GENHLTH'] = df['GENHLTH'].replace(5,4)"
   ]
  },
  {
   "cell_type": "code",
   "execution_count": null,
   "id": "fb5ab179-06c5-4eb6-861b-7dbb75c4f8b7",
   "metadata": {},
   "outputs": [],
   "source": [
    "df = df.dropna(subset=['GENHLTH'])"
   ]
  },
  {
   "cell_type": "code",
   "execution_count": null,
   "id": "ec837457-0aea-4ba0-971b-073b43114513",
   "metadata": {},
   "outputs": [],
   "source": [
    "df[\"GENHLTH\"].value_counts()"
   ]
  },
  {
   "cell_type": "code",
   "execution_count": null,
   "id": "17727580-992a-464c-bb9c-94c983eac209",
   "metadata": {},
   "outputs": [],
   "source": [
    "# dropping continual missing values from survey respondents leaving calls\n",
    "df = df.dropna(axis=0, subset=['_VEGESU1'])\n",
    "df = df.dropna(axis=0, subset=['VEGETAB2'])"
   ]
  },
  {
   "cell_type": "code",
   "execution_count": null,
   "id": "5f2ddb3a-1064-4ea5-8ccb-a865cb2f3241",
   "metadata": {},
   "outputs": [],
   "source": [
    "df['PHYSHLTH'].isna().sum()"
   ]
  },
  {
   "cell_type": "code",
   "execution_count": null,
   "id": "529f718e-231c-4e06-8ed0-c6c56922a354",
   "metadata": {},
   "outputs": [],
   "source": [
    "df['PHYSHLTH'] = df['PHYSHLTH'].replace(88,0)\n",
    "df['PHYSHLTH'] = df['PHYSHLTH'].replace([77,99],np.nan)\n",
    "df['PHYSHLTH'].describe()"
   ]
  },
  {
   "cell_type": "code",
   "execution_count": null,
   "id": "6d0caef3-6e19-46d8-a0b9-c67ca6b6556f",
   "metadata": {},
   "outputs": [],
   "source": [
    "df['MENTHLTH'].isna().sum()"
   ]
  },
  {
   "cell_type": "code",
   "execution_count": null,
   "id": "75c1f35b-d3e3-4c76-aca7-78a6e321a6ee",
   "metadata": {},
   "outputs": [],
   "source": [
    "df['MENTHLTH'] = df['MENTHLTH'].replace(88,0)\n",
    "df['MENTHLTH'] = df['MENTHLTH'].replace([77,99],np.nan)\n",
    "df['MENTHLTH'].describe()"
   ]
  },
  {
   "cell_type": "code",
   "execution_count": null,
   "id": "685b3972-3b01-47c5-86cc-193ee3695fd7",
   "metadata": {},
   "outputs": [],
   "source": [
    "df['POORHLTH'].isna().sum()"
   ]
  },
  {
   "cell_type": "code",
   "execution_count": null,
   "id": "945336ab-c43d-46a7-aebb-c32af6467c6d",
   "metadata": {},
   "outputs": [],
   "source": [
    "df['POORHLTH'] = df['POORHLTH'].replace(88,0)\n",
    "df['POORHLTH'] = df['POORHLTH'].fillna(0)\n",
    "df['POORHLTH'] = df['POORHLTH'].replace([77,99],np.nan)\n",
    "df['POORHLTH'].describe()"
   ]
  },
  {
   "cell_type": "code",
   "execution_count": null,
   "id": "f9d399cc-c59a-4a33-b341-10547864740c",
   "metadata": {},
   "outputs": [],
   "source": [
    "# drop s3q1:PRIMINSR, health care access, _EDUCAG is a better metric\n",
    "df = df.drop(['PRIMINSR'], axis=1)"
   ]
  },
  {
   "cell_type": "code",
   "execution_count": null,
   "id": "75315988-1a46-4d4e-87e4-0718ae744db1",
   "metadata": {},
   "outputs": [],
   "source": [
    "df['PERSDOC3'].isna().sum()"
   ]
  },
  {
   "cell_type": "code",
   "execution_count": null,
   "id": "515e133b-bef0-46a8-9018-59cd062f4bd8",
   "metadata": {},
   "outputs": [],
   "source": [
    "# has a personal doctor\n",
    "df['PERSDOC3'].replace(2,1, inplace=True)\n",
    "df['PERSDOC3'].replace(3,0, inplace=True)\n",
    "df['PERSDOC3'].replace([7,9],np.nan, inplace=True)\n",
    "df['PERSDOC3'].describe()"
   ]
  },
  {
   "cell_type": "code",
   "execution_count": null,
   "id": "6b129a15-dfb0-4f5f-aaa6-96da161b1192",
   "metadata": {},
   "outputs": [],
   "source": [
    "df['MEDCOST1'].isna().sum()"
   ]
  },
  {
   "cell_type": "code",
   "execution_count": null,
   "id": "6b655ec0-b296-4bb6-a272-09652b3e8b2c",
   "metadata": {},
   "outputs": [],
   "source": [
    "# Could Not Afford To See Doctor\n",
    "df['MEDCOST1'].replace(2,0, inplace=True)\n",
    "df['MEDCOST1'].replace([7,9],np.nan, inplace=True)\n",
    "df['MEDCOST1'].describe()"
   ]
  },
  {
   "cell_type": "code",
   "execution_count": null,
   "id": "f51de127-f6fa-4631-829b-69b632e7c8ad",
   "metadata": {},
   "outputs": [],
   "source": [
    "df['CHECKUP1'].isna().sum()"
   ]
  },
  {
   "cell_type": "code",
   "execution_count": null,
   "id": "398b7ff1-0842-4e68-a0ac-86682bf3d989",
   "metadata": {},
   "outputs": [],
   "source": [
    "# Length of time since last routine checkup\n",
    "df['CHECKUP1'].replace([2,3,4,8],0, inplace=True)\n",
    "df['CHECKUP1'].replace([7,9],np.nan, inplace=True)\n",
    "df['CHECKUP1'].describe()"
   ]
  },
  {
   "cell_type": "code",
   "execution_count": null,
   "id": "211e1f7c-e374-423d-908a-3024737d50e0",
   "metadata": {},
   "outputs": [],
   "source": [
    "df['EXERANY2'].isna().sum()"
   ]
  },
  {
   "cell_type": "code",
   "execution_count": null,
   "id": "17fd6d37-705b-44a5-a4de-31f76eb5decd",
   "metadata": {},
   "outputs": [],
   "source": [
    "# Exercise in Past 30 Days\n",
    "df['EXERANY2'].replace(2,0, inplace=True)\n",
    "df['EXERANY2'].replace([7,9],np.nan, inplace=True)\n",
    "df['EXERANY2'].describe()"
   ]
  },
  {
   "cell_type": "code",
   "execution_count": null,
   "id": "c475dfc0-ed0c-44b6-960c-99e643ced7c4",
   "metadata": {},
   "outputs": [],
   "source": [
    "df['BPHIGH6'].isna().sum()"
   ]
  },
  {
   "cell_type": "code",
   "execution_count": null,
   "id": "6a20d69d-6d93-462a-a3ec-686a7ff40a20",
   "metadata": {},
   "outputs": [],
   "source": [
    "# Ever Told Blood Pressure High\n",
    "df['high_blood_pressure'] = df['BPHIGH6']\n",
    "df['high_blood_pressure'].replace([2,3,4],0, inplace=True)\n",
    "df['high_blood_pressure'].replace([7,9],np.nan, inplace=True)\n",
    "df['high_blood_pressure'].describe()"
   ]
  },
  {
   "cell_type": "code",
   "execution_count": null,
   "id": "8a633e10-245a-48d2-9f36-4298a7c649bb",
   "metadata": {},
   "outputs": [],
   "source": [
    "# Ever Told Blood Pressure High\n",
    "df['pregnant_high_blood_pressure'] = df['BPHIGH6']\n",
    "df['pregnant_high_blood_pressure'].replace([1,3,4],0, inplace=True)\n",
    "df['pregnant_high_blood_pressure'].replace(2,1, inplace=True)\n",
    "df['pregnant_high_blood_pressure'].replace([7,9],np.nan, inplace=True)\n",
    "df['pregnant_high_blood_pressure'].describe()"
   ]
  },
  {
   "cell_type": "code",
   "execution_count": null,
   "id": "43fb44d4-a0eb-41dd-b666-f967ef93dd53",
   "metadata": {},
   "outputs": [],
   "source": [
    "# Ever Told Blood Pressure High\n",
    "df['borderline_high_blood_pressure'] = df['BPHIGH6']\n",
    "df['borderline_high_blood_pressure'].replace([1,2,3],0, inplace=True)\n",
    "df['borderline_high_blood_pressure'].replace(4,1, inplace=True)\n",
    "df['borderline_high_blood_pressure'].replace([7,9],np.nan, inplace=True)\n",
    "df['borderline_high_blood_pressure'].describe()"
   ]
  },
  {
   "cell_type": "code",
   "execution_count": null,
   "id": "096f0860-1023-4366-83a4-017bae370e42",
   "metadata": {},
   "outputs": [],
   "source": [
    "df = df.drop(['BPHIGH6'], axis=1)"
   ]
  },
  {
   "cell_type": "code",
   "execution_count": null,
   "id": "b27ee4ca-d53e-4efc-abbf-89dba1c25464",
   "metadata": {},
   "outputs": [],
   "source": [
    "df['BPMEDS'].isna().sum()"
   ]
  },
  {
   "cell_type": "code",
   "execution_count": null,
   "id": "8e7f213e-5026-46a9-8c76-96e6efbc4115",
   "metadata": {},
   "outputs": [],
   "source": [
    "# high blood pressure medication\n",
    "df['BPMEDS'] = df['BPMEDS'].fillna(0)\n",
    "df['BPMEDS'] = df['BPMEDS'].replace(2,0)\n",
    "df['BPMEDS'] = df['BPMEDS'].replace([7,9],np.nan)\n",
    "df['BPMEDS'].describe()"
   ]
  },
  {
   "cell_type": "code",
   "execution_count": null,
   "id": "083b28ed-dd4e-48a7-9de9-545ae62a0d96",
   "metadata": {},
   "outputs": [],
   "source": [
    "df['CHOLCHK3'].isna().sum()"
   ]
  },
  {
   "cell_type": "code",
   "execution_count": null,
   "id": "49b56d8a-3f79-4f6d-b8ed-c43fa2cc1fc5",
   "metadata": {},
   "outputs": [],
   "source": [
    "# cholesterol checked within last year\n",
    "df['cholesterol_checked_within_year'] = df['CHOLCHK3']\n",
    "df['cholesterol_checked_within_year'].replace([1,3,4,5,6,8],0, inplace=True)\n",
    "df['cholesterol_checked_within_year'].replace(2,1, inplace=True)\n",
    "df['cholesterol_checked_within_year'].replace([7,9],np.nan, inplace=True)\n",
    "df['cholesterol_checked_within_year'].describe()"
   ]
  },
  {
   "cell_type": "code",
   "execution_count": null,
   "id": "c4a744d4-cf24-4f84-9bbb-38a2147b994c",
   "metadata": {},
   "outputs": [],
   "source": [
    "df = df.drop(['CHOLCHK3'], axis=1)"
   ]
  },
  {
   "cell_type": "code",
   "execution_count": null,
   "id": "42009052-c3b7-422f-b922-1c8923517fad",
   "metadata": {},
   "outputs": [],
   "source": [
    "df['TOLDHI3'].isna().sum()"
   ]
  },
  {
   "cell_type": "code",
   "execution_count": null,
   "id": "ede92436-5173-49e2-ba9f-2c587dc3d8d7",
   "metadata": {},
   "outputs": [],
   "source": [
    "# been told cholesterol is high\n",
    "df['TOLDHI3'].fillna(0, inplace=True)\n",
    "df['TOLDHI3'].replace(2,0, inplace=True)\n",
    "df['TOLDHI3'].replace([7,9],np.nan, inplace=True)\n",
    "df['TOLDHI3'].describe()"
   ]
  },
  {
   "cell_type": "code",
   "execution_count": null,
   "id": "b337475c-bb43-4ea2-9468-06fb7dc2d251",
   "metadata": {},
   "outputs": [],
   "source": [
    "df['CHOLMED3'].isna().sum()"
   ]
  },
  {
   "cell_type": "code",
   "execution_count": null,
   "id": "c7212ec7-015c-47b5-8385-5650da575dfc",
   "metadata": {},
   "outputs": [],
   "source": [
    "# Currently taking medicine for high cholesterol\n",
    "df['CHOLMED3'].fillna(0, inplace=True)\n",
    "df['CHOLMED3'].replace(2,0, inplace=True)\n",
    "df['CHOLMED3'].replace([7,9],np.nan, inplace=True)\n",
    "df['CHOLMED3'].describe()"
   ]
  },
  {
   "cell_type": "code",
   "execution_count": null,
   "id": "06ab4a52-1f68-4d1d-9ce1-4d986859136e",
   "metadata": {},
   "outputs": [],
   "source": [
    "df['CVDINFR4'].isna().sum()"
   ]
  },
  {
   "cell_type": "code",
   "execution_count": null,
   "id": "ea945ba3-0744-4caa-9e95-8bdecbea6dc4",
   "metadata": {},
   "outputs": [],
   "source": [
    "# *had heart attack*\n",
    "df['CVDINFR4'].replace(2,0, inplace=True)\n",
    "df['CVDINFR4'].replace([7,9],np.nan, inplace=True)\n",
    "df['CVDINFR4'].describe()"
   ]
  },
  {
   "cell_type": "code",
   "execution_count": null,
   "id": "a0d18044-b5cd-48eb-af69-8bf1631ba8dc",
   "metadata": {},
   "outputs": [],
   "source": [
    "df['CVDCRHD4'].isna().sum()"
   ]
  },
  {
   "cell_type": "code",
   "execution_count": null,
   "id": "52310a12-2165-48ad-9e42-6a803b2dfbd8",
   "metadata": {},
   "outputs": [],
   "source": [
    "# *told had angina or coronary heart disease*\n",
    "df['CVDCRHD4'].replace(2,0, inplace=True)\n",
    "df['CVDCRHD4'].replace([7,9],np.nan, inplace=True)\n",
    "df['CVDCRHD4'].describe()"
   ]
  },
  {
   "cell_type": "code",
   "execution_count": null,
   "id": "a3ebe2de-6ae2-455f-bf7b-b5d4c738220f",
   "metadata": {},
   "outputs": [],
   "source": [
    "df['CVDSTRK3'].isna().sum()"
   ]
  },
  {
   "cell_type": "code",
   "execution_count": null,
   "id": "4f78782c-7b36-4f06-839b-4cabe14dddad",
   "metadata": {},
   "outputs": [],
   "source": [
    "# *had stroke*\n",
    "df['CVDSTRK3'].replace(2,0, inplace=True)\n",
    "df['CVDSTRK3'].replace([7,9],np.nan, inplace=True)\n",
    "df['CVDSTRK3'].describe()"
   ]
  },
  {
   "cell_type": "code",
   "execution_count": null,
   "id": "480a6a83-6eb2-4a9c-a9b6-48c5a50c282c",
   "metadata": {},
   "outputs": [],
   "source": [
    "df['ASTHMA3'].isna().sum()"
   ]
  },
  {
   "cell_type": "code",
   "execution_count": null,
   "id": "0be74af4-66c2-4ee2-b12a-19709c53b944",
   "metadata": {},
   "outputs": [],
   "source": [
    "# *had asthma*\n",
    "df['ASTHMA3'].replace(2,0, inplace=True)\n",
    "df['ASTHMA3'].replace([7,9],np.nan, inplace=True)\n",
    "df['ASTHMA3'].describe()"
   ]
  },
  {
   "cell_type": "code",
   "execution_count": null,
   "id": "7c04362d-d0a4-4870-b00d-55d762358a92",
   "metadata": {},
   "outputs": [],
   "source": [
    "df['ASTHNOW'].isna().sum()"
   ]
  },
  {
   "cell_type": "code",
   "execution_count": null,
   "id": "db7061ba-f41f-4881-b3ad-f38789db4710",
   "metadata": {},
   "outputs": [],
   "source": [
    "# *has asthma now*\n",
    "df['ASTHNOW'].fillna(0, inplace=True)\n",
    "df['ASTHNOW'].replace(2,0, inplace=True)\n",
    "df['ASTHNOW'].replace([7,9],np.nan, inplace=True)\n",
    "df['ASTHNOW'].describe()"
   ]
  },
  {
   "cell_type": "code",
   "execution_count": null,
   "id": "d0af5a9e-dbee-485a-8162-c3f33a771424",
   "metadata": {},
   "outputs": [],
   "source": [
    "df['CHCSCNCR'].isna().sum()"
   ]
  },
  {
   "cell_type": "code",
   "execution_count": null,
   "id": "b0b179ad-13dd-4295-b8e2-44c58a918353",
   "metadata": {},
   "outputs": [],
   "source": [
    "# *had skin cancer*\n",
    "df['CHCSCNCR'].replace(2,0, inplace=True)\n",
    "df['CHCSCNCR'].replace([7,9],np.nan, inplace=True)\n",
    "df['CHCSCNCR'].describe()"
   ]
  },
  {
   "cell_type": "code",
   "execution_count": null,
   "id": "457d981e-430a-427e-a32a-b76382ec7891",
   "metadata": {},
   "outputs": [],
   "source": [
    "df['CHCOCNCR'].isna().sum()"
   ]
  },
  {
   "cell_type": "code",
   "execution_count": null,
   "id": "a700529a-59ae-4f41-9823-42add58ad96d",
   "metadata": {},
   "outputs": [],
   "source": [
    "# *had other cancer*\n",
    "df['CHCOCNCR'].replace(2,0, inplace=True)\n",
    "df['CHCOCNCR'].replace([7,9],np.nan, inplace=True)\n",
    "df['CHCOCNCR'].describe()"
   ]
  },
  {
   "cell_type": "code",
   "execution_count": null,
   "id": "ec4aacba-de15-4d55-ab30-345b845f9441",
   "metadata": {},
   "outputs": [],
   "source": [
    "df['CHCCOPD3'].isna().sum()"
   ]
  },
  {
   "cell_type": "code",
   "execution_count": null,
   "id": "1ee9c3c7-edc1-41e3-844e-df2243940f43",
   "metadata": {},
   "outputs": [],
   "source": [
    "# *Ever told you had C.O.P.D. emphysema or chronic bronchitis?*\n",
    "df['CHCCOPD3'].replace(2,0, inplace=True)\n",
    "df['CHCCOPD3'].replace([7,9],np.nan, inplace=True)\n",
    "df['CHCCOPD3'].describe()"
   ]
  },
  {
   "cell_type": "code",
   "execution_count": null,
   "id": "71d43757-0bfb-4843-bc63-cd64a5c4d528",
   "metadata": {},
   "outputs": [],
   "source": [
    "df['ADDEPEV3'].isna().sum()"
   ]
  },
  {
   "cell_type": "code",
   "execution_count": null,
   "id": "d783f55b-30d1-413f-afa5-3e5c3b95b743",
   "metadata": {},
   "outputs": [],
   "source": [
    "# *had depressive disorder*\n",
    "df['ADDEPEV3'].replace(2,0, inplace=True)\n",
    "df['ADDEPEV3'].replace([7,9],np.nan, inplace=True)\n",
    "df['ADDEPEV3'].describe()"
   ]
  },
  {
   "cell_type": "code",
   "execution_count": null,
   "id": "ee6b0689-8502-4702-9f83-0a2d5d4be4ab",
   "metadata": {},
   "outputs": [],
   "source": [
    "df['CHCKDNY2'].isna().sum()"
   ]
  },
  {
   "cell_type": "code",
   "execution_count": null,
   "id": "7c7ef11c-227d-46cc-bfc3-3ef006ea6983",
   "metadata": {},
   "outputs": [],
   "source": [
    "# *Ever told you have kidney disease?*\n",
    "df['CHCKDNY2'].replace(2,0, inplace=True)\n",
    "df['CHCKDNY2'].replace([7,9],np.nan, inplace=True)\n",
    "df['CHCKDNY2'].describe()"
   ]
  },
  {
   "cell_type": "code",
   "execution_count": null,
   "id": "6ed5ee08-b07d-4f6c-b79d-185dad423df1",
   "metadata": {},
   "outputs": [],
   "source": [
    "df['DIABETE4'].isna().sum()"
   ]
  },
  {
   "cell_type": "code",
   "execution_count": null,
   "id": "1485253b",
   "metadata": {},
   "outputs": [],
   "source": [
    "# drop s8q2, suggested physical activity for arthritis, not relevant for diagnosis\n",
    "# drop s8q3, taken course for arthritis, not relevant for diagnosis\n",
    "# drop s8q4, limited because of joint symptoms, not relevant for diagnosis\n",
    "# drop s8q5, arthritis affects work, not relevant for diagnosis\n",
    "df = df.drop(['ARTHEXER', 'ARTHEDU', 'LMTJOIN3', 'ARTHDIS2'], axis=1)"
   ]
  },
  {
   "cell_type": "code",
   "execution_count": null,
   "id": "4db81cdf-18c0-4c5b-839c-fbe9ae3c0f74",
   "metadata": {},
   "outputs": [],
   "source": [
    "# *Ever told you had diabetes*\n",
    "df['DIABETE4'].replace([3,4],0, inplace=True)\n",
    "df['DIABETE4'].replace(2,1, inplace=True)\n",
    "df['DIABETE4'].replace([7,9],np.nan, inplace=True)\n",
    "df['DIABETE4'].describe()"
   ]
  },
  {
   "cell_type": "code",
   "execution_count": null,
   "id": "c8747a51",
   "metadata": {},
   "outputs": [],
   "source": [
    "df.columns"
   ]
  },
  {
   "cell_type": "code",
   "execution_count": null,
   "id": "89f83d90",
   "metadata": {},
   "outputs": [],
   "source": [
    "df['DIABAGE3'].describe()"
   ]
  },
  {
   "cell_type": "code",
   "execution_count": null,
   "id": "000abe09-b5ab-46ae-bcc7-ad78c077351d",
   "metadata": {},
   "outputs": [],
   "source": [
    "# drop s7q12, old when told had diabetes, not relevant for diagnosing\n",
    "#df = df.drop(['DIABAGE3'], axis=1)"
   ]
  },
  {
   "cell_type": "code",
   "execution_count": null,
   "id": "acc5a931",
   "metadata": {},
   "outputs": [],
   "source": [
    "# drop s9q6, education level, _EDUCAG is better\n",
    "df = df.drop(['EDUCA'], axis=1)"
   ]
  },
  {
   "cell_type": "code",
   "execution_count": null,
   "id": "6c9ff5da",
   "metadata": {},
   "outputs": [],
   "source": [
    "# drop s9q10, household telephones, not relevant\n",
    "# drop s9q11, residential phones\n",
    "# drop s9q12, cell phone for personal use\n",
    "df = df.drop(['NUMHHOL3', 'NUMPHON3', 'CPDEMO1B'], axis=1)"
   ]
  },
  {
   "cell_type": "code",
   "execution_count": null,
   "id": "989fcdc1",
   "metadata": {},
   "outputs": [],
   "source": [
    "# drop s9q15, number of children in household, not relevant\n",
    "# drop s9q16, income level, _INCOMG1 is a better metric\n",
    "df = df.drop(['CHILDREN', 'INCOME3'], axis=1)"
   ]
  },
  {
   "cell_type": "code",
   "execution_count": null,
   "id": "8643b4d6",
   "metadata": {},
   "outputs": [],
   "source": [
    "# drop s9q18, reported weight pounds, WTKG3 is a better metric\n",
    "# drop s9q19, reported height in feet and inches, HTM4 is a better metric\n",
    "df = df.drop(['WEIGHT2', 'HEIGHT3'], axis=1)"
   ]
  },
  {
   "cell_type": "code",
   "execution_count": null,
   "id": "8c3289c8",
   "metadata": {},
   "outputs": [],
   "source": [
    "# drop s13q3, not relevant for diagnosis\n",
    "df = df.drop(['IMFVPLA2'], axis=1)"
   ]
  },
  {
   "cell_type": "code",
   "execution_count": null,
   "id": "577185a6",
   "metadata": {},
   "outputs": [],
   "source": [
    "# drop HIVTSTD3 s14q2, makes the model vulnerable to differences in time taking test\n",
    "df = df.drop(['HIVTSTD3'], axis=1)"
   ]
  },
  {
   "cell_type": "code",
   "execution_count": null,
   "id": "357a9a1e",
   "metadata": {},
   "outputs": [],
   "source": [
    "# drop FRUIT2 s15q1, in favor of FRUTDA2_ instead\n",
    "# drop FRUITJU2 s15q2, in favor of FTJUDA2_ instead\n",
    "# drop FVGREEN1 s15q3, in favor of GRENDA1_ instead\n",
    "# drop FRENCHF1 s15q4, in favor of FRNCHDA_ instead\n",
    "# drop POTATOE1 s15q5, in favor of POTADA1_ instead\n",
    "# drop VEGETAB2 s15q6, in favor of VEGEDA2_ instead\n",
    "df = df.drop(['FRUIT2', 'FRUITJU2', 'FVGREEN1', 'FRENCHF1', 'POTATOE1', 'VEGETAB2'], axis=1)"
   ]
  },
  {
   "cell_type": "code",
   "execution_count": null,
   "id": "2e8e0fae",
   "metadata": {},
   "outputs": [],
   "source": [
    "# drop PREDIAB1 m1q2, not relevant for diagnosis\n",
    "df = df.drop(['PREDIAB1'], axis=1)"
   ]
  },
  {
   "cell_type": "code",
   "execution_count": null,
   "id": "ee24c1c7",
   "metadata": {},
   "outputs": [],
   "source": [
    "# drop BLDSUGAR m2q2, introduces bias\n",
    "# drop FEETCHK3 m2q3, introduces bias\n",
    "# drop DOCTDIAB m2q4, already confirmed diabetes\n",
    "# drop CHKHEMO3 m2q5, already confirmed diabetes\n",
    "# drop FEETCHK m2q6, already confirmed diabetes\n",
    "# drop EYEEXAM1 m2q7, already confirmed diabetes\n",
    "# drop DIABEYE m2q8, already confirmed diabetes\n",
    "# drop DIABEDU m2q9, already confirmed diabetes\n",
    "# drop TOLDCFS m3q1, no one has it\n",
    "# drop HAVECFS m3q2, no one has it\n",
    "# drop WORKCFS m3q2, no one has it\n",
    "# drop TOLDHEPC m4q1, barely anyone was asked\n",
    "# drop TRETHEPC m4q2, barely anyone was asked\n",
    "# drop PRIRHEPC m4q3, barely anyone was asked\n",
    "# drop HAVEHEPC m4q4, barely anyone was asked\n",
    "# drop HAVEHEPB m4q5, barely anyone was asked\n",
    "# drop MEDSHEPB m4q6, barely anyone was asked\n",
    "# drop HPVADVC4 m5q1, barely anyone was asked\n",
    "# drop HPVADSHT m5q2, barely anyone was asked\n",
    "# drop TETANUS1 m6q1, barely anyone was asked\n",
    "# drop SHINGLE2 m7q1, barely anyone was asked\n",
    "# drop LCSFIRST m9q1, barely anyone was asked\n",
    "# drop LCSLAST m9q2, barely anyone was asked\n",
    "# drop LCSNUMCG m9q3, barely anyone was asked\n",
    "# drop LCSCTSCN m9q4, barely anyone was asked\n",
    "# drop HADMAM m10q1, barely anyone was asked\n",
    "# drop HOWLONG m10q2, barely anyone was asked\n",
    "# drop CERVSCRN m10q3, barely anyone was asked\n",
    "# drop CRVCLCNC m10q4, barely anyone was asked\n",
    "# drop CRVCLPAP m10q5, barely anyone was asked\n",
    "# drop CRVCLHPV m10q6, barely anyone was asked\n",
    "# drop HADHYST2 m10q7, barely anyone was asked\n",
    "# drop PSATEST1 m11q1, barely anyone was asked\n",
    "# drop PSATIME1 m11q2, barely anyone was asked\n",
    "# drop PCPSARS2 m11q3, barely anyone was asked\n",
    "# drop PCSTALK m11q4, barely anyone was asked\n",
    "# drop HADSIGM4 m12q1, barely anyone was asked\n",
    "# drop COLNSIGM m12q2, barely anyone was asked\n",
    "# drop COLNTES1 m12q3, barely anyone was asked\n",
    "# drop SIGMTES1 m12q4, barely anyone was asked\n",
    "# drop LASTSIG4 m12q5, barely anyone was asked\n",
    "# drop COLNCNCR m12q6, barely anyone was asked\n",
    "# drop VIRCOLO1 m12q7, barely anyone was asked\n",
    "# drop VCLNTES1 m12q8, barely anyone was asked\n",
    "# drop SMALSTOL m12q9, barely anyone was asked\n",
    "# drop STOLTEST m12q10, barely anyone was asked\n",
    "# drop STOOLDN1 m12q11, barely anyone was asked\n",
    "# drop BLDSTFIT m12q12, barely anyone was asked\n",
    "# drop SDNATES1 m12q13, barely anyone was asked\n",
    "# drop CNCRDIFF m13q1, barely anyone was asked\n",
    "# drop CNCRAGE m13q2, barely anyone was asked\n",
    "# drop CNCRTYP1 m13q3, barely anyone was asked\n",
    "# drop CSRVTRT3 m14q1, barely anyone was asked\n",
    "# drop CSRVDOC1 m14q2, barely anyone was asked\n",
    "# drop CSRVSUM m14q3, barely anyone was asked\n",
    "# drop CSRVRTRN m14q4, barely anyone was asked\n",
    "# drop CSRVINST m14q5, barely anyone was asked\n",
    "# drop CSRVINSR m14q6, barely anyone was asked\n",
    "# drop CSRVDEIN m14q7, barely anyone was asked\n",
    "# drop CSRVCLIN m14q8, barely anyone was asked\n",
    "# drop CSRVPAIN m15q1, barely anyone was asked\n",
    "# drop CSRVCTL2 m15q2, barely anyone was asked\n",
    "# drop HOMBPCHK m16q1, barely anyone was asked\n",
    "# drop HOMRGCHK m16q2, barely anyone was asked\n",
    "# drop WHEREBP m16q3, barely anyone was asked\n",
    "# drop SHAREBP m16q4, barely anyone was asked\n",
    "# drop WTCHSALT m17q1, barely anyone was asked\n",
    "# drop DRADVISE m17q2, barely anyone was asked\n",
    "# drop CIMEMLOS m18q1, barely anyone was asked\n",
    "# drop CDHOUSE m18q2, barely anyone was asked\n",
    "# drop CDASSIST m18q3, barely anyone was asked\n",
    "# drop CDHELP m18q4, barely anyone was asked\n",
    "# drop CDSOCIAL m18q5, barely anyone was asked\n",
    "# drop CDDISCUS m18q6, barely anyone was asked\n",
    "# drop CAREGIV1 m19q1, barely anyone was asked\n",
    "# drop CRGVREL4 m19q2, barely anyone was asked\n",
    "# drop CRGVLNG1 m19q3, barely anyone was asked\n",
    "# drop CRGVHRS1 m19q4, barely anyone was asked\n",
    "# ...\n",
    "# drop SOFEMALE m28q1b, barely anyone was asked\n",
    "# drop TRNSGNDR m28q2, almost no yeses and outlier\n",
    "# drop QSTVER m1q1, not relevant\n",
    "# drop QSTLANG m1q1, not relevant\n",
    "#QSTVER\n",
    "\n",
    "df = df.drop(['BLDSUGAR', 'FEETCHK3', 'DOCTDIAB', 'CHKHEMO3', 'FEETCHK', 'EYEEXAM1', 'DIABEYE', 'DIABEDU'], axis=1)\n",
    "df = df.drop(['TOLDCFS', 'HAVECFS', 'WORKCFS', 'TOLDHEPC', 'TRETHEPC', 'PRIRHEPC', 'HAVEHEPC'], axis=1)\n",
    "df = df.drop(['HAVEHEPB', 'MEDSHEPB', 'HPVADVC4', 'HPVADSHT', 'TETANUS1', 'SHINGLE2', 'LCSFIRST'], axis=1)\n",
    "df = df.drop(['LCSLAST', 'LCSNUMCG', 'LCSCTSCN', 'HADMAM', 'HOWLONG', 'CERVSCRN', 'CRVCLCNC'], axis=1)\n",
    "df = df.drop(['CRVCLPAP', 'CRVCLHPV', 'HADHYST2', 'PSATEST1', 'PSATIME1', 'PCPSARS2', 'PCSTALK'], axis=1)\n",
    "df = df.drop(['HADSIGM4', 'COLNSIGM', 'COLNTES1', 'SIGMTES1', 'LASTSIG4', 'COLNCNCR', 'VIRCOLO1'], axis=1)\n",
    "df = df.drop(['VCLNTES1', 'SMALSTOL', 'STOLTEST', 'STOOLDN1', 'BLDSTFIT', 'SDNATES1', 'CNCRDIFF'], axis=1)\n",
    "df = df.drop(['CNCRAGE', 'CNCRTYP1', 'CSRVTRT3', 'CSRVDOC1', 'CSRVSUM', 'CSRVRTRN', 'CSRVINST'], axis=1)\n",
    "df = df.drop(['CSRVINSR', 'CSRVDEIN', 'CSRVCLIN', 'CSRVPAIN', 'CSRVCTL2', 'HOMBPCHK', 'HOMRGCHK'], axis=1)\n",
    "df = df.drop(['WHEREBP', 'SHAREBP', 'WTCHSALT', 'DRADVISE', 'CIMEMLOS', 'CDHOUSE', 'CDASSIST', 'CDHELP'], axis=1)\n",
    "df = df.drop(['CDSOCIAL', 'CDDISCUS', 'CAREGIV1', 'CRGVREL4', 'CRGVLNG1', 'CRGVHRS1', 'CRGVPRB3'], axis=1)\n",
    "df = df.drop(['CRGVALZD', 'CRGVPER1', 'CRGVHOU1', 'CRGVEXPT', 'ACEDEPRS', 'ACEDRINK', 'ACEDRUGS'], axis=1)\n",
    "df = df.drop(['ACEPRISN', 'ACEDIVRC', 'ACEPUNCH', 'ACEHURT1', 'ACESWEAR', 'ACETOUCH', 'ACETTHEM'], axis=1)\n",
    "df = df.drop(['ACEHVSEX', 'ACEADSAF', 'ACEADNED', 'MARIJAN1', 'RSNMRJN2', 'LASTSMK2', 'STOPSMK2'], axis=1)\n",
    "df = df.drop(['FIREARM5', 'GUNLOAD', 'LOADULK2', 'RCSGENDR', 'RCSRLTN2', 'CASTHDX2', 'CASTHNO2'], axis=1)\n",
    "df = df.drop(['BIRTHSEX', 'SOMALE', 'SOFEMALE', 'TRNSGNDR', 'QSTVER', 'QSTLANG'], axis=1)"
   ]
  },
  {
   "cell_type": "code",
   "execution_count": null,
   "id": "a3bf71b9",
   "metadata": {},
   "outputs": [],
   "source": [
    "# drop MSCODE m1q2, not relevant\n",
    "# drop _STSTR m1q3, not relevant\n",
    "# drop _STRWT m1q4, not relevant\n",
    "# drop _RAWRAKE m1q7, not relevant\n",
    "# drop _WT2RAKE m1q8, not relevant\n",
    "\n",
    "df = df.drop(['MSCODE', '_STSTR', '_STRWT', '_RAWRAKE'], axis=1)"
   ]
  },
  {
   "cell_type": "code",
   "execution_count": null,
   "id": "8b68f3ad",
   "metadata": {},
   "outputs": [],
   "source": [
    "# drop _CHISPNC m1q01, not relevant\n",
    "# drop _CRACE1 m1q04, not enough data\n",
    "# drop _CPRACE1 m1q05, not enough data\n",
    "# drop CAGEG m1q04, not relevant\n",
    "# drop _CLLCPWT m1q5, not relevant\n",
    "# drop _DUALUSE m1q2, not relevant\n",
    "# drop _DUALCOR m1q3, not relevant\n",
    "# drop _LLCPWT2 m1q4, not relevant\n",
    "# drop _LLCPWT m1q21, not relevant\n",
    "# drop _RFHLTH m1q5, already in data\n",
    "# drop _PHYS14D m2q1, already in data\n",
    "# drop _MENT14D m2q2, not relevant\n",
    "df = df.drop(['_CHISPNC', '_CRACE1', '_CPRACE1', 'CAGEG', '_CLLCPWT', '_DUALUSE', '_DUALCOR', '_LLCPWT2'], axis=1)\n",
    "df = df.drop(['_LLCPWT', '_RFHLTH', '_MENT14D'], axis=1)"
   ]
  },
  {
   "cell_type": "code",
   "execution_count": null,
   "id": "dbb626e0",
   "metadata": {},
   "outputs": [],
   "source": [
    "# drop _HCVU652 m3s2, already contains this data\n",
    "# drop _TOTINDA m4q1, already contains this data\n",
    "# drop _RFHYPE6 m5q1, already contains this data\n",
    "# drop _CHOLCH3 m6q1, already contains this data\n",
    "# ...\n",
    "df = df.drop(['_HCVU652', '_TOTINDA', '_RFHYPE6', '_CHOLCH3','_RFCHOL3', '_MICHD', '_LTASTH1', '_CASTHM1'], axis=1)\n",
    "df = df.drop(['_ASTHMS1', '_DRDXAR3', '_LMTACT3', '_LMTWRK3', '_PRACE1', '_MRACE1', '_HISPANC', '_RACE'], axis=1)\n",
    "df = df.drop(['_RACEG21', '_RACEGR3', '_RACEPRV', '_SEX'], axis=1)"
   ]
  },
  {
   "cell_type": "code",
   "execution_count": null,
   "id": "862ca2b2",
   "metadata": {},
   "outputs": [],
   "source": [
    "# drop _AGEG5YR m9q12, _AGE80 is better\n",
    "# drop _AGE65YR m9q13, already contains this data\n",
    "# ...\n",
    "df = df.drop(['_AGEG5YR', '_AGE65YR'], axis=1)"
   ]
  },
  {
   "cell_type": "code",
   "execution_count": null,
   "id": "d4804850",
   "metadata": {},
   "outputs": [],
   "source": [
    "# drop _AGE_G m9q15, _AGE80 is better\n",
    "df = df.drop(['_AGE_G'], axis=1)"
   ]
  },
  {
   "cell_type": "code",
   "execution_count": null,
   "id": "1ffb5f7b",
   "metadata": {},
   "outputs": [],
   "source": [
    "# drop HTM4 m9q17, HTIN4 is better\n",
    "df = df.drop(['HTM4'], axis=1)"
   ]
  },
  {
   "cell_type": "code",
   "execution_count": null,
   "id": "f5e26298",
   "metadata": {},
   "outputs": [],
   "source": [
    "# drop _BMI5 m9q19, data already contained\n",
    "# drop _BMI5CAT m9q20, data already contained\n",
    "# drop _RFBMI5 m9q21, data already contained\n",
    "# drop _CHLDCNT m9q22, not relevant\n",
    "df = df.drop(['_BMI5', '_BMI5CAT', '_RFBMI5', '_CHLDCNT'], axis=1)"
   ]
  },
  {
   "cell_type": "code",
   "execution_count": null,
   "id": "94089a16",
   "metadata": {},
   "outputs": [],
   "source": [
    "# drop _SMOKER3 m11q1, data already contained\n",
    "# drop _RFSMOK3 m11q2, data already contained\n",
    "# drop _CURECI1 m12q1, data already contained\n",
    "# drop DRNKANY5 m11q2, data already contained\n",
    "# drop DROCDY3_ m12q2, data already contained\n",
    "# drop _RFBING5 m12q3, data already contained\n",
    "# ...\n",
    "df = df.drop(['_SMOKER3', '_RFSMOK3', '_CURECI1', 'DRNKANY5', 'DROCDY3_', '_RFBING5', '_DRNKWK1'], axis=1)\n",
    "df = df.drop(['_RFDRHV7', '_FLSHOT7', '_PNEUMO3', '_AIDTST4'], axis=1)"
   ]
  },
  {
   "cell_type": "code",
   "execution_count": null,
   "id": "97bf0e52",
   "metadata": {},
   "outputs": [],
   "source": [
    "# drop _MISVEG1, missing response feature\n",
    "# drop _FRTRES1, missing response feature\n",
    "# drop _VEGRES1, missing response feature\n",
    "# drop _FRUTSU1, Total fruits consumed per day, data already available\n",
    "# drop _VEGESU1, Total vegetables consumed per day, data already available\n",
    "# drop _FRTLT1A, Consume Fruit 1 or more times per day, data already available\n",
    "# drop _VEGLT1A, Consume vegatables 1 or more times per day, data already available\n",
    "# drop _FRT16A, Reported consuming Fruit >16 per day, data already available\n",
    "# drop _VEG23A, Reported consuming Vegetables >23 per day, data already available\n",
    "# drop _FRUITE1, Fruit Exclusion from analyses, data already available\n",
    "# drop _VEGETE1, Vegetable Exclusion from analyses, data already available\n",
    "\n",
    "df = df.drop(['_MISVEG1', '_FRTRES1', '_VEGRES1', '_FRUTSU1', '_VEGESU1', '_FRTLT1A', '_VEGLT1A'], axis=1)\n",
    "df = df.drop(['_FRT16A', '_VEG23A', '_FRUITE1', '_VEGETE1'], axis=1)"
   ]
  },
  {
   "cell_type": "code",
   "execution_count": null,
   "id": "942620ce",
   "metadata": {},
   "outputs": [],
   "source": [
    "df = df.drop(['USEMRJN3'], axis=1)"
   ]
  },
  {
   "cell_type": "code",
   "execution_count": null,
   "id": "c010798e",
   "metadata": {},
   "outputs": [],
   "source": [
    "# drop s7q12, old when told had diabetes, not relevant for diagnosing\n",
    "df = df.drop(['DIABAGE3'], axis=1)"
   ]
  },
  {
   "cell_type": "code",
   "execution_count": null,
   "id": "63fc2b98",
   "metadata": {},
   "outputs": [],
   "source": [
    "df.to_csv('./data/brfss_reduced.csv')"
   ]
  },
  {
   "cell_type": "code",
   "execution_count": null,
   "id": "f0850de6",
   "metadata": {},
   "outputs": [],
   "source": []
  }
 ],
 "metadata": {
  "kernelspec": {
   "display_name": "Python 3 (ipykernel)",
   "language": "python",
   "name": "python3"
  },
  "language_info": {
   "codemirror_mode": {
    "name": "ipython",
    "version": 3
   },
   "file_extension": ".py",
   "mimetype": "text/x-python",
   "name": "python",
   "nbconvert_exporter": "python",
   "pygments_lexer": "ipython3",
   "version": "3.10.9"
  }
 },
 "nbformat": 4,
 "nbformat_minor": 5
}
