{
 "cells": [
  {
   "cell_type": "code",
   "execution_count": 1,
   "id": "39b87d73",
   "metadata": {},
   "outputs": [],
   "source": [
    "import pandas as pd\n",
    "import numpy as np\n",
    "import matplotlib.pyplot as plt\n",
    "import seaborn as sns\n",
    "\n",
    "%matplotlib inline\n",
    "\n",
    "import warnings\n",
    "\n",
    "warnings.simplefilter(action='ignore', category=pd.errors.PerformanceWarning)"
   ]
  },
  {
   "cell_type": "code",
   "execution_count": 2,
   "id": "45b60605",
   "metadata": {},
   "outputs": [],
   "source": [
    "df = pd.read_sas('./data/LLCP2021.XPT')"
   ]
  },
  {
   "cell_type": "code",
   "execution_count": 3,
   "id": "e0309516",
   "metadata": {},
   "outputs": [],
   "source": [
    "# drop s0q1, interview state\n",
    "# drop s0q8, file month\n",
    "# drop s0q9, interview date\n",
    "# drop s0q10, interview month\n",
    "# drop s0q11, interview day\n",
    "# drop s0q12, interview year\n",
    "# drop s0q14, final disposition, can use for dropping partial interviews\n",
    "# drop s0q15, annual sequence number\n",
    "# drop s0q16, primary sampling unit"
   ]
  },
  {
   "cell_type": "code",
   "execution_count": 4,
   "id": "581f6b09",
   "metadata": {},
   "outputs": [],
   "source": [
    "df = df[df.CTELENM1 != 2] # s0q1, dropping incorrect phone numbers"
   ]
  },
  {
   "cell_type": "code",
   "execution_count": 5,
   "id": "d1eb96db",
   "metadata": {},
   "outputs": [],
   "source": [
    "# drop s0q1, correct telephone number\n",
    "# drop s0q2, private residence\n",
    "# drop s0q3, college housing\n",
    "# drop s0q4, resident of state\n",
    "# drop s0q5, cellular telephone\n",
    "# drop s0q6, 18 or older\n",
    "# drop s0q7, college male or female\n",
    "# drop s0q8, number af adults in household\n",
    "# drop s0q9, landline sex\n",
    "# drop s0q10, number of adult men in household\n",
    "# drop s0q11, number of adult women in household\n",
    "# drop s0q12, respondent selection\n",
    "# drop s0q1, safe time to talk\n",
    "# drop s0q2, correct phone number\n",
    "# drop s0q3, is this a cell phone\n",
    "# drop s0q4, 18 years or older cell phone\n",
    "# drop s0q5, cell phone male or female\n",
    "# drop s0q6, private residence cell phone\n",
    "# drop s0q7, cell phone college housing\n",
    "# drop s0q8, cell phone state confirmation\n",
    "# drop s0q10, do you have a landline as well\n",
    "# drop s0q11, number of adults in household"
   ]
  },
  {
   "cell_type": "code",
   "execution_count": 6,
   "id": "52fead91",
   "metadata": {},
   "outputs": [],
   "source": [
    "df = df.drop(['_STATE', 'FMONTH', 'IDATE', 'IMONTH', 'IDAY', 'IYEAR', 'SEQNO', 'DISPCODE', '_PSU', 'CTELENM1', \n",
    "                'PVTRESD1', 'COLGHOUS', 'STATERE1', 'CELPHON1', 'LADULT1','COLGSEX', 'NUMADULT', 'LANDSEX', 'NUMMEN', \n",
    "              'NUMWOMEN', 'RESPSLCT', 'SAFETIME', 'CTELNUM1', 'CELLFON5',\n",
    "               'CADULT1','CELLSEX', 'PVTRESD3', 'CCLGHOUS', 'CSTATE1', 'LANDLINE', 'HHADULT'], axis=1)"
   ]
  },
  {
   "cell_type": "code",
   "execution_count": 7,
   "id": "aa6d69ff",
   "metadata": {},
   "outputs": [
    {
     "data": {
      "text/plain": [
       "False    438691\n",
       "Name: SEXVAR, dtype: int64"
      ]
     },
     "execution_count": 7,
     "metadata": {},
     "output_type": "execute_result"
    }
   ],
   "source": [
    "pd.isna(df[\"SEXVAR\"]).value_counts() # no nans"
   ]
  },
  {
   "cell_type": "code",
   "execution_count": 8,
   "id": "b8e90a82",
   "metadata": {},
   "outputs": [],
   "source": [
    "df = df[df['GENHLTH'] != 7]\n",
    "df = df[df['GENHLTH'] != 9]"
   ]
  },
  {
   "cell_type": "code",
   "execution_count": 9,
   "id": "138340f2",
   "metadata": {},
   "outputs": [],
   "source": [
    "df['GENHLTH'] = df['GENHLTH'].replace(1,0)\n",
    "df['GENHLTH'] = df['GENHLTH'].replace(2,1)\n",
    "df['GENHLTH'] = df['GENHLTH'].replace(3,2)\n",
    "df['GENHLTH'] = df['GENHLTH'].replace(4,3)\n",
    "df['GENHLTH'] = df['GENHLTH'].replace(5,4)"
   ]
  },
  {
   "cell_type": "code",
   "execution_count": 10,
   "id": "7f9b3a6c",
   "metadata": {},
   "outputs": [],
   "source": [
    "df = df.dropna(subset=['GENHLTH'])"
   ]
  },
  {
   "cell_type": "code",
   "execution_count": 11,
   "id": "d60da0ef",
   "metadata": {},
   "outputs": [
    {
     "data": {
      "text/plain": [
       "1.0    149110\n",
       "2.0    137938\n",
       "0.0     77741\n",
       "3.0     54736\n",
       "4.0     18005\n",
       "Name: GENHLTH, dtype: int64"
      ]
     },
     "execution_count": 11,
     "metadata": {},
     "output_type": "execute_result"
    }
   ],
   "source": [
    "df[\"GENHLTH\"].value_counts()"
   ]
  },
  {
   "cell_type": "code",
   "execution_count": 12,
   "id": "d248087e",
   "metadata": {},
   "outputs": [
    {
     "data": {
      "text/plain": [
       "count    437530.000000\n",
       "mean          0.020952\n",
       "std           0.143223\n",
       "min           0.000000\n",
       "25%           0.000000\n",
       "50%           0.000000\n",
       "75%           0.000000\n",
       "max           1.000000\n",
       "Name: unk_PHYSHLTH, dtype: float64"
      ]
     },
     "execution_count": 12,
     "metadata": {},
     "output_type": "execute_result"
    }
   ],
   "source": [
    "df['unk_PHYSHLTH'] = df['PHYSHLTH']\n",
    "df['unk_PHYSHLTH'] = df['unk_PHYSHLTH'].replace(range(1,31), 0)\n",
    "df['unk_PHYSHLTH'] = df['unk_PHYSHLTH'].replace(88, 0)\n",
    "df['unk_PHYSHLTH'] = df['unk_PHYSHLTH'].replace(99, 1)\n",
    "df['unk_PHYSHLTH'] = df['unk_PHYSHLTH'].replace(77, 1)\n",
    "df['unk_PHYSHLTH'] = df['unk_PHYSHLTH'].fillna(1)\n",
    "df['unk_PHYSHLTH'].describe()"
   ]
  },
  {
   "cell_type": "code",
   "execution_count": 13,
   "id": "48cdae09",
   "metadata": {},
   "outputs": [
    {
     "data": {
      "text/plain": [
       "count    437530.000000\n",
       "mean          3.706816\n",
       "std           8.272157\n",
       "min           0.000000\n",
       "25%           0.000000\n",
       "50%           0.000000\n",
       "75%           2.000000\n",
       "max          30.000000\n",
       "Name: PHYSHLTH, dtype: float64"
      ]
     },
     "execution_count": 13,
     "metadata": {},
     "output_type": "execute_result"
    }
   ],
   "source": [
    "df['PHYSHLTH'] = df['PHYSHLTH'].replace(88,0)\n",
    "df['PHYSHLTH'] = df['PHYSHLTH'].replace(77,0)\n",
    "df['PHYSHLTH'] = df['PHYSHLTH'].replace(99,0)\n",
    "df['PHYSHLTH'] = df['PHYSHLTH'].fillna(0)\n",
    "df['PHYSHLTH'].describe()"
   ]
  },
  {
   "cell_type": "code",
   "execution_count": 14,
   "id": "f8f3c279",
   "metadata": {},
   "outputs": [
    {
     "data": {
      "text/plain": [
       "count    437530.000000\n",
       "mean          0.017562\n",
       "std           0.131354\n",
       "min           0.000000\n",
       "25%           0.000000\n",
       "50%           0.000000\n",
       "75%           0.000000\n",
       "max           1.000000\n",
       "Name: unk_MENTHLTH, dtype: float64"
      ]
     },
     "execution_count": 14,
     "metadata": {},
     "output_type": "execute_result"
    }
   ],
   "source": [
    "df['unk_MENTHLTH'] = df['MENTHLTH']\n",
    "df['unk_MENTHLTH'] = df['unk_MENTHLTH'].replace(range(1,31), 0)\n",
    "df['unk_MENTHLTH'] = df['unk_MENTHLTH'].replace(88, 0)\n",
    "df['unk_MENTHLTH'] = df['unk_MENTHLTH'].replace(99, 1)\n",
    "df['unk_MENTHLTH'] = df['unk_MENTHLTH'].replace(77, 1)\n",
    "df['unk_MENTHLTH'] = df['unk_MENTHLTH'].fillna(1)\n",
    "df['unk_MENTHLTH'].describe()"
   ]
  },
  {
   "cell_type": "code",
   "execution_count": 15,
   "id": "445751fc",
   "metadata": {},
   "outputs": [
    {
     "data": {
      "text/plain": [
       "count    437530.000000\n",
       "mean          4.028000\n",
       "std           8.104612\n",
       "min           0.000000\n",
       "25%           0.000000\n",
       "50%           0.000000\n",
       "75%           3.000000\n",
       "max          30.000000\n",
       "Name: MENTHLTH, dtype: float64"
      ]
     },
     "execution_count": 15,
     "metadata": {},
     "output_type": "execute_result"
    }
   ],
   "source": [
    "df['MENTHLTH'] = df['MENTHLTH'].replace(88,0)\n",
    "df['MENTHLTH'] = df['MENTHLTH'].replace(77,0)\n",
    "df['MENTHLTH'] = df['MENTHLTH'].replace(99,0)\n",
    "df['MENTHLTH'] = df['MENTHLTH'].fillna(0)\n",
    "df['MENTHLTH'].describe()"
   ]
  },
  {
   "cell_type": "code",
   "execution_count": 16,
   "id": "68b08556",
   "metadata": {},
   "outputs": [
    {
     "data": {
      "text/plain": [
       "count    437530.000000\n",
       "mean          0.011638\n",
       "std           0.107250\n",
       "min           0.000000\n",
       "25%           0.000000\n",
       "50%           0.000000\n",
       "75%           0.000000\n",
       "max           1.000000\n",
       "Name: unk_POORHLTH, dtype: float64"
      ]
     },
     "execution_count": 16,
     "metadata": {},
     "output_type": "execute_result"
    }
   ],
   "source": [
    "df['unk_POORHLTH'] = df['POORHLTH']\n",
    "df['unk_POORHLTH'] = df['unk_POORHLTH'].replace(range(1,31), 0)\n",
    "df['unk_POORHLTH'] = df['unk_POORHLTH'].replace(88, 0)\n",
    "df['unk_POORHLTH'] = df['unk_POORHLTH'].replace(99, 1)\n",
    "df['unk_POORHLTH'] = df['unk_POORHLTH'].replace(77, 1)\n",
    "df['unk_POORHLTH'] = df['unk_POORHLTH'].fillna(0)\n",
    "df['unk_POORHLTH'].describe()"
   ]
  },
  {
   "cell_type": "code",
   "execution_count": 17,
   "id": "4a0c5f3c",
   "metadata": {},
   "outputs": [
    {
     "data": {
      "text/plain": [
       "count    437530.000000\n",
       "mean          2.703236\n",
       "std           7.002981\n",
       "min           0.000000\n",
       "25%           0.000000\n",
       "50%           0.000000\n",
       "75%           0.000000\n",
       "max          30.000000\n",
       "Name: POORHLTH, dtype: float64"
      ]
     },
     "execution_count": 17,
     "metadata": {},
     "output_type": "execute_result"
    }
   ],
   "source": [
    "df['POORHLTH'] = df['POORHLTH'].replace(88,0)\n",
    "df['POORHLTH'] = df['POORHLTH'].replace(77,0)\n",
    "df['POORHLTH'] = df['POORHLTH'].replace(99,0)\n",
    "df['POORHLTH'] = df['POORHLTH'].fillna(0)\n",
    "df['POORHLTH'].describe()"
   ]
  },
  {
   "cell_type": "code",
   "execution_count": 18,
   "id": "30fcb595",
   "metadata": {},
   "outputs": [],
   "source": [
    "# drop s3q1:PRIMINSR, health care access, _EDUCAG is a better metric\n",
    "df = df.drop(['PRIMINSR'], axis=1)"
   ]
  },
  {
   "cell_type": "code",
   "execution_count": 19,
   "id": "b7047fa9",
   "metadata": {},
   "outputs": [
    {
     "data": {
      "text/plain": [
       "count    437530.000000\n",
       "mean          0.008281\n",
       "std           0.090620\n",
       "min           0.000000\n",
       "25%           0.000000\n",
       "50%           0.000000\n",
       "75%           0.000000\n",
       "max           1.000000\n",
       "Name: unk_has_doc, dtype: float64"
      ]
     },
     "execution_count": 19,
     "metadata": {},
     "output_type": "execute_result"
    }
   ],
   "source": [
    "df['unk_has_doc'] = df['PERSDOC3']\n",
    "df['unk_has_doc'] = df['unk_has_doc'].replace([1,2,3],0)\n",
    "df['unk_has_doc'] = df['unk_has_doc'].replace([7,9],1)\n",
    "df['unk_has_doc'] = df['unk_has_doc'].fillna(1)\n",
    "df['unk_has_doc'].describe()"
   ]
  },
  {
   "cell_type": "code",
   "execution_count": 20,
   "id": "25b85ba3",
   "metadata": {},
   "outputs": [
    {
     "data": {
      "text/plain": [
       "count    437529.000000\n",
       "mean          0.871709\n",
       "std           0.334414\n",
       "min           0.000000\n",
       "25%           1.000000\n",
       "50%           1.000000\n",
       "75%           1.000000\n",
       "max           1.000000\n",
       "Name: has_doc, dtype: float64"
      ]
     },
     "execution_count": 20,
     "metadata": {},
     "output_type": "execute_result"
    }
   ],
   "source": [
    "# has a personal doctor\n",
    "df['has_doc'] = df['PERSDOC3']\n",
    "df.drop(columns=['PERSDOC3'])\n",
    "df['has_doc'] = df['has_doc'].replace(2,1)\n",
    "df['has_doc'] = df['has_doc'].replace(3,0)\n",
    "df['has_doc'] = df['has_doc'].replace(7,0)\n",
    "df['has_doc'] = df['has_doc'].replace(9,0)\n",
    "df = df.dropna(subset=['has_doc'])\n",
    "df['has_doc'].describe()"
   ]
  },
  {
   "cell_type": "code",
   "execution_count": 21,
   "id": "d62a942d",
   "metadata": {},
   "outputs": [
    {
     "data": {
      "text/plain": [
       "count    437529.000000\n",
       "mean          0.002944\n",
       "std           0.054177\n",
       "min           0.000000\n",
       "25%           0.000000\n",
       "50%           0.000000\n",
       "75%           0.000000\n",
       "max           1.000000\n",
       "Name: unk_MEDCOST1, dtype: float64"
      ]
     },
     "execution_count": 21,
     "metadata": {},
     "output_type": "execute_result"
    }
   ],
   "source": [
    "df['unk_MEDCOST1'] = df['MEDCOST1']\n",
    "df['unk_MEDCOST1'] = df['unk_MEDCOST1'].replace([1,2],0)\n",
    "df['unk_MEDCOST1'] = df['unk_MEDCOST1'].replace([7,9],1)\n",
    "df['unk_MEDCOST1'] = df['unk_MEDCOST1'].fillna(1)\n",
    "df['unk_MEDCOST1'].describe()"
   ]
  },
  {
   "cell_type": "code",
   "execution_count": 22,
   "id": "c25e55a8",
   "metadata": {},
   "outputs": [
    {
     "data": {
      "text/plain": [
       "count    437526.000000\n",
       "mean          0.074121\n",
       "std           0.261969\n",
       "min           0.000000\n",
       "25%           0.000000\n",
       "50%           0.000000\n",
       "75%           0.000000\n",
       "max           1.000000\n",
       "Name: MEDCOST1, dtype: float64"
      ]
     },
     "execution_count": 22,
     "metadata": {},
     "output_type": "execute_result"
    }
   ],
   "source": [
    "df['MEDCOST1'] = df['MEDCOST1'].replace(2,0)\n",
    "df['MEDCOST1'] = df['MEDCOST1'].replace(7,0)\n",
    "df['MEDCOST1'] = df['MEDCOST1'].replace(9,0)\n",
    "df = df.dropna(subset=['MEDCOST1'])\n",
    "df['MEDCOST1'].describe()"
   ]
  },
  {
   "cell_type": "code",
   "execution_count": 23,
   "id": "221eae49",
   "metadata": {},
   "outputs": [
    {
     "data": {
      "text/plain": [
       "count    437526.000000\n",
       "mean          0.013213\n",
       "std           0.114186\n",
       "min           0.000000\n",
       "25%           0.000000\n",
       "50%           0.000000\n",
       "75%           0.000000\n",
       "max           1.000000\n",
       "Name: unk_past_year, dtype: float64"
      ]
     },
     "execution_count": 23,
     "metadata": {},
     "output_type": "execute_result"
    }
   ],
   "source": [
    "df['unk_past_year'] = df['CHECKUP1']\n",
    "df['unk_past_year'] = df['unk_past_year'].replace([1,2,3,4,8],0)\n",
    "df['unk_past_year'] = df['unk_past_year'].replace([7,9],1)\n",
    "df['unk_past_year'] = df['unk_past_year'].fillna(1)\n",
    "df['unk_past_year'].describe()"
   ]
  },
  {
   "cell_type": "code",
   "execution_count": 24,
   "id": "460650be",
   "metadata": {},
   "outputs": [
    {
     "data": {
      "text/plain": [
       "count    437526.000000\n",
       "mean          0.770430\n",
       "std           0.420557\n",
       "min           0.000000\n",
       "25%           1.000000\n",
       "50%           1.000000\n",
       "75%           1.000000\n",
       "max           1.000000\n",
       "Name: past_year, dtype: float64"
      ]
     },
     "execution_count": 24,
     "metadata": {},
     "output_type": "execute_result"
    }
   ],
   "source": [
    "# within past year\n",
    "df['past_year'] = df['CHECKUP1']\n",
    "df.drop(columns=['CHECKUP1'])\n",
    "df['past_year'] = df['past_year'].replace(2,0)\n",
    "df['past_year'] = df['past_year'].replace(3,0)\n",
    "df['past_year'] = df['past_year'].replace(4,0)\n",
    "df['past_year'] = df['past_year'].replace(7,0)\n",
    "df['past_year'] = df['past_year'].replace(8,0)\n",
    "df['past_year'] = df['past_year'].replace(9,1)\n",
    "df = df.dropna(subset=['past_year'])\n",
    "df['past_year'].describe()"
   ]
  },
  {
   "cell_type": "code",
   "execution_count": 25,
   "id": "a057c9fb",
   "metadata": {},
   "outputs": [
    {
     "data": {
      "text/plain": [
       "count    437526.000000\n",
       "mean          0.001993\n",
       "std           0.044599\n",
       "min           0.000000\n",
       "25%           0.000000\n",
       "50%           0.000000\n",
       "75%           0.000000\n",
       "max           1.000000\n",
       "Name: unk_EXERANY2, dtype: float64"
      ]
     },
     "execution_count": 25,
     "metadata": {},
     "output_type": "execute_result"
    }
   ],
   "source": [
    "df['unk_EXERANY2'] = df['EXERANY2']\n",
    "df['unk_EXERANY2'] = df['unk_EXERANY2'].replace([1,2],0)\n",
    "df['unk_EXERANY2'] = df['unk_EXERANY2'].replace([7,9],1)\n",
    "df['unk_EXERANY2'] = df['unk_EXERANY2'].fillna(1)\n",
    "df['unk_EXERANY2'].describe()"
   ]
  },
  {
   "cell_type": "code",
   "execution_count": 26,
   "id": "1dbb508e",
   "metadata": {},
   "outputs": [
    {
     "data": {
      "text/plain": [
       "count    436654.000000\n",
       "mean          0.755896\n",
       "std           0.429555\n",
       "min           0.000000\n",
       "25%           1.000000\n",
       "50%           1.000000\n",
       "75%           1.000000\n",
       "max           1.000000\n",
       "Name: EXERANY2, dtype: float64"
      ]
     },
     "execution_count": 26,
     "metadata": {},
     "output_type": "execute_result"
    }
   ],
   "source": [
    "# physical activity other than job\n",
    "df = df.dropna(subset=['EXERANY2'])\n",
    "df['EXERANY2'] = df['EXERANY2'].replace(2,0)\n",
    "df = df[df['EXERANY2'] != 7]\n",
    "df = df[df['EXERANY2'] != 9]\n",
    "df['EXERANY2'].describe()"
   ]
  },
  {
   "cell_type": "code",
   "execution_count": 27,
   "id": "8dcf08c7",
   "metadata": {},
   "outputs": [
    {
     "data": {
      "text/plain": [
       "count    436654.000000\n",
       "mean          0.004003\n",
       "std           0.063144\n",
       "min           0.000000\n",
       "25%           0.000000\n",
       "50%           0.000000\n",
       "75%           0.000000\n",
       "max           1.000000\n",
       "Name: unk_high_blood_pressure, dtype: float64"
      ]
     },
     "execution_count": 27,
     "metadata": {},
     "output_type": "execute_result"
    }
   ],
   "source": [
    "df['unk_high_blood_pressure'] = df['BPHIGH6']\n",
    "df['unk_high_blood_pressure'] = df['unk_high_blood_pressure'].replace([1,2,3,4],0)\n",
    "df['unk_high_blood_pressure'] = df['unk_high_blood_pressure'].replace([7,9],1)\n",
    "df['unk_high_blood_pressure'] = df['unk_high_blood_pressure'].fillna(1)\n",
    "df['unk_high_blood_pressure'].describe()"
   ]
  },
  {
   "cell_type": "code",
   "execution_count": 28,
   "id": "387cddf1",
   "metadata": {},
   "outputs": [
    {
     "data": {
      "text/plain": [
       "count    436654.000000\n",
       "mean          0.410442\n",
       "std           0.491914\n",
       "min           0.000000\n",
       "25%           0.000000\n",
       "50%           0.000000\n",
       "75%           1.000000\n",
       "max           1.000000\n",
       "Name: high_blood_pressure, dtype: float64"
      ]
     },
     "execution_count": 28,
     "metadata": {},
     "output_type": "execute_result"
    }
   ],
   "source": [
    "# high blood pressure\n",
    "df['high_blood_pressure'] = df['BPHIGH6']\n",
    "df['high_blood_pressure'] = df['high_blood_pressure'].replace(2,1)\n",
    "df['high_blood_pressure'] = df['high_blood_pressure'].replace(3,0)\n",
    "df['high_blood_pressure'] = df['high_blood_pressure'].replace(4,1)\n",
    "df['high_blood_pressure'] = df['high_blood_pressure'].replace(7,0)\n",
    "df['high_blood_pressure'] = df['high_blood_pressure'].replace(9,0)\n",
    "df = df.dropna(subset=['high_blood_pressure'])\n",
    "df['high_blood_pressure'].describe()"
   ]
  },
  {
   "cell_type": "code",
   "execution_count": 29,
   "id": "cea1cba2",
   "metadata": {},
   "outputs": [
    {
     "data": {
      "text/plain": [
       "count    436654.000000\n",
       "mean          0.007933\n",
       "std           0.088714\n",
       "min           0.000000\n",
       "25%           0.000000\n",
       "50%           0.000000\n",
       "75%           0.000000\n",
       "max           1.000000\n",
       "Name: pregnant_high_blood_pressure, dtype: float64"
      ]
     },
     "execution_count": 29,
     "metadata": {},
     "output_type": "execute_result"
    }
   ],
   "source": [
    "# pregnant high blood pressure\n",
    "df['pregnant_high_blood_pressure'] = df['BPHIGH6']\n",
    "df.drop(columns=['BPHIGH6'])\n",
    "df['pregnant_high_blood_pressure'] = df['pregnant_high_blood_pressure'].replace(1,0)\n",
    "df['pregnant_high_blood_pressure'] = df['pregnant_high_blood_pressure'].replace(2,1)\n",
    "df['pregnant_high_blood_pressure'] = df['pregnant_high_blood_pressure'].replace(3,0)\n",
    "df['pregnant_high_blood_pressure'] = df['pregnant_high_blood_pressure'].replace(4,0)\n",
    "df['pregnant_high_blood_pressure'] = df['pregnant_high_blood_pressure'].replace(7,0)\n",
    "df['pregnant_high_blood_pressure'] = df['pregnant_high_blood_pressure'].replace(9,0)\n",
    "df = df.dropna(subset=['pregnant_high_blood_pressure'])\n",
    "df['pregnant_high_blood_pressure'].describe()"
   ]
  },
  {
   "cell_type": "code",
   "execution_count": 30,
   "id": "73912b17",
   "metadata": {},
   "outputs": [
    {
     "data": {
      "text/plain": [
       "count    436654.000000\n",
       "mean          0.001035\n",
       "std           0.032157\n",
       "min           0.000000\n",
       "25%           0.000000\n",
       "50%           0.000000\n",
       "75%           0.000000\n",
       "max           1.000000\n",
       "Name: unk_BPMEDS, dtype: float64"
      ]
     },
     "execution_count": 30,
     "metadata": {},
     "output_type": "execute_result"
    }
   ],
   "source": [
    "df['unk_BPMEDS'] = df['BPMEDS']\n",
    "df['unk_BPMEDS'] = df['unk_BPMEDS'].replace([1,2],0)\n",
    "df['unk_BPMEDS'] = df['unk_BPMEDS'].replace([7,9],1)\n",
    "df['unk_BPMEDS'] = df['unk_BPMEDS'].fillna(0)\n",
    "df['unk_BPMEDS'].describe()"
   ]
  },
  {
   "cell_type": "code",
   "execution_count": 31,
   "id": "f025f728",
   "metadata": {},
   "outputs": [
    {
     "data": {
      "text/plain": [
       "count    436654.000000\n",
       "mean          0.324401\n",
       "std           0.468151\n",
       "min           0.000000\n",
       "25%           0.000000\n",
       "50%           0.000000\n",
       "75%           1.000000\n",
       "max           1.000000\n",
       "Name: BPMEDS, dtype: float64"
      ]
     },
     "execution_count": 31,
     "metadata": {},
     "output_type": "execute_result"
    }
   ],
   "source": [
    "# high blood pressure medication\n",
    "df['BPMEDS'] = df['BPMEDS'].replace(2,0)\n",
    "df['BPMEDS'] = df['BPMEDS'].replace(7,0)\n",
    "df['BPMEDS'] = df['BPMEDS'].replace(9,0)\n",
    "df['BPMEDS'] = df['BPMEDS'].fillna(0)\n",
    "df['BPMEDS'].describe()"
   ]
  },
  {
   "cell_type": "code",
   "execution_count": 32,
   "id": "32e608b5",
   "metadata": {},
   "outputs": [
    {
     "data": {
      "text/plain": [
       "count    436654.000000\n",
       "mean          0.067223\n",
       "std           0.250407\n",
       "min           0.000000\n",
       "25%           0.000000\n",
       "50%           0.000000\n",
       "75%           0.000000\n",
       "max           1.000000\n",
       "Name: unk_CHOLCHK3, dtype: float64"
      ]
     },
     "execution_count": 32,
     "metadata": {},
     "output_type": "execute_result"
    }
   ],
   "source": [
    "df['unk_CHOLCHK3'] = df['CHOLCHK3']\n",
    "df['unk_CHOLCHK3'] = df['unk_CHOLCHK3'].replace([1,2,3,4,5,6,8],0)\n",
    "df['unk_CHOLCHK3'] = df['unk_CHOLCHK3'].replace([7,9],1)\n",
    "df['unk_CHOLCHK3'] = df['unk_CHOLCHK3'].fillna(1)\n",
    "df['unk_CHOLCHK3'].describe()"
   ]
  },
  {
   "cell_type": "code",
   "execution_count": 33,
   "id": "e8ebe18e",
   "metadata": {},
   "outputs": [
    {
     "data": {
      "text/plain": [
       "count    436654.000000\n",
       "mean          0.728215\n",
       "std           0.444880\n",
       "min           0.000000\n",
       "25%           0.000000\n",
       "50%           1.000000\n",
       "75%           1.000000\n",
       "max           1.000000\n",
       "Name: CHOLCHK3, dtype: float64"
      ]
     },
     "execution_count": 33,
     "metadata": {},
     "output_type": "execute_result"
    }
   ],
   "source": [
    "# cholesterol checked within last year\n",
    "df['CHOLCHK3'] = df['CHOLCHK3'].replace(1,0)\n",
    "df['CHOLCHK3'] = df['CHOLCHK3'].replace(2,1)\n",
    "df['CHOLCHK3'] = df['CHOLCHK3'].replace(3,0)\n",
    "df['CHOLCHK3'] = df['CHOLCHK3'].replace(4,0)\n",
    "df['CHOLCHK3'] = df['CHOLCHK3'].replace(5,0)\n",
    "df['CHOLCHK3'] = df['CHOLCHK3'].replace(6,0)\n",
    "df['CHOLCHK3'] = df['CHOLCHK3'].replace(7,1)\n",
    "df['CHOLCHK3'] = df['CHOLCHK3'].replace(8,0)\n",
    "df['CHOLCHK3'] = df['CHOLCHK3'].replace(9,1)\n",
    "df = df.dropna(subset=['CHOLCHK3'])\n",
    "df['CHOLCHK3'].describe()"
   ]
  },
  {
   "cell_type": "code",
   "execution_count": 34,
   "id": "aaab9698",
   "metadata": {},
   "outputs": [
    {
     "data": {
      "text/plain": [
       "count    436654.000000\n",
       "mean          0.007063\n",
       "std           0.083743\n",
       "min           0.000000\n",
       "25%           0.000000\n",
       "50%           0.000000\n",
       "75%           0.000000\n",
       "max           1.000000\n",
       "Name: unk_TOLDHI3, dtype: float64"
      ]
     },
     "execution_count": 34,
     "metadata": {},
     "output_type": "execute_result"
    }
   ],
   "source": [
    "df['unk_TOLDHI3'] = df['TOLDHI3']\n",
    "df['unk_TOLDHI3'] = df['unk_TOLDHI3'].replace([1,2],0)\n",
    "df['unk_TOLDHI3'] = df['unk_TOLDHI3'].replace([7,9],1)\n",
    "df['unk_TOLDHI3'] = df['unk_TOLDHI3'].fillna(0)\n",
    "df['unk_TOLDHI3'].describe()"
   ]
  },
  {
   "cell_type": "code",
   "execution_count": 35,
   "id": "05424c87",
   "metadata": {},
   "outputs": [
    {
     "data": {
      "text/plain": [
       "count    436654.000000\n",
       "mean          0.137977\n",
       "std           0.344876\n",
       "min           0.000000\n",
       "25%           0.000000\n",
       "50%           0.000000\n",
       "75%           0.000000\n",
       "max           1.000000\n",
       "Name: not_known_TOLDHI3, dtype: float64"
      ]
     },
     "execution_count": 35,
     "metadata": {},
     "output_type": "execute_result"
    }
   ],
   "source": [
    "df['not_known_TOLDHI3'] = df['TOLDHI3']\n",
    "df['not_known_TOLDHI3'] = df['not_known_TOLDHI3'].replace([1,2,7,9],0)\n",
    "df['not_known_TOLDHI3'] = df['not_known_TOLDHI3'].fillna(1)\n",
    "df['not_known_TOLDHI3'].describe()"
   ]
  },
  {
   "cell_type": "code",
   "execution_count": 36,
   "id": "3627425e",
   "metadata": {},
   "outputs": [
    {
     "data": {
      "text/plain": [
       "count    436654.000000\n",
       "mean          0.341396\n",
       "std           0.474179\n",
       "min           0.000000\n",
       "25%           0.000000\n",
       "50%           0.000000\n",
       "75%           1.000000\n",
       "max           1.000000\n",
       "Name: TOLDHI3, dtype: float64"
      ]
     },
     "execution_count": 36,
     "metadata": {},
     "output_type": "execute_result"
    }
   ],
   "source": [
    "# been told cholesterol is high\n",
    "df['TOLDHI3'] = df['TOLDHI3'].replace([2,7,9],0)\n",
    "df['TOLDHI3'] = df['TOLDHI3'].fillna(0)\n",
    "df['TOLDHI3'].describe()"
   ]
  },
  {
   "cell_type": "code",
   "execution_count": 37,
   "id": "890a1998",
   "metadata": {},
   "outputs": [
    {
     "data": {
      "text/plain": [
       "count    436654.000000\n",
       "mean          0.004225\n",
       "std           0.064865\n",
       "min           0.000000\n",
       "25%           0.000000\n",
       "50%           0.000000\n",
       "75%           0.000000\n",
       "max           1.000000\n",
       "Name: unk_CHOLMED3, dtype: float64"
      ]
     },
     "execution_count": 37,
     "metadata": {},
     "output_type": "execute_result"
    }
   ],
   "source": [
    "df['unk_CHOLMED3'] = df['CHOLMED3']\n",
    "df['unk_CHOLMED3'] = df['unk_CHOLMED3'].replace([1,2],0)\n",
    "df['unk_CHOLMED3'] = df['unk_CHOLMED3'].replace([7,9],1)\n",
    "df['unk_CHOLMED3'] = df['unk_CHOLMED3'].fillna(0)\n",
    "df['unk_CHOLMED3'].describe()"
   ]
  },
  {
   "cell_type": "code",
   "execution_count": 38,
   "id": "d7a19c87",
   "metadata": {},
   "outputs": [
    {
     "data": {
      "text/plain": [
       "count    436654.000000\n",
       "mean          0.263165\n",
       "std           0.440352\n",
       "min           0.000000\n",
       "25%           0.000000\n",
       "50%           0.000000\n",
       "75%           1.000000\n",
       "max           1.000000\n",
       "Name: CHOLMED3, dtype: float64"
      ]
     },
     "execution_count": 38,
     "metadata": {},
     "output_type": "execute_result"
    }
   ],
   "source": [
    "# taking medicine prescribed by doctor\n",
    "df['CHOLMED3'] = df['CHOLMED3'].replace([2,7],0)\n",
    "df['CHOLMED3'] = df['CHOLMED3'].replace(9,1)\n",
    "df['CHOLMED3'] = df['CHOLMED3'].fillna(0)\n",
    "df['CHOLMED3'].describe()"
   ]
  },
  {
   "cell_type": "code",
   "execution_count": 39,
   "id": "74413e6f",
   "metadata": {},
   "outputs": [
    {
     "data": {
      "text/plain": [
       "count    436654.000000\n",
       "mean          0.005728\n",
       "std           0.075464\n",
       "min           0.000000\n",
       "25%           0.000000\n",
       "50%           0.000000\n",
       "75%           0.000000\n",
       "max           1.000000\n",
       "Name: unk_CVDINFR4, dtype: float64"
      ]
     },
     "execution_count": 39,
     "metadata": {},
     "output_type": "execute_result"
    }
   ],
   "source": [
    "df['unk_CVDINFR4'] = df['CVDINFR4']\n",
    "df['unk_CVDINFR4'] = df['unk_CVDINFR4'].replace([1,2],0)\n",
    "df['unk_CVDINFR4'] = df['unk_CVDINFR4'].replace([7,9],1)\n",
    "df['unk_CVDINFR4'] = df['unk_CVDINFR4'].fillna(1)\n",
    "df['unk_CVDINFR4'].describe()"
   ]
  },
  {
   "cell_type": "code",
   "execution_count": 40,
   "id": "c75ad592",
   "metadata": {},
   "outputs": [
    {
     "data": {
      "text/plain": [
       "count    436654.000000\n",
       "mean          0.051853\n",
       "std           0.221731\n",
       "min           0.000000\n",
       "25%           0.000000\n",
       "50%           0.000000\n",
       "75%           0.000000\n",
       "max           1.000000\n",
       "Name: CVDINFR4, dtype: float64"
      ]
     },
     "execution_count": 40,
     "metadata": {},
     "output_type": "execute_result"
    }
   ],
   "source": [
    "# *had heart attack*\n",
    "df['CVDINFR4'] = df['CVDINFR4'].replace([2,7,9],0)\n",
    "df['CVDINFR4'] = df['CVDINFR4'].fillna(0)\n",
    "df['CVDINFR4'].describe()"
   ]
  },
  {
   "cell_type": "code",
   "execution_count": 41,
   "id": "8cadee11",
   "metadata": {},
   "outputs": [
    {
     "data": {
      "text/plain": [
       "count    436654.000000\n",
       "mean          0.009387\n",
       "std           0.096432\n",
       "min           0.000000\n",
       "25%           0.000000\n",
       "50%           0.000000\n",
       "75%           0.000000\n",
       "max           1.000000\n",
       "Name: unk_CVDCRHD4, dtype: float64"
      ]
     },
     "execution_count": 41,
     "metadata": {},
     "output_type": "execute_result"
    }
   ],
   "source": [
    "df['unk_CVDCRHD4'] = df['CVDCRHD4']\n",
    "df['unk_CVDCRHD4'] = df['unk_CVDCRHD4'].replace([1,2],0)\n",
    "df['unk_CVDCRHD4'] = df['unk_CVDCRHD4'].replace([7,9],1)\n",
    "df['unk_CVDCRHD4'] = df['unk_CVDCRHD4'].fillna(1)\n",
    "df['unk_CVDCRHD4'].describe()"
   ]
  },
  {
   "cell_type": "code",
   "execution_count": 42,
   "id": "56a1b0b4",
   "metadata": {},
   "outputs": [
    {
     "data": {
      "text/plain": [
       "count    436654.000000\n",
       "mean          0.051853\n",
       "std           0.221731\n",
       "min           0.000000\n",
       "25%           0.000000\n",
       "50%           0.000000\n",
       "75%           0.000000\n",
       "max           1.000000\n",
       "Name: CVDINFR4, dtype: float64"
      ]
     },
     "execution_count": 42,
     "metadata": {},
     "output_type": "execute_result"
    }
   ],
   "source": [
    "# *told had angina or coronary heart disease*\n",
    "df['CVDINFR4'] = df['CVDINFR4'].replace([2,7,9],0)\n",
    "df['CVDINFR4'] = df['CVDINFR4'].fillna(0)\n",
    "df['CVDINFR4'].describe()"
   ]
  },
  {
   "cell_type": "code",
   "execution_count": 43,
   "id": "b2502e33",
   "metadata": {},
   "outputs": [
    {
     "data": {
      "text/plain": [
       "count    436654.000000\n",
       "mean          0.002977\n",
       "std           0.054482\n",
       "min           0.000000\n",
       "25%           0.000000\n",
       "50%           0.000000\n",
       "75%           0.000000\n",
       "max           1.000000\n",
       "Name: unk_CVDSTRK3, dtype: float64"
      ]
     },
     "execution_count": 43,
     "metadata": {},
     "output_type": "execute_result"
    }
   ],
   "source": [
    "df['unk_CVDSTRK3'] = df['CVDSTRK3']\n",
    "df['unk_CVDSTRK3'] = df['unk_CVDSTRK3'].replace([1,2],0)\n",
    "df['unk_CVDSTRK3'] = df['unk_CVDSTRK3'].replace([7,9],1)\n",
    "df['unk_CVDSTRK3'] = df['unk_CVDSTRK3'].fillna(1)\n",
    "df['unk_CVDSTRK3'].describe()"
   ]
  },
  {
   "cell_type": "code",
   "execution_count": 44,
   "id": "d20dca8b",
   "metadata": {},
   "outputs": [
    {
     "data": {
      "text/plain": [
       "count    436654.000000\n",
       "mean          0.039070\n",
       "std           0.193761\n",
       "min           0.000000\n",
       "25%           0.000000\n",
       "50%           0.000000\n",
       "75%           0.000000\n",
       "max           1.000000\n",
       "Name: CVDSTRK3, dtype: float64"
      ]
     },
     "execution_count": 44,
     "metadata": {},
     "output_type": "execute_result"
    }
   ],
   "source": [
    "# *had stroke*\n",
    "df['CVDSTRK3'] = df['CVDSTRK3'].replace([2,7,9],0)\n",
    "df['CVDSTRK3'] = df['CVDSTRK3'].fillna(0)\n",
    "df['CVDSTRK3'].describe()"
   ]
  },
  {
   "cell_type": "code",
   "execution_count": 45,
   "id": "f21e4d4c",
   "metadata": {},
   "outputs": [
    {
     "data": {
      "text/plain": [
       "count    436654.000000\n",
       "mean          0.003687\n",
       "std           0.060610\n",
       "min           0.000000\n",
       "25%           0.000000\n",
       "50%           0.000000\n",
       "75%           0.000000\n",
       "max           1.000000\n",
       "Name: unk_ASTHMA3, dtype: float64"
      ]
     },
     "execution_count": 45,
     "metadata": {},
     "output_type": "execute_result"
    }
   ],
   "source": [
    "df['unk_ASTHMA3'] = df['ASTHMA3']\n",
    "df['unk_ASTHMA3'] = df['unk_ASTHMA3'].replace([1,2],0)\n",
    "df['unk_ASTHMA3'] = df['unk_ASTHMA3'].replace([7,9],1)\n",
    "df['unk_ASTHMA3'] = df['unk_ASTHMA3'].fillna(1)\n",
    "df['unk_ASTHMA3'].describe()"
   ]
  },
  {
   "cell_type": "code",
   "execution_count": 46,
   "id": "fe601a88",
   "metadata": {},
   "outputs": [
    {
     "data": {
      "text/plain": [
       "count    436654.000000\n",
       "mean          0.140138\n",
       "std           0.347131\n",
       "min           0.000000\n",
       "25%           0.000000\n",
       "50%           0.000000\n",
       "75%           0.000000\n",
       "max           1.000000\n",
       "Name: ASTHMA3, dtype: float64"
      ]
     },
     "execution_count": 46,
     "metadata": {},
     "output_type": "execute_result"
    }
   ],
   "source": [
    "# *had asthma*\n",
    "df['ASTHMA3'] = df['ASTHMA3'].replace([2,7,9],0)\n",
    "df['ASTHMA3'] = df['ASTHMA3'].fillna(0)\n",
    "df['ASTHMA3'].describe()"
   ]
  },
  {
   "cell_type": "code",
   "execution_count": 47,
   "id": "ea8ed0e7",
   "metadata": {},
   "outputs": [
    {
     "data": {
      "text/plain": [
       "count    436654.000000\n",
       "mean          0.004081\n",
       "std           0.063753\n",
       "min           0.000000\n",
       "25%           0.000000\n",
       "50%           0.000000\n",
       "75%           0.000000\n",
       "max           1.000000\n",
       "Name: unk_ASTHNOW, dtype: float64"
      ]
     },
     "execution_count": 47,
     "metadata": {},
     "output_type": "execute_result"
    }
   ],
   "source": [
    "df['unk_ASTHNOW'] = df['ASTHNOW']\n",
    "df['unk_ASTHNOW'] = df['unk_ASTHNOW'].replace([1,2],0)\n",
    "df['unk_ASTHNOW'] = df['unk_ASTHNOW'].replace([7,9],1)\n",
    "df['unk_ASTHNOW'] = df['unk_ASTHNOW'].fillna(0)\n",
    "df['unk_ASTHNOW'].describe()"
   ]
  },
  {
   "cell_type": "code",
   "execution_count": 48,
   "id": "cf156953",
   "metadata": {},
   "outputs": [
    {
     "data": {
      "text/plain": [
       "count    436654.000000\n",
       "mean          0.097235\n",
       "std           0.296278\n",
       "min           0.000000\n",
       "25%           0.000000\n",
       "50%           0.000000\n",
       "75%           0.000000\n",
       "max           1.000000\n",
       "Name: ASTHNOW, dtype: float64"
      ]
     },
     "execution_count": 48,
     "metadata": {},
     "output_type": "execute_result"
    }
   ],
   "source": [
    "# *has asthma now*\n",
    "df['ASTHNOW'] = df['ASTHNOW'].replace([2,7,9],0)\n",
    "df['ASTHNOW'] = df['ASTHNOW'].fillna(0)\n",
    "df['ASTHNOW'].describe()"
   ]
  },
  {
   "cell_type": "code",
   "execution_count": 49,
   "id": "a229f07b",
   "metadata": {},
   "outputs": [
    {
     "data": {
      "text/plain": [
       "count    436654.000000\n",
       "mean          0.003005\n",
       "std           0.054732\n",
       "min           0.000000\n",
       "25%           0.000000\n",
       "50%           0.000000\n",
       "75%           0.000000\n",
       "max           1.000000\n",
       "Name: unk_CHCSCNCR, dtype: float64"
      ]
     },
     "execution_count": 49,
     "metadata": {},
     "output_type": "execute_result"
    }
   ],
   "source": [
    "df['unk_CHCSCNCR'] = df['CHCSCNCR']\n",
    "df['unk_CHCSCNCR'] = df['unk_CHCSCNCR'].replace([1,2],0)\n",
    "df['unk_CHCSCNCR'] = df['unk_CHCSCNCR'].replace([7,9],1)\n",
    "df['unk_CHCSCNCR'] = df['unk_CHCSCNCR'].fillna(1)\n",
    "df['unk_CHCSCNCR'].describe()"
   ]
  },
  {
   "cell_type": "code",
   "execution_count": 50,
   "id": "02f64855",
   "metadata": {},
   "outputs": [
    {
     "data": {
      "text/plain": [
       "count    436654.000000\n",
       "mean          0.093671\n",
       "std           0.291371\n",
       "min           0.000000\n",
       "25%           0.000000\n",
       "50%           0.000000\n",
       "75%           0.000000\n",
       "max           1.000000\n",
       "Name: CHCSCNCR, dtype: float64"
      ]
     },
     "execution_count": 50,
     "metadata": {},
     "output_type": "execute_result"
    }
   ],
   "source": [
    "# *had skin cancer*\n",
    "df['CHCSCNCR'] = df['CHCSCNCR'].replace([2,7,9],0)\n",
    "df['CHCSCNCR'] = df['CHCSCNCR'].fillna(0)\n",
    "df['CHCSCNCR'].describe()"
   ]
  },
  {
   "cell_type": "code",
   "execution_count": 51,
   "id": "e46cad04",
   "metadata": {},
   "outputs": [
    {
     "data": {
      "text/plain": [
       "count    436654.000000\n",
       "mean          0.002803\n",
       "std           0.052870\n",
       "min           0.000000\n",
       "25%           0.000000\n",
       "50%           0.000000\n",
       "75%           0.000000\n",
       "max           1.000000\n",
       "Name: unk_CHCOCNCR, dtype: float64"
      ]
     },
     "execution_count": 51,
     "metadata": {},
     "output_type": "execute_result"
    }
   ],
   "source": [
    "df['unk_CHCOCNCR'] = df['CHCOCNCR']\n",
    "df['unk_CHCOCNCR'] = df['unk_CHCOCNCR'].replace([1,2],0)\n",
    "df['unk_CHCOCNCR'] = df['unk_CHCOCNCR'].replace([7,9],1)\n",
    "df['unk_CHCOCNCR'] = df['unk_CHCOCNCR'].fillna(1)\n",
    "df['unk_CHCOCNCR'].describe()"
   ]
  },
  {
   "cell_type": "code",
   "execution_count": 52,
   "id": "3ebf114a",
   "metadata": {},
   "outputs": [
    {
     "data": {
      "text/plain": [
       "count    436654.000000\n",
       "mean          0.096326\n",
       "std           0.295038\n",
       "min           0.000000\n",
       "25%           0.000000\n",
       "50%           0.000000\n",
       "75%           0.000000\n",
       "max           1.000000\n",
       "Name: CHCOCNCR, dtype: float64"
      ]
     },
     "execution_count": 52,
     "metadata": {},
     "output_type": "execute_result"
    }
   ],
   "source": [
    "# *had other cancer*\n",
    "df['CHCOCNCR'] = df['CHCOCNCR'].replace([2,7,9],0)\n",
    "df['CHCOCNCR'] = df['CHCOCNCR'].fillna(0)\n",
    "df['CHCOCNCR'].describe()"
   ]
  },
  {
   "cell_type": "code",
   "execution_count": 53,
   "id": "cb853c8c",
   "metadata": {},
   "outputs": [
    {
     "data": {
      "text/plain": [
       "count    436654.000000\n",
       "mean          0.004447\n",
       "std           0.066541\n",
       "min           0.000000\n",
       "25%           0.000000\n",
       "50%           0.000000\n",
       "75%           0.000000\n",
       "max           1.000000\n",
       "Name: unk_CHCCOPD3, dtype: float64"
      ]
     },
     "execution_count": 53,
     "metadata": {},
     "output_type": "execute_result"
    }
   ],
   "source": [
    "df['unk_CHCCOPD3'] = df['CHCCOPD3']\n",
    "df['unk_CHCCOPD3'] = df['unk_CHCCOPD3'].replace([1,2],0)\n",
    "df['unk_CHCCOPD3'] = df['unk_CHCCOPD3'].replace([7,9],1)\n",
    "df['unk_CHCCOPD3'] = df['unk_CHCCOPD3'].fillna(1)\n",
    "df['unk_CHCCOPD3'].describe()"
   ]
  },
  {
   "cell_type": "code",
   "execution_count": 54,
   "id": "42f2fada",
   "metadata": {},
   "outputs": [
    {
     "data": {
      "text/plain": [
       "count    436654.000000\n",
       "mean          0.077679\n",
       "std           0.267667\n",
       "min           0.000000\n",
       "25%           0.000000\n",
       "50%           0.000000\n",
       "75%           0.000000\n",
       "max           1.000000\n",
       "Name: CHCCOPD3, dtype: float64"
      ]
     },
     "execution_count": 54,
     "metadata": {},
     "output_type": "execute_result"
    }
   ],
   "source": [
    "# *had other cancer*\n",
    "df['CHCCOPD3'] = df['CHCCOPD3'].replace([2,7,9],0)\n",
    "df['CHCCOPD3'] = df['CHCCOPD3'].fillna(0)\n",
    "df['CHCCOPD3'].describe()"
   ]
  },
  {
   "cell_type": "code",
   "execution_count": 55,
   "id": "d0db7108",
   "metadata": {},
   "outputs": [
    {
     "data": {
      "text/plain": [
       "count    436654.000000\n",
       "mean          0.005370\n",
       "std           0.073086\n",
       "min           0.000000\n",
       "25%           0.000000\n",
       "50%           0.000000\n",
       "75%           0.000000\n",
       "max           1.000000\n",
       "Name: unk_ADDEPEV3, dtype: float64"
      ]
     },
     "execution_count": 55,
     "metadata": {},
     "output_type": "execute_result"
    }
   ],
   "source": [
    "df['unk_ADDEPEV3'] = df['ADDEPEV3']\n",
    "df['unk_ADDEPEV3'] = df['unk_ADDEPEV3'].replace([1,2],0)\n",
    "df['unk_ADDEPEV3'] = df['unk_ADDEPEV3'].replace([7,9],1)\n",
    "df['unk_ADDEPEV3'] = df['unk_ADDEPEV3'].fillna(1)\n",
    "df['unk_ADDEPEV3'].describe()"
   ]
  },
  {
   "cell_type": "code",
   "execution_count": 56,
   "id": "540a5095",
   "metadata": {},
   "outputs": [
    {
     "data": {
      "text/plain": [
       "count    436654.000000\n",
       "mean          0.194616\n",
       "std           0.395906\n",
       "min           0.000000\n",
       "25%           0.000000\n",
       "50%           0.000000\n",
       "75%           0.000000\n",
       "max           1.000000\n",
       "Name: ADDEPEV3, dtype: float64"
      ]
     },
     "execution_count": 56,
     "metadata": {},
     "output_type": "execute_result"
    }
   ],
   "source": [
    "# *had depressive disorder*\n",
    "df['ADDEPEV3'] = df['ADDEPEV3'].replace([2,7,9],0)\n",
    "df['ADDEPEV3'] = df['ADDEPEV3'].fillna(0)\n",
    "df['ADDEPEV3'].describe()"
   ]
  },
  {
   "cell_type": "code",
   "execution_count": 57,
   "id": "4fdd4a28",
   "metadata": {},
   "outputs": [
    {
     "data": {
      "text/plain": [
       "count    436654.000000\n",
       "mean          0.003811\n",
       "std           0.061614\n",
       "min           0.000000\n",
       "25%           0.000000\n",
       "50%           0.000000\n",
       "75%           0.000000\n",
       "max           1.000000\n",
       "Name: unk_CHCKDNY2, dtype: float64"
      ]
     },
     "execution_count": 57,
     "metadata": {},
     "output_type": "execute_result"
    }
   ],
   "source": [
    "df['unk_CHCKDNY2'] = df['CHCKDNY2']\n",
    "df['unk_CHCKDNY2'] = df['unk_CHCKDNY2'].replace([1,2],0)\n",
    "df['unk_CHCKDNY2'] = df['unk_CHCKDNY2'].replace([7,9],1)\n",
    "df['unk_CHCKDNY2'] = df['unk_CHCKDNY2'].fillna(1)\n",
    "df['unk_CHCKDNY2'].describe()"
   ]
  },
  {
   "cell_type": "code",
   "execution_count": 58,
   "id": "207e4a65",
   "metadata": {},
   "outputs": [
    {
     "data": {
      "text/plain": [
       "count    436654.000000\n",
       "mean          0.194616\n",
       "std           0.395906\n",
       "min           0.000000\n",
       "25%           0.000000\n",
       "50%           0.000000\n",
       "75%           0.000000\n",
       "max           1.000000\n",
       "Name: ADDEPEV3, dtype: float64"
      ]
     },
     "execution_count": 58,
     "metadata": {},
     "output_type": "execute_result"
    }
   ],
   "source": [
    "# *had kidney disease*\n",
    "df['ADDEPEV3'] = df['ADDEPEV3'].replace([2,7,9],0)\n",
    "df['ADDEPEV3'] = df['ADDEPEV3'].fillna(0)\n",
    "df['ADDEPEV3'].describe()"
   ]
  },
  {
   "cell_type": "code",
   "execution_count": 59,
   "id": "14a09074",
   "metadata": {},
   "outputs": [
    {
     "data": {
      "text/plain": [
       "count    436654.000000\n",
       "mean          0.001960\n",
       "std           0.044233\n",
       "min           0.000000\n",
       "25%           0.000000\n",
       "50%           0.000000\n",
       "75%           0.000000\n",
       "max           1.000000\n",
       "Name: unk_DIABETE4, dtype: float64"
      ]
     },
     "execution_count": 59,
     "metadata": {},
     "output_type": "execute_result"
    }
   ],
   "source": [
    "df['unk_DIABETE4'] = df['DIABETE4']\n",
    "df['unk_DIABETE4'] = df['unk_DIABETE4'].replace([1,2,3,4],0)\n",
    "df['unk_DIABETE4'] = df['unk_DIABETE4'].replace([7,9],1)\n",
    "df['unk_DIABETE4'] = df['unk_DIABETE4'].fillna(1)\n",
    "df['unk_DIABETE4'].describe()"
   ]
  },
  {
   "cell_type": "code",
   "execution_count": 60,
   "id": "b2d5c4bf",
   "metadata": {},
   "outputs": [
    {
     "data": {
      "text/plain": [
       "count    436654.000000\n",
       "mean          0.008693\n",
       "std           0.092832\n",
       "min           0.000000\n",
       "25%           0.000000\n",
       "50%           0.000000\n",
       "75%           0.000000\n",
       "max           1.000000\n",
       "Name: pregnancy_diabetes, dtype: float64"
      ]
     },
     "execution_count": 60,
     "metadata": {},
     "output_type": "execute_result"
    }
   ],
   "source": [
    "# *had diabetes during pregnancy*\n",
    "df['pregnancy_diabetes'] = df['DIABETE4']\n",
    "df['pregnancy_diabetes'] = df['pregnancy_diabetes'].replace([1,3,4,7,9],0)\n",
    "df['pregnancy_diabetes'] = df['pregnancy_diabetes'].replace(2,1)\n",
    "df['pregnancy_diabetes'] = df['pregnancy_diabetes'].fillna(0)\n",
    "df['pregnancy_diabetes'].describe()"
   ]
  },
  {
   "cell_type": "code",
   "execution_count": 61,
   "id": "ff483426",
   "metadata": {},
   "outputs": [
    {
     "data": {
      "text/plain": [
       "count    436654.000000\n",
       "mean          0.022613\n",
       "std           0.148666\n",
       "min           0.000000\n",
       "25%           0.000000\n",
       "50%           0.000000\n",
       "75%           0.000000\n",
       "max           1.000000\n",
       "Name: pre_diabetes, dtype: float64"
      ]
     },
     "execution_count": 61,
     "metadata": {},
     "output_type": "execute_result"
    }
   ],
   "source": [
    "# *had prediabetes*\n",
    "df['pre_diabetes'] = df['DIABETE4']\n",
    "df['pre_diabetes'] = df['pre_diabetes'].replace([1,2,3,7,9],0)\n",
    "df['pre_diabetes'] = df['pre_diabetes'].replace(4,1)\n",
    "df['pre_diabetes'] = df['pre_diabetes'].fillna(0)\n",
    "df['pre_diabetes'].describe()"
   ]
  },
  {
   "cell_type": "code",
   "execution_count": 62,
   "id": "d02fc76b",
   "metadata": {},
   "outputs": [
    {
     "data": {
      "text/plain": [
       "count    436654.000000\n",
       "mean          0.139777\n",
       "std           0.346755\n",
       "min           0.000000\n",
       "25%           0.000000\n",
       "50%           0.000000\n",
       "75%           0.000000\n",
       "max           1.000000\n",
       "Name: DIABETE4, dtype: float64"
      ]
     },
     "execution_count": 62,
     "metadata": {},
     "output_type": "execute_result"
    }
   ],
   "source": [
    "# *had diabetes*\n",
    "df['DIABETE4'] = df['DIABETE4'].replace(2,1)\n",
    "df['DIABETE4'] = df['DIABETE4'].replace([3,4,7,9],0)\n",
    "df['DIABETE4'] = df['DIABETE4'].fillna(0)\n",
    "df['DIABETE4'].describe()"
   ]
  },
  {
   "cell_type": "code",
   "execution_count": 63,
   "id": "46332dcd",
   "metadata": {},
   "outputs": [],
   "source": [
    "# drop s7q12, old when told had diabetes, not relevant for diagnosing\n",
    "df = df.drop(['DIABAGE3'], axis=1)"
   ]
  },
  {
   "cell_type": "code",
   "execution_count": null,
   "id": "c0fe8e4a",
   "metadata": {},
   "outputs": [],
   "source": []
  }
 ],
 "metadata": {
  "kernelspec": {
   "display_name": "Python 3 (ipykernel)",
   "language": "python",
   "name": "python3"
  },
  "language_info": {
   "codemirror_mode": {
    "name": "ipython",
    "version": 3
   },
   "file_extension": ".py",
   "mimetype": "text/x-python",
   "name": "python",
   "nbconvert_exporter": "python",
   "pygments_lexer": "ipython3",
   "version": "3.10.9"
  }
 },
 "nbformat": 4,
 "nbformat_minor": 5
}
