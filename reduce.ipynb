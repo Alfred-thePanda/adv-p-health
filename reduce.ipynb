{
 "cells": [
  {
   "cell_type": "code",
   "execution_count": 1,
   "id": "1cc93f4a-b0f3-4f11-923b-f1e524138010",
   "metadata": {},
   "outputs": [],
   "source": [
    "import pandas as pd\n",
    "import numpy as np\n",
    "import matplotlib.pyplot as plt\n",
    "import seaborn as sns\n",
    "import math\n",
    "\n",
    "%matplotlib inline\n",
    "\n",
    "import warnings\n",
    "\n",
    "warnings.simplefilter(action='ignore', category=pd.errors.PerformanceWarning)"
   ]
  },
  {
   "cell_type": "code",
   "execution_count": 2,
   "id": "a28c97dd-daa1-4887-83e0-b9c247928dc2",
   "metadata": {},
   "outputs": [],
   "source": [
    "#df = pd.read_sas('./data/LLCP2021.XPT')\n",
    "#df = pd.to_csv('./data/LLCP2021.csv')\n",
    "df = pd.read_csv('./data/LLCP2021.csv')"
   ]
  },
  {
   "cell_type": "code",
   "execution_count": 3,
   "id": "23f63a41-fc32-40b4-b440-faed2ad36e3a",
   "metadata": {},
   "outputs": [],
   "source": [
    "# drop s0q1, interview state\n",
    "# drop s0q8, file month\n",
    "# drop s0q9, interview date\n",
    "# drop s0q10, interview month\n",
    "# drop s0q11, interview day\n",
    "# drop s0q12, interview year\n",
    "# drop s0q14, final disposition, can use for dropping partial interviews\n",
    "# drop s0q15, annual sequence number\n",
    "# drop s0q16, primary sampling unit\n",
    "df = df[df.CTELENM1 != 2] # s0q1, dropping incorrect phone numbers"
   ]
  },
  {
   "cell_type": "code",
   "execution_count": 4,
   "id": "1d14ae96-b845-4846-8fd6-3a29c1031cc1",
   "metadata": {},
   "outputs": [],
   "source": [
    "# drop s0q1, correct telephone number\n",
    "# drop s0q2, private residence\n",
    "# drop s0q3, college housing\n",
    "# drop s0q4, resident of state\n",
    "# drop s0q5, cellular telephone\n",
    "# drop s0q6, 18 or older\n",
    "# drop s0q7, college male or female\n",
    "# drop s0q8, number af adults in household\n",
    "# drop s0q9, landline sex\n",
    "# drop s0q10, number of adult men in household\n",
    "# drop s0q11, number of adult women in household\n",
    "# drop s0q12, respondent selection\n",
    "# drop s0q1, safe time to talk\n",
    "# drop s0q2, correct phone number\n",
    "# drop s0q3, is this a cell phone\n",
    "# drop s0q4, 18 years or older cell phone\n",
    "# drop s0q5, cell phone male or female\n",
    "# drop s0q6, private residence cell phone\n",
    "# drop s0q7, cell phone college housing\n",
    "# drop s0q8, cell phone state confirmation\n",
    "# drop s0q10, do you have a landline as well\n",
    "# drop s0q11, number of adults in household\n",
    "df = df.drop(['_STATE', 'FMONTH', 'IDATE', 'IMONTH', 'IDAY', 'IYEAR', 'SEQNO', 'DISPCODE', '_PSU', 'CTELENM1', \n",
    "                'PVTRESD1', 'COLGHOUS', 'STATERE1', 'CELPHON1', 'LADULT1','COLGSEX', 'NUMADULT', 'LANDSEX', 'NUMMEN', \n",
    "              'NUMWOMEN', 'RESPSLCT', 'SAFETIME', 'CTELNUM1', 'CELLFON5',\n",
    "               'CADULT1','CELLSEX', 'PVTRESD3', 'CCLGHOUS', 'CSTATE1', 'LANDLINE', 'HHADULT'], axis=1)"
   ]
  },
  {
   "cell_type": "code",
   "execution_count": 5,
   "id": "b1df07db-c778-44bf-b9b0-b8879fa522fa",
   "metadata": {},
   "outputs": [
    {
     "data": {
      "text/plain": [
       "False    438691\n",
       "Name: SEXVAR, dtype: int64"
      ]
     },
     "execution_count": 5,
     "metadata": {},
     "output_type": "execute_result"
    }
   ],
   "source": [
    "pd.isna(df[\"SEXVAR\"]).value_counts() # no nans"
   ]
  },
  {
   "cell_type": "code",
   "execution_count": 6,
   "id": "17727580-992a-464c-bb9c-94c983eac209",
   "metadata": {},
   "outputs": [],
   "source": [
    "# dropping continual missing values from survey respondents leaving calls\n",
    "df = df.dropna(axis=0, subset=['_VEGESU1'])\n",
    "df = df.dropna(axis=0, subset=['VEGETAB2'])"
   ]
  },
  {
   "cell_type": "code",
   "execution_count": 7,
   "id": "f9d399cc-c59a-4a33-b341-10547864740c",
   "metadata": {},
   "outputs": [],
   "source": [
    "# drop s3q1:PRIMINSR, health care access, _EDUCAG is a better metric\n",
    "df = df.drop(['PRIMINSR'], axis=1)"
   ]
  },
  {
   "cell_type": "code",
   "execution_count": 8,
   "id": "1485253b",
   "metadata": {},
   "outputs": [],
   "source": [
    "# drop s8q2, suggested physical activity for arthritis, not relevant for diagnosis\n",
    "# drop s8q3, taken course for arthritis, not relevant for diagnosis\n",
    "# drop s8q4, limited because of joint symptoms, not relevant for diagnosis\n",
    "# drop s8q5, arthritis affects work, not relevant for diagnosis\n",
    "df = df.drop(['ARTHEXER', 'ARTHEDU', 'LMTJOIN3', 'ARTHDIS2'], axis=1)"
   ]
  },
  {
   "cell_type": "code",
   "execution_count": 9,
   "id": "c8747a51",
   "metadata": {},
   "outputs": [
    {
     "data": {
      "text/plain": [
       "Index(['Unnamed: 0', 'SEXVAR', 'GENHLTH', 'PHYSHLTH', 'MENTHLTH', 'POORHLTH',\n",
       "       'PERSDOC3', 'MEDCOST1', 'CHECKUP1', 'EXERANY2',\n",
       "       ...\n",
       "       '_FRTRES1', '_VEGRES1', '_FRUTSU1', '_VEGESU1', '_FRTLT1A', '_VEGLT1A',\n",
       "       '_FRT16A', '_VEG23A', '_FRUITE1', '_VEGETE1'],\n",
       "      dtype='object', length=268)"
      ]
     },
     "execution_count": 9,
     "metadata": {},
     "output_type": "execute_result"
    }
   ],
   "source": [
    "df.columns"
   ]
  },
  {
   "cell_type": "code",
   "execution_count": 10,
   "id": "000abe09-b5ab-46ae-bcc7-ad78c077351d",
   "metadata": {},
   "outputs": [],
   "source": [
    "# drop s7q12, old when told had diabetes, not relevant for diagnosing\n",
    "#df = df.drop(['DIABAGE3'], axis=1)"
   ]
  },
  {
   "cell_type": "code",
   "execution_count": 11,
   "id": "acc5a931",
   "metadata": {},
   "outputs": [],
   "source": [
    "# drop s9q6, education level, _EDUCAG is better\n",
    "df = df.drop(['EDUCA'], axis=1)"
   ]
  },
  {
   "cell_type": "code",
   "execution_count": 12,
   "id": "6c9ff5da",
   "metadata": {},
   "outputs": [],
   "source": [
    "# drop s9q10, household telephones, not relevant\n",
    "# drop s9q11, residential phones\n",
    "# drop s9q12, cell phone for personal use\n",
    "df = df.drop(['NUMHHOL3', 'NUMPHON3', 'CPDEMO1B'], axis=1)"
   ]
  },
  {
   "cell_type": "code",
   "execution_count": 13,
   "id": "989fcdc1",
   "metadata": {},
   "outputs": [],
   "source": [
    "# drop s9q15, number of children in household, not relevant\n",
    "# drop s9q16, income level, _INCOMG1 is a better metric\n",
    "df = df.drop(['CHILDREN', 'INCOME3'], axis=1)"
   ]
  },
  {
   "cell_type": "code",
   "execution_count": 14,
   "id": "8643b4d6",
   "metadata": {},
   "outputs": [],
   "source": [
    "# drop s9q18, reported weight pounds, WTKG3 is a better metric\n",
    "# drop s9q19, reported height in feet and inches, HTM4 is a better metric\n",
    "df = df.drop(['WEIGHT2', 'HEIGHT3'], axis=1)"
   ]
  },
  {
   "cell_type": "code",
   "execution_count": 15,
   "id": "8c3289c8",
   "metadata": {},
   "outputs": [],
   "source": [
    "# drop s13q3, not relevant for diagnosis\n",
    "df = df.drop(['IMFVPLA2'], axis=1)"
   ]
  },
  {
   "cell_type": "code",
   "execution_count": 16,
   "id": "577185a6",
   "metadata": {},
   "outputs": [],
   "source": [
    "# drop HIVTSTD3 s14q2, makes the model vulnerable to differences in time taking test\n",
    "df = df.drop(['HIVTSTD3'], axis=1)"
   ]
  },
  {
   "cell_type": "code",
   "execution_count": 17,
   "id": "357a9a1e",
   "metadata": {},
   "outputs": [],
   "source": [
    "# drop FRUIT2 s15q1, in favor of FRUTDA2_ instead\n",
    "# drop FRUITJU2 s15q2, in favor of FTJUDA2_ instead\n",
    "# drop FVGREEN1 s15q3, in favor of GRENDA1_ instead\n",
    "# drop FRENCHF1 s15q4, in favor of FRNCHDA_ instead\n",
    "# drop POTATOE1 s15q5, in favor of POTADA1_ instead\n",
    "# drop VEGETAB2 s15q6, in favor of VEGEDA2_ instead\n",
    "df = df.drop(['FRUIT2', 'FRUITJU2', 'FVGREEN1', 'FRENCHF1', 'POTATOE1', 'VEGETAB2'], axis=1)"
   ]
  },
  {
   "cell_type": "code",
   "execution_count": 18,
   "id": "2e8e0fae",
   "metadata": {},
   "outputs": [],
   "source": [
    "# drop PREDIAB1 m1q2, not relevant for diagnosis\n",
    "df = df.drop(['PREDIAB1'], axis=1)"
   ]
  },
  {
   "cell_type": "code",
   "execution_count": 19,
   "id": "ee24c1c7",
   "metadata": {},
   "outputs": [],
   "source": [
    "# drop BLDSUGAR m2q2, introduces bias\n",
    "# drop FEETCHK3 m2q3, introduces bias\n",
    "# drop DOCTDIAB m2q4, already confirmed diabetes\n",
    "# drop CHKHEMO3 m2q5, already confirmed diabetes\n",
    "# drop FEETCHK m2q6, already confirmed diabetes\n",
    "# drop EYEEXAM1 m2q7, already confirmed diabetes\n",
    "# drop DIABEYE m2q8, already confirmed diabetes\n",
    "# drop DIABEDU m2q9, already confirmed diabetes\n",
    "# drop TOLDCFS m3q1, no one has it\n",
    "# drop HAVECFS m3q2, no one has it\n",
    "# drop WORKCFS m3q2, no one has it\n",
    "# drop TOLDHEPC m4q1, barely anyone was asked\n",
    "# drop TRETHEPC m4q2, barely anyone was asked\n",
    "# drop PRIRHEPC m4q3, barely anyone was asked\n",
    "# drop HAVEHEPC m4q4, barely anyone was asked\n",
    "# drop HAVEHEPB m4q5, barely anyone was asked\n",
    "# drop MEDSHEPB m4q6, barely anyone was asked\n",
    "# drop HPVADVC4 m5q1, barely anyone was asked\n",
    "# drop HPVADSHT m5q2, barely anyone was asked\n",
    "# drop TETANUS1 m6q1, barely anyone was asked\n",
    "# drop SHINGLE2 m7q1, barely anyone was asked\n",
    "# drop LCSFIRST m9q1, barely anyone was asked\n",
    "# drop LCSLAST m9q2, barely anyone was asked\n",
    "# drop LCSNUMCG m9q3, barely anyone was asked\n",
    "# drop LCSCTSCN m9q4, barely anyone was asked\n",
    "# drop HADMAM m10q1, barely anyone was asked\n",
    "# drop HOWLONG m10q2, barely anyone was asked\n",
    "# drop CERVSCRN m10q3, barely anyone was asked\n",
    "# drop CRVCLCNC m10q4, barely anyone was asked\n",
    "# drop CRVCLPAP m10q5, barely anyone was asked\n",
    "# drop CRVCLHPV m10q6, barely anyone was asked\n",
    "# drop HADHYST2 m10q7, barely anyone was asked\n",
    "# drop PSATEST1 m11q1, barely anyone was asked\n",
    "# drop PSATIME1 m11q2, barely anyone was asked\n",
    "# drop PCPSARS2 m11q3, barely anyone was asked\n",
    "# drop PCSTALK m11q4, barely anyone was asked\n",
    "# drop HADSIGM4 m12q1, barely anyone was asked\n",
    "# drop COLNSIGM m12q2, barely anyone was asked\n",
    "# drop COLNTES1 m12q3, barely anyone was asked\n",
    "# drop SIGMTES1 m12q4, barely anyone was asked\n",
    "# drop LASTSIG4 m12q5, barely anyone was asked\n",
    "# drop COLNCNCR m12q6, barely anyone was asked\n",
    "# drop VIRCOLO1 m12q7, barely anyone was asked\n",
    "# drop VCLNTES1 m12q8, barely anyone was asked\n",
    "# drop SMALSTOL m12q9, barely anyone was asked\n",
    "# drop STOLTEST m12q10, barely anyone was asked\n",
    "# drop STOOLDN1 m12q11, barely anyone was asked\n",
    "# drop BLDSTFIT m12q12, barely anyone was asked\n",
    "# drop SDNATES1 m12q13, barely anyone was asked\n",
    "# drop CNCRDIFF m13q1, barely anyone was asked\n",
    "# drop CNCRAGE m13q2, barely anyone was asked\n",
    "# drop CNCRTYP1 m13q3, barely anyone was asked\n",
    "# drop CSRVTRT3 m14q1, barely anyone was asked\n",
    "# drop CSRVDOC1 m14q2, barely anyone was asked\n",
    "# drop CSRVSUM m14q3, barely anyone was asked\n",
    "# drop CSRVRTRN m14q4, barely anyone was asked\n",
    "# drop CSRVINST m14q5, barely anyone was asked\n",
    "# drop CSRVINSR m14q6, barely anyone was asked\n",
    "# drop CSRVDEIN m14q7, barely anyone was asked\n",
    "# drop CSRVCLIN m14q8, barely anyone was asked\n",
    "# drop CSRVPAIN m15q1, barely anyone was asked\n",
    "# drop CSRVCTL2 m15q2, barely anyone was asked\n",
    "# drop HOMBPCHK m16q1, barely anyone was asked\n",
    "# drop HOMRGCHK m16q2, barely anyone was asked\n",
    "# drop WHEREBP m16q3, barely anyone was asked\n",
    "# drop SHAREBP m16q4, barely anyone was asked\n",
    "# drop WTCHSALT m17q1, barely anyone was asked\n",
    "# drop DRADVISE m17q2, barely anyone was asked\n",
    "# drop CIMEMLOS m18q1, barely anyone was asked\n",
    "# drop CDHOUSE m18q2, barely anyone was asked\n",
    "# drop CDASSIST m18q3, barely anyone was asked\n",
    "# drop CDHELP m18q4, barely anyone was asked\n",
    "# drop CDSOCIAL m18q5, barely anyone was asked\n",
    "# drop CDDISCUS m18q6, barely anyone was asked\n",
    "# drop CAREGIV1 m19q1, barely anyone was asked\n",
    "# drop CRGVREL4 m19q2, barely anyone was asked\n",
    "# drop CRGVLNG1 m19q3, barely anyone was asked\n",
    "# drop CRGVHRS1 m19q4, barely anyone was asked\n",
    "# ...\n",
    "# drop SOFEMALE m28q1b, barely anyone was asked\n",
    "# drop TRNSGNDR m28q2, almost no yeses and outlier\n",
    "# drop QSTVER m1q1, not relevant\n",
    "# drop QSTLANG m1q1, not relevant\n",
    "#QSTVER\n",
    "\n",
    "df = df.drop(['BLDSUGAR', 'FEETCHK3', 'DOCTDIAB', 'CHKHEMO3', 'FEETCHK', 'EYEEXAM1', 'DIABEYE', 'DIABEDU'], axis=1)\n",
    "df = df.drop(['TOLDCFS', 'HAVECFS', 'WORKCFS', 'TOLDHEPC', 'TRETHEPC', 'PRIRHEPC', 'HAVEHEPC'], axis=1)\n",
    "df = df.drop(['HAVEHEPB', 'MEDSHEPB', 'HPVADVC4', 'HPVADSHT', 'TETANUS1', 'SHINGLE2', 'LCSFIRST'], axis=1)\n",
    "df = df.drop(['LCSLAST', 'LCSNUMCG', 'LCSCTSCN', 'HADMAM', 'HOWLONG', 'CERVSCRN', 'CRVCLCNC'], axis=1)\n",
    "df = df.drop(['CRVCLPAP', 'CRVCLHPV', 'HADHYST2', 'PSATEST1', 'PSATIME1', 'PCPSARS2', 'PCSTALK'], axis=1)\n",
    "df = df.drop(['HADSIGM4', 'COLNSIGM', 'COLNTES1', 'SIGMTES1', 'LASTSIG4', 'COLNCNCR', 'VIRCOLO1'], axis=1)\n",
    "df = df.drop(['VCLNTES1', 'SMALSTOL', 'STOLTEST', 'STOOLDN1', 'BLDSTFIT', 'SDNATES1', 'CNCRDIFF'], axis=1)\n",
    "df = df.drop(['CNCRAGE', 'CNCRTYP1', 'CSRVTRT3', 'CSRVDOC1', 'CSRVSUM', 'CSRVRTRN', 'CSRVINST'], axis=1)\n",
    "df = df.drop(['CSRVINSR', 'CSRVDEIN', 'CSRVCLIN', 'CSRVPAIN', 'CSRVCTL2', 'HOMBPCHK', 'HOMRGCHK'], axis=1)\n",
    "df = df.drop(['WHEREBP', 'SHAREBP', 'WTCHSALT', 'DRADVISE', 'CIMEMLOS', 'CDHOUSE', 'CDASSIST', 'CDHELP'], axis=1)\n",
    "df = df.drop(['CDSOCIAL', 'CDDISCUS', 'CAREGIV1', 'CRGVREL4', 'CRGVLNG1', 'CRGVHRS1', 'CRGVPRB3'], axis=1)\n",
    "df = df.drop(['CRGVALZD', 'CRGVPER1', 'CRGVHOU1', 'CRGVEXPT', 'ACEDEPRS', 'ACEDRINK', 'ACEDRUGS'], axis=1)\n",
    "df = df.drop(['ACEPRISN', 'ACEDIVRC', 'ACEPUNCH', 'ACEHURT1', 'ACESWEAR', 'ACETOUCH', 'ACETTHEM'], axis=1)\n",
    "df = df.drop(['ACEHVSEX', 'ACEADSAF', 'ACEADNED', 'MARIJAN1', 'RSNMRJN2', 'LASTSMK2', 'STOPSMK2'], axis=1)\n",
    "df = df.drop(['FIREARM5', 'GUNLOAD', 'LOADULK2', 'RCSGENDR', 'RCSRLTN2', 'CASTHDX2', 'CASTHNO2'], axis=1)\n",
    "df = df.drop(['BIRTHSEX', 'SOMALE', 'SOFEMALE', 'TRNSGNDR', 'QSTVER', 'QSTLANG'], axis=1)"
   ]
  },
  {
   "cell_type": "code",
   "execution_count": 20,
   "id": "a3bf71b9",
   "metadata": {},
   "outputs": [],
   "source": [
    "# drop MSCODE m1q2, not relevant\n",
    "# drop _STSTR m1q3, not relevant\n",
    "# drop _STRWT m1q4, not relevant\n",
    "# drop _RAWRAKE m1q7, not relevant\n",
    "# drop _WT2RAKE m1q8, not relevant\n",
    "\n",
    "df = df.drop(['MSCODE', '_STSTR', '_STRWT', '_RAWRAKE'], axis=1)"
   ]
  },
  {
   "cell_type": "code",
   "execution_count": 21,
   "id": "8b68f3ad",
   "metadata": {},
   "outputs": [],
   "source": [
    "# drop _CHISPNC m1q01, not relevant\n",
    "# drop _CRACE1 m1q04, not enough data\n",
    "# drop _CPRACE1 m1q05, not enough data\n",
    "# drop CAGEG m1q04, not relevant\n",
    "# drop _CLLCPWT m1q5, not relevant\n",
    "# drop _DUALUSE m1q2, not relevant\n",
    "# drop _DUALCOR m1q3, not relevant\n",
    "# drop _LLCPWT2 m1q4, not relevant\n",
    "# drop _LLCPWT m1q21, not relevant\n",
    "# drop _RFHLTH m1q5, already in data\n",
    "# drop _PHYS14D m2q1, already in data\n",
    "# drop _MENT14D m2q2, not relevant\n",
    "df = df.drop(['_CHISPNC', '_CRACE1', '_CPRACE1', 'CAGEG', '_CLLCPWT', '_DUALUSE', '_DUALCOR', '_LLCPWT2'], axis=1)\n",
    "df = df.drop(['_LLCPWT', '_RFHLTH', '_MENT14D'], axis=1)"
   ]
  },
  {
   "cell_type": "code",
   "execution_count": 22,
   "id": "dbb626e0",
   "metadata": {},
   "outputs": [],
   "source": [
    "# drop _HCVU652 m3s2, already contains this data\n",
    "# drop _TOTINDA m4q1, already contains this data\n",
    "# drop _RFHYPE6 m5q1, already contains this data\n",
    "# drop _CHOLCH3 m6q1, already contains this data\n",
    "# ...\n",
    "df = df.drop(['_HCVU652', '_TOTINDA', '_RFHYPE6', '_CHOLCH3','_RFCHOL3', '_MICHD', '_LTASTH1', '_CASTHM1'], axis=1)\n",
    "df = df.drop(['_ASTHMS1', '_DRDXAR3', '_LMTACT3', '_LMTWRK3', '_PRACE1', '_MRACE1', '_HISPANC', '_RACE'], axis=1)\n",
    "df = df.drop(['_RACEG21', '_RACEGR3', '_RACEPRV', '_SEX'], axis=1)"
   ]
  },
  {
   "cell_type": "code",
   "execution_count": 23,
   "id": "862ca2b2",
   "metadata": {},
   "outputs": [],
   "source": [
    "# drop _AGEG5YR m9q12, _AGE80 is better\n",
    "# drop _AGE65YR m9q13, already contains this data\n",
    "# ...\n",
    "df = df.drop(['_AGEG5YR', '_AGE65YR'], axis=1)"
   ]
  },
  {
   "cell_type": "code",
   "execution_count": 24,
   "id": "d4804850",
   "metadata": {},
   "outputs": [],
   "source": [
    "# drop _AGE_G m9q15, _AGE80 is better\n",
    "df = df.drop(['_AGE_G'], axis=1)"
   ]
  },
  {
   "cell_type": "code",
   "execution_count": 25,
   "id": "1ffb5f7b",
   "metadata": {},
   "outputs": [],
   "source": [
    "# drop HTM4 m9q17, HTIN4 is better\n",
    "df = df.drop(['HTM4'], axis=1)"
   ]
  },
  {
   "cell_type": "code",
   "execution_count": 26,
   "id": "f5e26298",
   "metadata": {},
   "outputs": [],
   "source": [
    "# drop _BMI5 m9q19, data already contained\n",
    "# drop _BMI5CAT m9q20, data already contained\n",
    "# drop _RFBMI5 m9q21, data already contained\n",
    "# drop _CHLDCNT m9q22, not relevant\n",
    "df = df.drop(['_BMI5', '_BMI5CAT', '_RFBMI5', '_CHLDCNT'], axis=1)"
   ]
  },
  {
   "cell_type": "code",
   "execution_count": 27,
   "id": "94089a16",
   "metadata": {},
   "outputs": [],
   "source": [
    "# drop _SMOKER3 m11q1, data already contained\n",
    "# drop _RFSMOK3 m11q2, data already contained\n",
    "# drop _CURECI1 m12q1, data already contained\n",
    "# drop DRNKANY5 m11q2, data already contained\n",
    "# drop DROCDY3_ m12q2, data already contained\n",
    "# drop _RFBING5 m12q3, data already contained\n",
    "# ...\n",
    "df = df.drop(['_SMOKER3', '_RFSMOK3', '_CURECI1', 'DRNKANY5', 'DROCDY3_', '_RFBING5', '_DRNKWK1'], axis=1)\n",
    "df = df.drop(['_RFDRHV7', '_FLSHOT7', '_PNEUMO3', '_AIDTST4'], axis=1)"
   ]
  },
  {
   "cell_type": "code",
   "execution_count": 28,
   "id": "97bf0e52",
   "metadata": {},
   "outputs": [],
   "source": [
    "# drop _MISVEG1, missing response feature\n",
    "# drop _FRTRES1, missing response feature\n",
    "# drop _VEGRES1, missing response feature\n",
    "# drop _FRUTSU1, Total fruits consumed per day, data already available\n",
    "# drop _VEGESU1, Total vegetables consumed per day, data already available\n",
    "# drop _FRTLT1A, Consume Fruit 1 or more times per day, data already available\n",
    "# drop _VEGLT1A, Consume vegatables 1 or more times per day, data already available\n",
    "# drop _FRT16A, Reported consuming Fruit >16 per day, data already available\n",
    "# drop _VEG23A, Reported consuming Vegetables >23 per day, data already available\n",
    "# drop _FRUITE1, Fruit Exclusion from analyses, data already available\n",
    "# drop _VEGETE1, Vegetable Exclusion from analyses, data already available\n",
    "\n",
    "df = df.drop(['_MISVEG1', '_FRTRES1', '_VEGRES1', '_FRUTSU1', '_VEGESU1', '_FRTLT1A', '_VEGLT1A'], axis=1)\n",
    "df = df.drop(['_FRT16A', '_VEG23A', '_FRUITE1', '_VEGETE1'], axis=1)"
   ]
  },
  {
   "cell_type": "code",
   "execution_count": 29,
   "id": "942620ce",
   "metadata": {},
   "outputs": [],
   "source": [
    "df = df.drop(['USEMRJN3'], axis=1)"
   ]
  },
  {
   "cell_type": "code",
   "execution_count": 30,
   "id": "c010798e",
   "metadata": {},
   "outputs": [],
   "source": [
    "# drop s7q12, old when told had diabetes, not relevant for diagnosing\n",
    "df = df.drop(['DIABAGE3'], axis=1)"
   ]
  },
  {
   "cell_type": "code",
   "execution_count": 31,
   "id": "63fc2b98",
   "metadata": {},
   "outputs": [],
   "source": [
    "df.to_csv('./data/brfss_reduced.csv')"
   ]
  },
  {
   "cell_type": "code",
   "execution_count": null,
   "id": "f0850de6",
   "metadata": {},
   "outputs": [],
   "source": []
  }
 ],
 "metadata": {
  "kernelspec": {
   "display_name": "Python 3 (ipykernel)",
   "language": "python",
   "name": "python3"
  },
  "language_info": {
   "codemirror_mode": {
    "name": "ipython",
    "version": 3
   },
   "file_extension": ".py",
   "mimetype": "text/x-python",
   "name": "python",
   "nbconvert_exporter": "python",
   "pygments_lexer": "ipython3",
   "version": "3.10.9"
  }
 },
 "nbformat": 4,
 "nbformat_minor": 5
}
