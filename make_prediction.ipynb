{
 "cells": [
  {
   "cell_type": "code",
   "execution_count": null,
   "metadata": {},
   "outputs": [],
   "source": [
    "import pickle\n",
    "import warnings\n",
    "import random\n",
    "\n",
    "import pandas as pd\n",
    "\n",
    "from sklearn.model_selection import train_test_split\n",
    "from sklearn.exceptions import ConvergenceWarning\n",
    "\n",
    "warnings.simplefilter(action='ignore', category=ConvergenceWarning)\n",
    "warnings.simplefilter(action='ignore', category=UserWarning)\n"
   ]
  },
  {
   "cell_type": "code",
   "execution_count": null,
   "metadata": {},
   "outputs": [],
   "source": [
    "# Data prep (this is not needed if an users input is provided instead of the 'test_row')\n",
    "df = pd.read_csv('clean_data.csv')\n",
    "df = df.drop(df.columns[0], axis=1)\n",
    "df = df.dropna(axis=1)\n",
    "df.set_axis(range(len(df)), inplace=True)\n",
    "target = df['diabetes']\n",
    "features = df.drop(['diabetes'], axis=1)\n",
    "features_train, features_test, target_train, target_test = train_test_split(features, target, test_size=0.2,\n",
    "                                                                            random_state=42)"
   ]
  },
  {
   "cell_type": "code",
   "execution_count": null,
   "metadata": {},
   "outputs": [],
   "source": [
    "# Predicting for one specific 'person' ################################################################################\n",
    "\n",
    "sgb_classifier = pickle.load(open('model.pickle', \"rb\"))\n",
    "\n",
    "\n",
    "# taking a random row from the test data to predict a result for:\n",
    "def predict_one_person(sgb_classifier):\n",
    "    rand_index = random.randint(0, 32581)\n",
    "    test_row = features_test.iloc[rand_index]  # .values.flatten().tolist()\n",
    "    rand_i_groundtruth = target_test.iloc[rand_index]\n",
    "    predictions = sgb_classifier.predict([test_row])\n",
    "\n",
    "    return predictions, rand_i_groundtruth\n",
    "\n",
    "\n",
    "prediction, test_groundtruth = predict_one_person(sgb_classifier)\n",
    "print(prediction)\n",
    "print(test_groundtruth)"
   ]
  }
 ],
 "metadata": {
  "kernelspec": {
   "display_name": "Python 3",
   "language": "python",
   "name": "python3"
  },
  "language_info": {
   "codemirror_mode": {
    "name": "ipython",
    "version": 3
   },
   "file_extension": ".py",
   "mimetype": "text/x-python",
   "name": "python",
   "nbconvert_exporter": "python",
   "pygments_lexer": "ipython3",
   "version": "3.9.13"
  },
  "orig_nbformat": 4
 },
 "nbformat": 4,
 "nbformat_minor": 2
}
