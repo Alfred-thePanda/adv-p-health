{
 "cells": [
  {
   "cell_type": "code",
   "execution_count": null,
   "id": "51575989",
   "metadata": {},
   "outputs": [],
   "source": [
    "import pandas as pd\n",
    "import numpy as np\n",
    "import matplotlib.pyplot as plt\n",
    "import seaborn as sns\n",
    "import math\n",
    "\n",
    "%matplotlib inline\n",
    "\n",
    "import warnings\n",
    "\n",
    "warnings.simplefilter(action='ignore', category=pd.errors.PerformanceWarning)"
   ]
  },
  {
   "cell_type": "code",
   "execution_count": null,
   "id": "1d0680f0",
   "metadata": {},
   "outputs": [],
   "source": [
    "df = pd.read_sas('./data/LLCP2021.XPT')"
   ]
  },
  {
   "cell_type": "code",
   "execution_count": null,
   "id": "65468cbb",
   "metadata": {},
   "outputs": [],
   "source": [
    "df_describe = False"
   ]
  },
  {
   "cell_type": "code",
   "execution_count": null,
   "id": "6a3e2bf2",
   "metadata": {},
   "outputs": [],
   "source": [
    "# drop s0q1, interview state\n",
    "# drop s0q8, file month\n",
    "# drop s0q9, interview date\n",
    "# drop s0q10, interview month\n",
    "# drop s0q11, interview day\n",
    "# drop s0q12, interview year\n",
    "# drop s0q14, final disposition, can use for dropping partial interviews\n",
    "# drop s0q15, annual sequence number\n",
    "# drop s0q16, primary sampling unit"
   ]
  },
  {
   "cell_type": "code",
   "execution_count": null,
   "id": "807ec417",
   "metadata": {},
   "outputs": [],
   "source": [
    "df = df[df.CTELENM1 != 2] # s0q1, dropping incorrect phone numbers"
   ]
  },
  {
   "cell_type": "code",
   "execution_count": null,
   "id": "d1ddd984",
   "metadata": {},
   "outputs": [],
   "source": [
    "# drop s0q1, correct telephone number\n",
    "# drop s0q2, private residence\n",
    "# drop s0q3, college housing\n",
    "# drop s0q4, resident of state\n",
    "# drop s0q5, cellular telephone\n",
    "# drop s0q6, 18 or older\n",
    "# drop s0q7, college male or female\n",
    "# drop s0q8, number af adults in household\n",
    "# drop s0q9, landline sex\n",
    "# drop s0q10, number of adult men in household\n",
    "# drop s0q11, number of adult women in household\n",
    "# drop s0q12, respondent selection\n",
    "# drop s0q1, safe time to talk\n",
    "# drop s0q2, correct phone number\n",
    "# drop s0q3, is this a cell phone\n",
    "# drop s0q4, 18 years or older cell phone\n",
    "# drop s0q5, cell phone male or female\n",
    "# drop s0q6, private residence cell phone\n",
    "# drop s0q7, cell phone college housing\n",
    "# drop s0q8, cell phone state confirmation\n",
    "# drop s0q10, do you have a landline as well\n",
    "# drop s0q11, number of adults in household"
   ]
  },
  {
   "cell_type": "code",
   "execution_count": null,
   "id": "19a8eb7d",
   "metadata": {},
   "outputs": [],
   "source": [
    "df = df.drop(['_STATE', 'FMONTH', 'IDATE', 'IMONTH', 'IDAY', 'IYEAR', 'SEQNO', 'DISPCODE', '_PSU', 'CTELENM1', \n",
    "                'PVTRESD1', 'COLGHOUS', 'STATERE1', 'CELPHON1', 'LADULT1','COLGSEX', 'NUMADULT', 'LANDSEX', 'NUMMEN', \n",
    "              'NUMWOMEN', 'RESPSLCT', 'SAFETIME', 'CTELNUM1', 'CELLFON5',\n",
    "               'CADULT1','CELLSEX', 'PVTRESD3', 'CCLGHOUS', 'CSTATE1', 'LANDLINE', 'HHADULT'], axis=1)"
   ]
  },
  {
   "cell_type": "code",
   "execution_count": null,
   "id": "5cecb3c9",
   "metadata": {},
   "outputs": [],
   "source": [
    "pd.isna(df[\"SEXVAR\"]).value_counts() # no nans"
   ]
  },
  {
   "cell_type": "code",
   "execution_count": null,
   "id": "9f595ee1",
   "metadata": {},
   "outputs": [],
   "source": [
    "df = df[df['GENHLTH'] != 7]\n",
    "df = df[df['GENHLTH'] != 9]"
   ]
  },
  {
   "cell_type": "code",
   "execution_count": null,
   "id": "96117123",
   "metadata": {},
   "outputs": [],
   "source": [
    "df['GENHLTH'] = df['GENHLTH'].replace(1,0)\n",
    "df['GENHLTH'] = df['GENHLTH'].replace(2,1)\n",
    "df['GENHLTH'] = df['GENHLTH'].replace(3,2)\n",
    "df['GENHLTH'] = df['GENHLTH'].replace(4,3)\n",
    "df['GENHLTH'] = df['GENHLTH'].replace(5,4)"
   ]
  },
  {
   "cell_type": "code",
   "execution_count": null,
   "id": "649f0495",
   "metadata": {},
   "outputs": [],
   "source": [
    "df = df.dropna(subset=['GENHLTH'])"
   ]
  },
  {
   "cell_type": "code",
   "execution_count": null,
   "id": "4905863e",
   "metadata": {},
   "outputs": [],
   "source": [
    "df[\"GENHLTH\"].value_counts()"
   ]
  },
  {
   "cell_type": "code",
   "execution_count": null,
   "id": "dcb0a1a5",
   "metadata": {},
   "outputs": [],
   "source": [
    "df['unk_PHYSHLTH'] = df['PHYSHLTH']\n",
    "df['unk_PHYSHLTH'] = df['unk_PHYSHLTH'].replace(range(1,31), 0)\n",
    "df['unk_PHYSHLTH'] = df['unk_PHYSHLTH'].replace(88, 0)\n",
    "df['unk_PHYSHLTH'] = df['unk_PHYSHLTH'].replace(99, 1)\n",
    "df['unk_PHYSHLTH'] = df['unk_PHYSHLTH'].replace(77, 1)\n",
    "df['unk_PHYSHLTH'] = df['unk_PHYSHLTH'].fillna(1)\n",
    "df['unk_PHYSHLTH'].describe() if df_describe else ''"
   ]
  },
  {
   "cell_type": "code",
   "execution_count": null,
   "id": "de5820d8",
   "metadata": {},
   "outputs": [],
   "source": [
    "df['PHYSHLTH'] = df['PHYSHLTH'].replace(88,0)\n",
    "df['PHYSHLTH'] = df['PHYSHLTH'].replace(77,0)\n",
    "df['PHYSHLTH'] = df['PHYSHLTH'].replace(99,0)\n",
    "df['PHYSHLTH'] = df['PHYSHLTH'].fillna(0)\n",
    "df['PHYSHLTH'].describe()"
   ]
  },
  {
   "cell_type": "code",
   "execution_count": null,
   "id": "da3c835c",
   "metadata": {},
   "outputs": [],
   "source": [
    "df['unk_MENTHLTH'] = df['MENTHLTH']\n",
    "df['unk_MENTHLTH'] = df['unk_MENTHLTH'].replace(range(1,31), 0)\n",
    "df['unk_MENTHLTH'] = df['unk_MENTHLTH'].replace(88, 0)\n",
    "df['unk_MENTHLTH'] = df['unk_MENTHLTH'].replace(99, 1)\n",
    "df['unk_MENTHLTH'] = df['unk_MENTHLTH'].replace(77, 1)\n",
    "df['unk_MENTHLTH'] = df['unk_MENTHLTH'].fillna(1)\n",
    "df['unk_MENTHLTH'].describe() if df_describe else ''"
   ]
  },
  {
   "cell_type": "code",
   "execution_count": null,
   "id": "a2d2f6d7",
   "metadata": {},
   "outputs": [],
   "source": [
    "df['MENTHLTH'] = df['MENTHLTH'].replace(88,0)\n",
    "df['MENTHLTH'] = df['MENTHLTH'].replace(77,0)\n",
    "df['MENTHLTH'] = df['MENTHLTH'].replace(99,0)\n",
    "df['MENTHLTH'] = df['MENTHLTH'].fillna(0)\n",
    "df['MENTHLTH'].describe() if df_describe else ''"
   ]
  },
  {
   "cell_type": "code",
   "execution_count": null,
   "id": "ab7c9ceb",
   "metadata": {},
   "outputs": [],
   "source": [
    "df['unk_POORHLTH'] = df['POORHLTH']\n",
    "df['unk_POORHLTH'] = df['unk_POORHLTH'].replace(range(1,31), 0)\n",
    "df['unk_POORHLTH'] = df['unk_POORHLTH'].replace(88, 0)\n",
    "df['unk_POORHLTH'] = df['unk_POORHLTH'].replace(99, 1)\n",
    "df['unk_POORHLTH'] = df['unk_POORHLTH'].replace(77, 1)\n",
    "df['unk_POORHLTH'] = df['unk_POORHLTH'].fillna(0)\n",
    "df['unk_POORHLTH'].describe() if df_describe else ''"
   ]
  },
  {
   "cell_type": "code",
   "execution_count": null,
   "id": "ae579a2f",
   "metadata": {},
   "outputs": [],
   "source": [
    "df['POORHLTH'] = df['POORHLTH'].replace(88,0)\n",
    "df['POORHLTH'] = df['POORHLTH'].replace(77,0)\n",
    "df['POORHLTH'] = df['POORHLTH'].replace(99,0)\n",
    "df['POORHLTH'] = df['POORHLTH'].fillna(0)\n",
    "df['POORHLTH'].describe() if df_describe else ''"
   ]
  },
  {
   "cell_type": "code",
   "execution_count": null,
   "id": "857df1d7",
   "metadata": {},
   "outputs": [],
   "source": [
    "# drop s3q1:PRIMINSR, health care access, _EDUCAG is a better metric\n",
    "df = df.drop(['PRIMINSR'], axis=1)"
   ]
  },
  {
   "cell_type": "code",
   "execution_count": null,
   "id": "c0cbed34",
   "metadata": {},
   "outputs": [],
   "source": [
    "df['unk_has_doc'] = df['PERSDOC3']\n",
    "df['unk_has_doc'] = df['unk_has_doc'].replace([1,2,3],0)\n",
    "df['unk_has_doc'] = df['unk_has_doc'].replace([7,9],1)\n",
    "df['unk_has_doc'] = df['unk_has_doc'].fillna(1)\n",
    "df['unk_has_doc'].describe() if df_describe else ''"
   ]
  },
  {
   "cell_type": "code",
   "execution_count": null,
   "id": "71392e39",
   "metadata": {},
   "outputs": [],
   "source": [
    "# has a personal doctor\n",
    "df['has_doc'] = df['PERSDOC3']\n",
    "df.drop(columns=['PERSDOC3'])\n",
    "df['has_doc'] = df['has_doc'].replace(2,1)\n",
    "df['has_doc'] = df['has_doc'].replace(3,0)\n",
    "df['has_doc'] = df['has_doc'].replace(7,0)\n",
    "df['has_doc'] = df['has_doc'].replace(9,0)\n",
    "df = df.dropna(subset=['has_doc'])\n",
    "df['has_doc'].describe() if df_describe else ''"
   ]
  },
  {
   "cell_type": "code",
   "execution_count": null,
   "id": "30b02c13",
   "metadata": {},
   "outputs": [],
   "source": [
    "df['unk_MEDCOST1'] = df['MEDCOST1']\n",
    "df['unk_MEDCOST1'] = df['unk_MEDCOST1'].replace([1,2],0)\n",
    "df['unk_MEDCOST1'] = df['unk_MEDCOST1'].replace([7,9],1)\n",
    "df['unk_MEDCOST1'] = df['unk_MEDCOST1'].fillna(1)\n",
    "df['unk_MEDCOST1'].describe() if df_describe else ''"
   ]
  },
  {
   "cell_type": "code",
   "execution_count": null,
   "id": "c3113ed2",
   "metadata": {},
   "outputs": [],
   "source": [
    "df['MEDCOST1'] = df['MEDCOST1'].replace(2,0)\n",
    "df['MEDCOST1'] = df['MEDCOST1'].replace(7,0)\n",
    "df['MEDCOST1'] = df['MEDCOST1'].replace(9,0)\n",
    "df = df.dropna(subset=['MEDCOST1'])\n",
    "df['MEDCOST1'].describe() if df_describe else ''"
   ]
  },
  {
   "cell_type": "code",
   "execution_count": null,
   "id": "a9eab658",
   "metadata": {},
   "outputs": [],
   "source": [
    "df['unk_past_year'] = df['CHECKUP1']\n",
    "df['unk_past_year'] = df['unk_past_year'].replace([1,2,3,4,8],0)\n",
    "df['unk_past_year'] = df['unk_past_year'].replace([7,9],1)\n",
    "df['unk_past_year'] = df['unk_past_year'].fillna(1)\n",
    "df['unk_past_year'].describe() if df_describe else ''"
   ]
  },
  {
   "cell_type": "code",
   "execution_count": null,
   "id": "ba47ba83",
   "metadata": {},
   "outputs": [],
   "source": [
    "# within past year\n",
    "df['past_year'] = df['CHECKUP1']\n",
    "df.drop(columns=['CHECKUP1'])\n",
    "df['past_year'] = df['past_year'].replace(2,0)\n",
    "df['past_year'] = df['past_year'].replace(3,0)\n",
    "df['past_year'] = df['past_year'].replace(4,0)\n",
    "df['past_year'] = df['past_year'].replace(7,0)\n",
    "df['past_year'] = df['past_year'].replace(8,0)\n",
    "df['past_year'] = df['past_year'].replace(9,1)\n",
    "df = df.dropna(subset=['past_year'])\n",
    "df['past_year'].describe() if df_describe else ''"
   ]
  },
  {
   "cell_type": "code",
   "execution_count": null,
   "id": "ff57a935",
   "metadata": {},
   "outputs": [],
   "source": [
    "df['unk_EXERANY2'] = df['EXERANY2']\n",
    "df['unk_EXERANY2'] = df['unk_EXERANY2'].replace([1,2],0)\n",
    "df['unk_EXERANY2'] = df['unk_EXERANY2'].replace([7,9],1)\n",
    "df['unk_EXERANY2'] = df['unk_EXERANY2'].fillna(1)\n",
    "df['unk_EXERANY2'].describe() if df_describe else ''"
   ]
  },
  {
   "cell_type": "code",
   "execution_count": null,
   "id": "8e384378",
   "metadata": {},
   "outputs": [],
   "source": [
    "# physical activity other than job\n",
    "df = df.dropna(subset=['EXERANY2'])\n",
    "df['EXERANY2'] = df['EXERANY2'].replace(2,0)\n",
    "df = df[df['EXERANY2'] != 7]\n",
    "df = df[df['EXERANY2'] != 9]\n",
    "df['EXERANY2'].describe() if df_describe else ''"
   ]
  },
  {
   "cell_type": "code",
   "execution_count": null,
   "id": "31ab3137",
   "metadata": {},
   "outputs": [],
   "source": [
    "df['unk_high_blood_pressure'] = df['BPHIGH6']\n",
    "df['unk_high_blood_pressure'] = df['unk_high_blood_pressure'].replace([1,2,3,4],0)\n",
    "df['unk_high_blood_pressure'] = df['unk_high_blood_pressure'].replace([7,9],1)\n",
    "df['unk_high_blood_pressure'] = df['unk_high_blood_pressure'].fillna(1)\n",
    "df['unk_high_blood_pressure'].describe() if df_describe else ''"
   ]
  },
  {
   "cell_type": "code",
   "execution_count": null,
   "id": "62fb07e8",
   "metadata": {},
   "outputs": [],
   "source": [
    "# high blood pressure\n",
    "df['high_blood_pressure'] = df['BPHIGH6']\n",
    "df['high_blood_pressure'] = df['high_blood_pressure'].replace(2,1)\n",
    "df['high_blood_pressure'] = df['high_blood_pressure'].replace(3,0)\n",
    "df['high_blood_pressure'] = df['high_blood_pressure'].replace(4,1)\n",
    "df['high_blood_pressure'] = df['high_blood_pressure'].replace(7,0)\n",
    "df['high_blood_pressure'] = df['high_blood_pressure'].replace(9,0)\n",
    "df = df.dropna(subset=['high_blood_pressure'])\n",
    "df['high_blood_pressure'].describe() if df_describe else ''"
   ]
  },
  {
   "cell_type": "code",
   "execution_count": null,
   "id": "c7bf8374",
   "metadata": {},
   "outputs": [],
   "source": [
    "# pregnant high blood pressure\n",
    "df['pregnant_high_blood_pressure'] = df['BPHIGH6']\n",
    "df.drop(columns=['BPHIGH6'])\n",
    "df['pregnant_high_blood_pressure'] = df['pregnant_high_blood_pressure'].replace(1,0)\n",
    "df['pregnant_high_blood_pressure'] = df['pregnant_high_blood_pressure'].replace(2,1)\n",
    "df['pregnant_high_blood_pressure'] = df['pregnant_high_blood_pressure'].replace(3,0)\n",
    "df['pregnant_high_blood_pressure'] = df['pregnant_high_blood_pressure'].replace(4,0)\n",
    "df['pregnant_high_blood_pressure'] = df['pregnant_high_blood_pressure'].replace(7,0)\n",
    "df['pregnant_high_blood_pressure'] = df['pregnant_high_blood_pressure'].replace(9,0)\n",
    "df = df.dropna(subset=['pregnant_high_blood_pressure'])\n",
    "df['pregnant_high_blood_pressure'].describe() if df_describe else ''"
   ]
  },
  {
   "cell_type": "code",
   "execution_count": null,
   "id": "c7b4bd3a",
   "metadata": {},
   "outputs": [],
   "source": [
    "df['unk_BPMEDS'] = df['BPMEDS']\n",
    "df['unk_BPMEDS'] = df['unk_BPMEDS'].replace([1,2],0)\n",
    "df['unk_BPMEDS'] = df['unk_BPMEDS'].replace([7,9],1)\n",
    "df['unk_BPMEDS'] = df['unk_BPMEDS'].fillna(0)\n",
    "df['unk_BPMEDS'].describe() if df_describe else ''"
   ]
  },
  {
   "cell_type": "code",
   "execution_count": null,
   "id": "1e463368",
   "metadata": {},
   "outputs": [],
   "source": [
    "# high blood pressure medication\n",
    "df['BPMEDS'] = df['BPMEDS'].replace(2,0)\n",
    "df['BPMEDS'] = df['BPMEDS'].replace(7,0)\n",
    "df['BPMEDS'] = df['BPMEDS'].replace(9,0)\n",
    "df['BPMEDS'] = df['BPMEDS'].fillna(0)\n",
    "df['BPMEDS'].describe() if df_describe else ''"
   ]
  },
  {
   "cell_type": "code",
   "execution_count": null,
   "id": "0c8158e5",
   "metadata": {},
   "outputs": [],
   "source": [
    "df['unk_CHOLCHK3'] = df['CHOLCHK3']\n",
    "df['unk_CHOLCHK3'] = df['unk_CHOLCHK3'].replace([1,2,3,4,5,6,8],0)\n",
    "df['unk_CHOLCHK3'] = df['unk_CHOLCHK3'].replace([7,9],1)\n",
    "df['unk_CHOLCHK3'] = df['unk_CHOLCHK3'].fillna(1)\n",
    "df['unk_CHOLCHK3'].describe() if df_describe else ''"
   ]
  },
  {
   "cell_type": "code",
   "execution_count": null,
   "id": "ffbfb4af",
   "metadata": {},
   "outputs": [],
   "source": [
    "# cholesterol checked within last year\n",
    "df['CHOLCHK3'] = df['CHOLCHK3'].replace(1,0)\n",
    "df['CHOLCHK3'] = df['CHOLCHK3'].replace(2,1)\n",
    "df['CHOLCHK3'] = df['CHOLCHK3'].replace(3,0)\n",
    "df['CHOLCHK3'] = df['CHOLCHK3'].replace(4,0)\n",
    "df['CHOLCHK3'] = df['CHOLCHK3'].replace(5,0)\n",
    "df['CHOLCHK3'] = df['CHOLCHK3'].replace(6,0)\n",
    "df['CHOLCHK3'] = df['CHOLCHK3'].replace(7,1)\n",
    "df['CHOLCHK3'] = df['CHOLCHK3'].replace(8,0)\n",
    "df['CHOLCHK3'] = df['CHOLCHK3'].replace(9,1)\n",
    "df = df.dropna(subset=['CHOLCHK3'])\n",
    "df['CHOLCHK3'].describe() if df_describe else ''"
   ]
  },
  {
   "cell_type": "code",
   "execution_count": null,
   "id": "04eb7bff",
   "metadata": {},
   "outputs": [],
   "source": [
    "df['unk_TOLDHI3'] = df['TOLDHI3']\n",
    "df['unk_TOLDHI3'] = df['unk_TOLDHI3'].replace([1,2],0)\n",
    "df['unk_TOLDHI3'] = df['unk_TOLDHI3'].replace([7,9],1)\n",
    "df['unk_TOLDHI3'] = df['unk_TOLDHI3'].fillna(0)\n",
    "df['unk_TOLDHI3'].describe() if df_describe else ''"
   ]
  },
  {
   "cell_type": "code",
   "execution_count": null,
   "id": "5ad912b6",
   "metadata": {},
   "outputs": [],
   "source": [
    "df['not_known_TOLDHI3'] = df['TOLDHI3']\n",
    "df['not_known_TOLDHI3'] = df['not_known_TOLDHI3'].replace([1,2,7,9],0)\n",
    "df['not_known_TOLDHI3'] = df['not_known_TOLDHI3'].fillna(1)\n",
    "df['not_known_TOLDHI3'].describe() if df_describe else ''"
   ]
  },
  {
   "cell_type": "code",
   "execution_count": null,
   "id": "7b16e983",
   "metadata": {},
   "outputs": [],
   "source": [
    "# been told cholesterol is high\n",
    "df['TOLDHI3'] = df['TOLDHI3'].replace([2,7,9],0)\n",
    "df['TOLDHI3'] = df['TOLDHI3'].fillna(0)\n",
    "df['TOLDHI3'].describe() if df_describe else ''"
   ]
  },
  {
   "cell_type": "code",
   "execution_count": null,
   "id": "7d97121e",
   "metadata": {},
   "outputs": [],
   "source": [
    "df['unk_CHOLMED3'] = df['CHOLMED3']\n",
    "df['unk_CHOLMED3'] = df['unk_CHOLMED3'].replace([1,2],0)\n",
    "df['unk_CHOLMED3'] = df['unk_CHOLMED3'].replace([7,9],1)\n",
    "df['unk_CHOLMED3'] = df['unk_CHOLMED3'].fillna(0)\n",
    "df['unk_CHOLMED3'].describe() if df_describe else ''"
   ]
  },
  {
   "cell_type": "code",
   "execution_count": null,
   "id": "c330d6a7",
   "metadata": {},
   "outputs": [],
   "source": [
    "# taking medicine prescribed by doctor\n",
    "df['CHOLMED3'] = df['CHOLMED3'].replace([2,7],0)\n",
    "df['CHOLMED3'] = df['CHOLMED3'].replace(9,1)\n",
    "df['CHOLMED3'] = df['CHOLMED3'].fillna(0)\n",
    "df['CHOLMED3'].describe() if df_describe else ''"
   ]
  },
  {
   "cell_type": "code",
   "execution_count": null,
   "id": "ed1fe300",
   "metadata": {},
   "outputs": [],
   "source": [
    "df['unk_CVDINFR4'] = df['CVDINFR4']\n",
    "df['unk_CVDINFR4'] = df['unk_CVDINFR4'].replace([1,2],0)\n",
    "df['unk_CVDINFR4'] = df['unk_CVDINFR4'].replace([7,9],1)\n",
    "df['unk_CVDINFR4'] = df['unk_CVDINFR4'].fillna(1)\n",
    "df['unk_CVDINFR4'].describe() if df_describe else ''"
   ]
  },
  {
   "cell_type": "code",
   "execution_count": null,
   "id": "b29d3e24",
   "metadata": {},
   "outputs": [],
   "source": [
    "# *had heart attack*\n",
    "df['CVDINFR4'] = df['CVDINFR4'].replace([2,7,9],0)\n",
    "df['CVDINFR4'] = df['CVDINFR4'].fillna(0)\n",
    "df['CVDINFR4'].describe() if df_describe else ''"
   ]
  },
  {
   "cell_type": "code",
   "execution_count": null,
   "id": "f430a221",
   "metadata": {},
   "outputs": [],
   "source": [
    "df['unk_CVDCRHD4'] = df['CVDCRHD4']\n",
    "df['unk_CVDCRHD4'] = df['unk_CVDCRHD4'].replace([1,2],0)\n",
    "df['unk_CVDCRHD4'] = df['unk_CVDCRHD4'].replace([7,9],1)\n",
    "df['unk_CVDCRHD4'] = df['unk_CVDCRHD4'].fillna(1)\n",
    "df['unk_CVDCRHD4'].describe() if df_describe else ''"
   ]
  },
  {
   "cell_type": "code",
   "execution_count": null,
   "id": "b9a4e5fd",
   "metadata": {},
   "outputs": [],
   "source": [
    "# *told had angina or coronary heart disease*\n",
    "df['CVDINFR4'] = df['CVDINFR4'].replace([2,7,9],0)\n",
    "df['CVDINFR4'] = df['CVDINFR4'].fillna(0)\n",
    "df['CVDINFR4'].describe() if df_describe else ''"
   ]
  },
  {
   "cell_type": "code",
   "execution_count": null,
   "id": "ea90348c",
   "metadata": {},
   "outputs": [],
   "source": [
    "df['unk_CVDSTRK3'] = df['CVDSTRK3']\n",
    "df['unk_CVDSTRK3'] = df['unk_CVDSTRK3'].replace([1,2],0)\n",
    "df['unk_CVDSTRK3'] = df['unk_CVDSTRK3'].replace([7,9],1)\n",
    "df['unk_CVDSTRK3'] = df['unk_CVDSTRK3'].fillna(1)\n",
    "df['unk_CVDSTRK3'].describe() if df_describe else ''"
   ]
  },
  {
   "cell_type": "code",
   "execution_count": null,
   "id": "ec598835",
   "metadata": {},
   "outputs": [],
   "source": [
    "# *had stroke*\n",
    "df['CVDSTRK3'] = df['CVDSTRK3'].replace([2,7,9],0)\n",
    "df['CVDSTRK3'] = df['CVDSTRK3'].fillna(0)\n",
    "df['CVDSTRK3'].describe() if df_describe else ''"
   ]
  },
  {
   "cell_type": "code",
   "execution_count": null,
   "id": "341ff298",
   "metadata": {},
   "outputs": [],
   "source": [
    "df['unk_ASTHMA3'] = df['ASTHMA3']\n",
    "df['unk_ASTHMA3'] = df['unk_ASTHMA3'].replace([1,2],0)\n",
    "df['unk_ASTHMA3'] = df['unk_ASTHMA3'].replace([7,9],1)\n",
    "df['unk_ASTHMA3'] = df['unk_ASTHMA3'].fillna(1)\n",
    "df['unk_ASTHMA3'].describe() if df_describe else ''"
   ]
  },
  {
   "cell_type": "code",
   "execution_count": null,
   "id": "f518f2ba",
   "metadata": {},
   "outputs": [],
   "source": [
    "# *had asthma*\n",
    "df['ASTHMA3'] = df['ASTHMA3'].replace([2,7,9],0)\n",
    "df['ASTHMA3'] = df['ASTHMA3'].fillna(0)\n",
    "df['ASTHMA3'].describe() if df_describe else ''"
   ]
  },
  {
   "cell_type": "code",
   "execution_count": null,
   "id": "69d67ace",
   "metadata": {},
   "outputs": [],
   "source": [
    "df['unk_ASTHNOW'] = df['ASTHNOW']\n",
    "df['unk_ASTHNOW'] = df['unk_ASTHNOW'].replace([1,2],0)\n",
    "df['unk_ASTHNOW'] = df['unk_ASTHNOW'].replace([7,9],1)\n",
    "df['unk_ASTHNOW'] = df['unk_ASTHNOW'].fillna(0)\n",
    "df['unk_ASTHNOW'].describe() if df_describe else ''"
   ]
  },
  {
   "cell_type": "code",
   "execution_count": null,
   "id": "52382059",
   "metadata": {},
   "outputs": [],
   "source": [
    "# *has asthma now*\n",
    "df['ASTHNOW'] = df['ASTHNOW'].replace([2,7,9],0)\n",
    "df['ASTHNOW'] = df['ASTHNOW'].fillna(0)\n",
    "df['ASTHNOW'].describe() if df_describe else ''"
   ]
  },
  {
   "cell_type": "code",
   "execution_count": null,
   "id": "f58b26ce",
   "metadata": {},
   "outputs": [],
   "source": [
    "df['unk_CHCSCNCR'] = df['CHCSCNCR']\n",
    "df['unk_CHCSCNCR'] = df['unk_CHCSCNCR'].replace([1,2],0)\n",
    "df['unk_CHCSCNCR'] = df['unk_CHCSCNCR'].replace([7,9],1)\n",
    "df['unk_CHCSCNCR'] = df['unk_CHCSCNCR'].fillna(1)\n",
    "df['unk_CHCSCNCR'].describe() if df_describe else ''"
   ]
  },
  {
   "cell_type": "code",
   "execution_count": null,
   "id": "3e71b57f",
   "metadata": {},
   "outputs": [],
   "source": [
    "# *had skin cancer*\n",
    "df['CHCSCNCR'] = df['CHCSCNCR'].replace([2,7,9],0)\n",
    "df['CHCSCNCR'] = df['CHCSCNCR'].fillna(0)\n",
    "df['CHCSCNCR'].describe() if df_describe else ''"
   ]
  },
  {
   "cell_type": "code",
   "execution_count": null,
   "id": "afbd45c8",
   "metadata": {},
   "outputs": [],
   "source": [
    "df['unk_CHCOCNCR'] = df['CHCOCNCR']\n",
    "df['unk_CHCOCNCR'] = df['unk_CHCOCNCR'].replace([1,2],0)\n",
    "df['unk_CHCOCNCR'] = df['unk_CHCOCNCR'].replace([7,9],1)\n",
    "df['unk_CHCOCNCR'] = df['unk_CHCOCNCR'].fillna(1)\n",
    "df['unk_CHCOCNCR'].describe() if df_describe else ''"
   ]
  },
  {
   "cell_type": "code",
   "execution_count": null,
   "id": "c7164171",
   "metadata": {},
   "outputs": [],
   "source": [
    "# *had other cancer*\n",
    "df['CHCOCNCR'] = df['CHCOCNCR'].replace([2,7,9],0)\n",
    "df['CHCOCNCR'] = df['CHCOCNCR'].fillna(0)\n",
    "df['CHCOCNCR'].describe() if df_describe else ''"
   ]
  },
  {
   "cell_type": "code",
   "execution_count": null,
   "id": "ebbce251",
   "metadata": {},
   "outputs": [],
   "source": [
    "df['unk_CHCCOPD3'] = df['CHCCOPD3']\n",
    "df['unk_CHCCOPD3'] = df['unk_CHCCOPD3'].replace([1,2],0)\n",
    "df['unk_CHCCOPD3'] = df['unk_CHCCOPD3'].replace([7,9],1)\n",
    "df['unk_CHCCOPD3'] = df['unk_CHCCOPD3'].fillna(1)\n",
    "df['unk_CHCCOPD3'].describe() if df_describe else ''"
   ]
  },
  {
   "cell_type": "code",
   "execution_count": null,
   "id": "02ec1948",
   "metadata": {},
   "outputs": [],
   "source": [
    "# *had other cancer*\n",
    "df['CHCCOPD3'] = df['CHCCOPD3'].replace([2,7,9],0)\n",
    "df['CHCCOPD3'] = df['CHCCOPD3'].fillna(0)\n",
    "df['CHCCOPD3'].describe() if df_describe else ''"
   ]
  },
  {
   "cell_type": "code",
   "execution_count": null,
   "id": "21bbe239",
   "metadata": {},
   "outputs": [],
   "source": [
    "df['unk_ADDEPEV3'] = df['ADDEPEV3']\n",
    "df['unk_ADDEPEV3'] = df['unk_ADDEPEV3'].replace([1,2],0)\n",
    "df['unk_ADDEPEV3'] = df['unk_ADDEPEV3'].replace([7,9],1)\n",
    "df['unk_ADDEPEV3'] = df['unk_ADDEPEV3'].fillna(1)\n",
    "df['unk_ADDEPEV3'].describe() if df_describe else ''"
   ]
  },
  {
   "cell_type": "code",
   "execution_count": null,
   "id": "42717b8c",
   "metadata": {},
   "outputs": [],
   "source": [
    "# *had depressive disorder*\n",
    "df['ADDEPEV3'] = df['ADDEPEV3'].replace([2,7,9],0)\n",
    "df['ADDEPEV3'] = df['ADDEPEV3'].fillna(0)\n",
    "df['ADDEPEV3'].describe() if df_describe else ''"
   ]
  },
  {
   "cell_type": "code",
   "execution_count": null,
   "id": "3e4db2c7",
   "metadata": {},
   "outputs": [],
   "source": [
    "df['unk_CHCKDNY2'] = df['CHCKDNY2']\n",
    "df['unk_CHCKDNY2'] = df['unk_CHCKDNY2'].replace([1,2],0)\n",
    "df['unk_CHCKDNY2'] = df['unk_CHCKDNY2'].replace([7,9],1)\n",
    "df['unk_CHCKDNY2'] = df['unk_CHCKDNY2'].fillna(1)\n",
    "df['unk_CHCKDNY2'].describe() if df_describe else ''"
   ]
  },
  {
   "cell_type": "code",
   "execution_count": null,
   "id": "445ed9d8",
   "metadata": {},
   "outputs": [],
   "source": [
    "# *had kidney disease*\n",
    "df['ADDEPEV3'] = df['ADDEPEV3'].replace([2,7,9],0)\n",
    "df['ADDEPEV3'] = df['ADDEPEV3'].fillna(0)\n",
    "df['ADDEPEV3'].describe() if df_describe else ''"
   ]
  },
  {
   "cell_type": "code",
   "execution_count": null,
   "id": "3960294d",
   "metadata": {},
   "outputs": [],
   "source": [
    "# target variable, 0: no diabetes reported, prediabetes or only during pregnancy, 1: diabetes\n",
    "df['diabetes'] = df['DIABETE4']\n",
    "df['diabetes'] = df['diabetes'].replace([2,3,4,7,9],0)\n",
    "df['diabetes'] = df['diabetes'].replace([1],1)\n",
    "df['diabetes'] = df['diabetes'].fillna(0)\n",
    "df['diabetes'].describe() if df_describe else ''"
   ]
  },
  {
   "cell_type": "code",
   "execution_count": null,
   "id": "80899506",
   "metadata": {},
   "outputs": [],
   "source": [
    "# *had diabetes during pregnancy*\n",
    "# df['pregnancy_diabetes'] = df['DIABETE4']\n",
    "# df['pregnancy_diabetes'] = df['pregnancy_diabetes'].replace([1,3,4,7,9],0)\n",
    "# df['pregnancy_diabetes'] = df['pregnancy_diabetes'].replace(2,1)\n",
    "# df['pregnancy_diabetes'] = df['pregnancy_diabetes'].fillna(0)\n",
    "# df['pregnancy_diabetes'].describe() if df_describe else ''"
   ]
  },
  {
   "cell_type": "code",
   "execution_count": null,
   "id": "ec4ce776",
   "metadata": {},
   "outputs": [],
   "source": [
    "# *had prediabetes*\n",
    "# df['pre_diabetes'] = df['DIABETE4']\n",
    "# df['pre_diabetes'] = df['pre_diabetes'].replace([1,2,3,7,9],0)\n",
    "# df['pre_diabetes'] = df['pre_diabetes'].replace(4,1)\n",
    "# df['pre_diabetes'] = df['pre_diabetes'].fillna(0)\n",
    "# df['pre_diabetes'].describe() if df_describe else ''"
   ]
  },
  {
   "cell_type": "code",
   "execution_count": null,
   "id": "421ea3b8",
   "metadata": {},
   "outputs": [],
   "source": [
    "# *had diabetes*\n",
    "# df['DIABETE4'] = df['DIABETE4'].replace(2,1)\n",
    "# df['DIABETE4'] = df['DIABETE4'].replace([3,4,7,9],0)\n",
    "# df['DIABETE4'] = df['DIABETE4'].fillna(0)\n",
    "# df['DIABETE4'].describe() if df_describe else ''"
   ]
  },
  {
   "cell_type": "code",
   "execution_count": null,
   "id": "71737cf7",
   "metadata": {},
   "outputs": [],
   "source": [
    "# drop s7q12, old when told had diabetes, not relevant for diagnosing\n",
    "df = df.drop(['DIABAGE3'], axis=1)"
   ]
  },
  {
   "cell_type": "code",
   "execution_count": null,
   "id": "feee27d1",
   "metadata": {},
   "outputs": [],
   "source": [
    "df['unk_HAVARTH5'] = df['HAVARTH5']\n",
    "df['unk_HAVARTH5'] = df['unk_HAVARTH5'].replace([1,2],0)\n",
    "df['unk_HAVARTH5'] = df['unk_HAVARTH5'].replace([7,9],1)\n",
    "df['unk_HAVARTH5'] = df['unk_HAVARTH5'].fillna(1)\n",
    "df['unk_HAVARTH5'].describe() if df_describe else ''"
   ]
  },
  {
   "cell_type": "code",
   "execution_count": null,
   "id": "baaf3e5a",
   "metadata": {},
   "outputs": [],
   "source": [
    "# *have arthritis\n",
    "df['HAVARTH5'] = df['HAVARTH5'].replace([2,7,9],0)\n",
    "df['HAVARTH5'] = df['HAVARTH5'].fillna(0)\n",
    "df['HAVARTH5'].describe() if df_describe else ''"
   ]
  },
  {
   "cell_type": "code",
   "execution_count": null,
   "id": "c2b2ef49",
   "metadata": {},
   "outputs": [],
   "source": [
    "# drop s8q2, suggested physical activity for arthritis, not relevant for diagnosis\n",
    "# drop s8q3, taken course for arthritis, not relevant for diagnosis\n",
    "# drop s8q4, limited because of joint symptoms, not relevant for diagnosis\n",
    "# drop s8q5, arthritis affects work, not relevant for diagnosis\n",
    "df = df.drop(['ARTHEXER', 'ARTHEDU', 'LMTJOIN3', 'ARTHDIS2'], axis=1)"
   ]
  },
  {
   "cell_type": "code",
   "execution_count": null,
   "id": "8f0eb78e",
   "metadata": {},
   "outputs": [],
   "source": [
    "#df['unk_LMTJOIN3'] = df['LMTJOIN3']\n",
    "#df['unk_LMTJOIN3'] = df['unk_LMTJOIN3'].replace([1,2],0)\n",
    "#df['unk_LMTJOIN3'] = df['unk_LMTJOIN3'].replace([7,9],1)\n",
    "#df['unk_LMTJOIN3'] = df['unk_LMTJOIN3'].fillna(0)\n",
    "#df['unk_LMTJOIN3'].describe() if df_describe else ''"
   ]
  },
  {
   "cell_type": "code",
   "execution_count": null,
   "id": "f2f79766",
   "metadata": {},
   "outputs": [],
   "source": [
    "# limited by their arthritis or joints\n",
    "#df['LMTJOIN3'] = df['LMTJOIN3'].replace([2,7,9],0)\n",
    "#df['LMTJOIN3'] = df['LMTJOIN3'].fillna(0)\n",
    "#df['LMTJOIN3'].describe() if df_describe else ''"
   ]
  },
  {
   "cell_type": "code",
   "execution_count": null,
   "id": "8bcc0f44",
   "metadata": {},
   "outputs": [],
   "source": [
    "#df['unk_ARTHDIS2'] = df['ARTHDIS2']\n",
    "#df['unk_ARTHDIS2'] = df['unk_ARTHDIS2'].replace([1,2],0)\n",
    "#df['unk_ARTHDIS2'] = df['unk_ARTHDIS2'].replace([7,9],1)\n",
    "#df['unk_ARTHDIS2'] = df['unk_ARTHDIS2'].fillna(0)\n",
    "#df['unk_ARTHDIS2'].describe() if df_describe else ''"
   ]
  },
  {
   "cell_type": "code",
   "execution_count": null,
   "id": "edef6095",
   "metadata": {},
   "outputs": [],
   "source": [
    "# arthritis or joints affects work\n",
    "#df['ARTHDIS2'] = df['ARTHDIS2'].replace([2,7,9],0)\n",
    "#df['ARTHDIS2'] = df['ARTHDIS2'].fillna(0)\n",
    "#df['ARTHDIS2'].describe() if df_describe else ''"
   ]
  },
  {
   "cell_type": "code",
   "execution_count": null,
   "id": "c6d5a603",
   "metadata": {},
   "outputs": [],
   "source": [
    "df['unk_JOINPAI2'] = df['JOINPAI2']\n",
    "df['unk_JOINPAI2'] = df['unk_JOINPAI2'].replace(range(0,11),0)\n",
    "df['unk_JOINPAI2'] = df['unk_JOINPAI2'].replace([77,99],1)\n",
    "df['unk_JOINPAI2'] = df['unk_JOINPAI2'].fillna(0)\n",
    "df['unk_JOINPAI2'].describe() if df_describe else ''"
   ]
  },
  {
   "cell_type": "code",
   "execution_count": null,
   "id": "790b63da",
   "metadata": {},
   "outputs": [],
   "source": [
    "# how bad was joint pain\n",
    "df['JOINPAI2'] = df['JOINPAI2'].replace([77,99],1)\n",
    "df['JOINPAI2'] = df['JOINPAI2'].fillna(0)\n",
    "df['JOINPAI2'].describe() if df_describe else ''"
   ]
  },
  {
   "cell_type": "code",
   "execution_count": null,
   "id": "8308197f",
   "metadata": {},
   "outputs": [],
   "source": [
    "df['unk_MARITAL'] = df['MARITAL']\n",
    "df['unk_MARITAL'] = df['unk_MARITAL'].replace(range(1,7),0)\n",
    "df['unk_MARITAL'] = df['unk_MARITAL'].replace(9,1)\n",
    "df['unk_MARITAL'] = df['unk_MARITAL'].fillna(1)\n",
    "df['unk_MARITAL'].describe() if df_describe else ''"
   ]
  },
  {
   "cell_type": "code",
   "execution_count": null,
   "id": "de82d301",
   "metadata": {},
   "outputs": [],
   "source": [
    "# married\n",
    "df['married'] = df['MARITAL']\n",
    "df['married'] = df['married'].replace([2,3,4,5,6,9],0)\n",
    "df['married'] = df['married'].fillna(0)\n",
    "df['married'].describe() if df_describe else ''"
   ]
  },
  {
   "cell_type": "code",
   "execution_count": null,
   "id": "d225e1df",
   "metadata": {},
   "outputs": [],
   "source": [
    "# divorced\n",
    "df['divorced'] = df['MARITAL']\n",
    "df['divorced'] = df['divorced'].replace([1,3,4,5,6,9],0)\n",
    "df['divorced'] = df['divorced'].replace(2,1)\n",
    "df['divorced'] = df['divorced'].fillna(0)\n",
    "df['divorced'].describe() if df_describe else ''"
   ]
  },
  {
   "cell_type": "code",
   "execution_count": null,
   "id": "5b2c6618",
   "metadata": {},
   "outputs": [],
   "source": [
    "# widowed\n",
    "df['widowed'] = df['MARITAL']\n",
    "df['widowed'] = df['widowed'].replace([1,2,4,5,6,9],0)\n",
    "df['widowed'] = df['widowed'].replace(3,1)\n",
    "df['widowed'] = df['widowed'].fillna(0)\n",
    "df['widowed'].describe() if df_describe else ''"
   ]
  },
  {
   "cell_type": "code",
   "execution_count": null,
   "id": "d573d8c5",
   "metadata": {},
   "outputs": [],
   "source": [
    "# Separated\n",
    "df['separated'] = df['MARITAL']\n",
    "df['separated'] = df['separated'].replace([1,2,3,5,6,9],0)\n",
    "df['separated'] = df['separated'].replace(4,1)\n",
    "df['separated'] = df['separated'].fillna(0)\n",
    "df['separated'].describe() if df_describe else ''"
   ]
  },
  {
   "cell_type": "code",
   "execution_count": null,
   "id": "0f763ce8",
   "metadata": {},
   "outputs": [],
   "source": [
    "# never married\n",
    "df['never_married'] = df['MARITAL']\n",
    "df['never_married'] = df['never_married'].replace([1,2,3,4,6,9],0)\n",
    "df['never_married'] = df['never_married'].replace(5,1)\n",
    "df['never_married'] = df['never_married'].fillna(0)\n",
    "df['never_married'].describe() if df_describe else ''"
   ]
  },
  {
   "cell_type": "code",
   "execution_count": null,
   "id": "e45812bf",
   "metadata": {},
   "outputs": [],
   "source": [
    "# unmarried_couple\n",
    "df['unmarried_couple'] = df['MARITAL']\n",
    "df['unmarried_couple'] = df['unmarried_couple'].replace([1,2,3,4,5,9],0)\n",
    "df['unmarried_couple'] = df['unmarried_couple'].replace(6,1)\n",
    "df['unmarried_couple'] = df['unmarried_couple'].fillna(0)\n",
    "df['unmarried_couple'].describe() if df_describe else ''"
   ]
  },
  {
   "cell_type": "code",
   "execution_count": null,
   "id": "87e0c4f6",
   "metadata": {},
   "outputs": [],
   "source": [
    "# drop s9q6, education level, _EDUCAG is better\n",
    "df = df.drop(['EDUCA'], axis=1)"
   ]
  },
  {
   "cell_type": "code",
   "execution_count": null,
   "id": "8342c8cc",
   "metadata": {},
   "outputs": [],
   "source": [
    "df['unk_RENTHOM1'] = df['RENTHOM1']\n",
    "df['unk_RENTHOM1'] = df['unk_RENTHOM1'].replace([1,2,3],0)\n",
    "df['unk_RENTHOM1'] = df['unk_RENTHOM1'].replace([7,9],1)\n",
    "df['unk_RENTHOM1'] = df['unk_RENTHOM1'].fillna(1)\n",
    "df['unk_RENTHOM1'].describe() if df_describe else ''"
   ]
  },
  {
   "cell_type": "code",
   "execution_count": null,
   "id": "c1dc8c60",
   "metadata": {},
   "outputs": [],
   "source": [
    "# own\n",
    "df['own_house'] = df['RENTHOM1']\n",
    "df['own_house'] = df['own_house'].replace([2,3,7,9],0)\n",
    "df['own_house'] = df['own_house'].fillna(0)\n",
    "df['own_house'].describe() if df_describe else ''"
   ]
  },
  {
   "cell_type": "code",
   "execution_count": null,
   "id": "120a4efd",
   "metadata": {},
   "outputs": [],
   "source": [
    "# rent\n",
    "df['RENTHOM1'] = df['RENTHOM1'].replace([1,3,7,9],0)\n",
    "df['RENTHOM1'] = df['RENTHOM1'].replace(2,1)\n",
    "df['RENTHOM1'] = df['RENTHOM1'].fillna(0)\n",
    "df['RENTHOM1'].describe() if df_describe else ''"
   ]
  },
  {
   "cell_type": "code",
   "execution_count": null,
   "id": "7476ac82",
   "metadata": {},
   "outputs": [],
   "source": [
    "# drop s9q10, household telephones, not relevant\n",
    "# drop s9q11, residential phones\n",
    "# drop s9q12, cell phone for personal use\n",
    "df = df.drop(['NUMHHOL3', 'NUMPHON3', 'CPDEMO1B'], axis=1)"
   ]
  },
  {
   "cell_type": "code",
   "execution_count": null,
   "id": "b4eaf175",
   "metadata": {},
   "outputs": [],
   "source": [
    "df['unk_VETERAN3'] = df['VETERAN3']\n",
    "df['unk_VETERAN3'] = df['unk_VETERAN3'].replace([1,2],0)\n",
    "df['unk_VETERAN3'] = df['unk_VETERAN3'].replace([7,9],1)\n",
    "df['unk_VETERAN3'] = df['unk_VETERAN3'].fillna(1)\n",
    "df['unk_VETERAN3'].describe() if df_describe else ''"
   ]
  },
  {
   "cell_type": "code",
   "execution_count": null,
   "id": "3fb4ce07",
   "metadata": {},
   "outputs": [],
   "source": [
    "# rent\n",
    "df['VETERAN3'] = df['VETERAN3'].replace([2,7,9],0)\n",
    "df['VETERAN3'] = df['VETERAN3'].fillna(0)\n",
    "df['VETERAN3'].describe() if df_describe else ''"
   ]
  },
  {
   "cell_type": "code",
   "execution_count": null,
   "id": "3379299f",
   "metadata": {},
   "outputs": [],
   "source": [
    "df['unk_EMPLOY1'] = df['EMPLOY1']\n",
    "df['unk_EMPLOY1'] = df['unk_EMPLOY1'].replace(range(1,9),0)\n",
    "df['unk_EMPLOY1'] = df['unk_EMPLOY1'].replace(9,1)\n",
    "df['unk_EMPLOY1'] = df['unk_EMPLOY1'].fillna(1)\n",
    "df['unk_EMPLOY1'].describe() if df_describe else ''"
   ]
  },
  {
   "cell_type": "code",
   "execution_count": null,
   "id": "471abf49",
   "metadata": {},
   "outputs": [],
   "source": [
    "# employed for wages\n",
    "df['employed_for_wages'] = df['EMPLOY1']\n",
    "df['employed_for_wages'] = df['employed_for_wages'].replace(range(2,10),0)\n",
    "df['employed_for_wages'] = df['employed_for_wages'].fillna(0)\n",
    "df['employed_for_wages'].describe() if df_describe else ''"
   ]
  },
  {
   "cell_type": "code",
   "execution_count": null,
   "id": "ba4058dc",
   "metadata": {},
   "outputs": [],
   "source": [
    "# self employed\n",
    "df['self_employed'] = df['EMPLOY1']\n",
    "df['self_employed'] = df['self_employed'].replace([1,3,4,5,6,7,8,9],0)\n",
    "df['self_employed'] = df['self_employed'].replace(2,1)\n",
    "df['self_employed'] = df['self_employed'].fillna(0)\n",
    "df['self_employed'].describe() if df_describe else ''"
   ]
  },
  {
   "cell_type": "code",
   "execution_count": null,
   "id": "b0a7eb1d",
   "metadata": {},
   "outputs": [],
   "source": [
    "# Out of work for 1 year or more\n",
    "df['out_of_work_year_plus'] = df['EMPLOY1']\n",
    "df['out_of_work_year_plus'] = df['out_of_work_year_plus'].replace([1,2,4,5,6,7,8,9],0)\n",
    "df['out_of_work_year_plus'] = df['out_of_work_year_plus'].replace(3,1)\n",
    "df['out_of_work_year_plus'] = df['out_of_work_year_plus'].fillna(0)\n",
    "df['out_of_work_year_plus'].describe() if df_describe else ''"
   ]
  },
  {
   "cell_type": "code",
   "execution_count": null,
   "id": "7b869c51",
   "metadata": {},
   "outputs": [],
   "source": [
    "# Out of work for less than 1 year\n",
    "df['out_of_work_year_less'] = df['EMPLOY1']\n",
    "df['out_of_work_year_less'] = df['out_of_work_year_less'].replace([1,2,3,5,6,7,8,9],0)\n",
    "df['out_of_work_year_less'] = df['out_of_work_year_less'].replace(4,1)\n",
    "df['out_of_work_year_less'] = df['out_of_work_year_less'].fillna(0)\n",
    "df['out_of_work_year_less'].describe() if df_describe else ''"
   ]
  },
  {
   "cell_type": "code",
   "execution_count": null,
   "id": "9b956e71",
   "metadata": {},
   "outputs": [],
   "source": [
    "# homemaker\n",
    "df['homemaker'] = df['EMPLOY1']\n",
    "df['homemaker'] = df['homemaker'].replace([1,2,3,4,6,7,8,9],0)\n",
    "df['homemaker'] = df['homemaker'].replace(5,1)\n",
    "df['homemaker'] = df['homemaker'].fillna(0)\n",
    "df['homemaker'].describe() if df_describe else ''"
   ]
  },
  {
   "cell_type": "code",
   "execution_count": null,
   "id": "3bfe2c0f",
   "metadata": {},
   "outputs": [],
   "source": [
    "# a student\n",
    "df['student'] = df['EMPLOY1']\n",
    "df['student'] = df['student'].replace([1,2,3,4,5,7,8,9],0)\n",
    "df['student'] = df['student'].replace(6,1)\n",
    "df['student'] = df['student'].fillna(0)\n",
    "df['student'].describe() if df_describe else ''"
   ]
  },
  {
   "cell_type": "code",
   "execution_count": null,
   "id": "cd49fe03",
   "metadata": {},
   "outputs": [],
   "source": [
    "# retired\n",
    "df['retired'] = df['EMPLOY1']\n",
    "df['retired'] = df['retired'].replace([1,2,3,4,5,6,8,9],0)\n",
    "df['retired'] = df['retired'].replace(7,1)\n",
    "df['retired'] = df['retired'].fillna(0)\n",
    "df['retired'].describe() if df_describe else ''"
   ]
  },
  {
   "cell_type": "code",
   "execution_count": null,
   "id": "ba559b8e",
   "metadata": {},
   "outputs": [],
   "source": [
    "# unable to work\n",
    "df['unable_to_work'] = df['EMPLOY1']\n",
    "df['unable_to_work'] = df['unable_to_work'].replace([1,2,3,4,5,6,7,9],0)\n",
    "df['unable_to_work'] = df['unable_to_work'].replace(8,1)\n",
    "df['unable_to_work'] = df['unable_to_work'].fillna(0)\n",
    "df['unable_to_work'].describe() if df_describe else ''"
   ]
  },
  {
   "cell_type": "code",
   "execution_count": null,
   "id": "f0617fc4",
   "metadata": {},
   "outputs": [],
   "source": [
    "df = df.drop(['EMPLOY1'], axis=1)"
   ]
  },
  {
   "cell_type": "code",
   "execution_count": null,
   "id": "08def79f",
   "metadata": {},
   "outputs": [],
   "source": [
    "# drop s9q15, number of children in household, not relevant\n",
    "# drop s9q16, income level, _INCOMG1 is a better metric\n",
    "df = df.drop(['CHILDREN', 'INCOME3'], axis=1)"
   ]
  },
  {
   "cell_type": "code",
   "execution_count": null,
   "id": "7d128c43",
   "metadata": {},
   "outputs": [],
   "source": [
    "df['unk_PREGNANT'] = df['PREGNANT']\n",
    "df['unk_PREGNANT'] = df['unk_PREGNANT'].replace([1,2],0)\n",
    "df['unk_PREGNANT'] = df['unk_PREGNANT'].replace([7,9],1)\n",
    "df['unk_PREGNANT'] = df['unk_PREGNANT'].fillna(0)\n",
    "df['unk_PREGNANT'].describe() if df_describe else ''"
   ]
  },
  {
   "cell_type": "code",
   "execution_count": null,
   "id": "d838f338",
   "metadata": {},
   "outputs": [],
   "source": [
    "# pregnant\n",
    "df['PREGNANT'] = df['PREGNANT'].replace([2,7,9],0)\n",
    "df['PREGNANT'] = df['PREGNANT'].fillna(0)\n",
    "df['PREGNANT'].describe() if df_describe else ''"
   ]
  },
  {
   "cell_type": "code",
   "execution_count": null,
   "id": "b009ad05",
   "metadata": {},
   "outputs": [],
   "source": [
    "# drop s9q18, reported weight pounds, WTKG3 is a better metric\n",
    "# drop s9q19, reported height in feet and inches, HTM4 is a better metric\n",
    "df = df.drop(['WEIGHT2', 'HEIGHT3'], axis=1)"
   ]
  },
  {
   "cell_type": "code",
   "execution_count": null,
   "id": "49896e87",
   "metadata": {},
   "outputs": [],
   "source": [
    "df['unk_DEAF'] = df['DEAF']\n",
    "df['unk_DEAF'] = df['unk_DEAF'].replace([1,2],0)\n",
    "df['unk_DEAF'] = df['unk_DEAF'].replace([7,9],1)\n",
    "df['unk_DEAF'] = df['unk_DEAF'].fillna(1)\n",
    "df['unk_DEAF'].describe() if df_describe else ''"
   ]
  },
  {
   "cell_type": "code",
   "execution_count": null,
   "id": "ec52d7b6",
   "metadata": {},
   "outputs": [],
   "source": [
    "# *is deaf*\n",
    "df['DEAF'] = df['DEAF'].replace([2,7,9],0)\n",
    "df['DEAF'] = df['DEAF'].fillna(0)\n",
    "df['DEAF'].describe() if df_describe else ''"
   ]
  },
  {
   "cell_type": "code",
   "execution_count": null,
   "id": "30854ade",
   "metadata": {},
   "outputs": [],
   "source": [
    "df['unk_BLIND'] = df['BLIND']\n",
    "df['unk_BLIND'] = df['unk_BLIND'].replace([1,2],0)\n",
    "df['unk_BLIND'] = df['unk_BLIND'].replace([7,9],1)\n",
    "df['unk_BLIND'] = df['unk_BLIND'].fillna(1)\n",
    "df['unk_BLIND'].describe() if df_describe else ''"
   ]
  },
  {
   "cell_type": "code",
   "execution_count": null,
   "id": "46a5f662",
   "metadata": {},
   "outputs": [],
   "source": [
    "# *is blind*\n",
    "df['BLIND'] = df['BLIND'].replace([2,7,9],0)\n",
    "df['BLIND'] = df['BLIND'].fillna(0)\n",
    "df['BLIND'].describe() if df_describe else ''"
   ]
  },
  {
   "cell_type": "code",
   "execution_count": null,
   "id": "1bb3e5f8",
   "metadata": {},
   "outputs": [],
   "source": [
    "df['unk_DECIDE'] = df['DECIDE']\n",
    "df['unk_DECIDE'] = df['unk_DECIDE'].replace([1,2],0)\n",
    "df['unk_DECIDE'] = df['unk_DECIDE'].replace([7,9],1)\n",
    "df['unk_DECIDE'] = df['unk_DECIDE'].fillna(1)\n",
    "df['unk_DECIDE'].describe() if df_describe else ''"
   ]
  },
  {
   "cell_type": "code",
   "execution_count": null,
   "id": "16d24061",
   "metadata": {},
   "outputs": [],
   "source": [
    "# difficulty concentrating or remembering\n",
    "df['DECIDE'] = df['DECIDE'].replace([2,7,9],0)\n",
    "df['DECIDE'] = df['DECIDE'].fillna(0)\n",
    "df['DECIDE'].describe() if df_describe else ''"
   ]
  },
  {
   "cell_type": "code",
   "execution_count": null,
   "id": "a41471f1",
   "metadata": {},
   "outputs": [],
   "source": [
    "df['unk_DIFFWALK'] = df['DIFFWALK']\n",
    "df['unk_DIFFWALK'] = df['unk_DIFFWALK'].replace([1,2],0)\n",
    "df['unk_DIFFWALK'] = df['unk_DIFFWALK'].replace([7,9],1)\n",
    "df['unk_DIFFWALK'] = df['unk_DIFFWALK'].fillna(1)\n",
    "df['unk_DIFFWALK'].describe() if df_describe else ''"
   ]
  },
  {
   "cell_type": "code",
   "execution_count": null,
   "id": "45dc17c7",
   "metadata": {},
   "outputs": [],
   "source": [
    "# Difficulty Walking or Climbing Stairs\n",
    "df['DIFFWALK'] = df['DIFFWALK'].replace([2,7,9],0)\n",
    "df['DIFFWALK'] = df['DIFFWALK'].fillna(0)\n",
    "df['DIFFWALK'].describe() if df_describe else ''"
   ]
  },
  {
   "cell_type": "code",
   "execution_count": null,
   "id": "4b5d1775",
   "metadata": {},
   "outputs": [],
   "source": [
    "df['unk_DIFFDRES'] = df['DIFFDRES']\n",
    "df['unk_DIFFDRES'] = df['unk_DIFFDRES'].replace([1,2],0)\n",
    "df['unk_DIFFDRES'] = df['unk_DIFFDRES'].replace([7,9],1)\n",
    "df['unk_DIFFDRES'] = df['unk_DIFFDRES'].fillna(1)\n",
    "df['unk_DIFFDRES'].describe() if df_describe else ''"
   ]
  },
  {
   "cell_type": "code",
   "execution_count": null,
   "id": "5a5e6f78",
   "metadata": {},
   "outputs": [],
   "source": [
    "# Difficulty Dressing or Bathing\n",
    "df['DIFFDRES'] = df['DIFFDRES'].replace([2,7,9],0)\n",
    "df['DIFFDRES'] = df['DIFFDRES'].fillna(0)\n",
    "df['DIFFDRES'].describe() if df_describe else ''"
   ]
  },
  {
   "cell_type": "code",
   "execution_count": null,
   "id": "a78e6426",
   "metadata": {},
   "outputs": [],
   "source": [
    "df['unk_DIFFALON'] = df['DIFFALON']\n",
    "df['unk_DIFFALON'] = df['unk_DIFFALON'].replace([1,2],0)\n",
    "df['unk_DIFFALON'] = df['unk_DIFFALON'].replace([7,9],1)\n",
    "df['unk_DIFFALON'] = df['unk_DIFFALON'].fillna(1)\n",
    "df['unk_DIFFALON'].describe() if df_describe else ''"
   ]
  },
  {
   "cell_type": "code",
   "execution_count": null,
   "id": "42a85d48",
   "metadata": {},
   "outputs": [],
   "source": [
    "# Difficulty Doing Errands Alone\n",
    "df['DIFFALON'] = df['DIFFALON'].replace([2,7,9],0)\n",
    "df['DIFFALON'] = df['DIFFALON'].fillna(0)\n",
    "df['DIFFALON'].describe() if df_describe else ''"
   ]
  },
  {
   "cell_type": "code",
   "execution_count": null,
   "id": "3ae21ee4",
   "metadata": {},
   "outputs": [],
   "source": [
    "df['unk_SMOKE100'] = df['SMOKE100']\n",
    "df['unk_SMOKE100'] = df['unk_SMOKE100'].replace([1,2],0)\n",
    "df['unk_SMOKE100'] = df['unk_SMOKE100'].replace([7,9],1)\n",
    "df['unk_SMOKE100'] = df['unk_SMOKE100'].fillna(1)\n",
    "df['unk_SMOKE100'].describe() if df_describe else ''"
   ]
  },
  {
   "cell_type": "code",
   "execution_count": null,
   "id": "076b148f",
   "metadata": {},
   "outputs": [],
   "source": [
    "# Smoked at Least 100 Cigarettes\n",
    "df['SMOKE100'] = df['SMOKE100'].replace([2,7,9],0)\n",
    "df['SMOKE100'] = df['SMOKE100'].fillna(0)\n",
    "df['SMOKE100'].describe() if df_describe else ''"
   ]
  },
  {
   "cell_type": "code",
   "execution_count": null,
   "id": "f34acb67",
   "metadata": {},
   "outputs": [],
   "source": [
    "df['unk_SMOKDAY2'] = df['SMOKDAY2']\n",
    "df['unk_SMOKDAY2'] = df['unk_SMOKDAY2'].replace([1,2,3],0)\n",
    "df['unk_SMOKDAY2'] = df['unk_SMOKDAY2'].replace([7,9],1)\n",
    "df['unk_SMOKDAY2'] = df['unk_SMOKDAY2'].fillna(0)\n",
    "df['unk_SMOKDAY2'].describe() if df_describe else ''"
   ]
  },
  {
   "cell_type": "code",
   "execution_count": null,
   "id": "ff53454e",
   "metadata": {},
   "outputs": [],
   "source": [
    "# smoke every day\n",
    "df['smoke_every_day'] = df['SMOKDAY2']\n",
    "df['smoke_every_day'] = df['smoke_every_day'].replace([2,3,7,9],0)\n",
    "df['smoke_every_day'] = df['smoke_every_day'].fillna(0)\n",
    "df['smoke_every_day'].describe() if df_describe else ''"
   ]
  },
  {
   "cell_type": "code",
   "execution_count": null,
   "id": "e09c3c03",
   "metadata": {},
   "outputs": [],
   "source": [
    "# smoke some days\n",
    "df['smoke_some_days'] = df['SMOKDAY2']\n",
    "df['smoke_some_days'] = df['smoke_some_days'].replace([1,3,7,9],0)\n",
    "df['smoke_some_days'] = df['smoke_some_days'].replace(2,1)\n",
    "df['smoke_some_days'] = df['smoke_some_days'].fillna(0)\n",
    "df['smoke_some_days'].describe() if df_describe else ''"
   ]
  },
  {
   "cell_type": "code",
   "execution_count": null,
   "id": "090ffeea",
   "metadata": {},
   "outputs": [],
   "source": [
    "# smokes not at all\n",
    "df['smoke_not_at_all'] = df['SMOKDAY2']\n",
    "df['smoke_not_at_all'] = df['smoke_not_at_all'].replace([1,2,7,9],0)\n",
    "df['smoke_not_at_all'] = df['smoke_not_at_all'].replace(3,1)\n",
    "df['smoke_not_at_all'] = df['smoke_not_at_all'].fillna(0)\n",
    "df['smoke_not_at_all'].describe() if df_describe else ''"
   ]
  },
  {
   "cell_type": "code",
   "execution_count": null,
   "id": "1841b7f3",
   "metadata": {},
   "outputs": [],
   "source": [
    "df = df.drop(['SMOKDAY2'], axis=1)"
   ]
  },
  {
   "cell_type": "code",
   "execution_count": null,
   "id": "346cf392",
   "metadata": {},
   "outputs": [],
   "source": [
    "df['unk_USENOW3'] = df['USENOW3']\n",
    "df['unk_USENOW3'] = df['unk_USENOW3'].replace([1,2,3],0)\n",
    "df['unk_USENOW3'] = df['unk_USENOW3'].replace([7,9],1)\n",
    "df['unk_USENOW3'] = df['unk_USENOW3'].fillna(1)\n",
    "df['unk_USENOW3'].describe() if df_describe else ''"
   ]
  },
  {
   "cell_type": "code",
   "execution_count": null,
   "id": "c432b5d1",
   "metadata": {},
   "outputs": [],
   "source": [
    "# smokeless every day\n",
    "df['smokeless_every_day'] = df['USENOW3']\n",
    "df['smokeless_every_day'] = df['smokeless_every_day'].replace([2,3,7,9],0)\n",
    "df['smokeless_every_day'] = df['smokeless_every_day'].fillna(0)\n",
    "df['smokeless_every_day'].describe() if df_describe else ''"
   ]
  },
  {
   "cell_type": "code",
   "execution_count": null,
   "id": "e2740f41",
   "metadata": {},
   "outputs": [],
   "source": [
    "# smokeless some days\n",
    "df['smokeless_some_days'] = df['USENOW3']\n",
    "df['smokeless_some_days'] = df['smokeless_some_days'].replace([1,3,7,9],0)\n",
    "df['smokeless_some_days'] = df['smokeless_some_days'].replace(2,1)\n",
    "df['smokeless_some_days'] = df['smokeless_some_days'].fillna(0)\n",
    "df['smokeless_some_days'].describe() if df_describe else ''"
   ]
  },
  {
   "cell_type": "code",
   "execution_count": null,
   "id": "08bd072e",
   "metadata": {},
   "outputs": [],
   "source": [
    "# smokeless not at all\n",
    "df['smokeless_not_at_all'] = df['USENOW3']\n",
    "df['smokeless_not_at_all'] = df['smokeless_not_at_all'].replace([1,2,7,9],0)\n",
    "df['smokeless_not_at_all'] = df['smokeless_not_at_all'].replace(3,1)\n",
    "df['smokeless_not_at_all'] = df['smokeless_not_at_all'].fillna(0)\n",
    "df['smokeless_not_at_all'].describe() if df_describe else ''"
   ]
  },
  {
   "cell_type": "code",
   "execution_count": null,
   "id": "7deb2b97",
   "metadata": {},
   "outputs": [],
   "source": [
    "df = df.drop(['USENOW3'], axis=1)"
   ]
  },
  {
   "cell_type": "code",
   "execution_count": null,
   "id": "15dd6728",
   "metadata": {},
   "outputs": [],
   "source": [
    "df['unk_ECIGNOW1'] = df['ECIGNOW1']\n",
    "df['unk_ECIGNOW1'] = df['unk_ECIGNOW1'].replace([1,2,3,4],0)\n",
    "df['unk_ECIGNOW1'] = df['unk_ECIGNOW1'].replace([7,9],1)\n",
    "df['unk_ECIGNOW1'] = df['unk_ECIGNOW1'].fillna(1)\n",
    "df['unk_ECIGNOW1'].describe() if df_describe else ''"
   ]
  },
  {
   "cell_type": "code",
   "execution_count": null,
   "id": "45859c26",
   "metadata": {},
   "outputs": [],
   "source": [
    "# ecig every day\n",
    "df['ecig_every_day'] = df['ECIGNOW1']\n",
    "df['ecig_every_day'] = df['ecig_every_day'].replace([2,3,4,7,9],0)\n",
    "df['ecig_every_day'] = df['ecig_every_day'].fillna(0)\n",
    "df['ecig_every_day'].describe() if df_describe else ''"
   ]
  },
  {
   "cell_type": "code",
   "execution_count": null,
   "id": "78f813f6",
   "metadata": {},
   "outputs": [],
   "source": [
    "# ecig some days\n",
    "df['ecig_some_days'] = df['ECIGNOW1']\n",
    "df['ecig_some_days'] = df['ecig_some_days'].replace([1,3,4,7,9],0)\n",
    "df['ecig_some_days'] = df['ecig_some_days'].replace(2,1)\n",
    "df['ecig_some_days'] = df['ecig_some_days'].fillna(0)\n",
    "df['ecig_some_days'].describe() if df_describe else ''"
   ]
  },
  {
   "cell_type": "code",
   "execution_count": null,
   "id": "d79e9d45",
   "metadata": {},
   "outputs": [],
   "source": [
    "# ecig not at all\n",
    "df['ecig_not_at_all'] = df['ECIGNOW1']\n",
    "df['ecig_not_at_all'] = df['ecig_not_at_all'].replace([1,2,4,7,9],0)\n",
    "df['ecig_not_at_all'] = df['ecig_not_at_all'].replace(3,1)\n",
    "df['ecig_not_at_all'] = df['ecig_not_at_all'].fillna(0)\n",
    "df['ecig_not_at_all'].describe() if df_describe else ''"
   ]
  },
  {
   "cell_type": "code",
   "execution_count": null,
   "id": "420bc995",
   "metadata": {},
   "outputs": [],
   "source": [
    "# ecig never used\n",
    "df['ecig_never_used'] = df['ECIGNOW1']\n",
    "df['ecig_never_used'] = df['ecig_never_used'].replace([1,2,3,7,9],0)\n",
    "df['ecig_never_used'] = df['ecig_never_used'].replace(4,1)\n",
    "df['ecig_never_used'] = df['ecig_never_used'].fillna(0)\n",
    "df['ecig_never_used'].describe() if df_describe else ''"
   ]
  },
  {
   "cell_type": "code",
   "execution_count": null,
   "id": "44385cd6",
   "metadata": {},
   "outputs": [],
   "source": [
    "df = df.drop(['ECIGNOW1'], axis=1)"
   ]
  },
  {
   "cell_type": "code",
   "execution_count": null,
   "id": "54675f5d",
   "metadata": {},
   "outputs": [],
   "source": [
    "df['unk_ALCDAY5'] = df['ALCDAY5']\n",
    "df['unk_ALCDAY5'] = df['unk_ALCDAY5'].replace(range(101,231),0)\n",
    "df['unk_ALCDAY5'] = df['unk_ALCDAY5'].replace(888,0)\n",
    "df['unk_ALCDAY5'] = df['unk_ALCDAY5'].replace([777,999],1)\n",
    "df['unk_ALCDAY5'] = df['unk_ALCDAY5'].fillna(1)\n",
    "df['unk_ALCDAY5'].describe() if df_describe else ''"
   ]
  },
  {
   "cell_type": "code",
   "execution_count": null,
   "id": "9c8c65da",
   "metadata": {},
   "outputs": [],
   "source": [
    "# Days in past 30 had alcoholic beverage\n",
    "df.loc[df['ALCDAY5'] < 110, 'ALCDAY5'] = (df.loc[df['ALCDAY5'] < 110, 'ALCDAY5']-100)*4\n",
    "df.loc[(df['ALCDAY5'] < 231)&(df['ALCDAY5'] > 199), 'ALCDAY5'] -= 200\n",
    "df['ALCDAY5'] = df['ALCDAY5'].replace([777,888,999],0)\n",
    "df['unk_ALCDAY5'] = df['unk_ALCDAY5'].fillna(0)\n",
    "df['ALCDAY5'].describe()"
   ]
  },
  {
   "cell_type": "code",
   "execution_count": null,
   "id": "c86364af",
   "metadata": {},
   "outputs": [],
   "source": [
    "df['AVEDRNK3'].describe()"
   ]
  },
  {
   "cell_type": "code",
   "execution_count": null,
   "id": "4ee2dab7",
   "metadata": {},
   "outputs": [],
   "source": [
    "df['unk_AVEDRNK3'] = df['AVEDRNK3']\n",
    "df['unk_AVEDRNK3'].replace(range(1,77),0, inplace=True)\n",
    "df['unk_AVEDRNK3'].replace(88,0, inplace = True)\n",
    "df['unk_AVEDRNK3'].replace([77,99],1, inplace = True)\n",
    "df['unk_AVEDRNK3'].fillna(0, inplace = True)\n",
    "df['unk_AVEDRNK3'].describe()"
   ]
  },
  {
   "cell_type": "code",
   "execution_count": null,
   "id": "84f74929",
   "metadata": {},
   "outputs": [],
   "source": [
    "# binge drinking\n",
    "df['AVEDRNK3'].replace([88,77,99], 0, inplace=True)\n",
    "df['AVEDRNK3'].fillna(0, inplace=True)\n",
    "df['AVEDRNK3'].describe()"
   ]
  },
  {
   "cell_type": "code",
   "execution_count": null,
   "id": "1e7d0478",
   "metadata": {},
   "outputs": [],
   "source": [
    "df['unk_MAXDRNKS'] = df['MAXDRNKS']\n",
    "df['unk_MAXDRNKS'].replace(range(1,77),0, inplace=True)\n",
    "df['unk_MAXDRNKS'].replace([77,99],1, inplace = True)\n",
    "df['unk_MAXDRNKS'].fillna(0, inplace = True)\n",
    "df['unk_MAXDRNKS'].describe()"
   ]
  },
  {
   "cell_type": "code",
   "execution_count": null,
   "id": "a20fa724",
   "metadata": {},
   "outputs": [],
   "source": [
    "# max drinks on a single occassion\n",
    "df['MAXDRNKS'].replace([77,99], 0, inplace=True)\n",
    "df['MAXDRNKS'].fillna(0, inplace=True)\n",
    "df['MAXDRNKS'].describe()"
   ]
  },
  {
   "cell_type": "code",
   "execution_count": null,
   "id": "5dd7818e",
   "metadata": {},
   "outputs": [],
   "source": [
    "df['unk_FLUSHOT7'] = df['FLUSHOT7']\n",
    "df['unk_FLUSHOT7'].replace([1,2],0, inplace=True)\n",
    "df['unk_FLUSHOT7'].replace([7,9],1, inplace = True)\n",
    "df['unk_FLUSHOT7'].fillna(1, inplace = True)\n",
    "df['unk_FLUSHOT7'].describe()"
   ]
  },
  {
   "cell_type": "code",
   "execution_count": null,
   "id": "467318c2",
   "metadata": {},
   "outputs": [],
   "source": [
    "# adult flu shot/spray past 12 months\n",
    "df['FLUSHOT7'].replace([2,7,9], 0, inplace=True)\n",
    "df['FLUSHOT7'].fillna(0, inplace=True)\n",
    "df['FLUSHOT7'].describe()"
   ]
  },
  {
   "cell_type": "code",
   "execution_count": null,
   "id": "002e1bfd",
   "metadata": {},
   "outputs": [],
   "source": [
    "df['unk_FLSHTMY3'] = df['FLSHTMY3']\n",
    "# this line crashes the PC\n",
    "#df['unk_FLSHTMY3'].replace(range(12020,122022),0, inplace=True)\n",
    "df.loc[df.unk_FLSHTMY3 >= 2020, 'unk_FLSHTMY3'] = 0\n",
    "df['unk_FLSHTMY3'].replace([777777,999999],1, inplace = True)\n",
    "df['unk_FLSHTMY3'].fillna(0, inplace = True)\n",
    "df['unk_FLSHTMY3'].describe()"
   ]
  },
  {
   "cell_type": "code",
   "execution_count": null,
   "id": "c5245211",
   "metadata": {},
   "outputs": [],
   "source": [
    "df['FLSHTMY3'].value_counts()"
   ]
  },
  {
   "cell_type": "code",
   "execution_count": null,
   "id": "2d4160db",
   "metadata": {},
   "outputs": [],
   "source": [
    "# during what month did you recieve your most recent flu vaccine\n",
    "df['FLSHTMY3'].replace([777777,999999], 0, inplace=True)\n",
    "df['FLSHTMY3'].fillna(0, inplace=True)\n",
    "\n",
    "df['FLSHTMY3'].value_counts()\n",
    "for ind in df.index:\n",
    "    v = (df['FLSHTMY3'][ind] % 10000)\n",
    "    if v >= 2019:\n",
    "        v=v-2019\n",
    "    v = v*12\n",
    "    v = v + math.floor(df['FLSHTMY3'][ind]/10000)\n",
    "    df['FLSHTMY3'][ind] = v\n",
    "\n",
    "df['FLSHTMY3'].value_counts()"
   ]
  },
  {
   "cell_type": "code",
   "execution_count": null,
   "id": "e7add841",
   "metadata": {},
   "outputs": [],
   "source": [
    "df['FLSHTMY3'].describe()"
   ]
  },
  {
   "cell_type": "code",
   "execution_count": null,
   "id": "cdabe03f",
   "metadata": {},
   "outputs": [],
   "source": [
    "# drop s13q3, not relevant for diagnosis\n",
    "df = df.drop(['IMFVPLA2'], axis=1)"
   ]
  },
  {
   "cell_type": "code",
   "execution_count": null,
   "id": "1bb84b4f",
   "metadata": {},
   "outputs": [],
   "source": [
    "df['unk_PNEUVAC4'] = df['PNEUVAC4']\n",
    "df['unk_PNEUVAC4'].replace([1,2],0, inplace=True)\n",
    "df['unk_PNEUVAC4'].replace([7,9],1, inplace = True)\n",
    "df['unk_PNEUVAC4'].fillna(1, inplace = True)\n",
    "df['unk_PNEUVAC4'].describe()"
   ]
  },
  {
   "cell_type": "code",
   "execution_count": null,
   "id": "a192e515",
   "metadata": {},
   "outputs": [],
   "source": [
    "# adult flu shot/spray past 12 months\n",
    "df['PNEUVAC4'].replace([2,7,9], 0, inplace=True)\n",
    "df['PNEUVAC4'].fillna(0, inplace=True)\n",
    "df['PNEUVAC4'].describe()"
   ]
  },
  {
   "cell_type": "code",
   "execution_count": null,
   "id": "4b297508",
   "metadata": {},
   "outputs": [],
   "source": [
    "df['unk_HIVTST7'] = df['HIVTST7']\n",
    "df['unk_HIVTST7'].replace([1,2],0, inplace=True)\n",
    "df['unk_HIVTST7'].replace([7,9],1, inplace = True)\n",
    "df['unk_HIVTST7'].fillna(1, inplace = True)\n",
    "df['unk_HIVTST7'].describe()"
   ]
  },
  {
   "cell_type": "code",
   "execution_count": null,
   "id": "bb27e58a",
   "metadata": {},
   "outputs": [],
   "source": [
    "# Ever tested for HIV\n",
    "df['HIVTST7'].replace([2,7,9], 0, inplace=True)\n",
    "df['HIVTST7'].fillna(0, inplace=True)\n",
    "df['HIVTST7'].describe()"
   ]
  },
  {
   "cell_type": "code",
   "execution_count": null,
   "id": "8106c4a6",
   "metadata": {},
   "outputs": [],
   "source": [
    "# drop HIVTSTD3 s14q2, makes the model vulnerable to differences in time taking test\n",
    "df = df.drop(['HIVTSTD3'], axis=1)"
   ]
  },
  {
   "cell_type": "code",
   "execution_count": null,
   "id": "dde9897c",
   "metadata": {},
   "outputs": [],
   "source": [
    "df['FRUTDA2_'].describe()"
   ]
  },
  {
   "cell_type": "code",
   "execution_count": null,
   "id": "fd075702",
   "metadata": {},
   "outputs": [],
   "source": [
    "plt.hist(df['FRUTDA2_'], range=[0,500], bins=8)"
   ]
  },
  {
   "cell_type": "code",
   "execution_count": null,
   "id": "0aaf1476",
   "metadata": {},
   "outputs": [],
   "source": [
    "plt.hist(df['FRUTDA2_'], range=[0,80], bins=10)"
   ]
  },
  {
   "cell_type": "code",
   "execution_count": null,
   "id": "a8f32eff",
   "metadata": {},
   "outputs": [],
   "source": [
    "df['unk_FRUIT2'] = df['FRUIT2']\n",
    "df['unk_FRUIT2'] = df['unk_FRUIT2'].replace(range(101,400),0)\n",
    "df['unk_FRUIT2'] = df['unk_FRUIT2'].replace(555,0)\n",
    "df['unk_FRUIT2'] = df['unk_FRUIT2'].replace([777,999],1)\n",
    "df['unk_FRUIT2'] = df['unk_FRUIT2'].fillna(1)\n",
    "df['unk_FRUIT2'].describe()"
   ]
  },
  {
   "cell_type": "code",
   "execution_count": null,
   "id": "f85b4de5",
   "metadata": {},
   "outputs": [],
   "source": [
    "# Days in past 30 had alcoholic beverage\n",
    "df.loc[df['ALCDAY5'] < 110, 'ALCDAY5'] = (df.loc[df['ALCDAY5'] < 110, 'ALCDAY5']-100)*4\n",
    "df.loc[(df['ALCDAY5'] < 231)&(df['ALCDAY5'] > 199), 'ALCDAY5'] -= 200\n",
    "df['ALCDAY5'] = df['ALCDAY5'].replace([777,888,999],0)\n",
    "df['unk_ALCDAY5'] = df['unk_ALCDAY5'].fillna(0)\n",
    "df['ALCDAY5'].describe()"
   ]
  },
  {
   "cell_type": "code",
   "execution_count": null,
   "id": "b0923370",
   "metadata": {},
   "outputs": [],
   "source": [
    "# Not including juices, how often did you eat fruit?\n",
    "df.loc[df['ALCDAY5'] < 110, 'ALCDAY5'] = (df.loc[df['ALCDAY5'] < 110, 'ALCDAY5']-100)*4\n",
    "df.loc[(df['ALCDAY5'] < 231)&(df['ALCDAY5'] > 199), 'ALCDAY5'] -= 200\n",
    "df['ALCDAY5'] = df['ALCDAY5'].replace([777,888,999],0)\n",
    "df['unk_ALCDAY5'] = df['unk_ALCDAY5'].fillna(0)\n",
    "df['ALCDAY5'].describe()"
   ]
  },
  {
   "cell_type": "code",
   "execution_count": null,
   "id": "4fde319e",
   "metadata": {},
   "outputs": [],
   "source": [
    "df[['FRUIT2','FRUTDA2_','_FRUTSU1']].head(10)"
   ]
  },
  {
   "cell_type": "code",
   "execution_count": null,
   "id": "d86e6c89",
   "metadata": {},
   "outputs": [],
   "source": [
    "df.loc[(df['FRUIT2'] < 300)&(df['FRUIT2'] > 199)][['FRUIT2','FRUTDA2_']].head(10)"
   ]
  },
  {
   "cell_type": "markdown",
   "id": "39aa0ace",
   "metadata": {},
   "source": [
    "|1|2|3|4|5|6|7|\n",
    "|-|-|-|-|-|-|-|\n",
    "|0.14|0.29|0.43|0.57|0.71|0.86|1|\n",
    "Its (number of times a week)/7 to calculate fruit intake per day"
   ]
  },
  {
   "cell_type": "code",
   "execution_count": null,
   "id": "13789bab",
   "metadata": {},
   "outputs": [],
   "source": [
    "df.loc[df['FRUIT2'] == 300][['FRUIT2','FRUTDA2_']].head(10)"
   ]
  },
  {
   "cell_type": "code",
   "execution_count": null,
   "id": "2f1ccd5c",
   "metadata": {},
   "outputs": [],
   "source": [
    "# drop FRUIT2 s15q1, in favor of FRUTDA2_ instead\n",
    "# drop FRUITJU2 s15q2, in favor of FTJUDA2_ instead\n",
    "# drop FVGREEN1 s15q3, in favor of GRENDA1_ instead\n",
    "# drop FRENCHF1 s15q4, in favor of FRNCHDA_ instead\n",
    "# drop POTATOE1 s15q5, in favor of POTADA1_ instead\n",
    "# drop VEGETAB2 s15q6, in favor of VEGEDA2_ instead\n",
    "df = df.drop(['FRUIT2', 'FRUITJU2', 'FVGREEN1', 'FRENCHF1', 'POTATOE1', 'VEGETAB2'], axis=1)"
   ]
  },
  {
   "cell_type": "code",
   "execution_count": null,
   "id": "5be5c143",
   "metadata": {},
   "outputs": [],
   "source": [
    "df['unk_PDIABTST'] = df['PDIABTST']\n",
    "df['unk_PDIABTST'].replace([1,2],0, inplace=True)\n",
    "df['unk_PDIABTST'].replace([7,9],1, inplace = True)\n",
    "df['unk_PDIABTST'].fillna(0, inplace = True)\n",
    "df['unk_PDIABTST'].describe()"
   ]
  },
  {
   "cell_type": "code",
   "execution_count": null,
   "id": "6664f6dd",
   "metadata": {},
   "outputs": [],
   "source": [
    "# Had a test for high blood sugar or diabetes in the past three years?\n",
    "df['PDIABTST'].replace([2,7,9], 0, inplace=True)\n",
    "df['PDIABTST'].fillna(0, inplace=True)\n",
    "df['PDIABTST'].describe()"
   ]
  },
  {
   "cell_type": "code",
   "execution_count": null,
   "id": "f2801265",
   "metadata": {},
   "outputs": [],
   "source": [
    "# drop PREDIAB1 m1q2, not relevant for diagnosis\n",
    "df = df.drop(['PREDIAB1'], axis=1)"
   ]
  },
  {
   "cell_type": "code",
   "execution_count": null,
   "id": "5b2b6e78",
   "metadata": {},
   "outputs": [],
   "source": [
    "df['unk_INSULIN1'] = df['INSULIN1']\n",
    "df['unk_INSULIN1'].replace([1,2],0, inplace=True)\n",
    "df['unk_INSULIN1'].replace([7,9],1, inplace = True)\n",
    "df['unk_INSULIN1'].fillna(0, inplace = True)\n",
    "df['unk_INSULIN1'].describe()"
   ]
  },
  {
   "cell_type": "code",
   "execution_count": null,
   "id": "5c1c016e",
   "metadata": {},
   "outputs": [],
   "source": [
    "# Are you now taking insulin?\n",
    "df['INSULIN1'].replace([2,7,9], 0, inplace=True)\n",
    "df['INSULIN1'].fillna(0, inplace=True)\n",
    "df['INSULIN1'].describe()"
   ]
  },
  {
   "cell_type": "code",
   "execution_count": null,
   "id": "28368064",
   "metadata": {},
   "outputs": [],
   "source": [
    "# drop BLDSUGAR m2q2, introduces bias\n",
    "# drop FEETCHK3 m2q3, introduces bias\n",
    "# drop DOCTDIAB m2q4, already confirmed diabetes\n",
    "# drop CHKHEMO3 m2q5, already confirmed diabetes\n",
    "# drop FEETCHK m2q6, already confirmed diabetes\n",
    "# drop EYEEXAM1 m2q7, already confirmed diabetes\n",
    "# drop DIABEYE m2q8, already confirmed diabetes\n",
    "# drop DIABEDU m2q9, already confirmed diabetes\n",
    "# drop TOLDCFS m3q1, no one has it\n",
    "# drop HAVECFS m3q2, no one has it\n",
    "# drop WORKCFS m3q2, no one has it\n",
    "# drop TOLDHEPC m4q1, barely anyone was asked\n",
    "# drop TRETHEPC m4q2, barely anyone was asked\n",
    "# drop PRIRHEPC m4q3, barely anyone was asked\n",
    "# drop HAVEHEPC m4q4, barely anyone was asked\n",
    "# drop HAVEHEPB m4q5, barely anyone was asked\n",
    "# drop MEDSHEPB m4q6, barely anyone was asked\n",
    "# drop HPVADVC4 m5q1, barely anyone was asked\n",
    "# drop HPVADSHT m5q2, barely anyone was asked\n",
    "# drop TETANUS1 m6q1, barely anyone was asked\n",
    "# drop SHINGLE2 m7q1, barely anyone was asked\n",
    "# drop LCSFIRST m9q1, barely anyone was asked\n",
    "# drop LCSLAST m9q2, barely anyone was asked\n",
    "# drop LCSNUMCG m9q3, barely anyone was asked\n",
    "# drop LCSCTSCN m9q4, barely anyone was asked\n",
    "# drop HADMAM m10q1, barely anyone was asked\n",
    "# drop HOWLONG m10q2, barely anyone was asked\n",
    "# drop CERVSCRN m10q3, barely anyone was asked\n",
    "# drop CRVCLCNC m10q4, barely anyone was asked\n",
    "# drop CRVCLPAP m10q5, barely anyone was asked\n",
    "# drop CRVCLHPV m10q6, barely anyone was asked\n",
    "# drop HADHYST2 m10q7, barely anyone was asked\n",
    "# drop PSATEST1 m11q1, barely anyone was asked\n",
    "# drop PSATIME1 m11q2, barely anyone was asked\n",
    "# drop PCPSARS2 m11q3, barely anyone was asked\n",
    "# drop PCSTALK m11q4, barely anyone was asked\n",
    "# drop HADSIGM4 m12q1, barely anyone was asked\n",
    "# drop COLNSIGM m12q2, barely anyone was asked\n",
    "# drop COLNTES1 m12q3, barely anyone was asked\n",
    "# drop SIGMTES1 m12q4, barely anyone was asked\n",
    "# drop LASTSIG4 m12q5, barely anyone was asked\n",
    "# drop COLNCNCR m12q6, barely anyone was asked\n",
    "# drop VIRCOLO1 m12q7, barely anyone was asked\n",
    "# drop VCLNTES1 m12q8, barely anyone was asked\n",
    "# drop SMALSTOL m12q9, barely anyone was asked\n",
    "# drop STOLTEST m12q10, barely anyone was asked\n",
    "# drop STOOLDN1 m12q11, barely anyone was asked\n",
    "# drop BLDSTFIT m12q12, barely anyone was asked\n",
    "# drop SDNATES1 m12q13, barely anyone was asked\n",
    "# drop CNCRDIFF m13q1, barely anyone was asked\n",
    "# drop CNCRAGE m13q2, barely anyone was asked\n",
    "# drop CNCRTYP1 m13q3, barely anyone was asked\n",
    "# drop CSRVTRT3 m14q1, barely anyone was asked\n",
    "# drop CSRVDOC1 m14q2, barely anyone was asked\n",
    "# drop CSRVSUM m14q3, barely anyone was asked\n",
    "# drop CSRVRTRN m14q4, barely anyone was asked\n",
    "# drop CSRVINST m14q5, barely anyone was asked\n",
    "# drop CSRVINSR m14q6, barely anyone was asked\n",
    "# drop CSRVDEIN m14q7, barely anyone was asked\n",
    "# drop CSRVCLIN m14q8, barely anyone was asked\n",
    "# drop CSRVPAIN m15q1, barely anyone was asked\n",
    "# drop CSRVCTL2 m15q2, barely anyone was asked\n",
    "# drop HOMBPCHK m16q1, barely anyone was asked\n",
    "# drop HOMRGCHK m16q2, barely anyone was asked\n",
    "# drop WHEREBP m16q3, barely anyone was asked\n",
    "# drop SHAREBP m16q4, barely anyone was asked\n",
    "# drop WTCHSALT m17q1, barely anyone was asked\n",
    "# drop DRADVISE m17q2, barely anyone was asked\n",
    "# drop CIMEMLOS m18q1, barely anyone was asked\n",
    "# drop CDHOUSE m18q2, barely anyone was asked\n",
    "# drop CDASSIST m18q3, barely anyone was asked\n",
    "# drop CDHELP m18q4, barely anyone was asked\n",
    "# drop CDSOCIAL m18q5, barely anyone was asked\n",
    "# drop CDDISCUS m18q6, barely anyone was asked\n",
    "# drop CAREGIV1 m19q1, barely anyone was asked\n",
    "# drop CRGVREL4 m19q2, barely anyone was asked\n",
    "# drop CRGVLNG1 m19q3, barely anyone was asked\n",
    "# drop CRGVHRS1 m19q4, barely anyone was asked\n",
    "# ...\n",
    "# drop SOFEMALE m28q1b, barely anyone was asked\n",
    "# drop TRNSGNDR m28q2, almost no yeses and outlier\n",
    "# drop QSTVER m1q1, not relevant\n",
    "# drop QSTLANG m1q1, not relevant\n",
    "#QSTVER\n",
    "\n",
    "df = df.drop(['BLDSUGAR', 'FEETCHK3', 'DOCTDIAB', 'CHKHEMO3', 'FEETCHK', 'EYEEXAM1', 'DIABEYE', 'DIABEDU'], axis=1)\n",
    "df = df.drop(['TOLDCFS', 'HAVECFS', 'WORKCFS', 'TOLDHEPC', 'TRETHEPC', 'PRIRHEPC', 'HAVEHEPC'], axis=1)\n",
    "df = df.drop(['HAVEHEPB', 'MEDSHEPB', 'HPVADVC4', 'HPVADSHT', 'TETANUS1', 'SHINGLE2', 'LCSFIRST'], axis=1)\n",
    "df = df.drop(['LCSLAST', 'LCSNUMCG', 'LCSCTSCN', 'HADMAM', 'HOWLONG', 'CERVSCRN', 'CRVCLCNC'], axis=1)\n",
    "df = df.drop(['CRVCLPAP', 'CRVCLHPV', 'HADHYST2', 'PSATEST1', 'PSATIME1', 'PCPSARS2', 'PCSTALK'], axis=1)\n",
    "df = df.drop(['HADSIGM4', 'COLNSIGM', 'COLNTES1', 'SIGMTES1', 'LASTSIG4', 'COLNCNCR', 'VIRCOLO1'], axis=1)\n",
    "df = df.drop(['VCLNTES1', 'SMALSTOL', 'STOLTEST', 'STOOLDN1', 'BLDSTFIT', 'SDNATES1', 'CNCRDIFF'], axis=1)\n",
    "df = df.drop(['CNCRAGE', 'CNCRTYP1', 'CSRVTRT3', 'CSRVDOC1', 'CSRVSUM', 'CSRVRTRN', 'CSRVINST'], axis=1)\n",
    "df = df.drop(['CSRVINSR', 'CSRVDEIN', 'CSRVCLIN', 'CSRVPAIN', 'CSRVCTL2', 'HOMBPCHK', 'HOMRGCHK'], axis=1)\n",
    "df = df.drop(['WHEREBP', 'SHAREBP', 'WTCHSALT', 'DRADVISE', 'CIMEMLOS', 'CDHOUSE', 'CDASSIST', 'CDHELP'], axis=1)\n",
    "df = df.drop(['CDSOCIAL', 'CDDISCUS', 'CAREGIV1', 'CRGVREL4', 'CRGVLNG1', 'CRGVHRS1', 'CRGVPRB3'], axis=1)\n",
    "df = df.drop(['CRGVALZD', 'CRGVPER1', 'CRGVHOU1', 'CRGVEXPT', 'ACEDEPRS', 'ACEDRINK', 'ACEDRUGS'], axis=1)\n",
    "df = df.drop(['ACEPRISN', 'ACEDIVRC', 'ACEPUNCH', 'ACEHURT1', 'ACESWEAR', 'ACETOUCH', 'ACETTHEM'], axis=1)\n",
    "df = df.drop(['ACEHVSEX', 'ACEADSAF', 'ACEADNED', 'MARIJAN1', 'RSNMRJN2', 'LASTSMK2', 'STOPSMK2'], axis=1)\n",
    "df = df.drop(['FIREARM5', 'GUNLOAD', 'LOADULK2', 'RCSGENDR', 'RCSRLTN2', 'CASTHDX2', 'CASTHNO2'], axis=1)\n",
    "df = df.drop(['BIRTHSEX', 'SOMALE', 'SOFEMALE', 'TRNSGNDR', 'QSTVER', 'QSTLANG'], axis=1)"
   ]
  },
  {
   "cell_type": "code",
   "execution_count": null,
   "id": "0534ebac",
   "metadata": {},
   "outputs": [],
   "source": [
    "# do you live in a metropolitan area\n",
    "df['_METSTAT'].replace(2, 0, inplace=True)\n",
    "df['_METSTAT'].fillna(1, inplace=True)\n",
    "df['_METSTAT'].describe()"
   ]
  },
  {
   "cell_type": "code",
   "execution_count": null,
   "id": "591b8b75",
   "metadata": {},
   "outputs": [],
   "source": [
    "# do you live in a urban area\n",
    "df['_URBSTAT'].replace(2, 0, inplace=True)\n",
    "df['_URBSTAT'].fillna(1, inplace=True)\n",
    "df['_URBSTAT'].describe()"
   ]
  },
  {
   "cell_type": "code",
   "execution_count": null,
   "id": "977115f6",
   "metadata": {},
   "outputs": [],
   "source": [
    "# drop MSCODE m1q2, not relevant\n",
    "# drop _STSTR m1q3, not relevant\n",
    "# drop _STRWT m1q4, not relevant\n",
    "# drop _RAWRAKE m1q7, not relevant\n",
    "# drop _WT2RAKE m1q8, not relevant\n",
    "\n",
    "df = df.drop(['MSCODE', '_STSTR', '_STRWT', '_RAWRAKE'], axis=1)"
   ]
  },
  {
   "cell_type": "code",
   "execution_count": null,
   "id": "fdfe0353",
   "metadata": {},
   "outputs": [],
   "source": [
    "# white, non-hispanic\n",
    "df['white'] = df['_IMPRACE']\n",
    "df['white'].replace(range(2,7), 0, inplace=True)\n",
    "df['white'].describe()"
   ]
  },
  {
   "cell_type": "code",
   "execution_count": null,
   "id": "81739f34",
   "metadata": {},
   "outputs": [],
   "source": [
    "# black, non-hispanic\n",
    "df['black'] = df['_IMPRACE']\n",
    "df['black'].replace([1,3,4,5,6], 0, inplace=True)\n",
    "df['black'].replace(2, 1, inplace=True)\n",
    "df['black'].describe()"
   ]
  },
  {
   "cell_type": "code",
   "execution_count": null,
   "id": "058f7540",
   "metadata": {},
   "outputs": [],
   "source": [
    "# Asian, non-hispanic\n",
    "df['asian'] = df['_IMPRACE']\n",
    "df['asian'].replace([1,2,4,5,6], 0, inplace=True)\n",
    "df['asian'].replace(3, 1, inplace=True)\n",
    "df['asian'].describe()"
   ]
  },
  {
   "cell_type": "code",
   "execution_count": null,
   "id": "ca69e11e",
   "metadata": {},
   "outputs": [],
   "source": [
    "# Native, non-hispanic\n",
    "df['native'] = df['_IMPRACE']\n",
    "df['native'].replace([1,2,3,5,6], 0, inplace=True)\n",
    "df['native'].replace(4, 1, inplace=True)\n",
    "df['native'].describe()"
   ]
  },
  {
   "cell_type": "code",
   "execution_count": null,
   "id": "9b36e02e",
   "metadata": {},
   "outputs": [],
   "source": [
    "# Hispanic\n",
    "df['hispanic'] = df['_IMPRACE']\n",
    "df['hispanic'].replace([1,2,3,4,6], 0, inplace=True)\n",
    "df['hispanic'].replace(5, 1, inplace=True)\n",
    "df['hispanic'].describe()"
   ]
  },
  {
   "cell_type": "code",
   "execution_count": null,
   "id": "4addfa2d",
   "metadata": {},
   "outputs": [],
   "source": [
    "df = df.drop(['_IMPRACE'], axis=1)"
   ]
  },
  {
   "cell_type": "code",
   "execution_count": null,
   "id": "0a09df96",
   "metadata": {},
   "outputs": [],
   "source": [
    "# drop _CHISPNC m1q01, not relevant\n",
    "# drop _CRACE1 m1q04, not enough data\n",
    "# drop _CPRACE1 m1q05, not enough data\n",
    "# drop CAGEG m1q04, not relevant\n",
    "# drop _CLLCPWT m1q5, not relevant\n",
    "# drop _DUALUSE m1q2, not relevant\n",
    "# drop _DUALCOR m1q3, not relevant\n",
    "# drop _LLCPWT2 m1q4, not relevant\n",
    "# drop _LLCPWT m1q21, not relevant\n",
    "# drop _RFHLTH m1q5, already in data\n",
    "# drop _PHYS14D m2q1, already in data\n",
    "# drop _MENT14D m2q2, not relevant\n",
    "df = df.drop(['_CHISPNC', '_CRACE1', '_CPRACE1', 'CAGEG', '_CLLCPWT', '_DUALUSE', '_DUALCOR', '_LLCPWT2'], axis=1)\n",
    "df = df.drop(['_LLCPWT', '_RFHLTH', '_MENT14D'], axis=1)"
   ]
  },
  {
   "cell_type": "code",
   "execution_count": null,
   "id": "101f2fdf",
   "metadata": {},
   "outputs": [],
   "source": [
    "# health insurance\n",
    "df['_HLTHPLN'].replace([2,9], 0, inplace=True)\n",
    "df['_HLTHPLN'].fillna(0)\n",
    "df['_HLTHPLN'].describe()"
   ]
  },
  {
   "cell_type": "code",
   "execution_count": null,
   "id": "588b9966",
   "metadata": {},
   "outputs": [],
   "source": [
    "# drop _HCVU652 m3s2, already contains this data\n",
    "# drop _TOTINDA m4q1, already contains this data\n",
    "# drop _RFHYPE6 m5q1, already contains this data\n",
    "# drop _CHOLCH3 m6q1, already contains this data\n",
    "# ...\n",
    "df = df.drop(['_HCVU652', '_TOTINDA', '_RFHYPE6', '_CHOLCH3','_RFCHOL3', '_MICHD', '_LTASTH1', '_CASTHM1'], axis=1)\n",
    "df = df.drop(['_ASTHMS1', '_DRDXAR3', '_LMTACT3', '_LMTWRK3', '_PRACE1', '_MRACE1', '_HISPANC', '_RACE'], axis=1)\n",
    "df = df.drop(['_RACEG21', '_RACEGR3', '_RACEPRV', '_SEX'], axis=1)"
   ]
  },
  {
   "cell_type": "code",
   "execution_count": null,
   "id": "fb1f14f5",
   "metadata": {},
   "outputs": [],
   "source": [
    "#df['AGE'].describe() \n",
    "# age not in df"
   ]
  },
  {
   "cell_type": "code",
   "execution_count": null,
   "id": "5613224d",
   "metadata": {},
   "outputs": [],
   "source": [
    "# drop _AGEG5YR m9q12, _AGE80 is better\n",
    "# drop _AGE65YR m9q13, already contains this data\n",
    "# ...\n",
    "df = df.drop(['_AGEG5YR', '_AGE65YR'], axis=1)"
   ]
  },
  {
   "cell_type": "code",
   "execution_count": null,
   "id": "23c6557a",
   "metadata": {},
   "outputs": [],
   "source": [
    "# age\n",
    "df['_AGE80'] -= 18\n",
    "df['_AGE80'].describe()"
   ]
  },
  {
   "cell_type": "code",
   "execution_count": null,
   "id": "e7146d17",
   "metadata": {},
   "outputs": [],
   "source": [
    "# drop _AGE_G m9q15, _AGE80 is better\n",
    "df = df.drop(['_AGE_G'], axis=1)"
   ]
  },
  {
   "cell_type": "code",
   "execution_count": null,
   "id": "5afb6542",
   "metadata": {},
   "outputs": [],
   "source": [
    "df['unk_HTIN4'] = df['HTIN4']\n",
    "df['unk_HTIN4'].replace(range(36,96),0, inplace=True)\n",
    "df['unk_HTIN4'].fillna(1, inplace = True)\n",
    "df['unk_HTIN4'].describe()"
   ]
  },
  {
   "cell_type": "code",
   "execution_count": null,
   "id": "62b6405e",
   "metadata": {},
   "outputs": [],
   "source": [
    "# height\n",
    "df['HTIN4'] -= 36\n",
    "df['HTIN4'].fillna(0, inplace = True)\n",
    "df['HTIN4'].describe()"
   ]
  },
  {
   "cell_type": "code",
   "execution_count": null,
   "id": "0abfd5e0",
   "metadata": {},
   "outputs": [],
   "source": [
    "# drop HTM4 m9q17, HTIN4 is better\n",
    "df = df.drop(['HTM4'], axis=1)"
   ]
  },
  {
   "cell_type": "code",
   "execution_count": null,
   "id": "73d4db30",
   "metadata": {},
   "outputs": [],
   "source": [
    "df['unk_WTKG3'] = df['WTKG3']\n",
    "# crashes pc\n",
    "#df['unk_WTKG3'].replace(range(2300,29500),0, inplace=True)\n",
    "df.loc[df['unk_WTKG3'] >= 2268, 'unk_WTKG3'] = 0\n",
    "df['unk_WTKG3'].fillna(1, inplace = True)\n",
    "df['unk_WTKG3'].describe()"
   ]
  },
  {
   "cell_type": "code",
   "execution_count": null,
   "id": "eaf37cd7",
   "metadata": {},
   "outputs": [],
   "source": [
    "# weight\n",
    "df['WTKG3'] -= 2268\n",
    "df['WTKG3'].fillna(5500, inplace = True)\n",
    "df['WTKG3'].describe()"
   ]
  },
  {
   "cell_type": "code",
   "execution_count": null,
   "id": "bb2c6139",
   "metadata": {},
   "outputs": [],
   "source": [
    "# drop _BMI5 m9q19, data already contained\n",
    "# drop _BMI5CAT m9q20, data already contained\n",
    "# drop _RFBMI5 m9q21, data already contained\n",
    "# drop _CHLDCNT m9q22, not relevant\n",
    "df = df.drop(['_BMI5', '_BMI5CAT', '_RFBMI5', '_CHLDCNT'], axis=1)"
   ]
  },
  {
   "cell_type": "code",
   "execution_count": null,
   "id": "878a3e30",
   "metadata": {},
   "outputs": [],
   "source": [
    "df['unk__EDUCAG'] = df['_EDUCAG']\n",
    "df['unk__EDUCAG'].replace([1,2,3,4],0, inplace=True)\n",
    "df['unk__EDUCAG'].replace(9,1, inplace=True)\n",
    "df['unk__EDUCAG'].fillna(1, inplace = True)\n",
    "df['unk__EDUCAG'].describe()"
   ]
  },
  {
   "cell_type": "code",
   "execution_count": null,
   "id": "db565468",
   "metadata": {},
   "outputs": [],
   "source": [
    "# education level 0,1,2,3\n",
    "df['_EDUCAG'].replace(9,2, inplace=True)\n",
    "df['_EDUCAG'] -= 1\n",
    "df['_EDUCAG'].fillna(1, inplace = True)\n",
    "df['_EDUCAG'].describe()"
   ]
  },
  {
   "cell_type": "code",
   "execution_count": null,
   "id": "d116a646",
   "metadata": {},
   "outputs": [],
   "source": [
    "df['unk__INCOMG1'] = df['_INCOMG1']\n",
    "df['unk__INCOMG1'].replace(range(1,8),0, inplace=True)\n",
    "df['unk__INCOMG1'].replace(9,1, inplace=True)\n",
    "df['unk__INCOMG1'].fillna(1, inplace = True)\n",
    "df['unk__INCOMG1'].describe()"
   ]
  },
  {
   "cell_type": "code",
   "execution_count": null,
   "id": "12e96cdb",
   "metadata": {},
   "outputs": [],
   "source": [
    "# income level\n",
    "df['_INCOMG1'].replace(9,5, inplace=True)\n",
    "df['_INCOMG1'] -= 1\n",
    "df['_INCOMG1'].fillna(1, inplace = True)\n",
    "df['_INCOMG1'].describe()"
   ]
  },
  {
   "cell_type": "code",
   "execution_count": null,
   "id": "0651d7f3",
   "metadata": {},
   "outputs": [],
   "source": [
    "# drop _SMOKER3 m11q1, data already contained\n",
    "# drop _RFSMOK3 m11q2, data already contained\n",
    "# drop _CURECI1 m12q1, data already contained\n",
    "# drop DRNKANY5 m11q2, data already contained\n",
    "# drop DROCDY3_ m12q2, data already contained\n",
    "# drop _RFBING5 m12q3, data already contained\n",
    "# ...\n",
    "df = df.drop(['_SMOKER3', '_RFSMOK3', '_CURECI1', 'DRNKANY5', 'DROCDY3_', '_RFBING5', '_DRNKWK1'], axis=1)\n",
    "df = df.drop(['_RFDRHV7', '_FLSHOT7', '_PNEUMO3', '_AIDTST4'], axis=1)"
   ]
  },
  {
   "cell_type": "code",
   "execution_count": null,
   "id": "4abc388f",
   "metadata": {},
   "outputs": [],
   "source": [
    "df['unk_FTJUDA2_'] = df['FTJUDA2_']\n",
    "df.loc[df['unk_FTJUDA2_'] >= 0, 'unk_FTJUDA2_'] = 0\n",
    "df['unk_FTJUDA2_'].fillna(1, inplace = True)\n",
    "df['unk_FTJUDA2_'].describe()"
   ]
  },
  {
   "cell_type": "code",
   "execution_count": null,
   "id": "0bf1adaa",
   "metadata": {},
   "outputs": [],
   "source": [
    "#fruit juice intake in times per day\n",
    "df['FTJUDA2_'] /= 100\n",
    "df['FTJUDA2_'].fillna(200, inplace = True)\n",
    "df['FTJUDA2_'].round(2)\n",
    "df['FTJUDA2_'].describe()"
   ]
  },
  {
   "cell_type": "code",
   "execution_count": null,
   "id": "dc12a55d",
   "metadata": {},
   "outputs": [],
   "source": [
    "# remove colums containing string values\n",
    "\n",
    "print(\"No. of columns containing null values\")\n",
    "print(len(df.columns[df.isna().any()]))\n",
    "\n",
    "print(\"No. of columns not containing null values\")\n",
    "print(len(df.columns[df.notna().all()]))\n",
    "\n",
    "print(\"Total no. of columns in the dataframe\")\n",
    "print(len(df.columns))\n",
    "\n",
    "#df = df.dropna(axis=1)\n",
    "#df.shape"
   ]
  },
  {
   "cell_type": "code",
   "execution_count": null,
   "id": "3adeb611",
   "metadata": {},
   "outputs": [],
   "source": [
    "# save df as csv here for model training, remove later\n",
    "\n",
    "df.to_csv(r'.\\data\\clean_data.csv')"
   ]
  }
 ],
 "metadata": {
  "kernelspec": {
   "display_name": "Python 3 (ipykernel)",
   "language": "python",
   "name": "python3"
  },
  "language_info": {
   "codemirror_mode": {
    "name": "ipython",
    "version": 3
   },
   "file_extension": ".py",
   "mimetype": "text/x-python",
   "name": "python",
   "nbconvert_exporter": "python",
   "pygments_lexer": "ipython3",
   "version": "3.9.13"
  }
 },
 "nbformat": 4,
 "nbformat_minor": 5
}
