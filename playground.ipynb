{
 "cells": [
  {
   "cell_type": "code",
   "execution_count": null,
   "metadata": {},
   "outputs": [],
   "source": [
    "import  numpy as np\n",
    "import pandas as pd\n",
    "import seaborn as sns\n",
    "import matplotlib.pyplot as plt\n",
    "import warnings\n",
    "import plotly.express as px\n",
    "import lightgbm as lgb\n",
    "\n",
    "from sklearn.model_selection import train_test_split\n",
    "from sklearn.ensemble import RandomForestClassifier, AdaBoostClassifier, GradientBoostingClassifier\n",
    "from sklearn.svm import SVC\n",
    "from sklearn.neighbors import KNeighborsClassifier\n",
    "from sklearn.linear_model import LogisticRegression\n",
    "from sklearn.pipeline import Pipeline\n",
    "from sklearn.metrics import confusion_matrix, classification_report\n",
    "from catboost import CatBoostClassifier\n",
    "from xgboost import XGBClassifier\n",
    "from imblearn.over_sampling import SMOTE\n",
    "\n",
    "px_template = \"simple white\""
   ]
  },
  {
   "cell_type": "code",
   "execution_count": null,
   "metadata": {},
   "outputs": [],
   "source": [
    "data = pd.read_csv('./data/diabetes_012_health_indicators_BRFSS2015.csv')"
   ]
  },
  {
   "attachments": {},
   "cell_type": "markdown",
   "metadata": {},
   "source": [
    "# **1. Data Preparation**"
   ]
  },
  {
   "attachments": {},
   "cell_type": "markdown",
   "metadata": {},
   "source": [
    "Data: https://www.kaggle.com/code/bharat04/diabetes-detailed-eda-with-conclusion/data\n",
    "\n",
    "target variable Diabetes_012:\n",
    "- 0 : no diabetes/ only during pregnancy\n",
    "- 1 : prediabetes\n",
    "- 2 : diabetes\n",
    "\n",
    "\n",
    "## Summary: \n",
    "\n",
    "- 22 features (15 Discrete & 7 continuous)\n",
    "- major feature variables for Diabetes are : HIghBP , HighChol , BMI , Stroke , GenHlth , MentHlth , PhysHlth , Age , Eduation and Income.\n",
    "- Feature increasing diabetesrisk seem to be: Smoking and HvyAlcoholConsump , Stroke and HeartDiseaseorAttack , HighBP and HighChol.\n",
    "- Features with least effect are: PhysActivity , Fruits , Veggies , AnyHealthcare , CholChek. (They seem to help in decreasing the risk)"
   ]
  },
  {
   "cell_type": "code",
   "execution_count": null,
   "metadata": {},
   "outputs": [],
   "source": [
    "data.describe().T"
   ]
  },
  {
   "cell_type": "code",
   "execution_count": null,
   "metadata": {},
   "outputs": [],
   "source": [
    "# how many unique values per feature?\n",
    "unique_values = {}\n",
    "for col in data.columns:\n",
    "    unique_values[col] = data[col].value_counts().shape[0]\n",
    "\n",
    "pd.DataFrame(unique_values, index=['unique value count']).transpose()"
   ]
  },
  {
   "cell_type": "code",
   "execution_count": null,
   "metadata": {},
   "outputs": [],
   "source": [
    "# checking for missing values of columns in data\n",
    "data.isnull().sum()"
   ]
  },
  {
   "cell_type": "code",
   "execution_count": null,
   "metadata": {},
   "outputs": [],
   "source": [
    "# Checking duplicates rows in data\n",
    "\n",
    "duplicates = data[data.duplicated()]\n",
    "# print(\"Duplicate Rows : \",len(duplicates))\n",
    "duplicates.head()\n",
    "\n",
    "data.drop_duplicates(inplace = True)\n",
    "data.shape"
   ]
  },
  {
   "cell_type": "code",
   "execution_count": null,
   "metadata": {},
   "outputs": [],
   "source": [
    "# visualizing data in histograms for understanding\n",
    "data.hist(figsize=(20,15));"
   ]
  },
  {
   "cell_type": "code",
   "execution_count": null,
   "metadata": {},
   "outputs": [],
   "source": [
    "# correlaton heatmap \n",
    "plt.figure(figsize = (20,10))\n",
    "corrmat = data.corr()\n",
    "sns.heatmap(corrmat, annot=True, cmap ='YlOrRd' )\n",
    "plt.title(\"Correlation of features\")"
   ]
  },
  {
   "cell_type": "code",
   "execution_count": null,
   "metadata": {},
   "outputs": [],
   "source": [
    "# checking the outliers for BMW feature\n",
    "# sns.boxplot(data[\"BMI\"])\n",
    "\n",
    "# condensing BMI into groups ( <20, 20 - 50, 50<)\n",
    "\n",
    "\n",
    "BMI_0 = data.iloc[np.where(data[\"BMI\"]<=20)]\n",
    "BMI_1 = data.iloc[np.where((data[\"BMI\"]>20)&(data[\"BMI\"]<=50))]\n",
    "BMI_2 = data.iloc[np.where(data[\"BMI\"]>50)]\n",
    "\n",
    "print(\"len of BMI_0 : \", len(BMI_0))\n",
    "print(\"len of BMI_1 : \", len(BMI_1))\n",
    "print(\"len of BMI_2 : \", len(BMI_2))\n",
    "\n",
    "# checking for percentage of patients with diabetes in each group\n",
    "\n",
    "\n",
    "print(\"BMI_0: \\n\\n \", ((BMI_0[\"Diabetes_012\"].value_counts() / BMI_0.shape[0])) *100)\n",
    "print(\"BMI_1: \\n\\n \", ((BMI_1[\"Diabetes_012\"].value_counts() / BMI_1.shape[0])) *100)\n",
    "print(\"BMI_2: \\n\\n \", ((BMI_2[\"Diabetes_012\"].value_counts() / BMI_2.shape[0])) *100)"
   ]
  },
  {
   "attachments": {},
   "cell_type": "markdown",
   "metadata": {},
   "source": [
    "# **2. model**"
   ]
  },
  {
   "cell_type": "code",
   "execution_count": null,
   "metadata": {},
   "outputs": [],
   "source": [
    "# buidling model\n",
    "features = data.drop('Diabetes_012',axis=1)\n",
    "target = data['Diabetes_012']\n",
    "groundtruth = target\n",
    "\n",
    "features_train, features_test, target_train, target_test = train_test_split(features, target, test_size=0.2, random_state=42)"
   ]
  },
  {
   "cell_type": "code",
   "execution_count": null,
   "metadata": {},
   "outputs": [],
   "source": [
    "print(features_train.shape)\n",
    "print(features_test.shape)\n",
    "print(target_train.shape)\n",
    "print(target_test.shape)"
   ]
  },
  {
   "cell_type": "code",
   "execution_count": null,
   "metadata": {},
   "outputs": [],
   "source": [
    "# Using SMOTE for imbalanced classification\n",
    "smt=SMOTE(random_state=42)\n",
    "X_train_res,Y_train_res=smt.fit_resample(features_train, target_train.ravel())"
   ]
  },
  {
   "cell_type": "code",
   "execution_count": null,
   "metadata": {},
   "outputs": [],
   "source": [
    "#target variable Diabetes_012:\n",
    "#- 0 : no diabetes/ only during pregnancy\n",
    "#- 1 : prediabetes\n",
    "#- 2 : diabetes\n",
    "\n",
    "### Classifier: #######################################################################################################\n",
    "\n",
    "\n",
    "def no_diabetes_classifier() -> bool:\n",
    "    return (True)\n",
    "\n",
    "def diabetes_classifier() -> bool: \n",
    "    return(False)\n",
    "\n",
    "def classifier(features):\n",
    "    predictions = []\n",
    "    for i in range(0, len(features), 1):\n",
    "        # is it diabetes?\n",
    "        if ((diabetes_classifier())):\n",
    "            predictions.append(2.0)\n",
    "        # is it no diabetes?\n",
    "        elif (no_diabetes_classifier()):\n",
    "            predictions.append(0.0)\n",
    "        # its neither, so patient is at risk\n",
    "        else: predictions.append(1.0)\n",
    "    # print(predictions)\n",
    "    return predictions\n",
    "\n",
    "\n",
    "predictions = classifier(features)\n",
    "print(predictions[1242])\n",
    "print(groundtruth[1242])\n"
   ]
  },
  {
   "cell_type": "code",
   "execution_count": null,
   "metadata": {},
   "outputs": [],
   "source": [
    "# define performance metrics (True negatives, false negatives, true positives, false positives)\n",
    "predictions = classifier(features)"
   ]
  },
  {
   "cell_type": "code",
   "execution_count": null,
   "metadata": {},
   "outputs": [],
   "source": [
    "def calc_metrics(predictions, groundtruth):\n",
    "    # predictions = predictions\n",
    "    TP_no_diabetes = TN_prediabetes = TN_diabetes = TN_no_diabetes = TN_diabetes = TP_prediabetes = TP_diabetes = FP_no_diabetes = FN_diabetes = FN_prediabetes = FP_diabetes = FP_prediabetes = FN_no_diabetes = 0\n",
    "    for i in range(0, len(predictions)):\n",
    "        if (predictions[i] == groundtruth[i]):\n",
    "            if (predictions[i] == 0):\n",
    "                TP_no_diabetes += 1\n",
    "                TN_prediabetes += 1\n",
    "                TN_diabetes += 1\n",
    "            elif (predictions[i] ==1):\n",
    "                TP_prediabetes += 1\n",
    "                TN_diabetes += 1\n",
    "                TN_no_diabetes += 1\n",
    "            else : \n",
    "                TP_diabetes += 1\n",
    "                TN_no_diabetes += 1\n",
    "                TN_prediabetes += 1\n",
    "                \n",
    "        elif (predictions[i] == 0):\n",
    "            if (groundtruth[i] == 1):\n",
    "                FP_no_diabetes += 1\n",
    "                FN_prediabetes += 1\n",
    "                TN_diabetes += 1\n",
    "            elif (groundtruth[i] == 2):\n",
    "                FP_no_diabetes += 1\n",
    "                FN_diabetes += 1\n",
    "                TN_prediabetes += 1\n",
    "                \n",
    "        elif (predictions[i] == 1):\n",
    "            if (groundtruth[i] == 0):\n",
    "                FP_prediabetes += 1\n",
    "                FN_no_diabetes += 1\n",
    "                TN_diabetes += 1\n",
    "            elif(groundtruth[i] == 2):\n",
    "                FP_prediabetes += 1\n",
    "                FN_diabetes += 1\n",
    "                TN_no_diabetes+= 1\n",
    "                \n",
    "        elif (predictions[i] == 2):\n",
    "            if (groundtruth[i] == 0):\n",
    "                FP_diabetes += 1\n",
    "                FN_no_diabetes += 1\n",
    "                TN_prediabetes += 1\n",
    "            elif(groundtruth[i] == 1):\n",
    "                FP_diabetes += 1\n",
    "                FN_prediabetes += 1\n",
    "                TN_no_diabetes += 1\n",
    "                \n",
    "    TP_total = TP_diabetes + TP_no_diabetes + TP_prediabetes \n",
    "    TN_total = TN_diabetes + TN_no_diabetes + TN_prediabetes\n",
    "    FP_total = FP_diabetes + FP_no_diabetes + FP_prediabetes\n",
    "    FN_total = FN_diabetes + FN_no_diabetes + FN_prediabetes \n",
    "    # recall = Sensitifity = True Positive Rate\n",
    "    # specificity = True Negative Rate\n",
    "    # precision = TP / ( TP + FP )\n",
    "    recall = TP_total/ (TP_total + FN_total)\n",
    "    specificity =  TN_total / (TN_total + FP_total)\n",
    "    precision = (TP_total / (TP_total + FP_total))\n",
    "    return (recall, specificity, precision)\n",
    "\n",
    "\n",
    "recall, specificity, precision = calc_metrics(predictions, groundtruth)\n",
    "print (recall, specificity, precision)\n",
    "    "
   ]
  }
 ],
 "metadata": {
  "kernelspec": {
   "display_name": "Python 3",
   "language": "python",
   "name": "python3"
  },
  "language_info": {
   "codemirror_mode": {
    "name": "ipython",
    "version": 3
   },
   "file_extension": ".py",
   "mimetype": "text/x-python",
   "name": "python",
   "nbconvert_exporter": "python",
   "pygments_lexer": "ipython3",
   "version": "3.9.13"
  },
  "orig_nbformat": 4,
  "vscode": {
   "interpreter": {
    "hash": "6f891c0ef62455f9f8d0cbb2d117bcba51effc94d210f58e83104cbf88b6bc54"
   }
  }
 },
 "nbformat": 4,
 "nbformat_minor": 2
}
