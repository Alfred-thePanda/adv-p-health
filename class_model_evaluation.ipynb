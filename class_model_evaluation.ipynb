{
 "cells": [
  {
   "cell_type": "code",
   "execution_count": 20,
   "metadata": {},
   "outputs": [],
   "source": [
    "import warnings\n",
    "import random\n",
    "\n",
    "import pandas as pd\n",
    "\n",
    "from hyperopt import fmin, tpe, hp, STATUS_OK, Trials\n",
    "\n",
    "from sklearn.model_selection import train_test_split\n",
    "from sklearn.linear_model import SGDClassifier\n",
    "from sklearn.ensemble import GradientBoostingClassifier\n",
    "from sklearn.metrics import accuracy_score\n",
    "from sklearn import svm\n",
    "from sklearn.preprocessing import StandardScaler\n",
    "from sklearn.pipeline import make_pipeline\n",
    "from sklearn.exceptions import ConvergenceWarning\n",
    "\n",
    "from collections import Counter\n",
    "\n",
    "warnings.simplefilter(action='ignore', category=ConvergenceWarning)\n",
    "warnings.simplefilter(action='ignore', category=UserWarning)"
   ]
  },
  {
   "attachments": {},
   "cell_type": "markdown",
   "metadata": {},
   "source": [
    "Notes: \n",
    "- for final presentation, maybe mention development date for algorithms ? "
   ]
  },
  {
   "attachments": {},
   "cell_type": "markdown",
   "metadata": {},
   "source": [
    "# **0. Data Prep**"
   ]
  },
  {
   "cell_type": "code",
   "execution_count": 2,
   "metadata": {},
   "outputs": [],
   "source": [
    "df = pd.read_csv('./data/clean_data.csv')"
   ]
  },
  {
   "cell_type": "code",
   "execution_count": 3,
   "metadata": {},
   "outputs": [
    {
     "name": "stderr",
     "output_type": "stream",
     "text": [
      "C:\\Users\\carme\\AppData\\Local\\Temp\\ipykernel_7568\\1238228969.py:6: FutureWarning: DataFrame.set_axis 'inplace' keyword is deprecated and will be removed in a future version. Use `obj = obj.set_axis(..., copy=False)` instead\n",
      "  df.set_axis(range(len(df)), inplace=True)\n"
     ]
    }
   ],
   "source": [
    "df = df.drop(df.columns[0],axis = 1)\n",
    "\n",
    "# remove colums containing NaN values\n",
    "df = df.dropna(axis=1)\n",
    "\n",
    "df.set_axis(range(len(df)), inplace=True)\n",
    "\n",
    "# removing target('diabetes') from features\n",
    "target = df['diabetes']\n",
    "features = df.drop(['diabetes'],axis=1)\n",
    "\n",
    "# splitting into training and test data\n",
    "features_train, features_test, target_train, target_test = train_test_split(features, target, test_size=0.2, random_state=42)\n",
    "\n",
    "# print(features_train.shape)\n",
    "# print(features_test.shape)\n",
    "# print(target_train.shape)\n",
    "# print(target_test.shape)"
   ]
  },
  {
   "attachments": {},
   "cell_type": "markdown",
   "metadata": {},
   "source": [
    "# **1. Support Vector Machines**"
   ]
  },
  {
   "attachments": {},
   "cell_type": "markdown",
   "metadata": {},
   "source": [
    "**Conclusion:**\n",
    "\n",
    "- Using a Pipepline/StandartScaler: Best reachable Accuracy: 76 % with max_iter = 93\n",
    "\n",
    "-> Dont use, 2. & 3. perform better"
   ]
  },
  {
   "cell_type": "code",
   "execution_count": 4,
   "metadata": {},
   "outputs": [
    {
     "name": "stdout",
     "output_type": "stream",
     "text": [
      "45                                                     \n",
      "Accuracy : 66.83766360169928                           \n",
      "95                                                                                \n",
      "Accuracy : 70.80761699740069                                                      \n",
      "42                                                                                \n",
      "Accuracy : 66.33154320916971                                                      \n",
      "86                                                                                \n",
      "Accuracy : 68.39724725469765                                                      \n",
      "22                                                                                \n",
      "Accuracy : 65.9204635238346                                                       \n",
      "21                                                                                \n",
      "Accuracy : 63.37841087357295                                                      \n",
      "25                                                                                \n",
      "Accuracy : 69.64537220460089                                                      \n",
      "13                                                                                \n",
      "Accuracy : 72.77370006068864                                                      \n",
      "3                                                                                 \n",
      "Accuracy : 52.67430809220094                                                      \n",
      "82                                                                                \n",
      "Accuracy : 69.00184356070582                                                      \n",
      "7                                                                                  \n",
      "Accuracy : 69.01787452336514                                                       \n",
      "80                                                                                 \n",
      "Accuracy : 65.72236662811602                                                       \n",
      "36                                                                                 \n",
      "Accuracy : 69.87782116316085                                                       \n",
      "20                                                                                 \n",
      "Accuracy : 67.52928513357227                                                       \n",
      "55                                                                                 \n",
      "Accuracy : 70.84311412900345                                                       \n",
      "11                                                                                 \n",
      "Accuracy : 67.6758539350288                                                        \n",
      "35                                                                                 \n",
      "Accuracy : 69.63735672327124                                                       \n",
      "31                                                                                 \n",
      "Accuracy : 65.11204497830094                                                       \n",
      "74                                                                                 \n",
      "Accuracy : 65.28724049879196                                                       \n",
      "26                                                                                 \n",
      "Accuracy : 68.37434587947007                                                       \n",
      "13                                                                                 \n",
      "Accuracy : 72.77370006068864                                                       \n",
      "13                                                                                 \n",
      "Accuracy : 72.77370006068864                                                       \n",
      "13                                                                                 \n",
      "Accuracy : 72.77370006068864                                                       \n",
      "60                                                                                 \n",
      "Accuracy : 64.79028065635342                                                       \n",
      "87                                                                                 \n",
      "Accuracy : 65.87809597966357                                                       \n",
      "90                                                                                 \n",
      "Accuracy : 70.23393754794975                                                       \n",
      "66                                                                                 \n",
      "Accuracy : 64.15705763131076                                                       \n",
      "47                                                                                 \n",
      "Accuracy : 64.44217975289416                                                       \n",
      "38                                                                                 \n",
      "Accuracy : 71.24732340177027                                                       \n",
      "12                                                                                 \n",
      "Accuracy : 73.62448615039334                                                       \n",
      "69                                                                                 \n",
      "Accuracy : 67.58997377792537                                                       \n",
      "12                                                                                 \n",
      "Accuracy : 73.62448615039334                                                       \n",
      "65                                                                                 \n",
      "Accuracy : 65.83687350425393                                                       \n",
      "85                                                                                 \n",
      "Accuracy : 67.87738603703153                                                       \n",
      "54                                                                                 \n",
      "Accuracy : 69.76102414950017                                                       \n",
      "0                                                                                  \n",
      "46                                                                                 \n",
      "Accuracy : 63.17458863404748                                                       \n",
      "92                                                                                 \n",
      "Accuracy : 70.44119499375937                                                       \n",
      "12                                                                                 \n",
      "Accuracy : 73.62448615039334                                                       \n",
      "12                                                                                 \n",
      "Accuracy : 73.62448615039334                                                       \n",
      "56                                                                                 \n",
      "Accuracy : 73.532880649483                                                         \n",
      "78                                                                                 \n",
      "Accuracy : 66.00176340589252                                                       \n",
      "14                                                                                 \n",
      "Accuracy : 71.64466226196883                                                       \n",
      "33                                                                                 \n",
      "Accuracy : 64.17881393777697                                                       \n",
      "2                                                                                  \n",
      "Accuracy : 55.13964113545018                                                       \n",
      "67                                                                                 \n",
      "Accuracy : 65.2677743298485                                                        \n",
      "94                                                                                 \n",
      "Accuracy : 71.448855503773                                                         \n",
      "93                                                                                 \n",
      "Accuracy : 69.68086933620364                                                       \n",
      "79                                                                                 \n",
      "Accuracy : 65.76702430980981                                                       \n",
      "75                                                                                 \n",
      "Accuracy : 66.79987633257377                                                       \n",
      "96                                                                                 \n",
      "Accuracy : 73.48478776150507                                                       \n",
      "1                                                                                  \n",
      "Accuracy : 67.26591931845508                                                       \n",
      "17                                                                                 \n",
      "Accuracy : 69.27436992591404                                                       \n",
      "50                                                                                 \n",
      "Accuracy : 69.56865259758848                                                       \n",
      "71                                                                                 \n",
      "Accuracy : 64.85325943822926                                                       \n",
      "51                                                                                 \n",
      "Accuracy : 70.59348913902281                                                       \n",
      "19                                                                                 \n",
      "Accuracy : 67.49149786444676                                                       \n",
      "61                                                                                 \n",
      "Accuracy : 63.88453126610253                                                       \n",
      "89                                                                                 \n",
      "Accuracy : 69.63735672327124                                                       \n",
      "52                                                                                 \n",
      "Accuracy : 69.75300866817052                                                       \n",
      "98                                                                                 \n",
      "Accuracy : 71.01487444321032                                                       \n",
      "12                                                                                 \n",
      "Accuracy : 73.62448615039334                                                       \n",
      "63                                                                                 \n",
      "Accuracy : 69.29498116361887                                                       \n",
      "4                                                                                  \n",
      "Accuracy : 64.29332081391487                                                       \n",
      "30                                                                                 \n",
      "Accuracy : 68.25296859076387                                                       \n",
      "12                                                                                 \n",
      "Accuracy : 73.62448615039334                                                       \n",
      "12                                                                                 \n",
      "Accuracy : 73.62448615039334                                                       \n",
      "76                                                                                 \n",
      "Accuracy : 67.90143248102048                                                       \n",
      "59                                                                                 \n",
      "Accuracy : 67.61287515315296                                                       \n",
      "28                                                                                 \n",
      "Accuracy : 67.20294053657922                                                       \n",
      "10                                                                                 \n",
      "Accuracy : 67.59684419049364                                                       \n",
      "27                                                                                 \n",
      "Accuracy : 69.48391750924642                                                       \n",
      "99                                                                                 \n",
      "Accuracy : 71.0709828125179                                                        \n",
      "5                                                                                  \n",
      "Accuracy : 68.69152992637207                                                       \n",
      "43                                                                                 \n",
      "Accuracy : 66.36589527201109                                                       \n",
      "12                                                                                 \n",
      "Accuracy : 73.62448615039334                                                       \n",
      "40                                                                                 \n",
      "Accuracy : 68.51862454340383                                                       \n",
      "48                                                                                 \n",
      "Accuracy : 67.58424843411846                                                       \n",
      "84                                                                                 \n",
      "Accuracy : 67.29111083120542                                                       \n",
      "37                                                                                 \n",
      "Accuracy : 70.76868465951381                                                       \n",
      "68                                                                                 \n",
      "Accuracy : 65.23227719824575                                                       \n",
      "6                                                                                  \n",
      "Accuracy : 72.88248159301966                                                       \n",
      "53                                                                                 \n",
      "Accuracy : 69.96026611398014                                                       \n",
      "34                                                                                 \n",
      "Accuracy : 65.9204635238346                                                        \n",
      "9                                                                                  \n",
      "Accuracy : 65.60900482073949                                                       \n",
      "32                                                                                 \n",
      "Accuracy : 67.44684018275298                                                       \n",
      "88                                                                                 \n",
      "Accuracy : 72.44506532617284                                                       \n",
      "41                                                                                 \n",
      "Accuracy : 69.09917440542304                                                       \n",
      "15                                                                                 \n",
      "Accuracy : 76.57990862351284                                                       \n",
      "44                                                                                 \n",
      "Accuracy : 66.24795318958904                                                       \n",
      "83                                                                                 \n",
      "Accuracy : 69.3865866645292                                                        \n",
      "29                                                                                 \n",
      "Accuracy : 67.3025615188192                                                        \n",
      "15                                                                                 \n",
      "Accuracy : 76.57990862351284                                                       \n",
      "15                                                                                 \n",
      "Accuracy : 76.57990862351284                                                       \n",
      "18                                                                                 \n",
      "Accuracy : 69.156427843492                                                         \n",
      "15                                                                                 \n",
      "Accuracy : 76.57990862351284                                                       \n",
      "73                                                                                 \n",
      "Accuracy : 69.13352646826442                                                       \n",
      "64                                                                                 \n",
      "Accuracy : 62.753203329859964                                                      \n",
      "15                                                                                 \n",
      "Accuracy : 76.57990862351284                                                       \n",
      "15                                                                                 \n",
      "Accuracy : 76.57990862351284                                                       \n",
      "100%|██████████| 100/100 [09:01<00:00,  5.41s/trial, best loss: -0.7657990862351284]\n",
      "{'max_iter': 15}\n"
     ]
    }
   ],
   "source": [
    "# Optimizing max_iter to reach the highest possible Accuracy\n",
    "\n",
    "# MAX_EVALS should be the same as/max the SEARCHSPACE so all possibilities are tried out\n",
    "# MAX_EVALS = 100\n",
    "# SEARCH_SPACE = [hp.randint('max_iter',100)]\n",
    "\n",
    "### Optimizaion ##############################################################################################################\n",
    "# def cost_function(max_iter):\n",
    "#     max_iter = max_iter[0]\n",
    "#     print(max_iter)\n",
    "#     if max_iter == 0:\n",
    "#         return 0\n",
    "#     svm_classifier = make_pipeline(StandardScaler(), svm.SVC(max_iter=max_iter)).fit(features_train, target_train)\n",
    "#     svm_predictions = svm_classifier.predict(features_test)\n",
    "#    svm_accuracy = accuracy_score(target_test, svm_predictions)\n",
    "# \n",
    "#     return {'loss': - svm_accuracy , 'status': STATUS_OK }\n",
    "\n",
    "# trials = Trials()\n",
    "# best = fmin(cost_function,\n",
    "#     space = SEARCH_SPACE,\n",
    "#     algo = tpe.suggest,\n",
    "#     max_evals = MAX_EVALS, \n",
    "#     trials = trials)\n",
    "\n",
    "# print(best)"
   ]
  },
  {
   "cell_type": "code",
   "execution_count": 5,
   "metadata": {},
   "outputs": [
    {
     "name": "stdout",
     "output_type": "stream",
     "text": [
      "[ True]\n"
     ]
    },
    {
     "name": "stderr",
     "output_type": "stream",
     "text": [
      "c:\\Users\\carme\\AppData\\Local\\Programs\\Python\\Python39\\lib\\site-packages\\sklearn\\base.py:420: UserWarning: X does not have valid feature names, but StandardScaler was fitted with feature names\n",
      "  warnings.warn(\n"
     ]
    }
   ],
   "source": [
    "# Predicting for one specific 'person' #################################################################################################\n",
    "\n",
    "# max_iter = best['max_iter']\n",
    "# svm_classifier = make_pipeline(StandardScaler(), svm.SVC(max_iter=max_iter)).fit(features_train, target_train)\n",
    "\n",
    "# taking a random row from the test data to predict a result for:\n",
    "# def make_test_prediction(svm_classifier):\n",
    "#     rand_index = random.randint(0, 32581)\n",
    "#     test_row = features_test.iloc[rand_index] #.values.flatten().tolist()\n",
    "#     test_groundtruth = target_test.iloc[rand_index]\n",
    "#     prediction = svm_classifier.predict([test_row])\n",
    "#     \n",
    "#     return (prediction, test_groundtruth)\n",
    "\n",
    "# prediction, test_groundtruth = make_test_prediction(svm_classifier)\n",
    "# print (prediction == test_groundtruth)"
   ]
  },
  {
   "attachments": {},
   "cell_type": "markdown",
   "metadata": {},
   "source": []
  },
  {
   "attachments": {},
   "cell_type": "markdown",
   "metadata": {},
   "source": [
    "# **2. Stocastic Gradient Descent**"
   ]
  },
  {
   "attachments": {},
   "cell_type": "markdown",
   "metadata": {},
   "source": [
    "**Conclusion:**\n",
    "\n",
    "- Using a Pipepline/StandartScaler: Best reachable Accuracy:  88%, with max_iter = 14 "
   ]
  },
  {
   "cell_type": "code",
   "execution_count": 7,
   "metadata": {},
   "outputs": [
    {
     "name": "stdout",
     "output_type": "stream",
     "text": [
      "100%|██████████| 10/10 [00:37<00:00,  3.75s/trial, best loss: -0.8882985423274667]\n",
      "{'max_iter': 14}\n"
     ]
    }
   ],
   "source": [
    "# Optimizing max_iter to reach the highest possible Accuracy\n",
    "\n",
    "# MAX_EVALS should be the same as/max the SEARCHSPACE so all possibilities are tried out\n",
    "MAX_EVALS = 10\n",
    "SEARCH_SPACE = [hp.randint('max_iter',100)]\n",
    "\n",
    "### Optimizaion ##############################################################################################################\n",
    "def cost_function(max_iter):\n",
    "    max_iter = max_iter[0]\n",
    "    if max_iter == 0:\n",
    "        return 0\n",
    "    sgd_classifier = make_pipeline(StandardScaler(), SGDClassifier(max_iter=max_iter)).fit(features_train, target_train)\n",
    "    sgd_predictions = sgd_classifier.predict(features_test)\n",
    "    sgd_accuracy = accuracy_score(target_test, sgd_predictions)\n",
    "\n",
    "    return {'loss': - sgd_accuracy , 'status': STATUS_OK }\n",
    "\n",
    "trials = Trials()\n",
    "best = fmin(cost_function,\n",
    "    space = SEARCH_SPACE,\n",
    "    algo = tpe.suggest,\n",
    "    max_evals = MAX_EVALS, \n",
    "    trials = trials)\n",
    "\n",
    "print(best)"
   ]
  },
  {
   "cell_type": "code",
   "execution_count": 14,
   "metadata": {},
   "outputs": [],
   "source": [
    "max_iter = best['max_iter']\n",
    "sgd_classifier = make_pipeline(StandardScaler(), SGDClassifier(max_iter=max_iter)).fit(features_train, target_train)"
   ]
  },
  {
   "cell_type": "code",
   "execution_count": 15,
   "metadata": {},
   "outputs": [
    {
     "name": "stdout",
     "output_type": "stream",
     "text": [
      "[False]\n"
     ]
    },
    {
     "name": "stderr",
     "output_type": "stream",
     "text": [
      "c:\\Users\\carme\\AppData\\Local\\Programs\\Python\\Python39\\lib\\site-packages\\sklearn\\base.py:420: UserWarning: X does not have valid feature names, but StandardScaler was fitted with feature names\n",
      "  warnings.warn(\n"
     ]
    }
   ],
   "source": [
    "# Predicting for one specific 'person'  #################################################################################################\n",
    "\n",
    "# taking a random row from the test data to predict a result for:\n",
    "def make_test_prediction(sgd_classifier):\n",
    "    rand_index = random.randint(0, 32581)\n",
    "    test_row = features_test.iloc[rand_index]\n",
    "    test_groundtruth = target_test.iloc[rand_index]\n",
    "    prediction = sgd_classifier.predict([test_row])\n",
    "\n",
    "    return (prediction, test_groundtruth)\n",
    "\n",
    "prediction, test_groundtruth = make_test_prediction(sgd_classifier)\n",
    "print (prediction == test_groundtruth)"
   ]
  },
  {
   "attachments": {},
   "cell_type": "markdown",
   "metadata": {},
   "source": [
    "# **3. Stocastic Gradient Boosting**"
   ]
  },
  {
   "cell_type": "code",
   "execution_count": 24,
   "metadata": {},
   "outputs": [
    {
     "name": "stdout",
     "output_type": "stream",
     "text": [
      " 29%|██▉       | 29/100 [3:00:29<9:20:26, 473.62s/trial, best loss: -0.898489654303741] "
     ]
    }
   ],
   "source": [
    "# Optimizing n_estimators to reach the highest possible Accuracy\n",
    "\n",
    "# N_ESTIMATORS should be max the SEARCHSPACE so all possibilities are tried once\n",
    "N_ESTIMATORS = 100\n",
    "SEARCH_SPACE = [hp.randint('n_estimators',400)]\n",
    "\n",
    "### Optimizaion ##############################################################################################################\n",
    "def cost_function(n_estimators):\n",
    "    n_estimators = n_estimators[0]\n",
    "    if n_estimators == 0:\n",
    "        return 0\n",
    "    sgb_classifier = make_pipeline(StandardScaler(), GradientBoostingClassifier(n_estimators=n_estimators, learning_rate=0.5, random_state=0)).fit(features_train, target_train)\n",
    "    sgb_predictions = sgb_classifier.predict(features_test)\n",
    "    sgb_accuracy = accuracy_score(target_test, sgb_predictions)\n",
    "    return {'loss': - sgb_accuracy , 'status': STATUS_OK }\n",
    "\n",
    "trials = Trials()\n",
    "best = fmin(cost_function,\n",
    "    space = SEARCH_SPACE,\n",
    "    algo = tpe.suggest,\n",
    "    max_evals = N_ESTIMATORS, \n",
    "    trials = trials)\n",
    "\n",
    "print(best)"
   ]
  },
  {
   "cell_type": "code",
   "execution_count": 21,
   "metadata": {},
   "outputs": [],
   "source": [
    "n_estimators = best['n_estimators']\n",
    "\n",
    "sgb_classifier = make_pipeline(StandardScaler(), GradientBoostingClassifier(n_estimators=n_estimators, learning_rate=0.5, random_state=0)).fit(features_train, target_train)"
   ]
  },
  {
   "cell_type": "code",
   "execution_count": null,
   "metadata": {},
   "outputs": [],
   "source": [
    "import pickle\n",
    "\n",
    "model = pickle.dumps(sgb_classifier)\n",
    "model = pickle.loads(model)"
   ]
  },
  {
   "cell_type": "code",
   "execution_count": 22,
   "metadata": {},
   "outputs": [
    {
     "name": "stdout",
     "output_type": "stream",
     "text": [
      "78468 6894 1969 0.8985125556789685\n"
     ]
    }
   ],
   "source": [
    "# Verify performance / See false nagatives vs. false positives (ca: 7157 - 1855)\n",
    "\n",
    "predictions = sgb_classifier.predict(features_test)\n",
    "\n",
    "def calc_metrics(predictions, target_test):\n",
    "    prediction_true = false_negative = false_positive = 0\n",
    "\n",
    "    for i in range(0, 87331):\n",
    "        if target_test.iloc[i] == predictions[i]:\n",
    "            prediction_true+= 1\n",
    "        if (target_test.iloc[i] == 1 and predictions[i] == 0):\n",
    "            false_negative +=1\n",
    "        if (target_test.iloc[i] == 0 and predictions[i] == 1):\n",
    "            false_positive +=1\n",
    "    accuracy = 1 - (false_negative + false_positive) / len(predictions)\n",
    "\n",
    "    return (prediction_true, false_negative, false_positive, accuracy)\n",
    "\n",
    "prediction_true, false_negative, false_positive, accuracy = calc_metrics(predictions, target_test)\n",
    "print(prediction_true, false_negative, false_positive, accuracy)"
   ]
  },
  {
   "cell_type": "code",
   "execution_count": 19,
   "metadata": {},
   "outputs": [
    {
     "name": "stdout",
     "output_type": "stream",
     "text": [
      "[0.]\n",
      "0.0\n"
     ]
    },
    {
     "name": "stderr",
     "output_type": "stream",
     "text": [
      "c:\\Users\\carme\\AppData\\Local\\Programs\\Python\\Python39\\lib\\site-packages\\sklearn\\base.py:420: UserWarning: X does not have valid feature names, but StandardScaler was fitted with feature names\n",
      "  warnings.warn(\n"
     ]
    }
   ],
   "source": [
    "# Predicting for one specific 'person' #################################################################################################\n",
    "\n",
    "# taking a random row from the test data to predict a result for:\n",
    "def make_test_prediction(sgb_classifier):\n",
    "    rand_index = random.randint(0, 32581)\n",
    "    test_row = features_test.iloc[rand_index] #.values.flatten().tolist()\n",
    "    test_groundtruth = target_test.iloc[rand_index]\n",
    "    prediction = sgb_classifier.predict([test_row])\n",
    "    \n",
    "    return (prediction, test_groundtruth)\n",
    "\n",
    "prediction, test_groundtruth = make_test_prediction(sgb_classifier)\n",
    "print (prediction)\n",
    "print (test_groundtruth)"
   ]
  },
  {
   "attachments": {},
   "cell_type": "markdown",
   "metadata": {},
   "source": [
    "**Conclusion:**\n",
    "\n",
    "- simple SGB: Best reachable Accuracy:  87.33042784359463%, with max_iter= 74\n",
    "- Using a Pipepline/StandartScaler: Best reachable Accuracy:  100%, with max_iter = 11 "
   ]
  }
 ],
 "metadata": {
  "kernelspec": {
   "display_name": "Python 3 (ipykernel)",
   "language": "python",
   "name": "python3"
  },
  "language_info": {
   "codemirror_mode": {
    "name": "ipython",
    "version": 3
   },
   "file_extension": ".py",
   "mimetype": "text/x-python",
   "name": "python",
   "nbconvert_exporter": "python",
   "pygments_lexer": "ipython3",
   "version": "3.9.13"
  },
  "vscode": {
   "interpreter": {
    "hash": "6f891c0ef62455f9f8d0cbb2d117bcba51effc94d210f58e83104cbf88b6bc54"
   }
  }
 },
 "nbformat": 4,
 "nbformat_minor": 2
}
