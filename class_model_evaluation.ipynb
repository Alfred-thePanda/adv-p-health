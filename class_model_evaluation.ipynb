{
 "cells": [
  {
   "cell_type": "code",
   "execution_count": 1,
   "metadata": {},
   "outputs": [],
   "source": [
    "import warnings\n",
    "import random\n",
    "\n",
    "import pandas as pd\n",
    "\n",
    "from hyperopt import fmin, tpe, hp, STATUS_OK, Trials\n",
    "\n",
    "from sklearn.model_selection import train_test_split\n",
    "from sklearn.linear_model import SGDClassifier\n",
    "from sklearn.ensemble import GradientBoostingClassifier\n",
    "from sklearn.metrics import accuracy_score\n",
    "from sklearn import svm\n",
    "from sklearn.preprocessing import StandardScaler\n",
    "from sklearn.pipeline import make_pipeline\n",
    "from sklearn.exceptions import ConvergenceWarning\n",
    "\n",
    "from collections import Counter\n",
    "\n",
    "warnings.simplefilter(action='ignore', category=ConvergenceWarning)\n",
    "warnings.simplefilter(action='ignore', category=UserWarning)"
   ]
  },
  {
   "cell_type": "markdown",
   "metadata": {},
   "source": [
    "Notes: \n",
    "- for final presentation, maybe mention development date for algorithms \n",
    "- visualisierung für probierte werte \n",
    "- vergleichbare projekte von anderen + deren reached accuracy ( zum vergleich, um zu beweisen, dass unsere gut?)"
   ]
  },
  {
   "cell_type": "markdown",
   "metadata": {},
   "source": [
    "# **0. Data Prep**"
   ]
  },
  {
   "cell_type": "code",
   "execution_count": 4,
   "metadata": {},
   "outputs": [],
   "source": [
    "df = pd.read_csv('./data/brfss_imputed.csv')"
   ]
  },
  {
   "cell_type": "code",
   "execution_count": 5,
   "metadata": {},
   "outputs": [],
      "C:\\Users\\carme\\AppData\\Local\\Temp\\ipykernel_20000\\1238228969.py:6: FutureWarning: DataFrame.set_axis 'inplace' keyword is deprecated and will be removed in a future version. Use `obj = obj.set_axis(..., copy=False)` instead\n",
   "source": [
    "df = df.drop(df.columns[0],axis = 1)\n",
    "\n",
    "# remove colums containing NaN values\n",
    "df = df.dropna(axis=1)\n",
    "\n",
    "df.set_axis(range(len(df)), inplace=True)\n",
    "\n",
    "# removing target('diabetes') from features\n",
    "target = df['DIABETE4']\n",
    "features = df.drop(['DIABETE4'],axis=1)\n",
    "\n",
    "# splitting into training and test data\n",
    "features_train, features_test, target_train, target_test = train_test_split(features, target, test_size=0.2, random_state=42)\n",
    "\n",
    "# print(features_train.shape)\n",
    "# print(features_test.shape)\n",
    "# print(target_train.shape)\n",
    "# print(target_test.shape)"
   ]
  },
  {
   "cell_type": "markdown",
   "metadata": {},
   "source": [
    "# **1. Support Vector Machines**"
   ]
  },
  {
   "cell_type": "markdown",
   "metadata": {},
   "source": [
    "**Conclusion:**\n",
    "\n",
    "- Using a Pipepline/StandartScaler: Best reachable Accuracy: 76 % with max_iter = 93\n",
    "\n",
    "-> Dont use, 2. & 3. perform better"
   ]
  },
  {
   "cell_type": "code",
   "execution_count": null,
   "metadata": {},
   "outputs": [],
   "source": [
    "# Optimizing max_iter to reach the highest possible Accuracy\n",
    "\n",
    "# MAX_EVALS should be the same as/max the SEARCHSPACE so all possibilities are tried out\n",
    "# MAX_EVALS = 100\n",
    "# SEARCH_SPACE = [hp.randint('max_iter',100)]\n",
    "\n",
    "### Optimizaion ##############################################################################################################\n",
    "# def cost_function(max_iter):\n",
    "#     max_iter = max_iter[0]\n",
    "#     print(max_iter)\n",
    "#     if max_iter == 0:\n",
    "#         return 0\n",
    "#     svm_classifier = make_pipeline(StandardScaler(), svm.SVC(max_iter=max_iter)).fit(features_train, target_train)\n",
    "#     svm_predictions = svm_classifier.predict(features_test)\n",
    "#    svm_accuracy = accuracy_score(target_test, svm_predictions)\n",
    "# \n",
    "#     return {'loss': - svm_accuracy , 'status': STATUS_OK }\n",
    "\n",
    "# trials = Trials()\n",
    "# best = fmin(cost_function,\n",
    "#     space = SEARCH_SPACE,\n",
    "#     algo = tpe.suggest,\n",
    "#     max_evals = MAX_EVALS, \n",
    "#     trials = trials)\n",
    "\n",
    "# print(best)"
   ]
  },
  {
   "cell_type": "code",
   "execution_count": null,
   "metadata": {},
   "outputs": [],
   "source": [
    "# Predicting for one specific 'person' #################################################################################################\n",
    "\n",
    "# max_iter = best['max_iter']\n",
    "# svm_classifier = make_pipeline(StandardScaler(), svm.SVC(max_iter=max_iter)).fit(features_train, target_train)\n",
    "\n",
    "# taking a random row from the test data to predict a result for:\n",
    "# def make_test_prediction(svm_classifier):\n",
    "#     rand_index = random.randint(0, 32581)\n",
    "#     test_row = features_test.iloc[rand_index] #.values.flatten().tolist()\n",
    "#     test_groundtruth = target_test.iloc[rand_index]\n",
    "#     prediction = svm_classifier.predict([test_row])\n",
    "#     \n",
    "#     return (prediction, test_groundtruth)\n",
    "\n",
    "# prediction, test_groundtruth = make_test_prediction(svm_classifier)\n",
    "# print (prediction == test_groundtruth)"
   ]
  },
  {
   "cell_type": "markdown",
   "metadata": {},
   "source": []
  },
  {
   "cell_type": "markdown",
   "metadata": {},
   "source": [
    "# **2. Stocastic Gradient Descent**"
   ]
  },
  {
   "cell_type": "markdown",
   "metadata": {},
   "source": [
    "**Conclusion:**\n",
    "\n",
    "- Using a Pipepline/StandartScaler: Best reachable Accuracy:  88%, with max_iter = 14 "
   ]
  },
  {
   "cell_type": "code",
   "execution_count": null,
   "metadata": {},
   "outputs": [],
   "source": [
    "# Optimizing max_iter to reach the highest possible Accuracy\n",
    "\n",
    "# MAX_EVALS should be the same as/max the SEARCHSPACE so all possibilities are tried out\n",
    "MAX_EVALS = 10\n",
    "SEARCH_SPACE = [hp.randint('max_iter',100)]\n",
    "\n",
    "### Optimizaion ##############################################################################################################\n",
    "def cost_function(max_iter):\n",
    "    max_iter = max_iter[0]\n",
    "    if max_iter == 0:\n",
    "        return 0\n",
    "    sgd_classifier = make_pipeline(StandardScaler(), SGDClassifier(max_iter=max_iter)).fit(features_train, target_train)\n",
    "    sgd_predictions = sgd_classifier.predict(features_test)\n",
    "    sgd_accuracy = accuracy_score(target_test, sgd_predictions)\n",
    "\n",
    "    return {'loss': - sgd_accuracy , 'status': STATUS_OK }\n",
    "\n",
    "trials = Trials()\n",
    "best = fmin(cost_function,\n",
    "    space = SEARCH_SPACE,\n",
    "    algo = tpe.suggest,\n",
    "    max_evals = MAX_EVALS, \n",
    "    trials = trials)\n",
    "\n",
    "print(best)"
   ]
  },
  {
   "cell_type": "code",
   "execution_count": null,
   "metadata": {},
   "outputs": [],
   "source": [
    "max_iter = best['max_iter']\n",
    "sgd_classifier = make_pipeline(StandardScaler(), SGDClassifier(max_iter=max_iter)).fit(features_train, target_train)"
   ]
  },
  {
   "cell_type": "code",
   "execution_count": null,
   "metadata": {},
   "outputs": [],
   "source": [
    "# Predicting for one specific 'person'  #################################################################################################\n",
    "\n",
    "# taking a random row from the test data to predict a result for:\n",
    "def make_test_prediction(sgd_classifier):\n",
    "    rand_index = random.randint(0, 32581)\n",
    "    test_row = features_test.iloc[rand_index]\n",
    "    test_groundtruth = target_test.iloc[rand_index]\n",
    "    prediction = sgd_classifier.predict([test_row])\n",
    "\n",
    "    return (prediction, test_groundtruth)\n",
    "\n",
    "prediction, test_groundtruth = make_test_prediction(sgd_classifier)\n",
    "print (prediction == test_groundtruth)"
   ]
  },
  {
   "cell_type": "markdown",
   "metadata": {},
   "source": [
    "# **3. Stocastic Gradient Boosting**"
   ]
  },
  {
   "cell_type": "code",
   "execution_count": 7,
   "metadata": {},
   "outputs": [
    {
     "name": "stdout",
     "output_type": "stream",
     "text": [
      "100%|██████████| 10/10 [19:46<00:00, 118.69s/trial, best loss: -0.8973674869175894]\n",
      "{'n_estimators': 174}\n"
     ]
    },
    {
     "name": "stderr",
     "output_type": "stream",
     "text": [
      "job exception: Unknown label type: 'continuous'\n",
      "\n"
     ]
    },
    {
     "name": "stdout",
     "output_type": "stream",
     "text": [
      "  0%|                                    | 0/100 [00:00<?, ?trial/s, best loss=?]\n"
     ]
    },
    {
     "ename": "ValueError",
     "evalue": "Unknown label type: 'continuous'",
     "output_type": "error",
     "traceback": [
      "\u001b[0;31m---------------------------------------------------------------------------\u001b[0m",
      "\u001b[0;31mValueError\u001b[0m                                Traceback (most recent call last)",
      "Input \u001b[0;32mIn [7]\u001b[0m, in \u001b[0;36m<module>\u001b[0;34m\u001b[0m\n\u001b[1;32m     15\u001b[0m     \u001b[38;5;28;01mreturn\u001b[39;00m {\u001b[38;5;124m'\u001b[39m\u001b[38;5;124mloss\u001b[39m\u001b[38;5;124m'\u001b[39m: \u001b[38;5;241m-\u001b[39m sgb_accuracy , \u001b[38;5;124m'\u001b[39m\u001b[38;5;124mstatus\u001b[39m\u001b[38;5;124m'\u001b[39m: STATUS_OK }\n\u001b[1;32m     17\u001b[0m trials \u001b[38;5;241m=\u001b[39m Trials()\n\u001b[0;32m---> 18\u001b[0m best \u001b[38;5;241m=\u001b[39m \u001b[43mfmin\u001b[49m\u001b[43m(\u001b[49m\u001b[43mcost_function\u001b[49m\u001b[43m,\u001b[49m\n\u001b[1;32m     19\u001b[0m \u001b[43m    \u001b[49m\u001b[43mspace\u001b[49m\u001b[43m \u001b[49m\u001b[38;5;241;43m=\u001b[39;49m\u001b[43m \u001b[49m\u001b[43mSEARCH_SPACE\u001b[49m\u001b[43m,\u001b[49m\n\u001b[1;32m     20\u001b[0m \u001b[43m    \u001b[49m\u001b[43malgo\u001b[49m\u001b[43m \u001b[49m\u001b[38;5;241;43m=\u001b[39;49m\u001b[43m \u001b[49m\u001b[43mtpe\u001b[49m\u001b[38;5;241;43m.\u001b[39;49m\u001b[43msuggest\u001b[49m\u001b[43m,\u001b[49m\n\u001b[1;32m     21\u001b[0m \u001b[43m    \u001b[49m\u001b[43mmax_evals\u001b[49m\u001b[43m \u001b[49m\u001b[38;5;241;43m=\u001b[39;49m\u001b[43m \u001b[49m\u001b[43mN_ESTIMATORS\u001b[49m\u001b[43m,\u001b[49m\u001b[43m \u001b[49m\n\u001b[1;32m     22\u001b[0m \u001b[43m    \u001b[49m\u001b[43mtrials\u001b[49m\u001b[43m \u001b[49m\u001b[38;5;241;43m=\u001b[39;49m\u001b[43m \u001b[49m\u001b[43mtrials\u001b[49m\u001b[43m)\u001b[49m\n\u001b[1;32m     24\u001b[0m \u001b[38;5;28mprint\u001b[39m(best)\n",
      "File \u001b[0;32m~/.local/lib/python3.10/site-packages/hyperopt/fmin.py:540\u001b[0m, in \u001b[0;36mfmin\u001b[0;34m(fn, space, algo, max_evals, timeout, loss_threshold, trials, rstate, allow_trials_fmin, pass_expr_memo_ctrl, catch_eval_exceptions, verbose, return_argmin, points_to_evaluate, max_queue_len, show_progressbar, early_stop_fn, trials_save_file)\u001b[0m\n\u001b[1;32m    537\u001b[0m     fn \u001b[38;5;241m=\u001b[39m __objective_fmin_wrapper(fn)\n\u001b[1;32m    539\u001b[0m \u001b[38;5;28;01mif\u001b[39;00m allow_trials_fmin \u001b[38;5;129;01mand\u001b[39;00m \u001b[38;5;28mhasattr\u001b[39m(trials, \u001b[38;5;124m\"\u001b[39m\u001b[38;5;124mfmin\u001b[39m\u001b[38;5;124m\"\u001b[39m):\n\u001b[0;32m--> 540\u001b[0m     \u001b[38;5;28;01mreturn\u001b[39;00m \u001b[43mtrials\u001b[49m\u001b[38;5;241;43m.\u001b[39;49m\u001b[43mfmin\u001b[49m\u001b[43m(\u001b[49m\n\u001b[1;32m    541\u001b[0m \u001b[43m        \u001b[49m\u001b[43mfn\u001b[49m\u001b[43m,\u001b[49m\n\u001b[1;32m    542\u001b[0m \u001b[43m        \u001b[49m\u001b[43mspace\u001b[49m\u001b[43m,\u001b[49m\n\u001b[1;32m    543\u001b[0m \u001b[43m        \u001b[49m\u001b[43malgo\u001b[49m\u001b[38;5;241;43m=\u001b[39;49m\u001b[43malgo\u001b[49m\u001b[43m,\u001b[49m\n\u001b[1;32m    544\u001b[0m \u001b[43m        \u001b[49m\u001b[43mmax_evals\u001b[49m\u001b[38;5;241;43m=\u001b[39;49m\u001b[43mmax_evals\u001b[49m\u001b[43m,\u001b[49m\n\u001b[1;32m    545\u001b[0m \u001b[43m        \u001b[49m\u001b[43mtimeout\u001b[49m\u001b[38;5;241;43m=\u001b[39;49m\u001b[43mtimeout\u001b[49m\u001b[43m,\u001b[49m\n\u001b[1;32m    546\u001b[0m \u001b[43m        \u001b[49m\u001b[43mloss_threshold\u001b[49m\u001b[38;5;241;43m=\u001b[39;49m\u001b[43mloss_threshold\u001b[49m\u001b[43m,\u001b[49m\n\u001b[1;32m    547\u001b[0m \u001b[43m        \u001b[49m\u001b[43mmax_queue_len\u001b[49m\u001b[38;5;241;43m=\u001b[39;49m\u001b[43mmax_queue_len\u001b[49m\u001b[43m,\u001b[49m\n\u001b[1;32m    548\u001b[0m \u001b[43m        \u001b[49m\u001b[43mrstate\u001b[49m\u001b[38;5;241;43m=\u001b[39;49m\u001b[43mrstate\u001b[49m\u001b[43m,\u001b[49m\n\u001b[1;32m    549\u001b[0m \u001b[43m        \u001b[49m\u001b[43mpass_expr_memo_ctrl\u001b[49m\u001b[38;5;241;43m=\u001b[39;49m\u001b[43mpass_expr_memo_ctrl\u001b[49m\u001b[43m,\u001b[49m\n\u001b[1;32m    550\u001b[0m \u001b[43m        \u001b[49m\u001b[43mverbose\u001b[49m\u001b[38;5;241;43m=\u001b[39;49m\u001b[43mverbose\u001b[49m\u001b[43m,\u001b[49m\n\u001b[1;32m    551\u001b[0m \u001b[43m        \u001b[49m\u001b[43mcatch_eval_exceptions\u001b[49m\u001b[38;5;241;43m=\u001b[39;49m\u001b[43mcatch_eval_exceptions\u001b[49m\u001b[43m,\u001b[49m\n\u001b[1;32m    552\u001b[0m \u001b[43m        \u001b[49m\u001b[43mreturn_argmin\u001b[49m\u001b[38;5;241;43m=\u001b[39;49m\u001b[43mreturn_argmin\u001b[49m\u001b[43m,\u001b[49m\n\u001b[1;32m    553\u001b[0m \u001b[43m        \u001b[49m\u001b[43mshow_progressbar\u001b[49m\u001b[38;5;241;43m=\u001b[39;49m\u001b[43mshow_progressbar\u001b[49m\u001b[43m,\u001b[49m\n\u001b[1;32m    554\u001b[0m \u001b[43m        \u001b[49m\u001b[43mearly_stop_fn\u001b[49m\u001b[38;5;241;43m=\u001b[39;49m\u001b[43mearly_stop_fn\u001b[49m\u001b[43m,\u001b[49m\n\u001b[1;32m    555\u001b[0m \u001b[43m        \u001b[49m\u001b[43mtrials_save_file\u001b[49m\u001b[38;5;241;43m=\u001b[39;49m\u001b[43mtrials_save_file\u001b[49m\u001b[43m,\u001b[49m\n\u001b[1;32m    556\u001b[0m \u001b[43m    \u001b[49m\u001b[43m)\u001b[49m\n\u001b[1;32m    558\u001b[0m \u001b[38;5;28;01mif\u001b[39;00m trials \u001b[38;5;129;01mis\u001b[39;00m \u001b[38;5;28;01mNone\u001b[39;00m:\n\u001b[1;32m    559\u001b[0m     \u001b[38;5;28;01mif\u001b[39;00m os\u001b[38;5;241m.\u001b[39mpath\u001b[38;5;241m.\u001b[39mexists(trials_save_file):\n",
      "File \u001b[0;32m~/.local/lib/python3.10/site-packages/hyperopt/base.py:671\u001b[0m, in \u001b[0;36mTrials.fmin\u001b[0;34m(self, fn, space, algo, max_evals, timeout, loss_threshold, max_queue_len, rstate, verbose, pass_expr_memo_ctrl, catch_eval_exceptions, return_argmin, show_progressbar, early_stop_fn, trials_save_file)\u001b[0m\n\u001b[1;32m    666\u001b[0m \u001b[38;5;66;03m# -- Stop-gap implementation!\u001b[39;00m\n\u001b[1;32m    667\u001b[0m \u001b[38;5;66;03m#    fmin should have been a Trials method in the first place\u001b[39;00m\n\u001b[1;32m    668\u001b[0m \u001b[38;5;66;03m#    but for now it's still sitting in another file.\u001b[39;00m\n\u001b[1;32m    669\u001b[0m \u001b[38;5;28;01mfrom\u001b[39;00m \u001b[38;5;21;01m.\u001b[39;00m\u001b[38;5;21;01mfmin\u001b[39;00m \u001b[38;5;28;01mimport\u001b[39;00m fmin\n\u001b[0;32m--> 671\u001b[0m \u001b[38;5;28;01mreturn\u001b[39;00m \u001b[43mfmin\u001b[49m\u001b[43m(\u001b[49m\n\u001b[1;32m    672\u001b[0m \u001b[43m    \u001b[49m\u001b[43mfn\u001b[49m\u001b[43m,\u001b[49m\n\u001b[1;32m    673\u001b[0m \u001b[43m    \u001b[49m\u001b[43mspace\u001b[49m\u001b[43m,\u001b[49m\n\u001b[1;32m    674\u001b[0m \u001b[43m    \u001b[49m\u001b[43malgo\u001b[49m\u001b[38;5;241;43m=\u001b[39;49m\u001b[43malgo\u001b[49m\u001b[43m,\u001b[49m\n\u001b[1;32m    675\u001b[0m \u001b[43m    \u001b[49m\u001b[43mmax_evals\u001b[49m\u001b[38;5;241;43m=\u001b[39;49m\u001b[43mmax_evals\u001b[49m\u001b[43m,\u001b[49m\n\u001b[1;32m    676\u001b[0m \u001b[43m    \u001b[49m\u001b[43mtimeout\u001b[49m\u001b[38;5;241;43m=\u001b[39;49m\u001b[43mtimeout\u001b[49m\u001b[43m,\u001b[49m\n\u001b[1;32m    677\u001b[0m \u001b[43m    \u001b[49m\u001b[43mloss_threshold\u001b[49m\u001b[38;5;241;43m=\u001b[39;49m\u001b[43mloss_threshold\u001b[49m\u001b[43m,\u001b[49m\n\u001b[1;32m    678\u001b[0m \u001b[43m    \u001b[49m\u001b[43mtrials\u001b[49m\u001b[38;5;241;43m=\u001b[39;49m\u001b[38;5;28;43mself\u001b[39;49m\u001b[43m,\u001b[49m\n\u001b[1;32m    679\u001b[0m \u001b[43m    \u001b[49m\u001b[43mrstate\u001b[49m\u001b[38;5;241;43m=\u001b[39;49m\u001b[43mrstate\u001b[49m\u001b[43m,\u001b[49m\n\u001b[1;32m    680\u001b[0m \u001b[43m    \u001b[49m\u001b[43mverbose\u001b[49m\u001b[38;5;241;43m=\u001b[39;49m\u001b[43mverbose\u001b[49m\u001b[43m,\u001b[49m\n\u001b[1;32m    681\u001b[0m \u001b[43m    \u001b[49m\u001b[43mmax_queue_len\u001b[49m\u001b[38;5;241;43m=\u001b[39;49m\u001b[43mmax_queue_len\u001b[49m\u001b[43m,\u001b[49m\n\u001b[1;32m    682\u001b[0m \u001b[43m    \u001b[49m\u001b[43mallow_trials_fmin\u001b[49m\u001b[38;5;241;43m=\u001b[39;49m\u001b[38;5;28;43;01mFalse\u001b[39;49;00m\u001b[43m,\u001b[49m\u001b[43m  \u001b[49m\u001b[38;5;66;43;03m# -- prevent recursion\u001b[39;49;00m\n\u001b[1;32m    683\u001b[0m \u001b[43m    \u001b[49m\u001b[43mpass_expr_memo_ctrl\u001b[49m\u001b[38;5;241;43m=\u001b[39;49m\u001b[43mpass_expr_memo_ctrl\u001b[49m\u001b[43m,\u001b[49m\n\u001b[1;32m    684\u001b[0m \u001b[43m    \u001b[49m\u001b[43mcatch_eval_exceptions\u001b[49m\u001b[38;5;241;43m=\u001b[39;49m\u001b[43mcatch_eval_exceptions\u001b[49m\u001b[43m,\u001b[49m\n\u001b[1;32m    685\u001b[0m \u001b[43m    \u001b[49m\u001b[43mreturn_argmin\u001b[49m\u001b[38;5;241;43m=\u001b[39;49m\u001b[43mreturn_argmin\u001b[49m\u001b[43m,\u001b[49m\n\u001b[1;32m    686\u001b[0m \u001b[43m    \u001b[49m\u001b[43mshow_progressbar\u001b[49m\u001b[38;5;241;43m=\u001b[39;49m\u001b[43mshow_progressbar\u001b[49m\u001b[43m,\u001b[49m\n\u001b[1;32m    687\u001b[0m \u001b[43m    \u001b[49m\u001b[43mearly_stop_fn\u001b[49m\u001b[38;5;241;43m=\u001b[39;49m\u001b[43mearly_stop_fn\u001b[49m\u001b[43m,\u001b[49m\n\u001b[1;32m    688\u001b[0m \u001b[43m    \u001b[49m\u001b[43mtrials_save_file\u001b[49m\u001b[38;5;241;43m=\u001b[39;49m\u001b[43mtrials_save_file\u001b[49m\u001b[43m,\u001b[49m\n\u001b[1;32m    689\u001b[0m \u001b[43m\u001b[49m\u001b[43m)\u001b[49m\n",
      "File \u001b[0;32m~/.local/lib/python3.10/site-packages/hyperopt/fmin.py:586\u001b[0m, in \u001b[0;36mfmin\u001b[0;34m(fn, space, algo, max_evals, timeout, loss_threshold, trials, rstate, allow_trials_fmin, pass_expr_memo_ctrl, catch_eval_exceptions, verbose, return_argmin, points_to_evaluate, max_queue_len, show_progressbar, early_stop_fn, trials_save_file)\u001b[0m\n\u001b[1;32m    583\u001b[0m rval\u001b[38;5;241m.\u001b[39mcatch_eval_exceptions \u001b[38;5;241m=\u001b[39m catch_eval_exceptions\n\u001b[1;32m    585\u001b[0m \u001b[38;5;66;03m# next line is where the fmin is actually executed\u001b[39;00m\n\u001b[0;32m--> 586\u001b[0m \u001b[43mrval\u001b[49m\u001b[38;5;241;43m.\u001b[39;49m\u001b[43mexhaust\u001b[49m\u001b[43m(\u001b[49m\u001b[43m)\u001b[49m\n\u001b[1;32m    588\u001b[0m \u001b[38;5;28;01mif\u001b[39;00m return_argmin:\n\u001b[1;32m    589\u001b[0m     \u001b[38;5;28;01mif\u001b[39;00m \u001b[38;5;28mlen\u001b[39m(trials\u001b[38;5;241m.\u001b[39mtrials) \u001b[38;5;241m==\u001b[39m \u001b[38;5;241m0\u001b[39m:\n",
      "File \u001b[0;32m~/.local/lib/python3.10/site-packages/hyperopt/fmin.py:364\u001b[0m, in \u001b[0;36mFMinIter.exhaust\u001b[0;34m(self)\u001b[0m\n\u001b[1;32m    362\u001b[0m \u001b[38;5;28;01mdef\u001b[39;00m \u001b[38;5;21mexhaust\u001b[39m(\u001b[38;5;28mself\u001b[39m):\n\u001b[1;32m    363\u001b[0m     n_done \u001b[38;5;241m=\u001b[39m \u001b[38;5;28mlen\u001b[39m(\u001b[38;5;28mself\u001b[39m\u001b[38;5;241m.\u001b[39mtrials)\n\u001b[0;32m--> 364\u001b[0m     \u001b[38;5;28;43mself\u001b[39;49m\u001b[38;5;241;43m.\u001b[39;49m\u001b[43mrun\u001b[49m\u001b[43m(\u001b[49m\u001b[38;5;28;43mself\u001b[39;49m\u001b[38;5;241;43m.\u001b[39;49m\u001b[43mmax_evals\u001b[49m\u001b[43m \u001b[49m\u001b[38;5;241;43m-\u001b[39;49m\u001b[43m \u001b[49m\u001b[43mn_done\u001b[49m\u001b[43m,\u001b[49m\u001b[43m \u001b[49m\u001b[43mblock_until_done\u001b[49m\u001b[38;5;241;43m=\u001b[39;49m\u001b[38;5;28;43mself\u001b[39;49m\u001b[38;5;241;43m.\u001b[39;49m\u001b[43masynchronous\u001b[49m\u001b[43m)\u001b[49m\n\u001b[1;32m    365\u001b[0m     \u001b[38;5;28mself\u001b[39m\u001b[38;5;241m.\u001b[39mtrials\u001b[38;5;241m.\u001b[39mrefresh()\n\u001b[1;32m    366\u001b[0m     \u001b[38;5;28;01mreturn\u001b[39;00m \u001b[38;5;28mself\u001b[39m\n",
      "File \u001b[0;32m~/.local/lib/python3.10/site-packages/hyperopt/fmin.py:300\u001b[0m, in \u001b[0;36mFMinIter.run\u001b[0;34m(self, N, block_until_done)\u001b[0m\n\u001b[1;32m    297\u001b[0m     time\u001b[38;5;241m.\u001b[39msleep(\u001b[38;5;28mself\u001b[39m\u001b[38;5;241m.\u001b[39mpoll_interval_secs)\n\u001b[1;32m    298\u001b[0m \u001b[38;5;28;01melse\u001b[39;00m:\n\u001b[1;32m    299\u001b[0m     \u001b[38;5;66;03m# -- loop over trials and do the jobs directly\u001b[39;00m\n\u001b[0;32m--> 300\u001b[0m     \u001b[38;5;28;43mself\u001b[39;49m\u001b[38;5;241;43m.\u001b[39;49m\u001b[43mserial_evaluate\u001b[49m\u001b[43m(\u001b[49m\u001b[43m)\u001b[49m\n\u001b[1;32m    302\u001b[0m \u001b[38;5;28mself\u001b[39m\u001b[38;5;241m.\u001b[39mtrials\u001b[38;5;241m.\u001b[39mrefresh()\n\u001b[1;32m    303\u001b[0m \u001b[38;5;28;01mif\u001b[39;00m \u001b[38;5;28mself\u001b[39m\u001b[38;5;241m.\u001b[39mtrials_save_file \u001b[38;5;241m!=\u001b[39m \u001b[38;5;124m\"\u001b[39m\u001b[38;5;124m\"\u001b[39m:\n",
      "File \u001b[0;32m~/.local/lib/python3.10/site-packages/hyperopt/fmin.py:178\u001b[0m, in \u001b[0;36mFMinIter.serial_evaluate\u001b[0;34m(self, N)\u001b[0m\n\u001b[1;32m    176\u001b[0m ctrl \u001b[38;5;241m=\u001b[39m base\u001b[38;5;241m.\u001b[39mCtrl(\u001b[38;5;28mself\u001b[39m\u001b[38;5;241m.\u001b[39mtrials, current_trial\u001b[38;5;241m=\u001b[39mtrial)\n\u001b[1;32m    177\u001b[0m \u001b[38;5;28;01mtry\u001b[39;00m:\n\u001b[0;32m--> 178\u001b[0m     result \u001b[38;5;241m=\u001b[39m \u001b[38;5;28;43mself\u001b[39;49m\u001b[38;5;241;43m.\u001b[39;49m\u001b[43mdomain\u001b[49m\u001b[38;5;241;43m.\u001b[39;49m\u001b[43mevaluate\u001b[49m\u001b[43m(\u001b[49m\u001b[43mspec\u001b[49m\u001b[43m,\u001b[49m\u001b[43m \u001b[49m\u001b[43mctrl\u001b[49m\u001b[43m)\u001b[49m\n\u001b[1;32m    179\u001b[0m \u001b[38;5;28;01mexcept\u001b[39;00m \u001b[38;5;167;01mException\u001b[39;00m \u001b[38;5;28;01mas\u001b[39;00m e:\n\u001b[1;32m    180\u001b[0m     logger\u001b[38;5;241m.\u001b[39merror(\u001b[38;5;124m\"\u001b[39m\u001b[38;5;124mjob exception: \u001b[39m\u001b[38;5;132;01m%s\u001b[39;00m\u001b[38;5;124m\"\u001b[39m \u001b[38;5;241m%\u001b[39m \u001b[38;5;28mstr\u001b[39m(e))\n",
      "File \u001b[0;32m~/.local/lib/python3.10/site-packages/hyperopt/base.py:892\u001b[0m, in \u001b[0;36mDomain.evaluate\u001b[0;34m(self, config, ctrl, attach_attachments)\u001b[0m\n\u001b[1;32m    883\u001b[0m \u001b[38;5;28;01melse\u001b[39;00m:\n\u001b[1;32m    884\u001b[0m     \u001b[38;5;66;03m# -- the \"work\" of evaluating `config` can be written\u001b[39;00m\n\u001b[1;32m    885\u001b[0m     \u001b[38;5;66;03m#    either into the pyll part (self.expr)\u001b[39;00m\n\u001b[1;32m    886\u001b[0m     \u001b[38;5;66;03m#    or the normal Python part (self.fn)\u001b[39;00m\n\u001b[1;32m    887\u001b[0m     pyll_rval \u001b[38;5;241m=\u001b[39m pyll\u001b[38;5;241m.\u001b[39mrec_eval(\n\u001b[1;32m    888\u001b[0m         \u001b[38;5;28mself\u001b[39m\u001b[38;5;241m.\u001b[39mexpr,\n\u001b[1;32m    889\u001b[0m         memo\u001b[38;5;241m=\u001b[39mmemo,\n\u001b[1;32m    890\u001b[0m         print_node_on_error\u001b[38;5;241m=\u001b[39m\u001b[38;5;28mself\u001b[39m\u001b[38;5;241m.\u001b[39mrec_eval_print_node_on_error,\n\u001b[1;32m    891\u001b[0m     )\n\u001b[0;32m--> 892\u001b[0m     rval \u001b[38;5;241m=\u001b[39m \u001b[38;5;28;43mself\u001b[39;49m\u001b[38;5;241;43m.\u001b[39;49m\u001b[43mfn\u001b[49m\u001b[43m(\u001b[49m\u001b[43mpyll_rval\u001b[49m\u001b[43m)\u001b[49m\n\u001b[1;32m    894\u001b[0m \u001b[38;5;28;01mif\u001b[39;00m \u001b[38;5;28misinstance\u001b[39m(rval, (\u001b[38;5;28mfloat\u001b[39m, \u001b[38;5;28mint\u001b[39m, np\u001b[38;5;241m.\u001b[39mnumber)):\n\u001b[1;32m    895\u001b[0m     dict_rval \u001b[38;5;241m=\u001b[39m {\u001b[38;5;124m\"\u001b[39m\u001b[38;5;124mloss\u001b[39m\u001b[38;5;124m\"\u001b[39m: \u001b[38;5;28mfloat\u001b[39m(rval), \u001b[38;5;124m\"\u001b[39m\u001b[38;5;124mstatus\u001b[39m\u001b[38;5;124m\"\u001b[39m: STATUS_OK}\n",
      "Input \u001b[0;32mIn [7]\u001b[0m, in \u001b[0;36mcost_function\u001b[0;34m(n_estimators)\u001b[0m\n\u001b[1;32m     10\u001b[0m \u001b[38;5;28;01mif\u001b[39;00m n_estimators \u001b[38;5;241m==\u001b[39m \u001b[38;5;241m0\u001b[39m:\n\u001b[1;32m     11\u001b[0m     \u001b[38;5;28;01mreturn\u001b[39;00m \u001b[38;5;241m0\u001b[39m\n\u001b[0;32m---> 12\u001b[0m sgb_classifier \u001b[38;5;241m=\u001b[39m \u001b[43mmake_pipeline\u001b[49m\u001b[43m(\u001b[49m\u001b[43mStandardScaler\u001b[49m\u001b[43m(\u001b[49m\u001b[43m)\u001b[49m\u001b[43m,\u001b[49m\u001b[43m \u001b[49m\u001b[43mGradientBoostingClassifier\u001b[49m\u001b[43m(\u001b[49m\u001b[43mn_estimators\u001b[49m\u001b[38;5;241;43m=\u001b[39;49m\u001b[43mn_estimators\u001b[49m\u001b[43m,\u001b[49m\u001b[43m \u001b[49m\u001b[43mlearning_rate\u001b[49m\u001b[38;5;241;43m=\u001b[39;49m\u001b[38;5;241;43m0.5\u001b[39;49m\u001b[43m,\u001b[49m\u001b[43m \u001b[49m\u001b[43mrandom_state\u001b[49m\u001b[38;5;241;43m=\u001b[39;49m\u001b[38;5;241;43m0\u001b[39;49m\u001b[43m)\u001b[49m\u001b[43m)\u001b[49m\u001b[38;5;241;43m.\u001b[39;49m\u001b[43mfit\u001b[49m\u001b[43m(\u001b[49m\u001b[43mfeatures_train\u001b[49m\u001b[43m,\u001b[49m\u001b[43m \u001b[49m\u001b[43mtarget_train\u001b[49m\u001b[43m)\u001b[49m\n\u001b[1;32m     13\u001b[0m sgb_predictions \u001b[38;5;241m=\u001b[39m sgb_classifier\u001b[38;5;241m.\u001b[39mpredict(features_test)\n\u001b[1;32m     14\u001b[0m sgb_accuracy \u001b[38;5;241m=\u001b[39m accuracy_score(target_test, sgb_predictions)\n",
      "File \u001b[0;32m~/.local/lib/python3.10/site-packages/sklearn/pipeline.py:394\u001b[0m, in \u001b[0;36mPipeline.fit\u001b[0;34m(self, X, y, **fit_params)\u001b[0m\n\u001b[1;32m    392\u001b[0m     \u001b[38;5;28;01mif\u001b[39;00m \u001b[38;5;28mself\u001b[39m\u001b[38;5;241m.\u001b[39m_final_estimator \u001b[38;5;241m!=\u001b[39m \u001b[38;5;124m\"\u001b[39m\u001b[38;5;124mpassthrough\u001b[39m\u001b[38;5;124m\"\u001b[39m:\n\u001b[1;32m    393\u001b[0m         fit_params_last_step \u001b[38;5;241m=\u001b[39m fit_params_steps[\u001b[38;5;28mself\u001b[39m\u001b[38;5;241m.\u001b[39msteps[\u001b[38;5;241m-\u001b[39m\u001b[38;5;241m1\u001b[39m][\u001b[38;5;241m0\u001b[39m]]\n\u001b[0;32m--> 394\u001b[0m         \u001b[38;5;28;43mself\u001b[39;49m\u001b[38;5;241;43m.\u001b[39;49m\u001b[43m_final_estimator\u001b[49m\u001b[38;5;241;43m.\u001b[39;49m\u001b[43mfit\u001b[49m\u001b[43m(\u001b[49m\u001b[43mXt\u001b[49m\u001b[43m,\u001b[49m\u001b[43m \u001b[49m\u001b[43my\u001b[49m\u001b[43m,\u001b[49m\u001b[43m \u001b[49m\u001b[38;5;241;43m*\u001b[39;49m\u001b[38;5;241;43m*\u001b[39;49m\u001b[43mfit_params_last_step\u001b[49m\u001b[43m)\u001b[49m\n\u001b[1;32m    396\u001b[0m \u001b[38;5;28;01mreturn\u001b[39;00m \u001b[38;5;28mself\u001b[39m\n",
      "File \u001b[0;32m~/.local/lib/python3.10/site-packages/sklearn/ensemble/_gb.py:497\u001b[0m, in \u001b[0;36mBaseGradientBoosting.fit\u001b[0;34m(self, X, y, sample_weight, monitor)\u001b[0m\n\u001b[1;32m    494\u001b[0m y \u001b[38;5;241m=\u001b[39m column_or_1d(y, warn\u001b[38;5;241m=\u001b[39m\u001b[38;5;28;01mTrue\u001b[39;00m)\n\u001b[1;32m    496\u001b[0m \u001b[38;5;28;01mif\u001b[39;00m is_classifier(\u001b[38;5;28mself\u001b[39m):\n\u001b[0;32m--> 497\u001b[0m     y \u001b[38;5;241m=\u001b[39m \u001b[38;5;28;43mself\u001b[39;49m\u001b[38;5;241;43m.\u001b[39;49m\u001b[43m_validate_y\u001b[49m\u001b[43m(\u001b[49m\u001b[43my\u001b[49m\u001b[43m,\u001b[49m\u001b[43m \u001b[49m\u001b[43msample_weight\u001b[49m\u001b[43m)\u001b[49m\n\u001b[1;32m    498\u001b[0m \u001b[38;5;28;01melse\u001b[39;00m:\n\u001b[1;32m    499\u001b[0m     y \u001b[38;5;241m=\u001b[39m \u001b[38;5;28mself\u001b[39m\u001b[38;5;241m.\u001b[39m_validate_y(y)\n",
      "File \u001b[0;32m~/.local/lib/python3.10/site-packages/sklearn/ensemble/_gb.py:1268\u001b[0m, in \u001b[0;36mGradientBoostingClassifier._validate_y\u001b[0;34m(self, y, sample_weight)\u001b[0m\n\u001b[1;32m   1267\u001b[0m \u001b[38;5;28;01mdef\u001b[39;00m \u001b[38;5;21m_validate_y\u001b[39m(\u001b[38;5;28mself\u001b[39m, y, sample_weight):\n\u001b[0;32m-> 1268\u001b[0m     \u001b[43mcheck_classification_targets\u001b[49m\u001b[43m(\u001b[49m\u001b[43my\u001b[49m\u001b[43m)\u001b[49m\n\u001b[1;32m   1269\u001b[0m     \u001b[38;5;28mself\u001b[39m\u001b[38;5;241m.\u001b[39mclasses_, y \u001b[38;5;241m=\u001b[39m np\u001b[38;5;241m.\u001b[39munique(y, return_inverse\u001b[38;5;241m=\u001b[39m\u001b[38;5;28;01mTrue\u001b[39;00m)\n\u001b[1;32m   1270\u001b[0m     n_trim_classes \u001b[38;5;241m=\u001b[39m np\u001b[38;5;241m.\u001b[39mcount_nonzero(np\u001b[38;5;241m.\u001b[39mbincount(y, sample_weight))\n",
      "File \u001b[0;32m~/.local/lib/python3.10/site-packages/sklearn/utils/multiclass.py:197\u001b[0m, in \u001b[0;36mcheck_classification_targets\u001b[0;34m(y)\u001b[0m\n\u001b[1;32m    189\u001b[0m y_type \u001b[38;5;241m=\u001b[39m type_of_target(y)\n\u001b[1;32m    190\u001b[0m \u001b[38;5;28;01mif\u001b[39;00m y_type \u001b[38;5;129;01mnot\u001b[39;00m \u001b[38;5;129;01min\u001b[39;00m [\n\u001b[1;32m    191\u001b[0m     \u001b[38;5;124m\"\u001b[39m\u001b[38;5;124mbinary\u001b[39m\u001b[38;5;124m\"\u001b[39m,\n\u001b[1;32m    192\u001b[0m     \u001b[38;5;124m\"\u001b[39m\u001b[38;5;124mmulticlass\u001b[39m\u001b[38;5;124m\"\u001b[39m,\n\u001b[0;32m   (...)\u001b[0m\n\u001b[1;32m    195\u001b[0m     \u001b[38;5;124m\"\u001b[39m\u001b[38;5;124mmultilabel-sequences\u001b[39m\u001b[38;5;124m\"\u001b[39m,\n\u001b[1;32m    196\u001b[0m ]:\n\u001b[0;32m--> 197\u001b[0m     \u001b[38;5;28;01mraise\u001b[39;00m \u001b[38;5;167;01mValueError\u001b[39;00m(\u001b[38;5;124m\"\u001b[39m\u001b[38;5;124mUnknown label type: \u001b[39m\u001b[38;5;132;01m%r\u001b[39;00m\u001b[38;5;124m\"\u001b[39m \u001b[38;5;241m%\u001b[39m y_type)\n",
      "\u001b[0;31mValueError\u001b[0m: Unknown label type: 'continuous'"
     ]
    }
   ],
   "source": [
    "# Optimizing n_estimators to reach the highest possible Accuracy\n",
    "\n",
    "# N_ESTIMATORS should be max the SEARCHSPACE so all possibilities are tried once\n",
    "N_ESTIMATORS = 10\n",
    "SEARCH_SPACE = [hp.randint('n_estimators',200)]\n",
    "\n",
    "### Optimizaion ##############################################################################################################\n",
    "def cost_function(n_estimators):\n",
    "    n_estimators = n_estimators[0]\n",
    "    if n_estimators == 0:\n",
    "        return 0\n",
    "    sgb_classifier = make_pipeline(StandardScaler(), GradientBoostingClassifier(n_estimators=n_estimators, learning_rate=0.5, random_state=0)).fit(features_train, target_train)\n",
    "    sgb_predictions = sgb_classifier.predict(features_test)\n",
    "    sgb_accuracy = accuracy_score(target_test, sgb_predictions)\n",
    "    return {'loss': - sgb_accuracy , 'status': STATUS_OK }\n",
    "\n",
    "trials = Trials()\n",
    "best = fmin(cost_function,\n",
    "    space = SEARCH_SPACE,\n",
    "    algo = tpe.suggest,\n",
    "    max_evals = N_ESTIMATORS, \n",
    "    trials = trials)\n",
    "\n",
    "print(best)"
   ]
  },
  {
   "attachments": {},
   "cell_type": "markdown",
   "metadata": {},
   "source": [
    "best loss: -0.8973674869175894\n",
    "\n",
    "{'n_estimators': 174}"
   ]
  },
  {
   "cell_type": "code",
   "execution_count": 8,
   "metadata": {},
   "outputs": [],
   "source": [
    "n_estimators = best['n_estimators']\n",
    "\n",
    "sgb_classifier = make_pipeline(StandardScaler(), GradientBoostingClassifier(n_estimators=n_estimators, learning_rate=0.5, random_state=0)).fit(features_train, target_train)"
   ]
  },
  {
   "cell_type": "code",
   "execution_count": 9,
   "metadata": {},
   "outputs": [],
   "source": [
    "import pickle\n",
    "\n",
    "filename = 'model.pickle'\n",
    "\n",
    "pickle.dump(sgb_classifier, open(filename, \"wb\"))"
   ]
  },
  {
   "cell_type": "code",
   "execution_count": 11,
   "metadata": {},
   "outputs": [],
   "source": [
    "sgb_classifier = pickle.load(open(filename, \"rb\"))"
   ]
  },
  {
   "cell_type": "code",
   "execution_count": null,
   "metadata": {},
   "outputs": [],
   "source": [
    "# Verify performance / See false nagatives vs. false positives (ca: 7157 - 1855)\n",
    "\n",
    "predictions = sgb_classifier.predict(features_test)\n",
    "\n",
    "def calc_metrics(predictions, target_test):\n",
    "    prediction_true = false_negative = false_positive = 0\n",
    "\n",
    "    for i in range(0, 87331):\n",
    "        if target_test.iloc[i] == predictions[i]:\n",
    "            prediction_true+= 1\n",
    "        if (target_test.iloc[i] == 1 and predictions[i] == 0):\n",
    "            false_negative +=1\n",
    "        if (target_test.iloc[i] == 0 and predictions[i] == 1):\n",
    "            false_positive +=1\n",
    "    accuracy = 1 - (false_negative + false_positive) / len(predictions)\n",
    "\n",
    "    return (prediction_true, false_negative, false_positive, accuracy)\n",
    "\n",
    "prediction_true, false_negative, false_positive, accuracy = calc_metrics(predictions, target_test)\n",
    "print(prediction_true, false_negative, false_positive, accuracy)"
   ]
  },
  {
   "cell_type": "code",
   "execution_count": null,
   "metadata": {},
   "outputs": [],
   "source": [
    "# Predicting for one specific 'person' #################################################################################################\n",
    "\n",
    "# taking a random row from the test data to predict a result for:\n",
    "def make_test_prediction(sgb_classifier):\n",
    "    rand_index = random.randint(0, 32581)\n",
    "    test_row = features_test.iloc[rand_index] #.values.flatten().tolist()\n",
    "    test_groundtruth = target_test.iloc[rand_index]\n",
    "    prediction = sgb_classifier.predict([test_row])\n",
    "    \n",
    "    return (prediction, test_groundtruth)\n",
    "\n",
    "prediction, test_groundtruth = make_test_prediction(sgb_classifier)\n",
    "print (prediction)\n",
    "print (test_groundtruth)"
   ]
  },
  {
   "cell_type": "markdown",
   "metadata": {},
   "source": [
    "**Conclusion:**\n",
    "\n",
    "- simple SGB: Best reachable Accuracy:  87.33042784359463%, with max_iter= 74\n",
    "- Using a Pipepline/StandartScaler: Best reachable Accuracy:  100%, with max_iter = 11 "
   ]
  },
  {
   "cell_type": "code",
   "execution_count": 17,
   "metadata": {},
   "outputs": [
    {
     "data": {
      "image/png": "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",
      "text/plain": [
       "<Figure size 1000x500 with 1 Axes>"
      ]
     },
     "metadata": {},
     "output_type": "display_data"
    }
   ],
   "source": [
    "# Vizualisation\n",
    "import seaborn as sns\n",
    "from matplotlib import pyplot as plt\n",
    "\n",
    "sns.set(style=\"whitegrid\", palette= \"Accent\")\n",
    "\n",
    "tids = [t['tid'] for t in trials.trials]\n",
    "n_estimators = [t['misc']['vals']['n_estimators']for t in trials]\n",
    "\n",
    "\n",
    "fig, ax = plt.subplots()\n",
    "ax.scatter(tids, n_estimators)\n",
    "\n",
    "ax.legend(('n_estimators'), loc='lower right')\n",
    "ax.set_ylabel('n_estimators over all trials')\n",
    "ax.set_xlabel('trialIDs')\n",
    "fig.set_size_inches(10, 5)\n",
    "\n",
    "fig.savefig('./visualizations/tested_values.png')"
   ]
  }
 ],
 "metadata": {
  "kernelspec": {
   "display_name": "Python 3 (ipykernel)",
   "language": "python",
   "name": "python3"
  },
  "language_info": {
   "codemirror_mode": {
    "name": "ipython",
    "version": 3
   },
   "file_extension": ".py",
   "mimetype": "text/x-python",
   "name": "python",
   "nbconvert_exporter": "python",
   "pygments_lexer": "ipython3",
   "version": "3.10.9"
  },
  "vscode": {
   "interpreter": {
    "hash": "6f891c0ef62455f9f8d0cbb2d117bcba51effc94d210f58e83104cbf88b6bc54"
   }
  }
 },
 "nbformat": 4,
 "nbformat_minor": 2
}
