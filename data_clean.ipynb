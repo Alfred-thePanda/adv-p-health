{
 "cells": [
  {
   "cell_type": "code",
   "execution_count": 1,
   "id": "d327cad4",
   "metadata": {},
   "outputs": [],
   "source": [
    "import pandas as pd\n",
    "import numpy as np\n",
    "import matplotlib.pyplot as plt\n",
    "import seaborn as sns\n",
    "import math\n",
    "\n",
    "%matplotlib inline\n",
    "\n",
    "import warnings\n",
    "\n",
    "warnings.simplefilter(action='ignore', category=pd.errors.PerformanceWarning)"
   ]
  },
  {
   "cell_type": "code",
   "execution_count": 2,
   "id": "adb4028b",
   "metadata": {},
   "outputs": [],
   "source": [
    "df = pd.read_csv('./data/brfss_reduced.csv')"
   ]
  },
  {
   "cell_type": "code",
   "execution_count": 3,
   "id": "4ebe0676",
   "metadata": {},
   "outputs": [
    {
     "data": {
      "text/plain": [
       "count    378564.000000\n",
       "mean          0.538440\n",
       "std           0.498521\n",
       "min           0.000000\n",
       "25%           0.000000\n",
       "50%           1.000000\n",
       "75%           1.000000\n",
       "max           1.000000\n",
       "Name: SEXVAR, dtype: float64"
      ]
     },
     "execution_count": 3,
     "metadata": {},
     "output_type": "execute_result"
    }
   ],
   "source": [
    "df['SEXVAR'] -= 1\n",
    "df['SEXVAR'].describe()"
   ]
  },
  {
   "cell_type": "code",
   "execution_count": 4,
   "id": "e736a09a",
   "metadata": {},
   "outputs": [],
   "source": [
    "df = df[df['GENHLTH'] != 7]\n",
    "df = df[df['GENHLTH'] != 9]"
   ]
  },
  {
   "cell_type": "code",
   "execution_count": 5,
   "id": "dac915dc",
   "metadata": {},
   "outputs": [],
   "source": [
    "df['GENHLTH'] = df['GENHLTH'].replace(1,0)\n",
    "df['GENHLTH'] = df['GENHLTH'].replace(2,1)\n",
    "df['GENHLTH'] = df['GENHLTH'].replace(3,2)\n",
    "df['GENHLTH'] = df['GENHLTH'].replace(4,3)\n",
    "df['GENHLTH'] = df['GENHLTH'].replace(5,4)"
   ]
  },
  {
   "cell_type": "code",
   "execution_count": 6,
   "id": "cb449777",
   "metadata": {},
   "outputs": [],
   "source": [
    "df = df.dropna(subset=['GENHLTH'])"
   ]
  },
  {
   "cell_type": "code",
   "execution_count": 7,
   "id": "7d8218dc",
   "metadata": {},
   "outputs": [
    {
     "data": {
      "text/plain": [
       "1.0    130987\n",
       "2.0    118466\n",
       "0.0     66795\n",
       "3.0     46621\n",
       "4.0     15011\n",
       "Name: GENHLTH, dtype: int64"
      ]
     },
     "execution_count": 7,
     "metadata": {},
     "output_type": "execute_result"
    }
   ],
   "source": [
    "df[\"GENHLTH\"].value_counts()"
   ]
  },
  {
   "cell_type": "code",
   "execution_count": 8,
   "id": "00d255f5",
   "metadata": {},
   "outputs": [
    {
     "data": {
      "text/plain": [
       "2"
      ]
     },
     "execution_count": 8,
     "metadata": {},
     "output_type": "execute_result"
    }
   ],
   "source": [
    "df['PHYSHLTH'].isna().sum()"
   ]
  },
  {
   "cell_type": "code",
   "execution_count": 9,
   "id": "daf4419f",
   "metadata": {},
   "outputs": [
    {
     "data": {
      "text/plain": [
       "count    371439.000000\n",
       "mean          3.776157\n",
       "std           8.303671\n",
       "min           0.000000\n",
       "25%           0.000000\n",
       "50%           0.000000\n",
       "75%           2.000000\n",
       "max          30.000000\n",
       "Name: PHYSHLTH, dtype: float64"
      ]
     },
     "execution_count": 9,
     "metadata": {},
     "output_type": "execute_result"
    }
   ],
   "source": [
    "df['PHYSHLTH'] = df['PHYSHLTH'].replace(88,0)\n",
    "df['PHYSHLTH'] = df['PHYSHLTH'].replace([77,99],np.nan)\n",
    "df['PHYSHLTH'].describe()"
   ]
  },
  {
   "cell_type": "code",
   "execution_count": 10,
   "id": "5d83fd9a",
   "metadata": {},
   "outputs": [
    {
     "data": {
      "text/plain": [
       "0"
      ]
     },
     "execution_count": 10,
     "metadata": {},
     "output_type": "execute_result"
    }
   ],
   "source": [
    "df['MENTHLTH'].isna().sum()"
   ]
  },
  {
   "cell_type": "code",
   "execution_count": 11,
   "id": "28d6e520",
   "metadata": {},
   "outputs": [
    {
     "data": {
      "text/plain": [
       "count    372553.000000\n",
       "mean          4.125131\n",
       "std           8.133648\n",
       "min           0.000000\n",
       "25%           0.000000\n",
       "50%           0.000000\n",
       "75%           4.000000\n",
       "max          30.000000\n",
       "Name: MENTHLTH, dtype: float64"
      ]
     },
     "execution_count": 11,
     "metadata": {},
     "output_type": "execute_result"
    }
   ],
   "source": [
    "df['MENTHLTH'] = df['MENTHLTH'].replace(88,0)\n",
    "df['MENTHLTH'] = df['MENTHLTH'].replace([77,99],np.nan)\n",
    "df['MENTHLTH'].describe()"
   ]
  },
  {
   "cell_type": "code",
   "execution_count": 12,
   "id": "47bd7e3c",
   "metadata": {},
   "outputs": [
    {
     "data": {
      "text/plain": [
       "175030"
      ]
     },
     "execution_count": 12,
     "metadata": {},
     "output_type": "execute_result"
    }
   ],
   "source": [
    "df['POORHLTH'].isna().sum()"
   ]
  },
  {
   "cell_type": "code",
   "execution_count": 13,
   "id": "37d6defd",
   "metadata": {},
   "outputs": [
    {
     "data": {
      "text/plain": [
       "count    374393.000000\n",
       "mean          2.742533\n",
       "std           7.011285\n",
       "min           0.000000\n",
       "25%           0.000000\n",
       "50%           0.000000\n",
       "75%           0.000000\n",
       "max          30.000000\n",
       "Name: POORHLTH, dtype: float64"
      ]
     },
     "execution_count": 13,
     "metadata": {},
     "output_type": "execute_result"
    }
   ],
   "source": [
    "df['POORHLTH'] = df['POORHLTH'].replace(88,0)\n",
    "df['POORHLTH'] = df['POORHLTH'].fillna(0)\n",
    "df['POORHLTH'] = df['POORHLTH'].replace([77,99],np.nan)\n",
    "df['POORHLTH'].describe()"
   ]
  },
  {
   "cell_type": "code",
   "execution_count": 14,
   "id": "a2e86d92",
   "metadata": {},
   "outputs": [
    {
     "data": {
      "text/plain": [
       "0"
      ]
     },
     "execution_count": 14,
     "metadata": {},
     "output_type": "execute_result"
    }
   ],
   "source": [
    "df['PERSDOC3'].isna().sum()"
   ]
  },
  {
   "cell_type": "code",
   "execution_count": 15,
   "id": "cfc9c105",
   "metadata": {},
   "outputs": [
    {
     "data": {
      "text/plain": [
       "count    375303.000000\n",
       "mean          0.883156\n",
       "std           0.321235\n",
       "min           0.000000\n",
       "25%           1.000000\n",
       "50%           1.000000\n",
       "75%           1.000000\n",
       "max           1.000000\n",
       "Name: PERSDOC3, dtype: float64"
      ]
     },
     "execution_count": 15,
     "metadata": {},
     "output_type": "execute_result"
    }
   ],
   "source": [
    "# has a personal doctor\n",
    "df['PERSDOC3'].replace(2,1, inplace=True)\n",
    "df['PERSDOC3'].replace(3,0, inplace=True)\n",
    "df['PERSDOC3'].replace([7,9],np.nan, inplace=True)\n",
    "df['PERSDOC3'].describe()"
   ]
  },
  {
   "cell_type": "code",
   "execution_count": 16,
   "id": "52eb3f5f",
   "metadata": {},
   "outputs": [
    {
     "data": {
      "text/plain": [
       "3"
      ]
     },
     "execution_count": 16,
     "metadata": {},
     "output_type": "execute_result"
    }
   ],
   "source": [
    "df['MEDCOST1'].isna().sum()"
   ]
  },
  {
   "cell_type": "code",
   "execution_count": 17,
   "id": "2d94503e",
   "metadata": {},
   "outputs": [
    {
     "data": {
      "text/plain": [
       "count    377020.000000\n",
       "mean          0.073198\n",
       "std           0.260461\n",
       "min           0.000000\n",
       "25%           0.000000\n",
       "50%           0.000000\n",
       "75%           0.000000\n",
       "max           1.000000\n",
       "Name: MEDCOST1, dtype: float64"
      ]
     },
     "execution_count": 17,
     "metadata": {},
     "output_type": "execute_result"
    }
   ],
   "source": [
    "# Could Not Afford To See Doctor\n",
    "df['MEDCOST1'].replace(2,0, inplace=True)\n",
    "df['MEDCOST1'].replace([7,9],np.nan, inplace=True)\n",
    "df['MEDCOST1'].describe()"
   ]
  },
  {
   "cell_type": "code",
   "execution_count": 18,
   "id": "bae2bb7a",
   "metadata": {},
   "outputs": [
    {
     "data": {
      "text/plain": [
       "0"
      ]
     },
     "execution_count": 18,
     "metadata": {},
     "output_type": "execute_result"
    }
   ],
   "source": [
    "df['CHECKUP1'].isna().sum()"
   ]
  },
  {
   "cell_type": "code",
   "execution_count": 19,
   "id": "7a72a898",
   "metadata": {},
   "outputs": [
    {
     "data": {
      "text/plain": [
       "count    373877.000000\n",
       "mean          0.778128\n",
       "std           0.415506\n",
       "min           0.000000\n",
       "25%           1.000000\n",
       "50%           1.000000\n",
       "75%           1.000000\n",
       "max           1.000000\n",
       "Name: CHECKUP1, dtype: float64"
      ]
     },
     "execution_count": 19,
     "metadata": {},
     "output_type": "execute_result"
    }
   ],
   "source": [
    "# Length of time since last routine checkup\n",
    "df['CHECKUP1'].replace([2,3,4,8],0, inplace=True)\n",
    "df['CHECKUP1'].replace([7,9],np.nan, inplace=True)\n",
    "df['CHECKUP1'].describe()"
   ]
  },
  {
   "cell_type": "code",
   "execution_count": 20,
   "id": "fa72b592",
   "metadata": {},
   "outputs": [
    {
     "data": {
      "text/plain": [
       "0"
      ]
     },
     "execution_count": 20,
     "metadata": {},
     "output_type": "execute_result"
    }
   ],
   "source": [
    "df['EXERANY2'].isna().sum()"
   ]
  },
  {
   "cell_type": "code",
   "execution_count": 21,
   "id": "07c56289",
   "metadata": {},
   "outputs": [
    {
     "data": {
      "text/plain": [
       "count    377345.000000\n",
       "mean          0.763654\n",
       "std           0.424838\n",
       "min           0.000000\n",
       "25%           1.000000\n",
       "50%           1.000000\n",
       "75%           1.000000\n",
       "max           1.000000\n",
       "Name: EXERANY2, dtype: float64"
      ]
     },
     "execution_count": 21,
     "metadata": {},
     "output_type": "execute_result"
    }
   ],
   "source": [
    "# Exercise in Past 30 Days\n",
    "df['EXERANY2'].replace(2,0, inplace=True)\n",
    "df['EXERANY2'].replace([7,9],np.nan, inplace=True)\n",
    "df['EXERANY2'].describe()"
   ]
  },
  {
   "cell_type": "code",
   "execution_count": 22,
   "id": "52521168",
   "metadata": {},
   "outputs": [
    {
     "data": {
      "text/plain": [
       "0"
      ]
     },
     "execution_count": 22,
     "metadata": {},
     "output_type": "execute_result"
    }
   ],
   "source": [
    "df['BPHIGH6'].isna().sum()"
   ]
  },
  {
   "cell_type": "code",
   "execution_count": 23,
   "id": "c719da9a",
   "metadata": {},
   "outputs": [
    {
     "data": {
      "text/plain": [
       "count    376616.000000\n",
       "mean          0.394688\n",
       "std           0.488784\n",
       "min           0.000000\n",
       "25%           0.000000\n",
       "50%           0.000000\n",
       "75%           1.000000\n",
       "max           1.000000\n",
       "Name: high_blood_pressure, dtype: float64"
      ]
     },
     "execution_count": 23,
     "metadata": {},
     "output_type": "execute_result"
    }
   ],
   "source": [
    "# Ever Told Blood Pressure High\n",
    "df['high_blood_pressure'] = df['BPHIGH6']\n",
    "df['high_blood_pressure'].replace([2,3,4],0, inplace=True)\n",
    "df['high_blood_pressure'].replace([7,9],np.nan, inplace=True)\n",
    "df['high_blood_pressure'].describe()"
   ]
  },
  {
   "cell_type": "code",
   "execution_count": 24,
   "id": "266d9550",
   "metadata": {},
   "outputs": [
    {
     "data": {
      "text/plain": [
       "count    376616.000000\n",
       "mean          0.008077\n",
       "std           0.089510\n",
       "min           0.000000\n",
       "25%           0.000000\n",
       "50%           0.000000\n",
       "75%           0.000000\n",
       "max           1.000000\n",
       "Name: pregnant_high_blood_pressure, dtype: float64"
      ]
     },
     "execution_count": 24,
     "metadata": {},
     "output_type": "execute_result"
    }
   ],
   "source": [
    "# Ever Told Blood Pressure High\n",
    "df['pregnant_high_blood_pressure'] = df['BPHIGH6']\n",
    "df['pregnant_high_blood_pressure'].replace([1,3,4],0, inplace=True)\n",
    "df['pregnant_high_blood_pressure'].replace(2,1, inplace=True)\n",
    "df['pregnant_high_blood_pressure'].replace([7,9],np.nan, inplace=True)\n",
    "df['pregnant_high_blood_pressure'].describe()"
   ]
  },
  {
   "cell_type": "code",
   "execution_count": 25,
   "id": "61081c41",
   "metadata": {},
   "outputs": [
    {
     "data": {
      "text/plain": [
       "count    376616.000000\n",
       "mean          0.010823\n",
       "std           0.103468\n",
       "min           0.000000\n",
       "25%           0.000000\n",
       "50%           0.000000\n",
       "75%           0.000000\n",
       "max           1.000000\n",
       "Name: borderline_high_blood_pressure, dtype: float64"
      ]
     },
     "execution_count": 25,
     "metadata": {},
     "output_type": "execute_result"
    }
   ],
   "source": [
    "# Ever Told Blood Pressure High\n",
    "df['borderline_high_blood_pressure'] = df['BPHIGH6']\n",
    "df['borderline_high_blood_pressure'].replace([1,2,3],0, inplace=True)\n",
    "df['borderline_high_blood_pressure'].replace(4,1, inplace=True)\n",
    "df['borderline_high_blood_pressure'].replace([7,9],np.nan, inplace=True)\n",
    "df['borderline_high_blood_pressure'].describe()"
   ]
  },
  {
   "cell_type": "code",
   "execution_count": 26,
   "id": "0a345aa2",
   "metadata": {},
   "outputs": [],
   "source": [
    "df = df.drop(['BPHIGH6'], axis=1)"
   ]
  },
  {
   "cell_type": "code",
   "execution_count": 27,
   "id": "b9a1df03",
   "metadata": {},
   "outputs": [
    {
     "data": {
      "text/plain": [
       "229234"
      ]
     },
     "execution_count": 27,
     "metadata": {},
     "output_type": "execute_result"
    }
   ],
   "source": [
    "df['BPMEDS'].isna().sum()"
   ]
  },
  {
   "cell_type": "code",
   "execution_count": 28,
   "id": "15d4bc68",
   "metadata": {},
   "outputs": [
    {
     "data": {
      "text/plain": [
       "count    377549.000000\n",
       "mean          0.325791\n",
       "std           0.468670\n",
       "min           0.000000\n",
       "25%           0.000000\n",
       "50%           0.000000\n",
       "75%           1.000000\n",
       "max           1.000000\n",
       "Name: BPMEDS, dtype: float64"
      ]
     },
     "execution_count": 28,
     "metadata": {},
     "output_type": "execute_result"
    }
   ],
   "source": [
    "# high blood pressure medication\n",
    "df['BPMEDS'] = df['BPMEDS'].fillna(0)\n",
    "df['BPMEDS'] = df['BPMEDS'].replace(2,0)\n",
    "df['BPMEDS'] = df['BPMEDS'].replace([7,9],np.nan)\n",
    "df['BPMEDS'].describe()"
   ]
  },
  {
   "cell_type": "code",
   "execution_count": 29,
   "id": "4dc2901e",
   "metadata": {},
   "outputs": [
    {
     "data": {
      "text/plain": [
       "0"
      ]
     },
     "execution_count": 29,
     "metadata": {},
     "output_type": "execute_result"
    }
   ],
   "source": [
    "df['CHOLCHK3'].isna().sum()"
   ]
  },
  {
   "cell_type": "code",
   "execution_count": 30,
   "id": "f079dcc7",
   "metadata": {},
   "outputs": [
    {
     "data": {
      "text/plain": [
       "count    354779.000000\n",
       "mean          0.708331\n",
       "std           0.454531\n",
       "min           0.000000\n",
       "25%           0.000000\n",
       "50%           1.000000\n",
       "75%           1.000000\n",
       "max           1.000000\n",
       "Name: cholesterol_checked_within_year, dtype: float64"
      ]
     },
     "execution_count": 30,
     "metadata": {},
     "output_type": "execute_result"
    }
   ],
   "source": [
    "# cholesterol checked within last year\n",
    "df['cholesterol_checked_within_year'] = df['CHOLCHK3']\n",
    "df['cholesterol_checked_within_year'].replace([1,3,4,5,6,8],0, inplace=True)\n",
    "df['cholesterol_checked_within_year'].replace(2,1, inplace=True)\n",
    "df['cholesterol_checked_within_year'].replace([7,9],np.nan, inplace=True)\n",
    "df['cholesterol_checked_within_year'].describe()"
   ]
  },
  {
   "cell_type": "code",
   "execution_count": 31,
   "id": "41da0c62",
   "metadata": {},
   "outputs": [],
   "source": [
    "df = df.drop(['CHOLCHK3'], axis=1)"
   ]
  },
  {
   "cell_type": "code",
   "execution_count": 32,
   "id": "22883bd9",
   "metadata": {},
   "outputs": [
    {
     "data": {
      "text/plain": [
       "49521"
      ]
     },
     "execution_count": 32,
     "metadata": {},
     "output_type": "execute_result"
    }
   ],
   "source": [
    "df['TOLDHI3'].isna().sum()"
   ]
  },
  {
   "cell_type": "code",
   "execution_count": 33,
   "id": "49c9bc72",
   "metadata": {},
   "outputs": [
    {
     "data": {
      "text/plain": [
       "count    375439.000000\n",
       "mean          0.350142\n",
       "std           0.477015\n",
       "min           0.000000\n",
       "25%           0.000000\n",
       "50%           0.000000\n",
       "75%           1.000000\n",
       "max           1.000000\n",
       "Name: TOLDHI3, dtype: float64"
      ]
     },
     "execution_count": 33,
     "metadata": {},
     "output_type": "execute_result"
    }
   ],
   "source": [
    "# been told cholesterol is high\n",
    "df['TOLDHI3'].fillna(0, inplace=True)\n",
    "df['TOLDHI3'].replace(2,0, inplace=True)\n",
    "df['TOLDHI3'].replace([7,9],np.nan, inplace=True)\n",
    "df['TOLDHI3'].describe()"
   ]
  },
  {
   "cell_type": "code",
   "execution_count": 34,
   "id": "8bed8acd",
   "metadata": {},
   "outputs": [
    {
     "data": {
      "text/plain": [
       "50186"
      ]
     },
     "execution_count": 34,
     "metadata": {},
     "output_type": "execute_result"
    }
   ],
   "source": [
    "df['CHOLMED3'].isna().sum()"
   ]
  },
  {
   "cell_type": "code",
   "execution_count": 35,
   "id": "0e040f74",
   "metadata": {},
   "outputs": [
    {
     "data": {
      "text/plain": [
       "count    376487.000000\n",
       "mean          0.265712\n",
       "std           0.441712\n",
       "min           0.000000\n",
       "25%           0.000000\n",
       "50%           0.000000\n",
       "75%           1.000000\n",
       "max           1.000000\n",
       "Name: CHOLMED3, dtype: float64"
      ]
     },
     "execution_count": 35,
     "metadata": {},
     "output_type": "execute_result"
    }
   ],
   "source": [
    "# Currently taking medicine for high cholesterol\n",
    "df['CHOLMED3'].fillna(0, inplace=True)\n",
    "df['CHOLMED3'].replace(2,0, inplace=True)\n",
    "df['CHOLMED3'].replace([7,9],np.nan, inplace=True)\n",
    "df['CHOLMED3'].describe()"
   ]
  },
  {
   "cell_type": "code",
   "execution_count": 36,
   "id": "1924cbea",
   "metadata": {},
   "outputs": [
    {
     "data": {
      "text/plain": [
       "0"
      ]
     },
     "execution_count": 36,
     "metadata": {},
     "output_type": "execute_result"
    }
   ],
   "source": [
    "df['CVDINFR4'].isna().sum()"
   ]
  },
  {
   "cell_type": "code",
   "execution_count": 37,
   "id": "df9d11f8",
   "metadata": {},
   "outputs": [
    {
     "data": {
      "text/plain": [
       "count    375992.000000\n",
       "mean          0.051669\n",
       "std           0.221357\n",
       "min           0.000000\n",
       "25%           0.000000\n",
       "50%           0.000000\n",
       "75%           0.000000\n",
       "max           1.000000\n",
       "Name: CVDINFR4, dtype: float64"
      ]
     },
     "execution_count": 37,
     "metadata": {},
     "output_type": "execute_result"
    }
   ],
   "source": [
    "# *had heart attack*\n",
    "df['CVDINFR4'].replace(2,0, inplace=True)\n",
    "df['CVDINFR4'].replace([7,9],np.nan, inplace=True)\n",
    "df['CVDINFR4'].describe()"
   ]
  },
  {
   "cell_type": "code",
   "execution_count": 38,
   "id": "78d6f137",
   "metadata": {},
   "outputs": [
    {
     "data": {
      "text/plain": [
       "0"
      ]
     },
     "execution_count": 38,
     "metadata": {},
     "output_type": "execute_result"
    }
   ],
   "source": [
    "df['CVDCRHD4'].isna().sum()"
   ]
  },
  {
   "cell_type": "code",
   "execution_count": 39,
   "id": "2a62a982",
   "metadata": {},
   "outputs": [
    {
     "data": {
      "text/plain": [
       "count    374651.000000\n",
       "mean          0.053100\n",
       "std           0.224233\n",
       "min           0.000000\n",
       "25%           0.000000\n",
       "50%           0.000000\n",
       "75%           0.000000\n",
       "max           1.000000\n",
       "Name: CVDCRHD4, dtype: float64"
      ]
     },
     "execution_count": 39,
     "metadata": {},
     "output_type": "execute_result"
    }
   ],
   "source": [
    "# *told had angina or coronary heart disease*\n",
    "df['CVDCRHD4'].replace(2,0, inplace=True)\n",
    "df['CVDCRHD4'].replace([7,9],np.nan, inplace=True)\n",
    "df['CVDCRHD4'].describe()"
   ]
  },
  {
   "cell_type": "code",
   "execution_count": 40,
   "id": "bf784a6b",
   "metadata": {},
   "outputs": [
    {
     "data": {
      "text/plain": [
       "0"
      ]
     },
     "execution_count": 40,
     "metadata": {},
     "output_type": "execute_result"
    }
   ],
   "source": [
    "df['CVDSTRK3'].isna().sum()"
   ]
  },
  {
   "cell_type": "code",
   "execution_count": 41,
   "id": "b91b05dc",
   "metadata": {},
   "outputs": [
    {
     "data": {
      "text/plain": [
       "count    376872.000000\n",
       "mean          0.038525\n",
       "std           0.192460\n",
       "min           0.000000\n",
       "25%           0.000000\n",
       "50%           0.000000\n",
       "75%           0.000000\n",
       "max           1.000000\n",
       "Name: CVDSTRK3, dtype: float64"
      ]
     },
     "execution_count": 41,
     "metadata": {},
     "output_type": "execute_result"
    }
   ],
   "source": [
    "# *had stroke*\n",
    "df['CVDSTRK3'].replace(2,0, inplace=True)\n",
    "df['CVDSTRK3'].replace([7,9],np.nan, inplace=True)\n",
    "df['CVDSTRK3'].describe()"
   ]
  },
  {
   "cell_type": "code",
   "execution_count": 42,
   "id": "027bcdcd",
   "metadata": {},
   "outputs": [
    {
     "data": {
      "text/plain": [
       "0"
      ]
     },
     "execution_count": 42,
     "metadata": {},
     "output_type": "execute_result"
    }
   ],
   "source": [
    "df['ASTHMA3'].isna().sum()"
   ]
  },
  {
   "cell_type": "code",
   "execution_count": 43,
   "id": "0aeaea6f",
   "metadata": {},
   "outputs": [
    {
     "data": {
      "text/plain": [
       "count    376634.000000\n",
       "mean          0.142494\n",
       "std           0.349556\n",
       "min           0.000000\n",
       "25%           0.000000\n",
       "50%           0.000000\n",
       "75%           0.000000\n",
       "max           1.000000\n",
       "Name: ASTHMA3, dtype: float64"
      ]
     },
     "execution_count": 43,
     "metadata": {},
     "output_type": "execute_result"
    }
   ],
   "source": [
    "# *had asthma*\n",
    "df['ASTHMA3'].replace(2,0, inplace=True)\n",
    "df['ASTHMA3'].replace([7,9],np.nan, inplace=True)\n",
    "df['ASTHMA3'].describe()"
   ]
  },
  {
   "cell_type": "code",
   "execution_count": 44,
   "id": "ea7e4c49",
   "metadata": {},
   "outputs": [
    {
     "data": {
      "text/plain": [
       "324212"
      ]
     },
     "execution_count": 44,
     "metadata": {},
     "output_type": "execute_result"
    }
   ],
   "source": [
    "df['ASTHNOW'].isna().sum()"
   ]
  },
  {
   "cell_type": "code",
   "execution_count": 45,
   "id": "80d0673d",
   "metadata": {},
   "outputs": [
    {
     "data": {
      "text/plain": [
       "count    376370.000000\n",
       "mean          0.098780\n",
       "std           0.298367\n",
       "min           0.000000\n",
       "25%           0.000000\n",
       "50%           0.000000\n",
       "75%           0.000000\n",
       "max           1.000000\n",
       "Name: ASTHNOW, dtype: float64"
      ]
     },
     "execution_count": 45,
     "metadata": {},
     "output_type": "execute_result"
    }
   ],
   "source": [
    "# *has asthma now*\n",
    "df['ASTHNOW'].fillna(0, inplace=True)\n",
    "df['ASTHNOW'].replace(2,0, inplace=True)\n",
    "df['ASTHNOW'].replace([7,9],np.nan, inplace=True)\n",
    "df['ASTHNOW'].describe()"
   ]
  },
  {
   "cell_type": "code",
   "execution_count": 46,
   "id": "4019ca7f",
   "metadata": {},
   "outputs": [
    {
     "data": {
      "text/plain": [
       "0"
      ]
     },
     "execution_count": 46,
     "metadata": {},
     "output_type": "execute_result"
    }
   ],
   "source": [
    "df['CHCSCNCR'].isna().sum()"
   ]
  },
  {
   "cell_type": "code",
   "execution_count": 47,
   "id": "d18cbebd",
   "metadata": {},
   "outputs": [
    {
     "data": {
      "text/plain": [
       "count    376858.000000\n",
       "mean          0.095930\n",
       "std           0.294496\n",
       "min           0.000000\n",
       "25%           0.000000\n",
       "50%           0.000000\n",
       "75%           0.000000\n",
       "max           1.000000\n",
       "Name: CHCSCNCR, dtype: float64"
      ]
     },
     "execution_count": 47,
     "metadata": {},
     "output_type": "execute_result"
    }
   ],
   "source": [
    "# *had skin cancer*\n",
    "df['CHCSCNCR'].replace(2,0, inplace=True)\n",
    "df['CHCSCNCR'].replace([7,9],np.nan, inplace=True)\n",
    "df['CHCSCNCR'].describe()"
   ]
  },
  {
   "cell_type": "code",
   "execution_count": 48,
   "id": "1e7bf154",
   "metadata": {},
   "outputs": [
    {
     "data": {
      "text/plain": [
       "0"
      ]
     },
     "execution_count": 48,
     "metadata": {},
     "output_type": "execute_result"
    }
   ],
   "source": [
    "df['CHCOCNCR'].isna().sum()"
   ]
  },
  {
   "cell_type": "code",
   "execution_count": 49,
   "id": "d1b364da",
   "metadata": {},
   "outputs": [
    {
     "data": {
      "text/plain": [
       "count    376960.000000\n",
       "mean          0.098077\n",
       "std           0.297419\n",
       "min           0.000000\n",
       "25%           0.000000\n",
       "50%           0.000000\n",
       "75%           0.000000\n",
       "max           1.000000\n",
       "Name: CHCOCNCR, dtype: float64"
      ]
     },
     "execution_count": 49,
     "metadata": {},
     "output_type": "execute_result"
    }
   ],
   "source": [
    "# *had other cancer*\n",
    "df['CHCOCNCR'].replace(2,0, inplace=True)\n",
    "df['CHCOCNCR'].replace([7,9],np.nan, inplace=True)\n",
    "df['CHCOCNCR'].describe()"
   ]
  },
  {
   "cell_type": "code",
   "execution_count": 50,
   "id": "ca5d9ee2",
   "metadata": {},
   "outputs": [
    {
     "data": {
      "text/plain": [
       "0"
      ]
     },
     "execution_count": 50,
     "metadata": {},
     "output_type": "execute_result"
    }
   ],
   "source": [
    "df['CHCCOPD3'].isna().sum()"
   ]
  },
  {
   "cell_type": "code",
   "execution_count": 51,
   "id": "8bd513e2",
   "metadata": {},
   "outputs": [
    {
     "data": {
      "text/plain": [
       "count    376393.000000\n",
       "mean          0.078110\n",
       "std           0.268345\n",
       "min           0.000000\n",
       "25%           0.000000\n",
       "50%           0.000000\n",
       "75%           0.000000\n",
       "max           1.000000\n",
       "Name: CHCCOPD3, dtype: float64"
      ]
     },
     "execution_count": 51,
     "metadata": {},
     "output_type": "execute_result"
    }
   ],
   "source": [
    "# *Ever told you had C.O.P.D. emphysema or chronic bronchitis?*\n",
    "df['CHCCOPD3'].replace(2,0, inplace=True)\n",
    "df['CHCCOPD3'].replace([7,9],np.nan, inplace=True)\n",
    "df['CHCCOPD3'].describe()"
   ]
  },
  {
   "cell_type": "code",
   "execution_count": 52,
   "id": "97dc5c1f",
   "metadata": {},
   "outputs": [
    {
     "data": {
      "text/plain": [
       "0"
      ]
     },
     "execution_count": 52,
     "metadata": {},
     "output_type": "execute_result"
    }
   ],
   "source": [
    "df['ADDEPEV3'].isna().sum()"
   ]
  },
  {
   "cell_type": "code",
   "execution_count": 53,
   "id": "e684ecc4",
   "metadata": {},
   "outputs": [
    {
     "data": {
      "text/plain": [
       "count    376070.000000\n",
       "mean          0.200420\n",
       "std           0.400315\n",
       "min           0.000000\n",
       "25%           0.000000\n",
       "50%           0.000000\n",
       "75%           0.000000\n",
       "max           1.000000\n",
       "Name: ADDEPEV3, dtype: float64"
      ]
     },
     "execution_count": 53,
     "metadata": {},
     "output_type": "execute_result"
    }
   ],
   "source": [
    "# *had depressive disorder*\n",
    "df['ADDEPEV3'].replace(2,0, inplace=True)\n",
    "df['ADDEPEV3'].replace([7,9],np.nan, inplace=True)\n",
    "df['ADDEPEV3'].describe()"
   ]
  },
  {
   "cell_type": "code",
   "execution_count": 54,
   "id": "153824ef",
   "metadata": {},
   "outputs": [
    {
     "data": {
      "text/plain": [
       "0"
      ]
     },
     "execution_count": 54,
     "metadata": {},
     "output_type": "execute_result"
    }
   ],
   "source": [
    "df['CHCKDNY2'].isna().sum()"
   ]
  },
  {
   "cell_type": "code",
   "execution_count": 55,
   "id": "975aabc4",
   "metadata": {},
   "outputs": [
    {
     "data": {
      "text/plain": [
       "count    376582.000000\n",
       "mean          0.039577\n",
       "std           0.194964\n",
       "min           0.000000\n",
       "25%           0.000000\n",
       "50%           0.000000\n",
       "75%           0.000000\n",
       "max           1.000000\n",
       "Name: CHCKDNY2, dtype: float64"
      ]
     },
     "execution_count": 55,
     "metadata": {},
     "output_type": "execute_result"
    }
   ],
   "source": [
    "# *Ever told you have kidney disease?*\n",
    "df['CHCKDNY2'].replace(2,0, inplace=True)\n",
    "df['CHCKDNY2'].replace([7,9],np.nan, inplace=True)\n",
    "df['CHCKDNY2'].describe()"
   ]
  },
  {
   "cell_type": "code",
   "execution_count": 56,
   "id": "ed105923",
   "metadata": {},
   "outputs": [
    {
     "data": {
      "text/plain": [
       "0"
      ]
     },
     "execution_count": 56,
     "metadata": {},
     "output_type": "execute_result"
    }
   ],
   "source": [
    "df['DIABETE4'].isna().sum()"
   ]
  },
  {
   "cell_type": "code",
   "execution_count": 57,
   "id": "8a6028c6",
   "metadata": {},
   "outputs": [
    {
     "data": {
      "text/plain": [
       "count    377280.000000\n",
       "mean          0.140771\n",
       "std           0.347785\n",
       "min           0.000000\n",
       "25%           0.000000\n",
       "50%           0.000000\n",
       "75%           0.000000\n",
       "max           1.000000\n",
       "Name: DIABETE4, dtype: float64"
      ]
     },
     "execution_count": 57,
     "metadata": {},
     "output_type": "execute_result"
    }
   ],
   "source": [
    "# *Ever told you had diabetes*\n",
    "df['DIABETE4'].replace([3,4],0, inplace=True)\n",
    "df['DIABETE4'].replace(2,1, inplace=True)\n",
    "df['DIABETE4'].replace([7,9],np.nan, inplace=True)\n",
    "df['DIABETE4'].describe()"
   ]
  },
  {
   "cell_type": "code",
   "execution_count": 58,
   "id": "405ba816",
   "metadata": {},
   "outputs": [
    {
     "data": {
      "text/plain": [
       "0"
      ]
     },
     "execution_count": 58,
     "metadata": {},
     "output_type": "execute_result"
    }
   ],
   "source": [
    "df['HAVARTH5'].isna().sum()"
   ]
  },
  {
   "cell_type": "code",
   "execution_count": 59,
   "id": "0fb5407d",
   "metadata": {},
   "outputs": [
    {
     "data": {
      "text/plain": [
       "count    375795.000000\n",
       "mean          0.332093\n",
       "std           0.470965\n",
       "min           0.000000\n",
       "25%           0.000000\n",
       "50%           0.000000\n",
       "75%           1.000000\n",
       "max           1.000000\n",
       "Name: HAVARTH5, dtype: float64"
      ]
     },
     "execution_count": 59,
     "metadata": {},
     "output_type": "execute_result"
    }
   ],
   "source": [
    "# *have arthritis*\n",
    "df['HAVARTH5'].replace(2,0, inplace=True)\n",
    "df['HAVARTH5'].replace([7,9],np.nan, inplace=True)\n",
    "df['HAVARTH5'].describe()"
   ]
  },
  {
   "cell_type": "code",
   "execution_count": 60,
   "id": "e6f5d583",
   "metadata": {},
   "outputs": [],
   "source": [
    "# drop JOINPAI2, relies on knowing they have arthritis\n",
    "df = df.drop(['JOINPAI2'], axis=1)"
   ]
  },
  {
   "cell_type": "code",
   "execution_count": 61,
   "id": "2bfce132",
   "metadata": {},
   "outputs": [
    {
     "data": {
      "text/plain": [
       "1"
      ]
     },
     "execution_count": 61,
     "metadata": {},
     "output_type": "execute_result"
    }
   ],
   "source": [
    "df['MARITAL'].isna().sum()"
   ]
  },
  {
   "cell_type": "code",
   "execution_count": 62,
   "id": "9a68d1b4",
   "metadata": {},
   "outputs": [],
   "source": [
    "df['MARITAL'].replace(9,np.nan, inplace=True)"
   ]
  },
  {
   "cell_type": "code",
   "execution_count": 63,
   "id": "dee4ef6b",
   "metadata": {},
   "outputs": [
    {
     "data": {
      "text/plain": [
       "count    374680.000000\n",
       "mean          0.530866\n",
       "std           0.499047\n",
       "min           0.000000\n",
       "25%           0.000000\n",
       "50%           1.000000\n",
       "75%           1.000000\n",
       "max           1.000000\n",
       "Name: married, dtype: float64"
      ]
     },
     "execution_count": 63,
     "metadata": {},
     "output_type": "execute_result"
    }
   ],
   "source": [
    "# married\n",
    "df['married'] = df['MARITAL']\n",
    "df['married'].replace([2,3,4,5,6],0, inplace=True)\n",
    "df['married'].describe()"
   ]
  },
  {
   "cell_type": "code",
   "execution_count": 64,
   "id": "30dfc420",
   "metadata": {},
   "outputs": [
    {
     "data": {
      "text/plain": [
       "count    374680.000000\n",
       "mean          0.127890\n",
       "std           0.333968\n",
       "min           0.000000\n",
       "25%           0.000000\n",
       "50%           0.000000\n",
       "75%           0.000000\n",
       "max           1.000000\n",
       "Name: divorced, dtype: float64"
      ]
     },
     "execution_count": 64,
     "metadata": {},
     "output_type": "execute_result"
    }
   ],
   "source": [
    "# divorced\n",
    "df['divorced'] = df['MARITAL']\n",
    "df['divorced'].replace([1,3,4,5,6,9],0, inplace=True)\n",
    "df['divorced'].replace(2,1, inplace=True)\n",
    "df['divorced'].describe()"
   ]
  },
  {
   "cell_type": "code",
   "execution_count": 65,
   "id": "ccf4b0f8",
   "metadata": {},
   "outputs": [
    {
     "data": {
      "text/plain": [
       "count    374680.000000\n",
       "mean          0.106235\n",
       "std           0.308138\n",
       "min           0.000000\n",
       "25%           0.000000\n",
       "50%           0.000000\n",
       "75%           0.000000\n",
       "max           1.000000\n",
       "Name: widowed, dtype: float64"
      ]
     },
     "execution_count": 65,
     "metadata": {},
     "output_type": "execute_result"
    }
   ],
   "source": [
    "# widowed\n",
    "df['widowed'] = df['MARITAL']\n",
    "df['widowed'].replace([1,2,4,5,6,9],0, inplace=True)\n",
    "df['widowed'].replace(3,1, inplace=True)\n",
    "df['widowed'].describe()"
   ]
  },
  {
   "cell_type": "code",
   "execution_count": 66,
   "id": "bd72aedf",
   "metadata": {},
   "outputs": [
    {
     "data": {
      "text/plain": [
       "count    374680.000000\n",
       "mean          0.018843\n",
       "std           0.135970\n",
       "min           0.000000\n",
       "25%           0.000000\n",
       "50%           0.000000\n",
       "75%           0.000000\n",
       "max           1.000000\n",
       "Name: separated, dtype: float64"
      ]
     },
     "execution_count": 66,
     "metadata": {},
     "output_type": "execute_result"
    }
   ],
   "source": [
    "# Separated\n",
    "df['separated'] = df['MARITAL']\n",
    "df['separated'].replace([1,2,3,5,6,9],0, inplace=True)\n",
    "df['separated'].replace(4,1, inplace=True)\n",
    "df['separated'].describe()"
   ]
  },
  {
   "cell_type": "code",
   "execution_count": 67,
   "id": "026a6b33",
   "metadata": {},
   "outputs": [
    {
     "data": {
      "text/plain": [
       "count    374680.000000\n",
       "mean          0.175075\n",
       "std           0.380032\n",
       "min           0.000000\n",
       "25%           0.000000\n",
       "50%           0.000000\n",
       "75%           0.000000\n",
       "max           1.000000\n",
       "Name: never_married, dtype: float64"
      ]
     },
     "execution_count": 67,
     "metadata": {},
     "output_type": "execute_result"
    }
   ],
   "source": [
    "# never_married\n",
    "df['never_married'] = df['MARITAL']\n",
    "df['never_married'].replace([1,2,3,4,6,9],0, inplace=True)\n",
    "df['never_married'].replace(5,1, inplace=True)\n",
    "df['never_married'].describe()"
   ]
  },
  {
   "cell_type": "code",
   "execution_count": 68,
   "id": "8a3df1cf",
   "metadata": {},
   "outputs": [
    {
     "data": {
      "text/plain": [
       "count    374680.000000\n",
       "mean          0.041091\n",
       "std           0.198501\n",
       "min           0.000000\n",
       "25%           0.000000\n",
       "50%           0.000000\n",
       "75%           0.000000\n",
       "max           1.000000\n",
       "Name: unmarried_couple, dtype: float64"
      ]
     },
     "execution_count": 68,
     "metadata": {},
     "output_type": "execute_result"
    }
   ],
   "source": [
    "# unmarried_couple\n",
    "df['unmarried_couple'] = df['MARITAL']\n",
    "df['unmarried_couple'].replace([1,2,3,4,5,9],0, inplace=True)\n",
    "df['unmarried_couple'].replace(6,1, inplace=True)\n",
    "df['unmarried_couple'].describe()"
   ]
  },
  {
   "cell_type": "code",
   "execution_count": 69,
   "id": "a87c739d",
   "metadata": {},
   "outputs": [],
   "source": [
    "# drop MARITAL, marital status, data extracted above\n",
    "df = df.drop(['MARITAL'], axis=1)"
   ]
  },
  {
   "cell_type": "code",
   "execution_count": 70,
   "id": "931d8cbe",
   "metadata": {},
   "outputs": [
    {
     "data": {
      "text/plain": [
       "0"
      ]
     },
     "execution_count": 70,
     "metadata": {},
     "output_type": "execute_result"
    }
   ],
   "source": [
    "df['RENTHOM1'].isna().sum()"
   ]
  },
  {
   "cell_type": "code",
   "execution_count": 71,
   "id": "6bf41841",
   "metadata": {},
   "outputs": [
    {
     "data": {
      "text/plain": [
       "count    374993.000000\n",
       "mean          0.719595\n",
       "std           0.449198\n",
       "min           0.000000\n",
       "25%           0.000000\n",
       "50%           1.000000\n",
       "75%           1.000000\n",
       "max           1.000000\n",
       "Name: own_house, dtype: float64"
      ]
     },
     "execution_count": 71,
     "metadata": {},
     "output_type": "execute_result"
    }
   ],
   "source": [
    "# own\n",
    "df['own_house'] = df['RENTHOM1']\n",
    "df['own_house'].replace([2,3],0, inplace=True)\n",
    "df['own_house'].replace([7,9],np.nan, inplace=True)\n",
    "df['own_house'].describe()"
   ]
  },
  {
   "cell_type": "code",
   "execution_count": 72,
   "id": "c0657c9e",
   "metadata": {},
   "outputs": [
    {
     "data": {
      "text/plain": [
       "count    374993.000000\n",
       "mean          0.232999\n",
       "std           0.422742\n",
       "min           0.000000\n",
       "25%           0.000000\n",
       "50%           0.000000\n",
       "75%           0.000000\n",
       "max           1.000000\n",
       "Name: renting, dtype: float64"
      ]
     },
     "execution_count": 72,
     "metadata": {},
     "output_type": "execute_result"
    }
   ],
   "source": [
    "# rent\n",
    "df['renting'] = df['RENTHOM1']\n",
    "df['renting'].replace([1,3],0, inplace=True)\n",
    "df['renting'].replace(2,1, inplace=True)\n",
    "df['renting'].replace([7,9],np.nan, inplace=True)\n",
    "df['renting'].describe()"
   ]
  },
  {
   "cell_type": "code",
   "execution_count": 73,
   "id": "782505cf",
   "metadata": {},
   "outputs": [
    {
     "data": {
      "text/plain": [
       "count    374993.000000\n",
       "mean          0.047406\n",
       "std           0.212506\n",
       "min           0.000000\n",
       "25%           0.000000\n",
       "50%           0.000000\n",
       "75%           0.000000\n",
       "max           1.000000\n",
       "Name: other_arrangement_housing, dtype: float64"
      ]
     },
     "execution_count": 73,
     "metadata": {},
     "output_type": "execute_result"
    }
   ],
   "source": [
    "# other arrangement\n",
    "df['other_arrangement_housing'] = df['RENTHOM1']\n",
    "df['other_arrangement_housing'].replace([1,2],0, inplace=True)\n",
    "df['other_arrangement_housing'].replace(3,1, inplace=True)\n",
    "df['other_arrangement_housing'].replace([7,9],np.nan, inplace=True)\n",
    "df['other_arrangement_housing'].describe()"
   ]
  },
  {
   "cell_type": "code",
   "execution_count": 74,
   "id": "cf3ceb98",
   "metadata": {},
   "outputs": [],
   "source": [
    "# drop RENTHOM1, living status, data extracted above\n",
    "df = df.drop(['RENTHOM1'], axis=1)"
   ]
  },
  {
   "cell_type": "code",
   "execution_count": 75,
   "id": "74b121b0",
   "metadata": {},
   "outputs": [
    {
     "data": {
      "text/plain": [
       "1"
      ]
     },
     "execution_count": 75,
     "metadata": {},
     "output_type": "execute_result"
    }
   ],
   "source": [
    "df['VETERAN3'].isna().sum()"
   ]
  },
  {
   "cell_type": "code",
   "execution_count": 76,
   "id": "a4eb25fc",
   "metadata": {},
   "outputs": [
    {
     "data": {
      "text/plain": [
       "count    377064.000000\n",
       "mean          0.120441\n",
       "std           0.325477\n",
       "min           0.000000\n",
       "25%           0.000000\n",
       "50%           0.000000\n",
       "75%           0.000000\n",
       "max           1.000000\n",
       "Name: VETERAN3, dtype: float64"
      ]
     },
     "execution_count": 76,
     "metadata": {},
     "output_type": "execute_result"
    }
   ],
   "source": [
    "#veteran\n",
    "df['VETERAN3'].replace(2,0, inplace=True)\n",
    "df['VETERAN3'].replace([7,9],np.nan, inplace=True)\n",
    "df['VETERAN3'].describe()"
   ]
  },
  {
   "cell_type": "code",
   "execution_count": 77,
   "id": "cfe665ba",
   "metadata": {},
   "outputs": [
    {
     "data": {
      "text/plain": [
       "1"
      ]
     },
     "execution_count": 77,
     "metadata": {},
     "output_type": "execute_result"
    }
   ],
   "source": [
    "df['EMPLOY1'].isna().sum()"
   ]
  },
  {
   "cell_type": "code",
   "execution_count": 78,
   "id": "89ba452c",
   "metadata": {},
   "outputs": [
    {
     "data": {
      "text/plain": [
       "count    375087.000000\n",
       "mean          0.435312\n",
       "std           0.495799\n",
       "min           0.000000\n",
       "25%           0.000000\n",
       "50%           0.000000\n",
       "75%           1.000000\n",
       "max           1.000000\n",
       "Name: employed_for_wages, dtype: float64"
      ]
     },
     "execution_count": 78,
     "metadata": {},
     "output_type": "execute_result"
    }
   ],
   "source": [
    "# employed for wages\n",
    "df['employed_for_wages'] = df['EMPLOY1']\n",
    "df['employed_for_wages'].replace([2,3,4,5,6,7,8],0, inplace=True)\n",
    "df['employed_for_wages'].replace(9,np.nan, inplace=True)\n",
    "df['employed_for_wages'].describe()"
   ]
  },
  {
   "cell_type": "code",
   "execution_count": 79,
   "id": "79d0ded2",
   "metadata": {},
   "outputs": [
    {
     "data": {
      "text/plain": [
       "count    375087.000000\n",
       "mean          0.087572\n",
       "std           0.282671\n",
       "min           0.000000\n",
       "25%           0.000000\n",
       "50%           0.000000\n",
       "75%           0.000000\n",
       "max           1.000000\n",
       "Name: self_employed, dtype: float64"
      ]
     },
     "execution_count": 79,
     "metadata": {},
     "output_type": "execute_result"
    }
   ],
   "source": [
    "# self employed\n",
    "df['self_employed'] = df['EMPLOY1']\n",
    "df['self_employed'].replace([1,3,4,5,6,7,8],0, inplace=True)\n",
    "df['self_employed'].replace(2,1, inplace=True)\n",
    "df['self_employed'].replace(9,np.nan, inplace=True)\n",
    "df['self_employed'].describe()"
   ]
  },
  {
   "cell_type": "code",
   "execution_count": 80,
   "id": "545df82a",
   "metadata": {},
   "outputs": [
    {
     "data": {
      "text/plain": [
       "count    375087.000000\n",
       "mean          0.025890\n",
       "std           0.158807\n",
       "min           0.000000\n",
       "25%           0.000000\n",
       "50%           0.000000\n",
       "75%           0.000000\n",
       "max           1.000000\n",
       "Name: out_of_work_year_plus, dtype: float64"
      ]
     },
     "execution_count": 80,
     "metadata": {},
     "output_type": "execute_result"
    }
   ],
   "source": [
    "# Out of work for 1 year or more\n",
    "df['out_of_work_year_plus'] = df['EMPLOY1']\n",
    "df['out_of_work_year_plus'].replace([1,2,4,5,6,7,8],0, inplace=True)\n",
    "df['out_of_work_year_plus'].replace(3,1, inplace=True)\n",
    "df['out_of_work_year_plus'].replace(9,np.nan, inplace=True)\n",
    "df['out_of_work_year_plus'].describe()"
   ]
  },
  {
   "cell_type": "code",
   "execution_count": 81,
   "id": "dcb89899",
   "metadata": {},
   "outputs": [
    {
     "data": {
      "text/plain": [
       "count    375087.000000\n",
       "mean          0.022293\n",
       "std           0.147637\n",
       "min           0.000000\n",
       "25%           0.000000\n",
       "50%           0.000000\n",
       "75%           0.000000\n",
       "max           1.000000\n",
       "Name: out_of_work_year_less, dtype: float64"
      ]
     },
     "execution_count": 81,
     "metadata": {},
     "output_type": "execute_result"
    }
   ],
   "source": [
    "# Out of work for less than 1 year\n",
    "df['out_of_work_year_less'] = df['EMPLOY1']\n",
    "df['out_of_work_year_less'].replace([1,2,3,5,6,7,8],0, inplace=True)\n",
    "df['out_of_work_year_less'].replace(4,1, inplace=True)\n",
    "df['out_of_work_year_less'].replace(9,np.nan, inplace=True)\n",
    "df['out_of_work_year_less'].describe()"
   ]
  },
  {
   "cell_type": "code",
   "execution_count": 82,
   "id": "037ca6db",
   "metadata": {},
   "outputs": [
    {
     "data": {
      "text/plain": [
       "count    375087.000000\n",
       "mean          0.040785\n",
       "std           0.197793\n",
       "min           0.000000\n",
       "25%           0.000000\n",
       "50%           0.000000\n",
       "75%           0.000000\n",
       "max           1.000000\n",
       "Name: homemaker, dtype: float64"
      ]
     },
     "execution_count": 82,
     "metadata": {},
     "output_type": "execute_result"
    }
   ],
   "source": [
    "# homemaker\n",
    "df['homemaker'] = df['EMPLOY1']\n",
    "df['homemaker'].replace([1,2,3,4,6,7,8],0, inplace=True)\n",
    "df['homemaker'].replace(5,1, inplace=True)\n",
    "df['homemaker'].replace(9,np.nan, inplace=True)\n",
    "df['homemaker'].describe()"
   ]
  },
  {
   "cell_type": "code",
   "execution_count": 83,
   "id": "4de9e3cb",
   "metadata": {},
   "outputs": [
    {
     "data": {
      "text/plain": [
       "count    375087.000000\n",
       "mean          0.025018\n",
       "std           0.156181\n",
       "min           0.000000\n",
       "25%           0.000000\n",
       "50%           0.000000\n",
       "75%           0.000000\n",
       "max           1.000000\n",
       "Name: student, dtype: float64"
      ]
     },
     "execution_count": 83,
     "metadata": {},
     "output_type": "execute_result"
    }
   ],
   "source": [
    "# student\n",
    "df['student'] = df['EMPLOY1']\n",
    "df['student'].replace([1,2,3,4,5,7,8],0, inplace=True)\n",
    "df['student'].replace(6,1, inplace=True)\n",
    "df['student'].replace(9,np.nan, inplace=True)\n",
    "df['student'].describe()"
   ]
  },
  {
   "cell_type": "code",
   "execution_count": 84,
   "id": "99d2bc21",
   "metadata": {},
   "outputs": [
    {
     "data": {
      "text/plain": [
       "count    375087.000000\n",
       "mean          0.305468\n",
       "std           0.460606\n",
       "min           0.000000\n",
       "25%           0.000000\n",
       "50%           0.000000\n",
       "75%           1.000000\n",
       "max           1.000000\n",
       "Name: retired, dtype: float64"
      ]
     },
     "execution_count": 84,
     "metadata": {},
     "output_type": "execute_result"
    }
   ],
   "source": [
    "# retired\n",
    "df['retired'] = df['EMPLOY1']\n",
    "df['retired'].replace([1,2,3,4,5,6,8],0, inplace=True)\n",
    "df['retired'].replace(7,1, inplace=True)\n",
    "df['retired'].replace(9,np.nan, inplace=True)\n",
    "df['retired'].describe()"
   ]
  },
  {
   "cell_type": "code",
   "execution_count": 85,
   "id": "7689b915",
   "metadata": {},
   "outputs": [
    {
     "data": {
      "text/plain": [
       "count    375087.000000\n",
       "mean          0.057661\n",
       "std           0.233102\n",
       "min           0.000000\n",
       "25%           0.000000\n",
       "50%           0.000000\n",
       "75%           0.000000\n",
       "max           1.000000\n",
       "Name: unable_to_work, dtype: float64"
      ]
     },
     "execution_count": 85,
     "metadata": {},
     "output_type": "execute_result"
    }
   ],
   "source": [
    "# unable_to_work\n",
    "df['unable_to_work'] = df['EMPLOY1']\n",
    "df['unable_to_work'].replace([1,2,3,4,5,6,7],0, inplace=True)\n",
    "df['unable_to_work'].replace(8,1, inplace=True)\n",
    "df['unable_to_work'].replace(9,np.nan, inplace=True)\n",
    "df['unable_to_work'].describe()"
   ]
  },
  {
   "cell_type": "code",
   "execution_count": 86,
   "id": "423fa557",
   "metadata": {},
   "outputs": [],
   "source": [
    "df = df.drop(['EMPLOY1'], axis=1) #data extracted above"
   ]
  },
  {
   "cell_type": "code",
   "execution_count": 87,
   "id": "26e61fd0",
   "metadata": {},
   "outputs": [
    {
     "data": {
      "text/plain": [
       "306381"
      ]
     },
     "execution_count": 87,
     "metadata": {},
     "output_type": "execute_result"
    }
   ],
   "source": [
    "df['PREGNANT'].isna().sum()"
   ]
  },
  {
   "cell_type": "code",
   "execution_count": 88,
   "id": "1a3224ec",
   "metadata": {},
   "outputs": [
    {
     "data": {
      "text/plain": [
       "count    377501.000000\n",
       "mean          0.005597\n",
       "std           0.074606\n",
       "min           0.000000\n",
       "25%           0.000000\n",
       "50%           0.000000\n",
       "75%           0.000000\n",
       "max           1.000000\n",
       "Name: PREGNANT, dtype: float64"
      ]
     },
     "execution_count": 88,
     "metadata": {},
     "output_type": "execute_result"
    }
   ],
   "source": [
    "# PREGNANT\n",
    "df['PREGNANT'].fillna(0, inplace=True)\n",
    "df['PREGNANT'].replace(2,0, inplace=True)\n",
    "df['PREGNANT'].replace([7,9],np.nan, inplace=True)\n",
    "df['PREGNANT'].describe()"
   ]
  },
  {
   "cell_type": "code",
   "execution_count": 89,
   "id": "db06804e",
   "metadata": {},
   "outputs": [
    {
     "data": {
      "text/plain": [
       "0"
      ]
     },
     "execution_count": 89,
     "metadata": {},
     "output_type": "execute_result"
    }
   ],
   "source": [
    "df['DEAF'].isna().sum()"
   ]
  },
  {
   "cell_type": "code",
   "execution_count": 90,
   "id": "3aa85e5f",
   "metadata": {},
   "outputs": [
    {
     "data": {
      "text/plain": [
       "count    376790.000000\n",
       "mean          0.086772\n",
       "std           0.281502\n",
       "min           0.000000\n",
       "25%           0.000000\n",
       "50%           0.000000\n",
       "75%           0.000000\n",
       "max           1.000000\n",
       "Name: DEAF, dtype: float64"
      ]
     },
     "execution_count": 90,
     "metadata": {},
     "output_type": "execute_result"
    }
   ],
   "source": [
    "# deaf\n",
    "df['DEAF'].replace(2,0, inplace=True)\n",
    "df['DEAF'].replace([7,9],np.nan, inplace=True)\n",
    "df['DEAF'].describe()"
   ]
  },
  {
   "cell_type": "code",
   "execution_count": 91,
   "id": "9c30944d",
   "metadata": {},
   "outputs": [
    {
     "data": {
      "text/plain": [
       "0"
      ]
     },
     "execution_count": 91,
     "metadata": {},
     "output_type": "execute_result"
    }
   ],
   "source": [
    "df['BLIND'].isna().sum()"
   ]
  },
  {
   "cell_type": "code",
   "execution_count": 92,
   "id": "a2f0f684",
   "metadata": {},
   "outputs": [
    {
     "data": {
      "text/plain": [
       "count    376966.000000\n",
       "mean          0.049920\n",
       "std           0.217779\n",
       "min           0.000000\n",
       "25%           0.000000\n",
       "50%           0.000000\n",
       "75%           0.000000\n",
       "max           1.000000\n",
       "Name: BLIND, dtype: float64"
      ]
     },
     "execution_count": 92,
     "metadata": {},
     "output_type": "execute_result"
    }
   ],
   "source": [
    "# BLIND\n",
    "df['BLIND'].replace(2,0, inplace=True)\n",
    "df['BLIND'].replace([7,9],np.nan, inplace=True)\n",
    "df['BLIND'].describe()"
   ]
  },
  {
   "cell_type": "code",
   "execution_count": 93,
   "id": "40931063",
   "metadata": {},
   "outputs": [
    {
     "data": {
      "text/plain": [
       "0"
      ]
     },
     "execution_count": 93,
     "metadata": {},
     "output_type": "execute_result"
    }
   ],
   "source": [
    "df['DECIDE'].isna().sum()"
   ]
  },
  {
   "cell_type": "code",
   "execution_count": 94,
   "id": "a736ed56",
   "metadata": {},
   "outputs": [
    {
     "data": {
      "text/plain": [
       "count    375740.000000\n",
       "mean          0.108588\n",
       "std           0.311122\n",
       "min           0.000000\n",
       "25%           0.000000\n",
       "50%           0.000000\n",
       "75%           0.000000\n",
       "max           1.000000\n",
       "Name: DECIDE, dtype: float64"
      ]
     },
     "execution_count": 94,
     "metadata": {},
     "output_type": "execute_result"
    }
   ],
   "source": [
    "# difficulty concentrating or remembering\n",
    "df['DECIDE'].replace(2,0, inplace=True)\n",
    "df['DECIDE'].replace([7,9],np.nan, inplace=True)\n",
    "df['DECIDE'].describe()"
   ]
  },
  {
   "cell_type": "code",
   "execution_count": 95,
   "id": "8c479fb6",
   "metadata": {},
   "outputs": [
    {
     "data": {
      "text/plain": [
       "0"
      ]
     },
     "execution_count": 95,
     "metadata": {},
     "output_type": "execute_result"
    }
   ],
   "source": [
    "df['DIFFWALK'].isna().sum()"
   ]
  },
  {
   "cell_type": "code",
   "execution_count": 96,
   "id": "18db450e",
   "metadata": {},
   "outputs": [
    {
     "data": {
      "text/plain": [
       "count    376783.000000\n",
       "mean          0.157900\n",
       "std           0.364648\n",
       "min           0.000000\n",
       "25%           0.000000\n",
       "50%           0.000000\n",
       "75%           0.000000\n",
       "max           1.000000\n",
       "Name: DIFFWALK, dtype: float64"
      ]
     },
     "execution_count": 96,
     "metadata": {},
     "output_type": "execute_result"
    }
   ],
   "source": [
    "#Difficulty Walking or Climbing Stairs\n",
    "df['DIFFWALK'].replace(2,0, inplace=True)\n",
    "df['DIFFWALK'].replace([7,9],np.nan, inplace=True)\n",
    "df['DIFFWALK'].describe()"
   ]
  },
  {
   "cell_type": "code",
   "execution_count": 97,
   "id": "ba040bf8",
   "metadata": {},
   "outputs": [
    {
     "data": {
      "text/plain": [
       "0"
      ]
     },
     "execution_count": 97,
     "metadata": {},
     "output_type": "execute_result"
    }
   ],
   "source": [
    "df['DIFFDRES'].isna().sum()"
   ]
  },
  {
   "cell_type": "code",
   "execution_count": 98,
   "id": "864bfc1d",
   "metadata": {},
   "outputs": [
    {
     "data": {
      "text/plain": [
       "count    377429.000000\n",
       "mean          0.039274\n",
       "std           0.194245\n",
       "min           0.000000\n",
       "25%           0.000000\n",
       "50%           0.000000\n",
       "75%           0.000000\n",
       "max           1.000000\n",
       "Name: DIFFDRES, dtype: float64"
      ]
     },
     "execution_count": 98,
     "metadata": {},
     "output_type": "execute_result"
    }
   ],
   "source": [
    "#Difficulty Walking or Climbing Stairs\n",
    "df['DIFFDRES'].replace(2,0, inplace=True)\n",
    "df['DIFFDRES'].replace([7,9],np.nan, inplace=True)\n",
    "df['DIFFDRES'].describe()"
   ]
  },
  {
   "cell_type": "code",
   "execution_count": 99,
   "id": "3319ee06",
   "metadata": {},
   "outputs": [
    {
     "data": {
      "text/plain": [
       "0"
      ]
     },
     "execution_count": 99,
     "metadata": {},
     "output_type": "execute_result"
    }
   ],
   "source": [
    "df['DIFFALON'].isna().sum()"
   ]
  },
  {
   "cell_type": "code",
   "execution_count": 100,
   "id": "2a4d712f",
   "metadata": {},
   "outputs": [
    {
     "data": {
      "text/plain": [
       "count    376955.000000\n",
       "mean          0.072351\n",
       "std           0.259068\n",
       "min           0.000000\n",
       "25%           0.000000\n",
       "50%           0.000000\n",
       "75%           0.000000\n",
       "max           1.000000\n",
       "Name: DIFFALON, dtype: float64"
      ]
     },
     "execution_count": 100,
     "metadata": {},
     "output_type": "execute_result"
    }
   ],
   "source": [
    "# Difficulty Doing Errands Alone\n",
    "df['DIFFALON'].replace(2,0, inplace=True)\n",
    "df['DIFFALON'].replace([7,9],np.nan, inplace=True)\n",
    "df['DIFFALON'].describe()"
   ]
  },
  {
   "cell_type": "code",
   "execution_count": 101,
   "id": "b1851ce1",
   "metadata": {},
   "outputs": [
    {
     "data": {
      "text/plain": [
       "0"
      ]
     },
     "execution_count": 101,
     "metadata": {},
     "output_type": "execute_result"
    }
   ],
   "source": [
    "df['SMOKE100'].isna().sum()"
   ]
  },
  {
   "cell_type": "code",
   "execution_count": 102,
   "id": "90da1080",
   "metadata": {},
   "outputs": [
    {
     "data": {
      "text/plain": [
       "count    375688.000000\n",
       "mean          0.403066\n",
       "std           0.490514\n",
       "min           0.000000\n",
       "25%           0.000000\n",
       "50%           0.000000\n",
       "75%           1.000000\n",
       "max           1.000000\n",
       "Name: SMOKE100, dtype: float64"
      ]
     },
     "execution_count": 102,
     "metadata": {},
     "output_type": "execute_result"
    }
   ],
   "source": [
    "# Smoked at Least 100 Cigarettes\n",
    "df['SMOKE100'].replace(2,0, inplace=True)\n",
    "df['SMOKE100'].replace([7,9],np.nan, inplace=True)\n",
    "df['SMOKE100'].describe()"
   ]
  },
  {
   "cell_type": "code",
   "execution_count": 103,
   "id": "c2ad72b8",
   "metadata": {},
   "outputs": [
    {
     "data": {
      "text/plain": [
       "226453"
      ]
     },
     "execution_count": 103,
     "metadata": {},
     "output_type": "execute_result"
    }
   ],
   "source": [
    "df['SMOKDAY2'].isna().sum()"
   ]
  },
  {
   "cell_type": "code",
   "execution_count": 104,
   "id": "4ab7b6a1",
   "metadata": {},
   "outputs": [],
   "source": [
    "df['SMOKDAY2'].fillna(0, inplace=True)\n",
    "df['SMOKDAY2'].replace([7,9],np.nan, inplace=True)"
   ]
  },
  {
   "cell_type": "code",
   "execution_count": 105,
   "id": "f8c3e8d7",
   "metadata": {},
   "outputs": [
    {
     "data": {
      "text/plain": [
       "count    377617.000000\n",
       "mean          0.092160\n",
       "std           0.289251\n",
       "min           0.000000\n",
       "25%           0.000000\n",
       "50%           0.000000\n",
       "75%           0.000000\n",
       "max           1.000000\n",
       "Name: smoke_every_day, dtype: float64"
      ]
     },
     "execution_count": 105,
     "metadata": {},
     "output_type": "execute_result"
    }
   ],
   "source": [
    "# smoke every day\n",
    "df['smoke_every_day'] = df['SMOKDAY2']\n",
    "df['smoke_every_day'] = df['smoke_every_day'].replace([2,3],0)\n",
    "df['smoke_every_day'].describe()"
   ]
  },
  {
   "cell_type": "code",
   "execution_count": 106,
   "id": "005eac00",
   "metadata": {},
   "outputs": [
    {
     "data": {
      "text/plain": [
       "count    377617.000000\n",
       "mean          0.035208\n",
       "std           0.184304\n",
       "min           0.000000\n",
       "25%           0.000000\n",
       "50%           0.000000\n",
       "75%           0.000000\n",
       "max           1.000000\n",
       "Name: smoke_some_days, dtype: float64"
      ]
     },
     "execution_count": 106,
     "metadata": {},
     "output_type": "execute_result"
    }
   ],
   "source": [
    "# smoke some days\n",
    "df['smoke_some_days'] = df['SMOKDAY2']\n",
    "df['smoke_some_days'] = df['smoke_some_days'].replace([1,3],0)\n",
    "df['smoke_some_days'] = df['smoke_some_days'].replace(2,1)\n",
    "df['smoke_some_days'].describe()"
   ]
  },
  {
   "cell_type": "code",
   "execution_count": 107,
   "id": "f1f2ae4c",
   "metadata": {},
   "outputs": [
    {
     "data": {
      "text/plain": [
       "count    377617.000000\n",
       "mean          0.272943\n",
       "std           0.445472\n",
       "min           0.000000\n",
       "25%           0.000000\n",
       "50%           0.000000\n",
       "75%           1.000000\n",
       "max           1.000000\n",
       "Name: smoke_not_at_all, dtype: float64"
      ]
     },
     "execution_count": 107,
     "metadata": {},
     "output_type": "execute_result"
    }
   ],
   "source": [
    "# smokes not at all\n",
    "df['smoke_not_at_all'] = df['SMOKDAY2']\n",
    "df['smoke_not_at_all'] = df['smoke_not_at_all'].replace([1,2],0)\n",
    "df['smoke_not_at_all'] = df['smoke_not_at_all'].replace(3,1)\n",
    "df['smoke_not_at_all'].describe()"
   ]
  },
  {
   "cell_type": "code",
   "execution_count": 108,
   "id": "33fdeb15",
   "metadata": {},
   "outputs": [],
   "source": [
    "df = df.drop(['SMOKDAY2'], axis=1)"
   ]
  },
  {
   "cell_type": "code",
   "execution_count": 109,
   "id": "c459aeeb",
   "metadata": {},
   "outputs": [
    {
     "data": {
      "text/plain": [
       "1"
      ]
     },
     "execution_count": 109,
     "metadata": {},
     "output_type": "execute_result"
    }
   ],
   "source": [
    "df['USENOW3'].isna().sum()"
   ]
  },
  {
   "cell_type": "code",
   "execution_count": 110,
   "id": "cf514598",
   "metadata": {},
   "outputs": [],
   "source": [
    "df['USENOW3'].replace([7,9],np.nan, inplace=True)"
   ]
  },
  {
   "cell_type": "code",
   "execution_count": 111,
   "id": "2df503da",
   "metadata": {},
   "outputs": [
    {
     "data": {
      "text/plain": [
       "count    377469.000000\n",
       "mean          0.018356\n",
       "std           0.134237\n",
       "min           0.000000\n",
       "25%           0.000000\n",
       "50%           0.000000\n",
       "75%           0.000000\n",
       "max           1.000000\n",
       "Name: smokeless_every_day, dtype: float64"
      ]
     },
     "execution_count": 111,
     "metadata": {},
     "output_type": "execute_result"
    }
   ],
   "source": [
    "# smokeless every day\n",
    "df['smokeless_every_day'] = df['USENOW3']\n",
    "df['smokeless_every_day'] = df['smokeless_every_day'].replace([2,3],0)\n",
    "df['smokeless_every_day'].describe()"
   ]
  },
  {
   "cell_type": "code",
   "execution_count": 112,
   "id": "626e6d02",
   "metadata": {},
   "outputs": [
    {
     "data": {
      "text/plain": [
       "count    377469.000000\n",
       "mean          0.012812\n",
       "std           0.112461\n",
       "min           0.000000\n",
       "25%           0.000000\n",
       "50%           0.000000\n",
       "75%           0.000000\n",
       "max           1.000000\n",
       "Name: smokeless_some_days, dtype: float64"
      ]
     },
     "execution_count": 112,
     "metadata": {},
     "output_type": "execute_result"
    }
   ],
   "source": [
    "# smokeless some days\n",
    "df['smokeless_some_days'] = df['USENOW3']\n",
    "df['smokeless_some_days'] = df['smokeless_some_days'].replace([1,3],0)\n",
    "df['smokeless_some_days'] = df['smokeless_some_days'].replace(2,1)\n",
    "df['smokeless_some_days'].describe()"
   ]
  },
  {
   "cell_type": "code",
   "execution_count": 113,
   "id": "3cbdeb2c",
   "metadata": {},
   "outputs": [
    {
     "data": {
      "text/plain": [
       "count    377469.000000\n",
       "mean          0.968832\n",
       "std           0.173772\n",
       "min           0.000000\n",
       "25%           1.000000\n",
       "50%           1.000000\n",
       "75%           1.000000\n",
       "max           1.000000\n",
       "Name: smokeless_not_at_all, dtype: float64"
      ]
     },
     "execution_count": 113,
     "metadata": {},
     "output_type": "execute_result"
    }
   ],
   "source": [
    "# smokeless not at all\n",
    "df['smokeless_not_at_all'] = df['USENOW3']\n",
    "df['smokeless_not_at_all'] = df['smokeless_not_at_all'].replace([1,2],0)\n",
    "df['smokeless_not_at_all'] = df['smokeless_not_at_all'].replace(3,1)\n",
    "df['smokeless_not_at_all'].describe()"
   ]
  },
  {
   "cell_type": "code",
   "execution_count": 114,
   "id": "a363344c",
   "metadata": {},
   "outputs": [],
   "source": [
    "df = df.drop(['USENOW3'], axis=1)"
   ]
  },
  {
   "cell_type": "code",
   "execution_count": 115,
   "id": "29166fdf",
   "metadata": {},
   "outputs": [
    {
     "data": {
      "text/plain": [
       "82"
      ]
     },
     "execution_count": 115,
     "metadata": {},
     "output_type": "execute_result"
    }
   ],
   "source": [
    "df['ECIGNOW1'].isna().sum()"
   ]
  },
  {
   "cell_type": "code",
   "execution_count": 116,
   "id": "59fbf0f8",
   "metadata": {},
   "outputs": [],
   "source": [
    "df['ECIGNOW1'].replace([7,9],np.nan, inplace=True)"
   ]
  },
  {
   "cell_type": "code",
   "execution_count": 117,
   "id": "477af215",
   "metadata": {},
   "outputs": [
    {
     "data": {
      "text/plain": [
       "count    377373.000000\n",
       "mean          0.021668\n",
       "std           0.145598\n",
       "min           0.000000\n",
       "25%           0.000000\n",
       "50%           0.000000\n",
       "75%           0.000000\n",
       "max           1.000000\n",
       "Name: ecig_every_day, dtype: float64"
      ]
     },
     "execution_count": 117,
     "metadata": {},
     "output_type": "execute_result"
    }
   ],
   "source": [
    "# ecig every day\n",
    "df['ecig_every_day'] = df['ECIGNOW1']\n",
    "df['ecig_every_day'] = df['ecig_every_day'].replace([2,3,4],0)\n",
    "df['ecig_every_day'].describe()"
   ]
  },
  {
   "cell_type": "code",
   "execution_count": 118,
   "id": "52683592",
   "metadata": {},
   "outputs": [
    {
     "data": {
      "text/plain": [
       "count    377373.000000\n",
       "mean          0.024467\n",
       "std           0.154493\n",
       "min           0.000000\n",
       "25%           0.000000\n",
       "50%           0.000000\n",
       "75%           0.000000\n",
       "max           1.000000\n",
       "Name: ecig_some_days, dtype: float64"
      ]
     },
     "execution_count": 118,
     "metadata": {},
     "output_type": "execute_result"
    }
   ],
   "source": [
    "# ecig some days\n",
    "df['ecig_some_days'] = df['ECIGNOW1']\n",
    "df['ecig_some_days'] = df['ecig_some_days'].replace([1,3,4],0)\n",
    "df['ecig_some_days'] = df['ecig_some_days'].replace(2,1)\n",
    "df['ecig_some_days'].describe()"
   ]
  },
  {
   "cell_type": "code",
   "execution_count": 119,
   "id": "9ba28efb",
   "metadata": {},
   "outputs": [
    {
     "data": {
      "text/plain": [
       "count    377373.000000\n",
       "mean          0.750597\n",
       "std           0.432668\n",
       "min           0.000000\n",
       "25%           1.000000\n",
       "50%           1.000000\n",
       "75%           1.000000\n",
       "max           1.000000\n",
       "Name: ecig_not_at_all, dtype: float64"
      ]
     },
     "execution_count": 119,
     "metadata": {},
     "output_type": "execute_result"
    }
   ],
   "source": [
    "# ecig not at all\n",
    "df['ecig_not_at_all'] = df['ECIGNOW1']\n",
    "df['ecig_not_at_all'] = df['ecig_not_at_all'].replace([1,2,4],0)\n",
    "df['ecig_not_at_all'] = df['ecig_not_at_all'].replace(3,1)\n",
    "df['ecig_not_at_all'].describe()"
   ]
  },
  {
   "cell_type": "code",
   "execution_count": 120,
   "id": "244e70ed",
   "metadata": {},
   "outputs": [
    {
     "data": {
      "text/plain": [
       "count    377373.000000\n",
       "mean          0.203268\n",
       "std           0.402431\n",
       "min           0.000000\n",
       "25%           0.000000\n",
       "50%           0.000000\n",
       "75%           0.000000\n",
       "max           1.000000\n",
       "Name: ecig_never_used, dtype: float64"
      ]
     },
     "execution_count": 120,
     "metadata": {},
     "output_type": "execute_result"
    }
   ],
   "source": [
    "# ecig never used\n",
    "df['ecig_never_used'] = df['ECIGNOW1']\n",
    "df['ecig_never_used'] = df['ecig_never_used'].replace([1,2,3],0)\n",
    "df['ecig_never_used'] = df['ecig_never_used'].replace(4,1)\n",
    "df['ecig_never_used'].describe()"
   ]
  },
  {
   "cell_type": "code",
   "execution_count": 121,
   "id": "b432a03e",
   "metadata": {},
   "outputs": [],
   "source": [
    "df = df.drop(['ECIGNOW1'], axis=1)"
   ]
  },
  {
   "cell_type": "code",
   "execution_count": 122,
   "id": "865e98c9",
   "metadata": {},
   "outputs": [
    {
     "data": {
      "text/plain": [
       "0"
      ]
     },
     "execution_count": 122,
     "metadata": {},
     "output_type": "execute_result"
    }
   ],
   "source": [
    "df['ALCDAY5'].isna().sum()"
   ]
  },
  {
   "cell_type": "code",
   "execution_count": 123,
   "id": "ac730d42",
   "metadata": {},
   "outputs": [
    {
     "data": {
      "text/plain": [
       "count    373876.000000\n",
       "mean          4.843534\n",
       "std           8.080738\n",
       "min           0.000000\n",
       "25%           0.000000\n",
       "50%           1.000000\n",
       "75%           5.000000\n",
       "max          30.000000\n",
       "Name: ALCDAY5, dtype: float64"
      ]
     },
     "execution_count": 123,
     "metadata": {},
     "output_type": "execute_result"
    }
   ],
   "source": [
    "# Days in past 30 had alcoholic beverage\n",
    "df.loc[df['ALCDAY5'] < 110, 'ALCDAY5'] = (df.loc[df['ALCDAY5'] < 110, 'ALCDAY5']-100)*4\n",
    "df.loc[(df['ALCDAY5'] < 231)&(df['ALCDAY5'] > 199), 'ALCDAY5'] -= 200\n",
    "df['ALCDAY5'] = df['ALCDAY5'].replace(888,0)\n",
    "df['ALCDAY5'] = df['ALCDAY5'].replace([777,999],np.nan)\n",
    "df['ALCDAY5'].describe()"
   ]
  },
  {
   "cell_type": "code",
   "execution_count": 124,
   "id": "f3ecad0f",
   "metadata": {},
   "outputs": [
    {
     "data": {
      "text/plain": [
       "182421"
      ]
     },
     "execution_count": 124,
     "metadata": {},
     "output_type": "execute_result"
    }
   ],
   "source": [
    "df['AVEDRNK3'].isna().sum()"
   ]
  },
  {
   "cell_type": "code",
   "execution_count": 125,
   "id": "67911d46",
   "metadata": {},
   "outputs": [],
   "source": [
    "df.loc[df['ALCDAY5'] == 0, 'AVEDRNK3'] = 0 # if alcday5 was 0 then avedrink is 0"
   ]
  },
  {
   "cell_type": "code",
   "execution_count": 126,
   "id": "245c21f6",
   "metadata": {},
   "outputs": [
    {
     "data": {
      "text/plain": [
       "4007"
      ]
     },
     "execution_count": 126,
     "metadata": {},
     "output_type": "execute_result"
    }
   ],
   "source": [
    "df['AVEDRNK3'].isna().sum()"
   ]
  },
  {
   "cell_type": "code",
   "execution_count": 127,
   "id": "c5385394",
   "metadata": {},
   "outputs": [
    {
     "data": {
      "text/plain": [
       "count    371209.000000\n",
       "mean          1.150955\n",
       "std           2.044765\n",
       "min           0.000000\n",
       "25%           0.000000\n",
       "50%           1.000000\n",
       "75%           2.000000\n",
       "max          76.000000\n",
       "Name: AVEDRNK3, dtype: float64"
      ]
     },
     "execution_count": 127,
     "metadata": {},
     "output_type": "execute_result"
    }
   ],
   "source": [
    "# Avg alcoholic drinks per day in past 30\n",
    "df['AVEDRNK3'].replace(88, 0, inplace=True)\n",
    "df['AVEDRNK3'].replace([77,99], np.nan, inplace=True)\n",
    "df['AVEDRNK3'].describe()"
   ]
  },
  {
   "cell_type": "code",
   "execution_count": 128,
   "id": "59a8bfe8",
   "metadata": {},
   "outputs": [
    {
     "data": {
      "text/plain": [
       "182423"
      ]
     },
     "execution_count": 128,
     "metadata": {},
     "output_type": "execute_result"
    }
   ],
   "source": [
    "df['DRNK3GE5'].isna().sum()"
   ]
  },
  {
   "cell_type": "code",
   "execution_count": 129,
   "id": "d07a6b13",
   "metadata": {},
   "outputs": [],
   "source": [
    "df.loc[df['ALCDAY5'] == 0, 'DRNK3GE5'] = 0 # if alcday5 was 0 then DRNK3GE5 is 0"
   ]
  },
  {
   "cell_type": "code",
   "execution_count": 130,
   "id": "6d74848a",
   "metadata": {},
   "outputs": [
    {
     "data": {
      "text/plain": [
       "4009"
      ]
     },
     "execution_count": 130,
     "metadata": {},
     "output_type": "execute_result"
    }
   ],
   "source": [
    "df['DRNK3GE5'].isna().sum()"
   ]
  },
  {
   "cell_type": "code",
   "execution_count": 131,
   "id": "3b37366b",
   "metadata": {},
   "outputs": [
    {
     "data": {
      "text/plain": [
       "count    371422.000000\n",
       "mean          0.629893\n",
       "std           2.914485\n",
       "min           0.000000\n",
       "25%           0.000000\n",
       "50%           0.000000\n",
       "75%           0.000000\n",
       "max          76.000000\n",
       "Name: DRNK3GE5, dtype: float64"
      ]
     },
     "execution_count": 131,
     "metadata": {},
     "output_type": "execute_result"
    }
   ],
   "source": [
    "# binge drinking\n",
    "df['DRNK3GE5'].replace(88, 0, inplace=True)\n",
    "df['DRNK3GE5'].replace([77,99], np.nan, inplace=True)\n",
    "df['DRNK3GE5'].describe()"
   ]
  },
  {
   "cell_type": "code",
   "execution_count": 132,
   "id": "00ba4cd0",
   "metadata": {},
   "outputs": [
    {
     "data": {
      "text/plain": [
       "182423"
      ]
     },
     "execution_count": 132,
     "metadata": {},
     "output_type": "execute_result"
    }
   ],
   "source": [
    "df['MAXDRNKS'].isna().sum()"
   ]
  },
  {
   "cell_type": "code",
   "execution_count": 133,
   "id": "b99af912",
   "metadata": {},
   "outputs": [
    {
     "data": {
      "text/plain": [
       "4009"
      ]
     },
     "execution_count": 133,
     "metadata": {},
     "output_type": "execute_result"
    }
   ],
   "source": [
    "df.loc[df['ALCDAY5'] == 0, 'MAXDRNKS'] = 0 # if alcday5 was 0 then MAXDRNKS is 0\n",
    "df['MAXDRNKS'].isna().sum()"
   ]
  },
  {
   "cell_type": "code",
   "execution_count": 134,
   "id": "ae5121cb",
   "metadata": {},
   "outputs": [
    {
     "data": {
      "text/plain": [
       "count    367972.000000\n",
       "mean          1.688732\n",
       "std           2.895279\n",
       "min           0.000000\n",
       "25%           0.000000\n",
       "50%           1.000000\n",
       "75%           2.000000\n",
       "max          76.000000\n",
       "Name: MAXDRNKS, dtype: float64"
      ]
     },
     "execution_count": 134,
     "metadata": {},
     "output_type": "execute_result"
    }
   ],
   "source": [
    "# max drinks on a single occassion\n",
    "df['MAXDRNKS'].replace([77,99], np.nan, inplace=True)\n",
    "df['MAXDRNKS'].describe()"
   ]
  },
  {
   "cell_type": "code",
   "execution_count": 135,
   "id": "4317abf4",
   "metadata": {},
   "outputs": [
    {
     "data": {
      "text/plain": [
       "0"
      ]
     },
     "execution_count": 135,
     "metadata": {},
     "output_type": "execute_result"
    }
   ],
   "source": [
    "df['FLUSHOT7'].isna().sum()"
   ]
  },
  {
   "cell_type": "code",
   "execution_count": 136,
   "id": "09483499",
   "metadata": {},
   "outputs": [
    {
     "data": {
      "text/plain": [
       "count    375138.000000\n",
       "mean          0.523775\n",
       "std           0.499435\n",
       "min           0.000000\n",
       "25%           0.000000\n",
       "50%           1.000000\n",
       "75%           1.000000\n",
       "max           1.000000\n",
       "Name: FLUSHOT7, dtype: float64"
      ]
     },
     "execution_count": 136,
     "metadata": {},
     "output_type": "execute_result"
    }
   ],
   "source": [
    "# adult flu shot/spray past 12 months\n",
    "df['FLUSHOT7'].replace(2, 0, inplace=True)\n",
    "df['FLUSHOT7'].replace([7,9],np.nan, inplace=True)\n",
    "df['FLUSHOT7'].describe()"
   ]
  },
  {
   "cell_type": "code",
   "execution_count": 137,
   "id": "5463eb46",
   "metadata": {},
   "outputs": [],
   "source": [
    "# drop FLSHTMY3, when received flu shot, too much based on specific years and will change as time passes a lot\n",
    "df = df.drop(['FLSHTMY3'], axis=1)"
   ]
  },
  {
   "cell_type": "code",
   "execution_count": 138,
   "id": "2e6c3cb7",
   "metadata": {},
   "outputs": [
    {
     "data": {
      "text/plain": [
       "1"
      ]
     },
     "execution_count": 138,
     "metadata": {},
     "output_type": "execute_result"
    }
   ],
   "source": [
    "df['PNEUVAC4'].isna().sum()"
   ]
  },
  {
   "cell_type": "code",
   "execution_count": 139,
   "id": "ed0a7c4f",
   "metadata": {},
   "outputs": [
    {
     "data": {
      "text/plain": [
       "count    347640.000000\n",
       "mean          0.403282\n",
       "std           0.490557\n",
       "min           0.000000\n",
       "25%           0.000000\n",
       "50%           0.000000\n",
       "75%           1.000000\n",
       "max           1.000000\n",
       "Name: PNEUVAC4, dtype: float64"
      ]
     },
     "execution_count": 139,
     "metadata": {},
     "output_type": "execute_result"
    }
   ],
   "source": [
    "# adult flu shot/spray past 12 months\n",
    "df['PNEUVAC4'].replace(2, 0, inplace=True)\n",
    "df['PNEUVAC4'].replace([7,9],np.nan, inplace=True)\n",
    "df['PNEUVAC4'].describe()"
   ]
  },
  {
   "cell_type": "code",
   "execution_count": 140,
   "id": "a7188d86",
   "metadata": {},
   "outputs": [
    {
     "data": {
      "text/plain": [
       "0"
      ]
     },
     "execution_count": 140,
     "metadata": {},
     "output_type": "execute_result"
    }
   ],
   "source": [
    "df['HIVTST7'].isna().sum()"
   ]
  },
  {
   "cell_type": "code",
   "execution_count": 141,
   "id": "07f105c9",
   "metadata": {},
   "outputs": [
    {
     "data": {
      "text/plain": [
       "count    358728.000000\n",
       "mean          0.335176\n",
       "std           0.472053\n",
       "min           0.000000\n",
       "25%           0.000000\n",
       "50%           0.000000\n",
       "75%           1.000000\n",
       "max           1.000000\n",
       "Name: HIVTST7, dtype: float64"
      ]
     },
     "execution_count": 141,
     "metadata": {},
     "output_type": "execute_result"
    }
   ],
   "source": [
    "# Ever tested for HIV\n",
    "df['HIVTST7'].replace(2, 0, inplace=True)\n",
    "df['HIVTST7'].replace([7,9],np.nan, inplace=True)\n",
    "df['HIVTST7'].describe()"
   ]
  },
  {
   "cell_type": "code",
   "execution_count": 142,
   "id": "d04226c8",
   "metadata": {},
   "outputs": [
    {
     "data": {
      "text/plain": [
       "277516"
      ]
     },
     "execution_count": 142,
     "metadata": {},
     "output_type": "execute_result"
    }
   ],
   "source": [
    "df['PDIABTST'].isna().sum()"
   ]
  },
  {
   "cell_type": "code",
   "execution_count": 143,
   "id": "b312d0f5",
   "metadata": {},
   "outputs": [],
   "source": [
    "# drop PDIABTST, had test for blood sugar, conditional question not asked if told had diabetes\n",
    "df = df.drop(['PDIABTST'], axis=1)"
   ]
  },
  {
   "cell_type": "code",
   "execution_count": 144,
   "id": "2e1acb80",
   "metadata": {},
   "outputs": [],
   "source": [
    "# drop INSULIN1, taking insulin, conditional question not asked if told had diabetes\n",
    "df = df.drop(['INSULIN1'], axis=1)"
   ]
  },
  {
   "cell_type": "code",
   "execution_count": 145,
   "id": "40617816",
   "metadata": {},
   "outputs": [
    {
     "data": {
      "text/plain": [
       "count    371494.000000\n",
       "mean          0.693263\n",
       "std           0.461140\n",
       "min           0.000000\n",
       "25%           0.000000\n",
       "50%           1.000000\n",
       "75%           1.000000\n",
       "max           1.000000\n",
       "Name: _METSTAT, dtype: float64"
      ]
     },
     "execution_count": 145,
     "metadata": {},
     "output_type": "execute_result"
    }
   ],
   "source": [
    "# do you live in a metropolitan area\n",
    "df['_METSTAT'].replace(2, 0, inplace=True)\n",
    "df['_METSTAT'].describe()"
   ]
  },
  {
   "cell_type": "code",
   "execution_count": 146,
   "id": "564482ec",
   "metadata": {},
   "outputs": [
    {
     "data": {
      "text/plain": [
       "count    371494.000000\n",
       "mean          0.854633\n",
       "std           0.352471\n",
       "min           0.000000\n",
       "25%           1.000000\n",
       "50%           1.000000\n",
       "75%           1.000000\n",
       "max           1.000000\n",
       "Name: _URBSTAT, dtype: float64"
      ]
     },
     "execution_count": 146,
     "metadata": {},
     "output_type": "execute_result"
    }
   ],
   "source": [
    "# do you live in a urban area\n",
    "df['_URBSTAT'].replace(2, 0, inplace=True)\n",
    "df['_URBSTAT'].describe()"
   ]
  },
  {
   "cell_type": "code",
   "execution_count": 147,
   "id": "ffe6fe4a",
   "metadata": {},
   "outputs": [
    {
     "data": {
      "text/plain": [
       "count    377880.000000\n",
       "mean          0.766458\n",
       "std           0.423085\n",
       "min           0.000000\n",
       "25%           1.000000\n",
       "50%           1.000000\n",
       "75%           1.000000\n",
       "max           1.000000\n",
       "Name: white, dtype: float64"
      ]
     },
     "execution_count": 147,
     "metadata": {},
     "output_type": "execute_result"
    }
   ],
   "source": [
    "# white, non-hispanic\n",
    "df['white'] = df['_IMPRACE']\n",
    "df['white'].replace(range(2,7), 0, inplace=True)\n",
    "df['white'].describe()"
   ]
  },
  {
   "cell_type": "code",
   "execution_count": 148,
   "id": "8caf10cf",
   "metadata": {},
   "outputs": [
    {
     "data": {
      "text/plain": [
       "count    377880.000000\n",
       "mean          0.070504\n",
       "std           0.255995\n",
       "min           0.000000\n",
       "25%           0.000000\n",
       "50%           0.000000\n",
       "75%           0.000000\n",
       "max           1.000000\n",
       "Name: black, dtype: float64"
      ]
     },
     "execution_count": 148,
     "metadata": {},
     "output_type": "execute_result"
    }
   ],
   "source": [
    "# black, non-hispanic\n",
    "df['black'] = df['_IMPRACE']\n",
    "df['black'].replace([1,3,4,5,6], 0, inplace=True)\n",
    "df['black'].replace(2, 1, inplace=True)\n",
    "df['black'].describe()"
   ]
  },
  {
   "cell_type": "code",
   "execution_count": 149,
   "id": "ef6628d2",
   "metadata": {},
   "outputs": [
    {
     "data": {
      "text/plain": [
       "count    377880.000000\n",
       "mean          0.025664\n",
       "std           0.158132\n",
       "min           0.000000\n",
       "25%           0.000000\n",
       "50%           0.000000\n",
       "75%           0.000000\n",
       "max           1.000000\n",
       "Name: asian, dtype: float64"
      ]
     },
     "execution_count": 149,
     "metadata": {},
     "output_type": "execute_result"
    }
   ],
   "source": [
    "# Asian, non-hispanic\n",
    "df['asian'] = df['_IMPRACE']\n",
    "df['asian'].replace([1,2,4,5,6], 0, inplace=True)\n",
    "df['asian'].replace(3, 1, inplace=True)\n",
    "df['asian'].describe()"
   ]
  },
  {
   "cell_type": "code",
   "execution_count": 150,
   "id": "8ccff7e7",
   "metadata": {},
   "outputs": [
    {
     "data": {
      "text/plain": [
       "count    377880.000000\n",
       "mean          0.016309\n",
       "std           0.126663\n",
       "min           0.000000\n",
       "25%           0.000000\n",
       "50%           0.000000\n",
       "75%           0.000000\n",
       "max           1.000000\n",
       "Name: native, dtype: float64"
      ]
     },
     "execution_count": 150,
     "metadata": {},
     "output_type": "execute_result"
    }
   ],
   "source": [
    "# Native, non-hispanic\n",
    "df['native'] = df['_IMPRACE']\n",
    "df['native'].replace([1,2,3,5,6], 0, inplace=True)\n",
    "df['native'].replace(4, 1, inplace=True)\n",
    "df['native'].describe()"
   ]
  },
  {
   "cell_type": "code",
   "execution_count": 151,
   "id": "2f4d12f2",
   "metadata": {},
   "outputs": [
    {
     "data": {
      "text/plain": [
       "count    377880.000000\n",
       "mean          0.086075\n",
       "std           0.280475\n",
       "min           0.000000\n",
       "25%           0.000000\n",
       "50%           0.000000\n",
       "75%           0.000000\n",
       "max           1.000000\n",
       "Name: hispanic, dtype: float64"
      ]
     },
     "execution_count": 151,
     "metadata": {},
     "output_type": "execute_result"
    }
   ],
   "source": [
    "# Hispanic\n",
    "df['hispanic'] = df['_IMPRACE']\n",
    "df['hispanic'].replace([1,2,3,4,6], 0, inplace=True)\n",
    "df['hispanic'].replace(5, 1, inplace=True)\n",
    "df['hispanic'].describe()"
   ]
  },
  {
   "cell_type": "code",
   "execution_count": 152,
   "id": "c63605c5",
   "metadata": {},
   "outputs": [],
   "source": [
    "df = df.drop(['_IMPRACE'], axis=1) # data extracted above"
   ]
  },
  {
   "cell_type": "code",
   "execution_count": 153,
   "id": "9be4a4ab",
   "metadata": {},
   "outputs": [
    {
     "data": {
      "text/plain": [
       "0"
      ]
     },
     "execution_count": 153,
     "metadata": {},
     "output_type": "execute_result"
    }
   ],
   "source": [
    "df['_HLTHPLN'].isna().sum()"
   ]
  },
  {
   "cell_type": "code",
   "execution_count": 154,
   "id": "4c07c3d6",
   "metadata": {},
   "outputs": [
    {
     "data": {
      "text/plain": [
       "count    365333.000000\n",
       "mean          0.947470\n",
       "std           0.223094\n",
       "min           0.000000\n",
       "25%           1.000000\n",
       "50%           1.000000\n",
       "75%           1.000000\n",
       "max           1.000000\n",
       "Name: _HLTHPLN, dtype: float64"
      ]
     },
     "execution_count": 154,
     "metadata": {},
     "output_type": "execute_result"
    }
   ],
   "source": [
    "# health insurance\n",
    "df['_HLTHPLN'].replace(2, 0, inplace=True)\n",
    "df['_HLTHPLN'].replace(9,np.nan, inplace=True)\n",
    "df['_HLTHPLN'].describe()"
   ]
  },
  {
   "cell_type": "code",
   "execution_count": 155,
   "id": "caed7b3a",
   "metadata": {},
   "outputs": [
    {
     "data": {
      "text/plain": [
       "0"
      ]
     },
     "execution_count": 155,
     "metadata": {},
     "output_type": "execute_result"
    }
   ],
   "source": [
    "df['_AGE80'].isna().sum()"
   ]
  },
  {
   "cell_type": "code",
   "execution_count": 156,
   "id": "addfab27",
   "metadata": {},
   "outputs": [
    {
     "data": {
      "text/plain": [
       "count    377880.000000\n",
       "mean         54.709617\n",
       "std          17.488837\n",
       "min          18.000000\n",
       "25%          41.000000\n",
       "50%          57.000000\n",
       "75%          69.000000\n",
       "max          80.000000\n",
       "Name: _AGE80, dtype: float64"
      ]
     },
     "execution_count": 156,
     "metadata": {},
     "output_type": "execute_result"
    }
   ],
   "source": [
    "# age\n",
    "df['_AGE80'].describe()"
   ]
  },
  {
   "cell_type": "code",
   "execution_count": 157,
   "id": "4c3a1b4b",
   "metadata": {},
   "outputs": [
    {
     "data": {
      "text/plain": [
       "9909"
      ]
     },
     "execution_count": 157,
     "metadata": {},
     "output_type": "execute_result"
    }
   ],
   "source": [
    "df['HTIN4'].isna().sum()"
   ]
  },
  {
   "cell_type": "code",
   "execution_count": 158,
   "id": "59f0985b",
   "metadata": {},
   "outputs": [
    {
     "data": {
      "text/plain": [
       "count    367971.000000\n",
       "mean         67.049903\n",
       "std           4.177907\n",
       "min          36.000000\n",
       "25%          64.000000\n",
       "50%          67.000000\n",
       "75%          70.000000\n",
       "max          95.000000\n",
       "Name: HTIN4, dtype: float64"
      ]
     },
     "execution_count": 158,
     "metadata": {},
     "output_type": "execute_result"
    }
   ],
   "source": [
    "# height in inches\n",
    "df['HTIN4'].describe()"
   ]
  },
  {
   "cell_type": "code",
   "execution_count": 159,
   "id": "ba4948af",
   "metadata": {},
   "outputs": [
    {
     "data": {
      "text/plain": [
       "21273"
      ]
     },
     "execution_count": 159,
     "metadata": {},
     "output_type": "execute_result"
    }
   ],
   "source": [
    "df['WTKG3'].isna().sum()"
   ]
  },
  {
   "cell_type": "code",
   "execution_count": 160,
   "id": "e58dadcb",
   "metadata": {},
   "outputs": [
    {
     "data": {
      "text/plain": [
       "count    356607.000000\n",
       "mean         83.273755\n",
       "std          21.411565\n",
       "min          22.680000\n",
       "25%          68.040000\n",
       "50%          81.190000\n",
       "75%          95.250000\n",
       "max         293.020000\n",
       "Name: WTKG3, dtype: float64"
      ]
     },
     "execution_count": 160,
     "metadata": {},
     "output_type": "execute_result"
    }
   ],
   "source": [
    "# weight in kilograms\n",
    "df['WTKG3'] /= 100\n",
    "df['WTKG3'].describe()"
   ]
  },
  {
   "cell_type": "code",
   "execution_count": 161,
   "id": "3057e26a",
   "metadata": {},
   "outputs": [
    {
     "data": {
      "text/plain": [
       "0"
      ]
     },
     "execution_count": 161,
     "metadata": {},
     "output_type": "execute_result"
    }
   ],
   "source": [
    "df['_EDUCAG'].isna().sum()"
   ]
  },
  {
   "cell_type": "code",
   "execution_count": 162,
   "id": "595beff3",
   "metadata": {},
   "outputs": [
    {
     "data": {
      "text/plain": [
       "1346"
      ]
     },
     "execution_count": 162,
     "metadata": {},
     "output_type": "execute_result"
    }
   ],
   "source": [
    "df['_EDUCAG'].replace(9,np.nan,inplace=True)\n",
    "df['_EDUCAG'].isna().sum()"
   ]
  },
  {
   "cell_type": "code",
   "execution_count": 163,
   "id": "19c22f0c",
   "metadata": {},
   "outputs": [
    {
     "data": {
      "text/plain": [
       "count    376534.000000\n",
       "mean          0.054301\n",
       "std           0.226610\n",
       "min           0.000000\n",
       "25%           0.000000\n",
       "50%           0.000000\n",
       "75%           0.000000\n",
       "max           1.000000\n",
       "Name: not_graduate_high_school, dtype: float64"
      ]
     },
     "execution_count": 163,
     "metadata": {},
     "output_type": "execute_result"
    }
   ],
   "source": [
    "# Did not graduate High School\n",
    "df['not_graduate_high_school'] = df['_EDUCAG']\n",
    "df['not_graduate_high_school'].replace([2,3,4], 0, inplace=True)\n",
    "df['not_graduate_high_school'].describe()"
   ]
  },
  {
   "cell_type": "code",
   "execution_count": 164,
   "id": "79630d96",
   "metadata": {},
   "outputs": [
    {
     "data": {
      "text/plain": [
       "count    376534.000000\n",
       "mean          0.246910\n",
       "std           0.431214\n",
       "min           0.000000\n",
       "25%           0.000000\n",
       "50%           0.000000\n",
       "75%           0.000000\n",
       "max           1.000000\n",
       "Name: graduated_high_school, dtype: float64"
      ]
     },
     "execution_count": 164,
     "metadata": {},
     "output_type": "execute_result"
    }
   ],
   "source": [
    "# Graduated High School\n",
    "df['graduated_high_school'] = df['_EDUCAG']\n",
    "df['graduated_high_school'].replace([1,3,4], 0, inplace=True)\n",
    "df['graduated_high_school'].replace(2, 1, inplace=True)\n",
    "df['graduated_high_school'].describe()"
   ]
  },
  {
   "cell_type": "code",
   "execution_count": 165,
   "id": "da3da687",
   "metadata": {},
   "outputs": [
    {
     "data": {
      "text/plain": [
       "count    376534.000000\n",
       "mean          0.277404\n",
       "std           0.447718\n",
       "min           0.000000\n",
       "25%           0.000000\n",
       "50%           0.000000\n",
       "75%           1.000000\n",
       "max           1.000000\n",
       "Name: attended_college, dtype: float64"
      ]
     },
     "execution_count": 165,
     "metadata": {},
     "output_type": "execute_result"
    }
   ],
   "source": [
    "# Attended College or Technical School\n",
    "df['attended_college'] = df['_EDUCAG']\n",
    "df['attended_college'].replace([1,2,4], 0, inplace=True)\n",
    "df['attended_college'].replace(3, 1, inplace=True)\n",
    "df['attended_college'].describe()"
   ]
  },
  {
   "cell_type": "code",
   "execution_count": 166,
   "id": "7dc05c6c",
   "metadata": {},
   "outputs": [
    {
     "data": {
      "text/plain": [
       "count    376534.000000\n",
       "mean          0.421386\n",
       "std           0.493782\n",
       "min           0.000000\n",
       "25%           0.000000\n",
       "50%           0.000000\n",
       "75%           1.000000\n",
       "max           1.000000\n",
       "Name: graduated_college, dtype: float64"
      ]
     },
     "execution_count": 166,
     "metadata": {},
     "output_type": "execute_result"
    }
   ],
   "source": [
    "# Graduated from College\n",
    "df['graduated_college'] = df['_EDUCAG']\n",
    "df['graduated_college'].replace([1,2,3], 0, inplace=True)\n",
    "df['graduated_college'].replace(4, 1, inplace=True)\n",
    "df['graduated_college'].describe()"
   ]
  },
  {
   "cell_type": "code",
   "execution_count": 167,
   "id": "53cfeb71",
   "metadata": {},
   "outputs": [],
   "source": [
    "df = df.drop(['_EDUCAG'], axis=1) # data extracted above"
   ]
  },
  {
   "cell_type": "code",
   "execution_count": 168,
   "id": "5f3f482b",
   "metadata": {},
   "outputs": [
    {
     "data": {
      "text/plain": [
       "0"
      ]
     },
     "execution_count": 168,
     "metadata": {},
     "output_type": "execute_result"
    }
   ],
   "source": [
    "df['_INCOMG1'].isna().sum()"
   ]
  },
  {
   "cell_type": "code",
   "execution_count": 169,
   "id": "54753716",
   "metadata": {},
   "outputs": [
    {
     "data": {
      "text/plain": [
       "count    310561.000000\n",
       "mean          4.371444\n",
       "std           1.604624\n",
       "min           1.000000\n",
       "25%           3.000000\n",
       "50%           5.000000\n",
       "75%           6.000000\n",
       "max           7.000000\n",
       "Name: _INCOMG1, dtype: float64"
      ]
     },
     "execution_count": 169,
     "metadata": {},
     "output_type": "execute_result"
    }
   ],
   "source": [
    "df['_INCOMG1'].replace(9,np.nan, inplace=True)\n",
    "df['_INCOMG1'].describe()"
   ]
  },
  {
   "cell_type": "code",
   "execution_count": 170,
   "id": "26d82e7b",
   "metadata": {},
   "outputs": [
    {
     "data": {
      "text/plain": [
       "4349"
      ]
     },
     "execution_count": 170,
     "metadata": {},
     "output_type": "execute_result"
    }
   ],
   "source": [
    "df['FTJUDA2_'].isna().sum()"
   ]
  },
  {
   "cell_type": "code",
   "execution_count": 171,
   "id": "e9cce371",
   "metadata": {},
   "outputs": [
    {
     "data": {
      "text/plain": [
       "count    3.735310e+05\n",
       "mean     4.362214e-01\n",
       "std      3.576845e+00\n",
       "min      5.397605e-81\n",
       "25%      5.397605e-81\n",
       "50%      3.000000e-02\n",
       "75%      2.900000e-01\n",
       "max      9.900000e+01\n",
       "Name: FTJUDA2_, dtype: float64"
      ]
     },
     "execution_count": 171,
     "metadata": {},
     "output_type": "execute_result"
    }
   ],
   "source": [
    "#fruit juice intake in times per day\n",
    "df['FTJUDA2_'] /= 100\n",
    "df['FTJUDA2_'].round(2)\n",
    "df['FTJUDA2_'].describe()"
   ]
  },
  {
   "cell_type": "code",
   "execution_count": 172,
   "id": "a168858d",
   "metadata": {},
   "outputs": [
    {
     "data": {
      "text/plain": [
       "4676"
      ]
     },
     "execution_count": 172,
     "metadata": {},
     "output_type": "execute_result"
    }
   ],
   "source": [
    "df['FRUTDA2_'].isna().sum()"
   ]
  },
  {
   "cell_type": "code",
   "execution_count": 173,
   "id": "7ab8cfb2",
   "metadata": {},
   "outputs": [
    {
     "data": {
      "text/plain": [
       "count    3.732040e+05\n",
       "mean     1.334253e+00\n",
       "std      4.913100e+00\n",
       "min      5.397605e-81\n",
       "25%      4.300000e-01\n",
       "50%      1.000000e+00\n",
       "75%      1.000000e+00\n",
       "max      9.900000e+01\n",
       "Name: FRUTDA2_, dtype: float64"
      ]
     },
     "execution_count": 173,
     "metadata": {},
     "output_type": "execute_result"
    }
   ],
   "source": [
    "# Fruit intake in times per day\n",
    "df['FRUTDA2_'] /= 100\n",
    "df['FRUTDA2_'].round(2)\n",
    "df['FRUTDA2_'].describe()"
   ]
  },
  {
   "cell_type": "code",
   "execution_count": 174,
   "id": "c05156b9",
   "metadata": {},
   "outputs": [
    {
     "data": {
      "text/plain": [
       "0"
      ]
     },
     "execution_count": 174,
     "metadata": {},
     "output_type": "execute_result"
    }
   ],
   "source": [
    "df['GRENDA1_'].isna().sum()"
   ]
  },
  {
   "cell_type": "code",
   "execution_count": 175,
   "id": "2285732d",
   "metadata": {},
   "outputs": [
    {
     "data": {
      "text/plain": [
       "count    3.778800e+05\n",
       "mean     7.894822e-01\n",
       "std      4.633036e+00\n",
       "min      5.397605e-81\n",
       "25%      1.400000e-01\n",
       "50%      4.300000e-01\n",
       "75%      7.100000e-01\n",
       "max      9.900000e+01\n",
       "Name: GRENDA1_, dtype: float64"
      ]
     },
     "execution_count": 175,
     "metadata": {},
     "output_type": "execute_result"
    }
   ],
   "source": [
    "# Dark Green Vegetable intake in times per day\n",
    "df['GRENDA1_'] /= 100\n",
    "df['GRENDA1_'].round(2)\n",
    "df['GRENDA1_'].describe()"
   ]
  },
  {
   "cell_type": "code",
   "execution_count": 176,
   "id": "73e85567",
   "metadata": {},
   "outputs": [
    {
     "data": {
      "text/plain": [
       "0"
      ]
     },
     "execution_count": 176,
     "metadata": {},
     "output_type": "execute_result"
    }
   ],
   "source": [
    "df['FRNCHDA_'].isna().sum()"
   ]
  },
  {
   "cell_type": "code",
   "execution_count": 177,
   "id": "e689e872",
   "metadata": {},
   "outputs": [
    {
     "data": {
      "text/plain": [
       "count    3.778800e+05\n",
       "mean     2.527462e-01\n",
       "std      1.656265e+00\n",
       "min      5.397605e-81\n",
       "25%      3.000000e-02\n",
       "50%      1.400000e-01\n",
       "75%      2.900000e-01\n",
       "max      9.900000e+01\n",
       "Name: FRNCHDA_, dtype: float64"
      ]
     },
     "execution_count": 177,
     "metadata": {},
     "output_type": "execute_result"
    }
   ],
   "source": [
    "# French Fry intake in times per day\n",
    "df['FRNCHDA_'] /= 100\n",
    "df['FRNCHDA_'].round(2)\n",
    "df['FRNCHDA_'].describe()"
   ]
  },
  {
   "cell_type": "code",
   "execution_count": 178,
   "id": "3ff3565f",
   "metadata": {},
   "outputs": [
    {
     "data": {
      "text/plain": [
       "0"
      ]
     },
     "execution_count": 178,
     "metadata": {},
     "output_type": "execute_result"
    }
   ],
   "source": [
    "df['POTADA1_'].isna().sum()"
   ]
  },
  {
   "cell_type": "code",
   "execution_count": 179,
   "id": "8c7ed9f5",
   "metadata": {},
   "outputs": [
    {
     "data": {
      "text/plain": [
       "count    3.778800e+05\n",
       "mean     2.838135e-01\n",
       "std      1.777598e+00\n",
       "min      5.397605e-81\n",
       "25%      7.000000e-02\n",
       "50%      1.400000e-01\n",
       "75%      2.900000e-01\n",
       "max      9.900000e+01\n",
       "Name: POTADA1_, dtype: float64"
      ]
     },
     "execution_count": 179,
     "metadata": {},
     "output_type": "execute_result"
    }
   ],
   "source": [
    "# Potato Servings per day\n",
    "df['POTADA1_'] /= 100\n",
    "df['POTADA1_'].round(2)\n",
    "df['POTADA1_'].describe()"
   ]
  },
  {
   "cell_type": "code",
   "execution_count": 180,
   "id": "59d00982",
   "metadata": {},
   "outputs": [
    {
     "data": {
      "text/plain": [
       "0"
      ]
     },
     "execution_count": 180,
     "metadata": {},
     "output_type": "execute_result"
    }
   ],
   "source": [
    "df['VEGEDA2_'].isna().sum()"
   ]
  },
  {
   "cell_type": "code",
   "execution_count": 181,
   "id": "38e41030",
   "metadata": {},
   "outputs": [
    {
     "data": {
      "text/plain": [
       "count    3.778800e+05\n",
       "mean     1.388093e+00\n",
       "std      6.451475e+00\n",
       "min      5.397605e-81\n",
       "25%      4.300000e-01\n",
       "50%      9.300000e-01\n",
       "75%      1.000000e+00\n",
       "max      9.900000e+01\n",
       "Name: VEGEDA2_, dtype: float64"
      ]
     },
     "execution_count": 181,
     "metadata": {},
     "output_type": "execute_result"
    }
   ],
   "source": [
    "# Other Vegetable intake in times per day\n",
    "df['VEGEDA2_'] /= 100\n",
    "df['VEGEDA2_'].round(2)\n",
    "df['VEGEDA2_'].describe()"
   ]
  },
  {
   "cell_type": "code",
   "execution_count": 182,
   "id": "72b393ce",
   "metadata": {},
   "outputs": [
    {
     "name": "stdout",
     "output_type": "stream",
     "text": [
      "No. of columns containing null values\n",
      "81\n",
      "No. of columns not containing null values\n",
      "17\n",
      "Total no. of columns in the dataframe\n",
      "98\n"
     ]
    }
   ],
   "source": [
    "# remove colums containing string values\n",
    "\n",
    "print(\"No. of columns containing null values\")\n",
    "print(len(df.columns[df.isna().any()]))\n",
    "\n",
    "print(\"No. of columns not containing null values\")\n",
    "print(len(df.columns[df.notna().all()]))\n",
    "\n",
    "print(\"Total no. of columns in the dataframe\")\n",
    "print(len(df.columns))\n",
    "\n",
    "#df = df.dropna(axis=1)\n",
    "#df.shape"
   ]
  },
  {
   "cell_type": "code",
   "execution_count": 183,
   "id": "370c0dde",
   "metadata": {},
   "outputs": [
    {
     "data": {
      "text/plain": [
       "Index(['Unnamed: 0.1', 'Unnamed: 0', 'SEXVAR', 'GENHLTH', 'PHYSHLTH',\n",
       "       'MENTHLTH', 'POORHLTH', 'PERSDOC3', 'MEDCOST1', 'CHECKUP1', 'EXERANY2',\n",
       "       'BPMEDS', 'TOLDHI3', 'CHOLMED3', 'CVDINFR4', 'CVDCRHD4', 'CVDSTRK3',\n",
       "       'ASTHMA3', 'ASTHNOW', 'CHCSCNCR', 'CHCOCNCR', 'CHCCOPD3', 'ADDEPEV3',\n",
       "       'CHCKDNY2', 'DIABETE4', 'HAVARTH5', 'VETERAN3', 'PREGNANT', 'DEAF',\n",
       "       'BLIND', 'DECIDE', 'DIFFWALK', 'DIFFDRES', 'DIFFALON', 'SMOKE100',\n",
       "       'ALCDAY5', 'AVEDRNK3', 'DRNK3GE5', 'MAXDRNKS', 'FLUSHOT7', 'PNEUVAC4',\n",
       "       'HIVTST7', '_METSTAT', '_URBSTAT', '_WT2RAKE', '_PHYS14D', '_HLTHPLN',\n",
       "       '_AGE80', 'HTIN4', 'WTKG3', '_INCOMG1', 'FTJUDA2_', 'FRUTDA2_',\n",
       "       'GRENDA1_', 'FRNCHDA_', 'POTADA1_', 'VEGEDA2_', '_MISFRT1',\n",
       "       'high_blood_pressure', 'pregnant_high_blood_pressure',\n",
       "       'borderline_high_blood_pressure', 'cholesterol_checked_within_year',\n",
       "       'married', 'divorced', 'widowed', 'separated', 'never_married',\n",
       "       'unmarried_couple', 'own_house', 'renting', 'other_arrangement_housing',\n",
       "       'employed_for_wages', 'self_employed', 'out_of_work_year_plus',\n",
       "       'out_of_work_year_less', 'homemaker', 'student', 'retired',\n",
       "       'unable_to_work', 'smoke_every_day', 'smoke_some_days',\n",
       "       'smoke_not_at_all', 'smokeless_every_day', 'smokeless_some_days',\n",
       "       'smokeless_not_at_all', 'ecig_every_day', 'ecig_some_days',\n",
       "       'ecig_not_at_all', 'ecig_never_used', 'white', 'black', 'asian',\n",
       "       'native', 'hispanic', 'not_graduate_high_school',\n",
       "       'graduated_high_school', 'attended_college', 'graduated_college'],\n",
       "      dtype='object')"
      ]
     },
     "execution_count": 183,
     "metadata": {},
     "output_type": "execute_result"
    }
   ],
   "source": [
    "df.columns"
   ]
  },
  {
   "cell_type": "code",
   "execution_count": 184,
   "id": "77676956",
   "metadata": {},
   "outputs": [],
   "source": [
    "df = df.drop(df.columns[0:2],axis = 1)"
   ]
  },
  {
   "cell_type": "code",
   "execution_count": 185,
   "id": "3fa5942c",
   "metadata": {},
   "outputs": [
    {
     "data": {
      "text/plain": [
       "Index(['SEXVAR', 'GENHLTH', 'PHYSHLTH', 'MENTHLTH', 'POORHLTH', 'PERSDOC3',\n",
       "       'MEDCOST1', 'CHECKUP1', 'EXERANY2', 'BPMEDS', 'TOLDHI3', 'CHOLMED3',\n",
       "       'CVDINFR4', 'CVDCRHD4', 'CVDSTRK3', 'ASTHMA3', 'ASTHNOW', 'CHCSCNCR',\n",
       "       'CHCOCNCR', 'CHCCOPD3', 'ADDEPEV3', 'CHCKDNY2', 'DIABETE4', 'HAVARTH5',\n",
       "       'VETERAN3', 'PREGNANT', 'DEAF', 'BLIND', 'DECIDE', 'DIFFWALK',\n",
       "       'DIFFDRES', 'DIFFALON', 'SMOKE100', 'ALCDAY5', 'AVEDRNK3', 'DRNK3GE5',\n",
       "       'MAXDRNKS', 'FLUSHOT7', 'PNEUVAC4', 'HIVTST7', '_METSTAT', '_URBSTAT',\n",
       "       '_WT2RAKE', '_PHYS14D', '_HLTHPLN', '_AGE80', 'HTIN4', 'WTKG3',\n",
       "       '_INCOMG1', 'FTJUDA2_', 'FRUTDA2_', 'GRENDA1_', 'FRNCHDA_', 'POTADA1_',\n",
       "       'VEGEDA2_', '_MISFRT1', 'high_blood_pressure',\n",
       "       'pregnant_high_blood_pressure', 'borderline_high_blood_pressure',\n",
       "       'cholesterol_checked_within_year', 'married', 'divorced', 'widowed',\n",
       "       'separated', 'never_married', 'unmarried_couple', 'own_house',\n",
       "       'renting', 'other_arrangement_housing', 'employed_for_wages',\n",
       "       'self_employed', 'out_of_work_year_plus', 'out_of_work_year_less',\n",
       "       'homemaker', 'student', 'retired', 'unable_to_work', 'smoke_every_day',\n",
       "       'smoke_some_days', 'smoke_not_at_all', 'smokeless_every_day',\n",
       "       'smokeless_some_days', 'smokeless_not_at_all', 'ecig_every_day',\n",
       "       'ecig_some_days', 'ecig_not_at_all', 'ecig_never_used', 'white',\n",
       "       'black', 'asian', 'native', 'hispanic', 'not_graduate_high_school',\n",
       "       'graduated_high_school', 'attended_college', 'graduated_college'],\n",
       "      dtype='object')"
      ]
     },
     "execution_count": 185,
     "metadata": {},
     "output_type": "execute_result"
    }
   ],
   "source": [
    "df.columns"
   ]
  },
  {
   "cell_type": "code",
   "execution_count": 186,
   "id": "7a25a65c",
   "metadata": {},
   "outputs": [
    {
     "data": {
      "text/html": [
       "<div>\n",
       "<style scoped>\n",
       "    .dataframe tbody tr th:only-of-type {\n",
       "        vertical-align: middle;\n",
       "    }\n",
       "\n",
       "    .dataframe tbody tr th {\n",
       "        vertical-align: top;\n",
       "    }\n",
       "\n",
       "    .dataframe thead th {\n",
       "        text-align: right;\n",
       "    }\n",
       "</style>\n",
       "<table border=\"1\" class=\"dataframe\">\n",
       "  <thead>\n",
       "    <tr style=\"text-align: right;\">\n",
       "      <th></th>\n",
       "      <th>SEXVAR</th>\n",
       "      <th>GENHLTH</th>\n",
       "      <th>PHYSHLTH</th>\n",
       "      <th>MENTHLTH</th>\n",
       "      <th>POORHLTH</th>\n",
       "      <th>PERSDOC3</th>\n",
       "      <th>MEDCOST1</th>\n",
       "      <th>CHECKUP1</th>\n",
       "      <th>EXERANY2</th>\n",
       "      <th>BPMEDS</th>\n",
       "      <th>...</th>\n",
       "      <th>ecig_never_used</th>\n",
       "      <th>white</th>\n",
       "      <th>black</th>\n",
       "      <th>asian</th>\n",
       "      <th>native</th>\n",
       "      <th>hispanic</th>\n",
       "      <th>not_graduate_high_school</th>\n",
       "      <th>graduated_high_school</th>\n",
       "      <th>attended_college</th>\n",
       "      <th>graduated_college</th>\n",
       "    </tr>\n",
       "  </thead>\n",
       "  <tbody>\n",
       "    <tr>\n",
       "      <th>count</th>\n",
       "      <td>377880.000000</td>\n",
       "      <td>377880.000000</td>\n",
       "      <td>371439.000000</td>\n",
       "      <td>372553.000000</td>\n",
       "      <td>374393.000000</td>\n",
       "      <td>375303.000000</td>\n",
       "      <td>377020.000000</td>\n",
       "      <td>373877.000000</td>\n",
       "      <td>377345.000000</td>\n",
       "      <td>377549.000000</td>\n",
       "      <td>...</td>\n",
       "      <td>377373.000000</td>\n",
       "      <td>377880.000000</td>\n",
       "      <td>377880.000000</td>\n",
       "      <td>377880.000000</td>\n",
       "      <td>377880.000000</td>\n",
       "      <td>377880.000000</td>\n",
       "      <td>376534.000000</td>\n",
       "      <td>376534.000000</td>\n",
       "      <td>376534.000000</td>\n",
       "      <td>376534.000000</td>\n",
       "    </tr>\n",
       "    <tr>\n",
       "      <th>mean</th>\n",
       "      <td>0.538470</td>\n",
       "      <td>1.502662</td>\n",
       "      <td>3.776157</td>\n",
       "      <td>4.125131</td>\n",
       "      <td>2.742533</td>\n",
       "      <td>0.883156</td>\n",
       "      <td>0.073198</td>\n",
       "      <td>0.778128</td>\n",
       "      <td>0.763654</td>\n",
       "      <td>0.325791</td>\n",
       "      <td>...</td>\n",
       "      <td>0.203268</td>\n",
       "      <td>0.766458</td>\n",
       "      <td>0.070504</td>\n",
       "      <td>0.025664</td>\n",
       "      <td>0.016309</td>\n",
       "      <td>0.086075</td>\n",
       "      <td>0.054301</td>\n",
       "      <td>0.246910</td>\n",
       "      <td>0.277404</td>\n",
       "      <td>0.421386</td>\n",
       "    </tr>\n",
       "    <tr>\n",
       "      <th>std</th>\n",
       "      <td>0.498519</td>\n",
       "      <td>1.043368</td>\n",
       "      <td>8.303671</td>\n",
       "      <td>8.133648</td>\n",
       "      <td>7.011285</td>\n",
       "      <td>0.321235</td>\n",
       "      <td>0.260461</td>\n",
       "      <td>0.415506</td>\n",
       "      <td>0.424838</td>\n",
       "      <td>0.468670</td>\n",
       "      <td>...</td>\n",
       "      <td>0.402431</td>\n",
       "      <td>0.423085</td>\n",
       "      <td>0.255995</td>\n",
       "      <td>0.158132</td>\n",
       "      <td>0.126663</td>\n",
       "      <td>0.280475</td>\n",
       "      <td>0.226610</td>\n",
       "      <td>0.431214</td>\n",
       "      <td>0.447718</td>\n",
       "      <td>0.493782</td>\n",
       "    </tr>\n",
       "    <tr>\n",
       "      <th>min</th>\n",
       "      <td>0.000000</td>\n",
       "      <td>0.000000</td>\n",
       "      <td>0.000000</td>\n",
       "      <td>0.000000</td>\n",
       "      <td>0.000000</td>\n",
       "      <td>0.000000</td>\n",
       "      <td>0.000000</td>\n",
       "      <td>0.000000</td>\n",
       "      <td>0.000000</td>\n",
       "      <td>0.000000</td>\n",
       "      <td>...</td>\n",
       "      <td>0.000000</td>\n",
       "      <td>0.000000</td>\n",
       "      <td>0.000000</td>\n",
       "      <td>0.000000</td>\n",
       "      <td>0.000000</td>\n",
       "      <td>0.000000</td>\n",
       "      <td>0.000000</td>\n",
       "      <td>0.000000</td>\n",
       "      <td>0.000000</td>\n",
       "      <td>0.000000</td>\n",
       "    </tr>\n",
       "    <tr>\n",
       "      <th>25%</th>\n",
       "      <td>0.000000</td>\n",
       "      <td>1.000000</td>\n",
       "      <td>0.000000</td>\n",
       "      <td>0.000000</td>\n",
       "      <td>0.000000</td>\n",
       "      <td>1.000000</td>\n",
       "      <td>0.000000</td>\n",
       "      <td>1.000000</td>\n",
       "      <td>1.000000</td>\n",
       "      <td>0.000000</td>\n",
       "      <td>...</td>\n",
       "      <td>0.000000</td>\n",
       "      <td>1.000000</td>\n",
       "      <td>0.000000</td>\n",
       "      <td>0.000000</td>\n",
       "      <td>0.000000</td>\n",
       "      <td>0.000000</td>\n",
       "      <td>0.000000</td>\n",
       "      <td>0.000000</td>\n",
       "      <td>0.000000</td>\n",
       "      <td>0.000000</td>\n",
       "    </tr>\n",
       "    <tr>\n",
       "      <th>50%</th>\n",
       "      <td>1.000000</td>\n",
       "      <td>1.000000</td>\n",
       "      <td>0.000000</td>\n",
       "      <td>0.000000</td>\n",
       "      <td>0.000000</td>\n",
       "      <td>1.000000</td>\n",
       "      <td>0.000000</td>\n",
       "      <td>1.000000</td>\n",
       "      <td>1.000000</td>\n",
       "      <td>0.000000</td>\n",
       "      <td>...</td>\n",
       "      <td>0.000000</td>\n",
       "      <td>1.000000</td>\n",
       "      <td>0.000000</td>\n",
       "      <td>0.000000</td>\n",
       "      <td>0.000000</td>\n",
       "      <td>0.000000</td>\n",
       "      <td>0.000000</td>\n",
       "      <td>0.000000</td>\n",
       "      <td>0.000000</td>\n",
       "      <td>0.000000</td>\n",
       "    </tr>\n",
       "    <tr>\n",
       "      <th>75%</th>\n",
       "      <td>1.000000</td>\n",
       "      <td>2.000000</td>\n",
       "      <td>2.000000</td>\n",
       "      <td>4.000000</td>\n",
       "      <td>0.000000</td>\n",
       "      <td>1.000000</td>\n",
       "      <td>0.000000</td>\n",
       "      <td>1.000000</td>\n",
       "      <td>1.000000</td>\n",
       "      <td>1.000000</td>\n",
       "      <td>...</td>\n",
       "      <td>0.000000</td>\n",
       "      <td>1.000000</td>\n",
       "      <td>0.000000</td>\n",
       "      <td>0.000000</td>\n",
       "      <td>0.000000</td>\n",
       "      <td>0.000000</td>\n",
       "      <td>0.000000</td>\n",
       "      <td>0.000000</td>\n",
       "      <td>1.000000</td>\n",
       "      <td>1.000000</td>\n",
       "    </tr>\n",
       "    <tr>\n",
       "      <th>max</th>\n",
       "      <td>1.000000</td>\n",
       "      <td>4.000000</td>\n",
       "      <td>30.000000</td>\n",
       "      <td>30.000000</td>\n",
       "      <td>30.000000</td>\n",
       "      <td>1.000000</td>\n",
       "      <td>1.000000</td>\n",
       "      <td>1.000000</td>\n",
       "      <td>1.000000</td>\n",
       "      <td>1.000000</td>\n",
       "      <td>...</td>\n",
       "      <td>1.000000</td>\n",
       "      <td>1.000000</td>\n",
       "      <td>1.000000</td>\n",
       "      <td>1.000000</td>\n",
       "      <td>1.000000</td>\n",
       "      <td>1.000000</td>\n",
       "      <td>1.000000</td>\n",
       "      <td>1.000000</td>\n",
       "      <td>1.000000</td>\n",
       "      <td>1.000000</td>\n",
       "    </tr>\n",
       "  </tbody>\n",
       "</table>\n",
       "<p>8 rows × 96 columns</p>\n",
       "</div>"
      ],
      "text/plain": [
       "              SEXVAR        GENHLTH       PHYSHLTH       MENTHLTH  \\\n",
       "count  377880.000000  377880.000000  371439.000000  372553.000000   \n",
       "mean        0.538470       1.502662       3.776157       4.125131   \n",
       "std         0.498519       1.043368       8.303671       8.133648   \n",
       "min         0.000000       0.000000       0.000000       0.000000   \n",
       "25%         0.000000       1.000000       0.000000       0.000000   \n",
       "50%         1.000000       1.000000       0.000000       0.000000   \n",
       "75%         1.000000       2.000000       2.000000       4.000000   \n",
       "max         1.000000       4.000000      30.000000      30.000000   \n",
       "\n",
       "            POORHLTH       PERSDOC3       MEDCOST1       CHECKUP1  \\\n",
       "count  374393.000000  375303.000000  377020.000000  373877.000000   \n",
       "mean        2.742533       0.883156       0.073198       0.778128   \n",
       "std         7.011285       0.321235       0.260461       0.415506   \n",
       "min         0.000000       0.000000       0.000000       0.000000   \n",
       "25%         0.000000       1.000000       0.000000       1.000000   \n",
       "50%         0.000000       1.000000       0.000000       1.000000   \n",
       "75%         0.000000       1.000000       0.000000       1.000000   \n",
       "max        30.000000       1.000000       1.000000       1.000000   \n",
       "\n",
       "            EXERANY2         BPMEDS  ...  ecig_never_used          white  \\\n",
       "count  377345.000000  377549.000000  ...    377373.000000  377880.000000   \n",
       "mean        0.763654       0.325791  ...         0.203268       0.766458   \n",
       "std         0.424838       0.468670  ...         0.402431       0.423085   \n",
       "min         0.000000       0.000000  ...         0.000000       0.000000   \n",
       "25%         1.000000       0.000000  ...         0.000000       1.000000   \n",
       "50%         1.000000       0.000000  ...         0.000000       1.000000   \n",
       "75%         1.000000       1.000000  ...         0.000000       1.000000   \n",
       "max         1.000000       1.000000  ...         1.000000       1.000000   \n",
       "\n",
       "               black          asian         native       hispanic  \\\n",
       "count  377880.000000  377880.000000  377880.000000  377880.000000   \n",
       "mean        0.070504       0.025664       0.016309       0.086075   \n",
       "std         0.255995       0.158132       0.126663       0.280475   \n",
       "min         0.000000       0.000000       0.000000       0.000000   \n",
       "25%         0.000000       0.000000       0.000000       0.000000   \n",
       "50%         0.000000       0.000000       0.000000       0.000000   \n",
       "75%         0.000000       0.000000       0.000000       0.000000   \n",
       "max         1.000000       1.000000       1.000000       1.000000   \n",
       "\n",
       "       not_graduate_high_school  graduated_high_school  attended_college  \\\n",
       "count             376534.000000          376534.000000     376534.000000   \n",
       "mean                   0.054301               0.246910          0.277404   \n",
       "std                    0.226610               0.431214          0.447718   \n",
       "min                    0.000000               0.000000          0.000000   \n",
       "25%                    0.000000               0.000000          0.000000   \n",
       "50%                    0.000000               0.000000          0.000000   \n",
       "75%                    0.000000               0.000000          1.000000   \n",
       "max                    1.000000               1.000000          1.000000   \n",
       "\n",
       "       graduated_college  \n",
       "count      376534.000000  \n",
       "mean            0.421386  \n",
       "std             0.493782  \n",
       "min             0.000000  \n",
       "25%             0.000000  \n",
       "50%             0.000000  \n",
       "75%             1.000000  \n",
       "max             1.000000  \n",
       "\n",
       "[8 rows x 96 columns]"
      ]
     },
     "execution_count": 186,
     "metadata": {},
     "output_type": "execute_result"
    }
   ],
   "source": [
    "# Get names of columns with missing values\n",
    "cols_with_missing = [col for col in df.columns\n",
    "                     if df[col].isnull().any()]\n",
    "\n",
    "\n",
    "df_mis = df.copy()\n",
    "\n",
    "for col in cols_with_missing:\n",
    "    df_mis[col + '_was_missing'] = df_mis[col].isnull()\n",
    "df_mis.describe()"
   ]
  },
  {
   "cell_type": "code",
   "execution_count": 187,
   "id": "331179c8",
   "metadata": {},
   "outputs": [
    {
     "data": {
      "text/plain": [
       "Index(['SEXVAR', 'GENHLTH', 'PHYSHLTH', 'MENTHLTH', 'POORHLTH', 'PERSDOC3',\n",
       "       'MEDCOST1', 'CHECKUP1', 'EXERANY2', 'BPMEDS',\n",
       "       ...\n",
       "       'smokeless_some_days_was_missing', 'smokeless_not_at_all_was_missing',\n",
       "       'ecig_every_day_was_missing', 'ecig_some_days_was_missing',\n",
       "       'ecig_not_at_all_was_missing', 'ecig_never_used_was_missing',\n",
       "       'not_graduate_high_school_was_missing',\n",
       "       'graduated_high_school_was_missing', 'attended_college_was_missing',\n",
       "       'graduated_college_was_missing'],\n",
       "      dtype='object', length=177)"
      ]
     },
     "execution_count": 187,
     "metadata": {},
     "output_type": "execute_result"
    }
   ],
   "source": [
    "df_mis.columns"
   ]
  },
  {
   "cell_type": "markdown",
   "id": "f51b0d55",
   "metadata": {},
   "source": [
    "# Removing duplicate was_missing columns from one hot encoding"
   ]
  },
  {
   "cell_type": "code",
   "execution_count": null,
   "id": "c80b29c4",
   "metadata": {},
   "outputs": [],
   "source": [
    "from itertools import combinations\n",
    "\n",
    "#detect duplicate columns\n",
    "[(i, j) for i,j in combinations(df_mis, 2) if df_mis[i].equals(df_mis[j])]"
   ]
  },
  {
   "cell_type": "code",
   "execution_count": null,
   "id": "b1e37c0e",
   "metadata": {},
   "outputs": [],
   "source": [
    "df_mis['_METSTAT_and_URBSTAT_was_missing'] = df_mis['_METSTAT_was_missing']\n",
    "df_mis = df_mis.drop(['_METSTAT_was_missing', '_URBSTAT_was_missing'], axis=1)"
   ]
  },
  {
   "cell_type": "code",
   "execution_count": null,
   "id": "9d914f0e",
   "metadata": {},
   "outputs": [],
   "source": [
    "df_mis['BPHIGH6_was_missing'] = df_mis['high_blood_pressure_was_missing']\n",
    "df_mis = df_mis.drop(['high_blood_pressure_was_missing', 'pregnant_high_blood_pressure_was_missing',\n",
    "             'borderline_high_blood_pressure_was_missing'], axis=1)"
   ]
  },
  {
   "cell_type": "code",
   "execution_count": null,
   "id": "7c4533f7",
   "metadata": {},
   "outputs": [],
   "source": [
    "df_mis['MARITAL_was_missing'] = df_mis['married_was_missing']\n",
    "df_mis = df_mis.drop(['married_was_missing', 'divorced_was_missing',\n",
    "             'separated_was_missing', 'widowed_was_missing', 'never_married_was_missing',\n",
    "             'unmarried_couple_was_missing'], axis=1)"
   ]
  },
  {
   "cell_type": "code",
   "execution_count": null,
   "id": "1895e918",
   "metadata": {},
   "outputs": [],
   "source": [
    "df_mis['RENTHOM1_was_missing'] = df_mis['own_house_was_missing']\n",
    "df_mis = df_mis.drop(['own_house_was_missing', 'renting_was_missing',\n",
    "             'other_arrangement_housing_was_missing'], axis=1)"
   ]
  },
  {
   "cell_type": "code",
   "execution_count": null,
   "id": "5dadd7d7",
   "metadata": {},
   "outputs": [],
   "source": [
    "df_mis['EMPLOY1_was_missing'] = df_mis['employed_for_wages_was_missing']\n",
    "df_mis = df_mis.drop(['employed_for_wages_was_missing', 'self_employed_was_missing',\n",
    "             'out_of_work_year_plus_was_missing', 'out_of_work_year_less_was_missing',\n",
    "             'homemaker_was_missing', 'student_was_missing', 'retired_was_missing',\n",
    "             'unable_to_work_was_missing'], axis=1)"
   ]
  },
  {
   "cell_type": "code",
   "execution_count": null,
   "id": "b5f833ae",
   "metadata": {},
   "outputs": [],
   "source": [
    "df_mis['SMOKDAY2_was_missing'] = df_mis['smoke_every_day_was_missing']\n",
    "df_mis = df_mis.drop(['smoke_every_day_was_missing', 'smoke_some_days_was_missing',\n",
    "             'smoke_not_at_all_was_missing'], axis=1)"
   ]
  },
  {
   "cell_type": "code",
   "execution_count": null,
   "id": "197eb7ca",
   "metadata": {},
   "outputs": [],
   "source": [
    "df_mis['USENOW3_was_missing'] = df_mis['smokeless_every_day_was_missing']\n",
    "df_mis = df_mis.drop(['smokeless_every_day_was_missing', 'smokeless_some_days_was_missing',\n",
    "             'smokeless_not_at_all_was_missing'], axis=1)"
   ]
  },
  {
   "cell_type": "code",
   "execution_count": null,
   "id": "11d6e6ee",
   "metadata": {},
   "outputs": [],
   "source": [
    "df_mis['ECIGNOW1_was_missing'] = df_mis['ecig_every_day_was_missing']\n",
    "df_mis = df_mis.drop(['ecig_every_day_was_missing', 'ecig_some_days_was_missing',\n",
    "             'ecig_not_at_all_was_missing', 'ecig_never_used_was_missing'], axis=1)"
   ]
  },
  {
   "cell_type": "code",
   "execution_count": null,
   "id": "a6ee2b41",
   "metadata": {},
   "outputs": [],
   "source": [
    "df_mis['_EDUCAG_was_missing'] = df_mis['not_graduate_high_school_was_missing']\n",
    "df_mis = df_mis.drop(['not_graduate_high_school_was_missing', 'graduated_high_school_was_missing',\n",
    "             'attended_college_was_missing', 'graduated_college_was_missing'], axis=1)"
   ]
  },
  {
   "cell_type": "code",
   "execution_count": null,
   "id": "2b844b5e",
   "metadata": {},
   "outputs": [],
   "source": [
    "[(i, j) for i,j in combinations(df_mis, 2) if df_mis[i].equals(df_mis[j])]"
   ]
  },
  {
   "cell_type": "code",
   "execution_count": 188,
   "id": "d13ffa3e",
   "metadata": {},
   "outputs": [],
   "source": [
    "df_mis.to_csv('./data/brfss_clean.csv')"
   ]
  },
  {
   "cell_type": "code",
   "execution_count": 189,
   "id": "607dec54",
   "metadata": {},
   "outputs": [],
   "source": [
    "# imputation\n",
    "#from sklearn.impute import SimpleImputer\n",
    "\n",
    "#df_imputer = SimpleImputer()\n",
    "#imputed_df = pd.DataFrame(df_imputer.fit_transform(df_mis))\n",
    "\n",
    "#iterative imputer\n",
    "#imputed_df.columns = df_mis.columns\n",
    "#from fancyimpute import IterativeImputer\n",
    "\n",
    "#imputed_df = IterativeImputer().fit_transform(df_mis)\n",
    "\n",
    "#KNN\n",
    "#from fancyimpute import KNN\n",
    "\n",
    "#imputed_df = KNN(k=3).fit_transform(df_mis)\n",
    "\n",
    "#from sklearn.impute import KNNImputer\n",
    "\n",
    "#imputed_df = KNNImputer(n_neighbors=1).fit_transform(df_mis)\n",
    "\n",
    "#imputed_df.describe()"
   ]
  },
  {
   "cell_type": "code",
   "execution_count": 190,
   "id": "3e898475",
   "metadata": {},
   "outputs": [
    {
     "name": "stdout",
     "output_type": "stream",
     "text": [
      "No. of columns containing null values\n"
     ]
    },
    {
     "ename": "NameError",
     "evalue": "name 'imputed_df' is not defined",
     "output_type": "error",
     "traceback": [
      "\u001b[0;31m---------------------------------------------------------------------------\u001b[0m",
      "\u001b[0;31mNameError\u001b[0m                                 Traceback (most recent call last)",
      "Input \u001b[0;32mIn [190]\u001b[0m, in \u001b[0;36m<module>\u001b[0;34m\u001b[0m\n\u001b[1;32m      1\u001b[0m \u001b[38;5;66;03m# remove colums containing string values\u001b[39;00m\n\u001b[1;32m      3\u001b[0m \u001b[38;5;28mprint\u001b[39m(\u001b[38;5;124m\"\u001b[39m\u001b[38;5;124mNo. of columns containing null values\u001b[39m\u001b[38;5;124m\"\u001b[39m)\n\u001b[0;32m----> 4\u001b[0m \u001b[38;5;28mprint\u001b[39m(\u001b[38;5;28mlen\u001b[39m(\u001b[43mimputed_df\u001b[49m\u001b[38;5;241m.\u001b[39mcolumns[imputed_df\u001b[38;5;241m.\u001b[39misna()\u001b[38;5;241m.\u001b[39many()]))\n\u001b[1;32m      6\u001b[0m \u001b[38;5;28mprint\u001b[39m(\u001b[38;5;124m\"\u001b[39m\u001b[38;5;124mNo. of columns not containing null values\u001b[39m\u001b[38;5;124m\"\u001b[39m)\n\u001b[1;32m      7\u001b[0m \u001b[38;5;28mprint\u001b[39m(\u001b[38;5;28mlen\u001b[39m(imputed_df\u001b[38;5;241m.\u001b[39mcolumns[imputed_df\u001b[38;5;241m.\u001b[39mnotna()\u001b[38;5;241m.\u001b[39mall()]))\n",
      "\u001b[0;31mNameError\u001b[0m: name 'imputed_df' is not defined"
     ]
    }
   ],
   "source": [
    "# remove colums containing string values\n",
    "\n",
    "#print(\"No. of columns containing null values\")\n",
    "#print(len(imputed_df.columns[imputed_df.isna().any()]))\n",
    "\n",
    "#print(\"No. of columns not containing null values\")\n",
    "#print(len(imputed_df.columns[imputed_df.notna().all()]))\n",
    "\n",
    "#print(\"Total no. of columns in the dataframe\")\n",
    "#print(len(imputed_df.columns))\n",
    "\n",
    "#df = df.dropna(axis=1)\n",
    "#df.shape"
   ]
  },
  {
   "cell_type": "code",
   "execution_count": null,
   "id": "66f3ba55",
   "metadata": {},
   "outputs": [],
   "source": [
    "#imputed_df.to_csv('./data/brfss_imputed.csv')"
   ]
  },
  {
   "cell_type": "code",
   "execution_count": null,
   "id": "1eea5de9",
   "metadata": {},
   "outputs": [],
   "source": []
  }
 ],
 "metadata": {
  "kernelspec": {
   "display_name": "Python 3 (ipykernel)",
   "language": "python",
   "name": "python3"
  },
  "language_info": {
   "codemirror_mode": {
    "name": "ipython",
    "version": 3
   },
   "file_extension": ".py",
   "mimetype": "text/x-python",
   "name": "python",
   "nbconvert_exporter": "python",
   "pygments_lexer": "ipython3",
   "version": "3.10.9"
  }
 },
 "nbformat": 4,
 "nbformat_minor": 5
}
