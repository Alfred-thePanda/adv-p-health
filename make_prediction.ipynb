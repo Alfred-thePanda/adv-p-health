{
 "cells": [
  {
   "cell_type": "code",
   "execution_count": 2,
   "metadata": {},
   "outputs": [],
   "source": [
    "import pickle\n",
    "import warnings\n",
    "import random\n",
    "\n",
    "import pandas as pd\n",
    "\n",
    "from sklearn.model_selection import train_test_split\n",
    "from sklearn.exceptions import ConvergenceWarning\n",
    "\n",
    "warnings.simplefilter(action='ignore', category=ConvergenceWarning)\n",
    "warnings.simplefilter(action='ignore', category=UserWarning)"
   ]
  },
  {
   "cell_type": "code",
   "execution_count": 4,
   "metadata": {},
   "outputs": [
    {
     "name": "stderr",
     "output_type": "stream",
     "text": [
      "C:\\Users\\carme\\AppData\\Local\\Temp\\ipykernel_24184\\941968815.py:5: FutureWarning: DataFrame.set_axis 'inplace' keyword is deprecated and will be removed in a future version. Use `obj = obj.set_axis(..., copy=False)` instead\n",
      "  df.set_axis(range(len(df)), inplace=True)\n"
     ]
    }
   ],
   "source": [
    "# Data prep (this is not needed if an users input is provided instead of the 'test_row')\n",
    "df = pd.read_csv('./data/clean_data.csv')\n",
    "df = df.drop(df.columns[0], axis=1)\n",
    "df = df.dropna(axis=1)\n",
    "df.set_axis(range(len(df)), inplace=True)\n",
    "target = df['diabetes']\n",
    "features = df.drop(['diabetes'], axis=1)\n",
    "features_train, features_test, target_train, target_test = train_test_split(features, target, test_size=0.2,\n",
    "                                                                            random_state=42)\n",
    "\n",
    "\n",
    "rand_index = random.randint(0, 32581)\n",
    "user_input = features_test.iloc[rand_index]\n",
    "test_groundtruth = target_test.iloc[rand_index]\n"
   ]
  },
  {
   "cell_type": "code",
   "execution_count": 5,
   "metadata": {},
   "outputs": [
    {
     "name": "stdout",
     "output_type": "stream",
     "text": [
      "[0.]\n",
      "0.0\n"
     ]
    }
   ],
   "source": [
    "# Predicting for one specific 'person' ################################################################################\n",
    "rand_index = random.randint(0, 32581)\n",
    "user_input = features_test.iloc[rand_index]\n",
    "test_groundtruth = target_test.iloc[rand_index]\n",
    "\n",
    "\n",
    "\n",
    "sgb_classifier = pickle.load(open('model.pickle', \"rb\"))\n",
    "\n",
    "\n",
    "# taking a random row from the test data to predict a result for:\n",
    "def predict_one_person(sgb_classifier, user_input):\n",
    "    predictions = sgb_classifier.predict([user_input])\n",
    "    return predictions\n",
    "\n",
    "\n",
    "prediction = predict_one_person(sgb_classifier)\n",
    "print(prediction)\n",
    "print(test_groundtruth)"
   ]
  }
 ],
 "metadata": {
  "kernelspec": {
   "display_name": "Python 3",
   "language": "python",
   "name": "python3"
  },
  "language_info": {
   "codemirror_mode": {
    "name": "ipython",
    "version": 3
   },
   "file_extension": ".py",
   "mimetype": "text/x-python",
   "name": "python",
   "nbconvert_exporter": "python",
   "pygments_lexer": "ipython3",
   "version": "3.9.13"
  },
  "orig_nbformat": 4
 },
 "nbformat": 4,
 "nbformat_minor": 2
}
